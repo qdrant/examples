{
 "cells": [
  {
   "metadata": {},
   "cell_type": "markdown",
   "source": "# Collaborative filtering system for movie recommendations",
   "id": "806cd8e0d8a26cd4"
  },
  {
   "metadata": {},
   "cell_type": "code",
   "outputs": [],
   "execution_count": 1,
   "source": [
    "import os\n",
    "import pandas as pd\n",
    "import requests\n",
    "from IPython.display import display, HTML\n",
    "from qdrant_client import models, QdrantClient\n",
    "from qdrant_client.http.models import PointStruct, SparseVector, NamedSparseVector\n",
    "from collections import defaultdict\n",
    "from dotenv import load_dotenv\n",
    "\n",
    "load_dotenv()\n",
    "\n",
    "# OMDB API Key\n",
    "omdb_api_key = os.getenv(\"OMDB_API_KEY\")\n",
    "\n",
    "# Collection name\n",
    "collection_name = \"movies\"\n",
    "\n",
    "# Set Qdrant Client\n",
    "qdrant_client = QdrantClient(\n",
    "    os.getenv(\"QDRANT_HOST\"), api_key=os.getenv(\"QDRANT_API_KEY\")\n",
    ")"
   ],
   "id": "9046faa4-e3b7-4252-9ed4-069a10a4a3f6"
  },
  {
   "cell_type": "code",
   "execution_count": 2,
   "id": "e946569f-0477-4e5b-97db-3484677913d5",
   "metadata": {},
   "outputs": [],
   "source": [
    "# Function to get movie poster using OMDB API\n",
    "def get_movie_poster(imdb_id, api_key):\n",
    "    url = f\"https://www.omdbapi.com/?i={imdb_id}&apikey={api_key}\"\n",
    "    response = requests.get(url)\n",
    "    if response.status_code == 200:\n",
    "        data = response.json()\n",
    "        return data.get(\"Poster\", \"No Poster Found\"), data\n",
    "    return \"No Poster Found\""
   ]
  },
  {
   "cell_type": "markdown",
   "id": "6ebe6e3c-3129-464a-922c-40976b25bddc",
   "metadata": {},
   "source": [
    "## Preparing the data\n",
    "\n",
    "For experimental purposes, the dataset used in this example was [Movielens](https://files.grouplens.org/datasets/movielens/ml-latest.zip), with approximately 33,000,000 ratings and 86,000 movies.\n",
    "\n",
    "But you can reproduce it with a smaller dataset if you wish; below are two alternatives:\n",
    "- [Movielens Small](https://files.grouplens.org/datasets/movielens/ml-latest-small.zip)\n",
    "- [The Movies Dataset from Kaggle](https://www.kaggle.com/datasets/rounakbanik/the-movies-dataset/)"
   ]
  },
  {
   "cell_type": "code",
   "execution_count": 3,
   "id": "8342ccbb-8851-4273-bb34-067fc0244df1",
   "metadata": {},
   "outputs": [],
   "source": [
    "# Load CSV files\n",
    "ratings_df = pd.read_csv(\"data/ratings.csv\", low_memory=False)\n",
    "movies_df = pd.read_csv(\"data/movies.csv\", low_memory=False)\n",
    "links = pd.read_csv(\"data/links.csv\")\n",
    "\n",
    "# Convert movieId in ratings_df and movies_df to string\n",
    "ratings_df[\"movieId\"] = ratings_df[\"movieId\"].astype(str)\n",
    "movies_df[\"movieId\"] = movies_df[\"movieId\"].astype(str)\n",
    "\n",
    "# Add step to convert imdbId to tt format with leading zeros\n",
    "links[\"imdbId\"] = \"tt\" + links[\"imdbId\"].astype(str).str.zfill(7)\n",
    "\n",
    "# Normalize ratings\n",
    "ratings_df[\"rating\"] = (\n",
    "    ratings_df[\"rating\"] - ratings_df[\"rating\"].mean()\n",
    ") / ratings_df[\"rating\"].std()\n",
    "\n",
    "# Merge ratings with movie metadata to get movie titles\n",
    "merged_df = ratings_df.merge(\n",
    "    movies_df[[\"movieId\", \"title\"]], left_on=\"movieId\", right_on=\"movieId\", how=\"inner\"\n",
    ")\n",
    "\n",
    "# Aggregate ratings to handle duplicate (userId, title) pairs\n",
    "ratings_agg_df = merged_df.groupby([\"userId\", \"movieId\"]).rating.mean().reset_index()"
   ]
  },
  {
   "cell_type": "code",
   "execution_count": 4,
   "id": "23619027-d2b1-4a61-9bc6-7e46d5f53a41",
   "metadata": {},
   "outputs": [
    {
     "data": {
      "text/html": [
       "<div>\n",
       "<style scoped>\n",
       "    .dataframe tbody tr th:only-of-type {\n",
       "        vertical-align: middle;\n",
       "    }\n",
       "\n",
       "    .dataframe tbody tr th {\n",
       "        vertical-align: top;\n",
       "    }\n",
       "\n",
       "    .dataframe thead th {\n",
       "        text-align: right;\n",
       "    }\n",
       "</style>\n",
       "<table border=\"1\" class=\"dataframe\">\n",
       "  <thead>\n",
       "    <tr style=\"text-align: right;\">\n",
       "      <th></th>\n",
       "      <th>userId</th>\n",
       "      <th>movieId</th>\n",
       "      <th>rating</th>\n",
       "    </tr>\n",
       "  </thead>\n",
       "  <tbody>\n",
       "    <tr>\n",
       "      <th>0</th>\n",
       "      <td>1</td>\n",
       "      <td>1</td>\n",
       "      <td>0.429960</td>\n",
       "    </tr>\n",
       "    <tr>\n",
       "      <th>1</th>\n",
       "      <td>1</td>\n",
       "      <td>1036</td>\n",
       "      <td>1.369846</td>\n",
       "    </tr>\n",
       "    <tr>\n",
       "      <th>2</th>\n",
       "      <td>1</td>\n",
       "      <td>1049</td>\n",
       "      <td>-0.509926</td>\n",
       "    </tr>\n",
       "    <tr>\n",
       "      <th>3</th>\n",
       "      <td>1</td>\n",
       "      <td>1066</td>\n",
       "      <td>0.429960</td>\n",
       "    </tr>\n",
       "    <tr>\n",
       "      <th>4</th>\n",
       "      <td>1</td>\n",
       "      <td>110</td>\n",
       "      <td>0.429960</td>\n",
       "    </tr>\n",
       "  </tbody>\n",
       "</table>\n",
       "</div>"
      ],
      "text/plain": [
       "   userId movieId    rating\n",
       "0       1       1  0.429960\n",
       "1       1    1036  1.369846\n",
       "2       1    1049 -0.509926\n",
       "3       1    1066  0.429960\n",
       "4       1     110  0.429960"
      ]
     },
     "execution_count": 4,
     "metadata": {},
     "output_type": "execute_result"
    }
   ],
   "source": [
    "ratings_agg_df.head()"
   ]
  },
  {
   "cell_type": "markdown",
   "id": "ec178197-fe40-4974-b99a-e0cdaa03ef06",
   "metadata": {},
   "source": [
    "## Create a new Qdrant collection and send the data"
   ]
  },
  {
   "cell_type": "code",
   "execution_count": null,
   "id": "feedd54d-dfb0-46ce-99c7-4b77252b5f59",
   "metadata": {},
   "outputs": [],
   "source": [
    "# Create a new Qdrant collection\n",
    "qdrant_client.create_collection(\n",
    "    collection_name=collection_name,\n",
    "    vectors_config={},\n",
    "    sparse_vectors_config={\"ratings\": models.SparseVectorParams()},\n",
    ")"
   ]
  },
  {
   "cell_type": "code",
   "execution_count": null,
   "id": "44b6c5ee-5f94-440f-aee0-7df67dd08963",
   "metadata": {},
   "outputs": [],
   "source": [
    "# Convert ratings to sparse vectors\n",
    "user_sparse_vectors = defaultdict(lambda: {\"values\": [], \"indices\": []})\n",
    "for row in ratings_agg_df.itertuples():\n",
    "    user_sparse_vectors[row.userId][\"values\"].append(row.rating)\n",
    "    user_sparse_vectors[row.userId][\"indices\"].append(int(row.movieId))\n",
    "\n",
    "\n",
    "# Define a data generator\n",
    "def data_generator():\n",
    "    for user_id, sparse_vector in user_sparse_vectors.items():\n",
    "        yield PointStruct(\n",
    "            id=user_id,\n",
    "            vector={\n",
    "                \"ratings\": SparseVector(\n",
    "                    indices=sparse_vector[\"indices\"], values=sparse_vector[\"values\"]\n",
    "                )\n",
    "            },\n",
    "            payload={\"user_id\": user_id, \"movie_id\": sparse_vector[\"indices\"]},\n",
    "        )\n",
    "\n",
    "\n",
    "# Upload points using the data generator\n",
    "qdrant_client.upload_points(collection_name=collection_name, points=data_generator())"
   ]
  },
  {
   "cell_type": "markdown",
   "id": "1c18c892-d4dc-45e9-92e3-4c82f328b000",
   "metadata": {},
   "source": [
    "## Making a recommendation "
   ]
  },
  {
   "cell_type": "code",
   "execution_count": 5,
   "id": "04a2b49c-9906-4c4b-93e3-14d2bfe1c70c",
   "metadata": {},
   "outputs": [],
   "source": [
    "my_ratings = {\n",
    "    603: 1,  # Matrix\n",
    "    13475: 1,  # Star Trek\n",
    "    11: 1,  # Star Wars\n",
    "    1091: -1,  # The Thing\n",
    "    862: 1,  # Toy Story\n",
    "    597: -1,  # Titanic\n",
    "    680: -1,  # Pulp Fiction\n",
    "    13: 1,  # Forrest Gump\n",
    "    120: 1,  # Lord of the Rings\n",
    "    87: -1,  # Indiana Jones\n",
    "    562: -1,  # Die Hard\n",
    "}"
   ]
  },
  {
   "cell_type": "code",
   "execution_count": 6,
   "id": "537e65f1-9b05-49f2-b5ff-5e540ae8b137",
   "metadata": {},
   "outputs": [],
   "source": [
    "# Create sparse vector from my_ratings\n",
    "def to_vector(ratings):\n",
    "    vector = SparseVector(values=[], indices=[])\n",
    "    for movie_id, rating in ratings.items():\n",
    "        vector.values.append(rating)\n",
    "        vector.indices.append(movie_id)\n",
    "    return vector"
   ]
  },
  {
   "cell_type": "code",
   "execution_count": 7,
   "id": "e722ce96-b5e4-4e3e-af2b-e590384e3a12",
   "metadata": {},
   "outputs": [],
   "source": [
    "# Perform the search\n",
    "results = qdrant_client.search(\n",
    "    collection_name=collection_name,\n",
    "    query_vector=NamedSparseVector(name=\"ratings\", vector=to_vector(my_ratings)),\n",
    "    limit=20,\n",
    ")\n",
    "\n",
    "\n",
    "# Convert results to scores and sort by score\n",
    "def results_to_scores(results):\n",
    "    movie_scores = defaultdict(lambda: 0)\n",
    "    for result in results:\n",
    "        for movie_id in result.payload[\"movie_id\"]:\n",
    "            movie_scores[movie_id] += result.score\n",
    "    return movie_scores\n",
    "\n",
    "\n",
    "# Convert results to scores and sort by score\n",
    "movie_scores = results_to_scores(results)\n",
    "top_movies = sorted(movie_scores.items(), key=lambda x: x[1], reverse=True)"
   ]
  },
  {
   "cell_type": "code",
   "execution_count": 8,
   "id": "33bd1d0b-bbe3-4f6f-8011-060210356044",
   "metadata": {},
   "outputs": [
    {
     "data": {
      "text/html": [
       "<div class='movies-container'>\n",
       "        <div class='movie-card'>\n",
       "            <img src=\"https://m.media-amazon.com/images/M/MV5BMDU2ZWJlMjktMTRhMy00ZTA5LWEzNDgtYmNmZTEwZTViZWJkXkEyXkFqcGdeQXVyNDQ2OTk4MzI@._V1_SX300.jpg\" alt=\"Poster\" class=\"movie-poster\">\n",
       "            <div class=\"movie-title\">Toy Story</div>\n",
       "            <div class=\"movie-score\">Score: 131.2033799</div>\n",
       "        </div>\n",
       "        \n",
       "        <div class='movie-card'>\n",
       "            <img src=\"https://m.media-amazon.com/images/M/MV5BN2IyNTE4YzUtZWU0Mi00MGIwLTgyMmQtMzQ4YzQxYWNlYWE2XkEyXkFqcGdeQXVyNjU0OTQ0OTY@._V1_SX300.jpg\" alt=\"Poster\" class=\"movie-poster\">\n",
       "            <div class=\"movie-title\">Monty Python and the Holy Grail</div>\n",
       "            <div class=\"movie-score\">Score: 131.2033799</div>\n",
       "        </div>\n",
       "        \n",
       "        <div class='movie-card'>\n",
       "            <img src=\"https://m.media-amazon.com/images/M/MV5BYmU1NDRjNDgtMzhiMi00NjZmLTg5NGItZDNiZjU5NTU4OTE0XkEyXkFqcGdeQXVyNzkwMjQ5NzM@._V1_SX300.jpg\" alt=\"Poster\" class=\"movie-poster\">\n",
       "            <div class=\"movie-title\">Star Wars: Episode V - The Empire Strikes Back</div>\n",
       "            <div class=\"movie-score\">Score: 131.2033799</div>\n",
       "        </div>\n",
       "        \n",
       "        <div class='movie-card'>\n",
       "            <img src=\"https://m.media-amazon.com/images/M/MV5BOWZlMjFiYzgtMTUzNC00Y2IzLTk1NTMtZmNhMTczNTk0ODk1XkEyXkFqcGdeQXVyNTAyODkwOQ@@._V1_SX300.jpg\" alt=\"Poster\" class=\"movie-poster\">\n",
       "            <div class=\"movie-title\">Star Wars: Episode VI - Return of the Jedi</div>\n",
       "            <div class=\"movie-score\">Score: 131.2033799</div>\n",
       "        </div>\n",
       "        \n",
       "        <div class='movie-card'>\n",
       "            <img src=\"https://m.media-amazon.com/images/M/MV5BOTlhYTVkMDktYzIyNC00NzlkLTlmN2ItOGEyMWQ4OTA2NDdmXkEyXkFqcGdeQXVyNTAyODkwOQ@@._V1_SX300.jpg\" alt=\"Poster\" class=\"movie-poster\">\n",
       "            <div class=\"movie-title\">Men in Black</div>\n",
       "            <div class=\"movie-score\">Score: 131.2033799</div>\n",
       "        </div>\n",
       "        </div>"
      ],
      "text/plain": [
       "<IPython.core.display.HTML object>"
      ]
     },
     "metadata": {},
     "output_type": "display_data"
    }
   ],
   "source": [
    "# Create HTML to display top 5 results\n",
    "html_content = \"<div class='movies-container'>\"\n",
    "\n",
    "for movie_id, score in top_movies[:5]:\n",
    "    imdb_id_row = links.loc[links[\"movieId\"] == int(movie_id), \"imdbId\"]\n",
    "    if not imdb_id_row.empty:\n",
    "        imdb_id = imdb_id_row.values[0]\n",
    "        poster_url, movie_info = get_movie_poster(imdb_id, omdb_api_key)\n",
    "        movie_title = movie_info.get(\"Title\", \"Unknown Title\")\n",
    "\n",
    "        html_content += f\"\"\"\n",
    "        <div class='movie-card'>\n",
    "            <img src=\"{poster_url}\" alt=\"Poster\" class=\"movie-poster\">\n",
    "            <div class=\"movie-title\">{movie_title}</div>\n",
    "            <div class=\"movie-score\">Score: {score}</div>\n",
    "        </div>\n",
    "        \"\"\"\n",
    "    else:\n",
    "        continue  # Skip if imdb_id is not found\n",
    "\n",
    "html_content += \"</div>\"\n",
    "\n",
    "display(HTML(html_content))"
   ]
  },
  {
   "cell_type": "code",
   "execution_count": null,
   "id": "322f12e7-9132-419d-960e-bfbfa8c589a0",
   "metadata": {},
   "outputs": [],
   "source": []
  }
 ],
 "metadata": {
  "kernelspec": {
   "display_name": "Python 3 (ipykernel)",
   "language": "python",
   "name": "python3"
  },
  "language_info": {
   "codemirror_mode": {
    "name": "ipython",
    "version": 3
   },
   "file_extension": ".py",
   "mimetype": "text/x-python",
   "name": "python",
   "nbconvert_exporter": "python",
   "pygments_lexer": "ipython3",
   "version": "3.11.9"
  }
 },
 "nbformat": 4,
 "nbformat_minor": 5
}

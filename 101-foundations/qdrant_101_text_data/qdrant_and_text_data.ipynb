{
 "cells": [
  {
   "cell_type": "markdown",
   "metadata": {
    "id": "7pdEXm5TZczi"
   },
   "source": [
    "# Qdrant & Text Data"
   ]
  },
  {
   "cell_type": "markdown",
   "metadata": {
    "id": "psOOlvW3Zczk"
   },
   "source": [
    "![qdrant](img/crab_nlp.png)"
   ]
  },
  {
   "cell_type": "markdown",
   "metadata": {
    "id": "KEfUYnoiZczk"
   },
   "source": [
    "This tutorial will show you how to use Qdrant to develop a semantic search service. At its core, this service will harness Natural Language Processing (NLP) methods and use Qdrant's API to store, search, and manage vectors with an additional payload."
   ]
  },
  {
   "cell_type": "markdown",
   "metadata": {
    "id": "0LKmNIdhZczl"
   },
   "source": [
    "## Table of Contents"
   ]
  },
  {
   "cell_type": "markdown",
   "metadata": {
    "id": "l1mRybGeZczl"
   },
   "source": [
    "1. Learning Outcomes\n",
    "2. Overview\n",
    "3. Prerequisites\n",
    "4. Basic concepts\n",
    "    - Initial setup\n",
    "    - Examine the dataset\n",
    "    - Tokenize and embed data\n",
    "5. Semantic Search with Qdrant\n",
    "6. Recommendations API\n",
    "7. Conclusion\n",
    "8. Resources"
   ]
  },
  {
   "cell_type": "markdown",
   "metadata": {
    "id": "cbUL6f_bZczl"
   },
   "source": [
    "## 1. Learning outcomes"
   ]
  },
  {
   "cell_type": "markdown",
   "metadata": {
    "id": "4kl58PN8Zczl"
   },
   "source": [
    "By the end of this tutorial, you will be able to\n",
    "- Generate embeddings from text data.\n",
    "- Create collections of vectors using Qdrant.\n",
    "- Conduct semantic search over a corpus of documents using Qdrant.\n",
    "- Provide recommendations with Qdrant."
   ]
  },
  {
   "cell_type": "markdown",
   "metadata": {
    "id": "ywG25FCNZczm"
   },
   "source": [
    "## 2. Overview"
   ]
  },
  {
   "cell_type": "markdown",
   "metadata": {
    "id": "0vdwZwjcZczm"
   },
   "source": [
    "Natural Language Processing (NLP) is a branch of artificial intelligence that focuses on the interaction between computers and human language. It involves teaching computers to understand, interpret, and generate human language in a way that is both meaningful and useful. NLP techniques can help us with tasks such as text classification, named entity recognition, sentiment analysis, and language generation.\n",
    "\n",
    "Vector databases specialize in storing and querying high-dimensional vectors. In the context of NLP, vectors are numerical representations of words, sentences, or documents that capture their semantic meaning. These vector representations, often referred to as word embeddings or document embeddings, transform textual data into a numerical format that machines can easily process and analyze.\n",
    "\n",
    "Vector databases serve as efficient storage systems for these vector representations, allowing for fast and accurate similarity searches. They enable users to find similar words, sentences, or documents based on their semantic meaning rather than relying solely on exact matches or keywords. By organizing vectors in a way that facilitates quick retrieval and comparison, Vector databases are instrumental in powering various NLP applications, including information retrieval, recommendation systems, semantic search, and content clustering.\n",
    "\n",
    "NLP and vector databases are connected through vector representations in NLP tasks. Vector representations enable NLP algorithms to understand the contextual relationships and semantic meaning of textual data. By leveraging Vector Databases, NLP systems can efficiently store and retrieve these vector representations, making it easier to process and analyze large volumes of textual data.\n",
    "\n",
    "Throughout this tutorial, we will delve deeper into the fundamentals of NLP and Vector Databases. You will learn how to create embeddings for a sample dataset of newspaper articles via transformers. After that, you will use Qdrant to store, search and recommend best matches for a chosen newspaper article."
   ]
  },
  {
   "cell_type": "markdown",
   "metadata": {
    "id": "OeEsqX-wZczm"
   },
   "source": [
    "## 3. Prerequisites"
   ]
  },
  {
   "cell_type": "markdown",
   "metadata": {
    "id": "rEUcAxyrZczn"
   },
   "source": [
    "To get started, use the latest Qdrant Docker image: `docker pull qdrant/qdrant`.\n",
    "\n",
    "Next, initialize Qdrant with:\n",
    "\n",
    "```sh\n",
    "docker run -p 6333:6333 \\\n",
    "    -v $(pwd)/qdrant_storage:/qdrant/storage \\\n",
    "    qdrant/qdrant\n",
    "```"
   ]
  },
  {
   "cell_type": "code",
   "execution_count": null,
   "metadata": {
    "id": "h9hi_R7GZikD"
   },
   "outputs": [],
   "source": [
    "# install packages\n",
    "%pip install qdrant-client transformers datasets torch fastembed matplotlib"
   ]
  },
  {
   "cell_type": "markdown",
   "metadata": {
    "id": "2UAZwFzsZczn"
   },
   "source": [
    "## 4. Basic concepts"
   ]
  },
  {
   "cell_type": "markdown",
   "metadata": {
    "id": "7xQUPZ8TZczn"
   },
   "source": [
    "You might have heard of models like [GPT-4](https://openai.com/product/gpt-4), [Codex](https://openai.com/blog/openai-codex), and [PaLM-2](https://ai.google/discover/palm2) which are powering incredible tools such as [ChatGPT](https://openai.com/blog/chatgpt), [GitHub Copilot](https://github.com/features/copilot), and [Bard](https://bard.google.com/?hl=en), respectively. These three models are part of a family of deep learning architectures called [transformers](https://arxiv.org/abs/1706.03762). Transformers are known for their ability to learn long-range dependencies between words in a sentence. This ability to learn from text makes them well-suited for tasks such as machine translation, text summarization, and question answering. The transformers architecture has been incredibly influential in the field of machine learning, and one of the tools at the heart of this is the [`transformers`](https://huggingface.co/docs/transformers/index) library.\n",
    "\n",
    "Transformer models work by using a technique called attention, which allows them to focus on different parts of a sentence when making predictions. For example, if you are trying to translate a sentence from English to Spanish, the transformer model will use attention to focus on the words in the English sentence that are most important for the translation into Spanish.\n",
    "\n",
    "One analogy that can be used to explain transformer models is to think of them as a group of people who are trying to solve a puzzle. Each person in the group is given a different piece of the puzzle, and they need to work together to figure out how the pieces fit together. The transformer model is like the group of people, and the attention mechanism is like the way that the people in the group communicate with each other.\n",
    "\n",
    "Transformers are essential to this tutorial. Your initial task is to 1) load sample data, 2) transform it and 3) create embeddings. You will then store the embeddings 4) in the Qdrant vector database and 5) retrieve the data using a recommendation system."
   ]
  },
  {
   "cell_type": "markdown",
   "metadata": {
    "id": "97PlpD6TZczn"
   },
   "source": [
    "### 4.1 Initial setup"
   ]
  },
  {
   "cell_type": "markdown",
   "metadata": {
    "id": "KQcKOAVPZczn"
   },
   "source": [
    "In this tutorial, you will create a newspaper article recommendation system. When the user chooses an article, the system will suggest other articles that are similar.\n",
    "\n",
    "You will use the **AG News** [sample data set from HuggingFace](https://huggingface.co/datasets/ag_news):\n",
    "\n",
    "> \"AG is a collection of more than 1 million news articles. News articles have been gathered from more than 2000 news sources by ComeToMyHead in more than 1 year of activity. ComeToMyHead is an academic news search engine which has been running since July, 2004. The dataset is provided by the academic comunity for research purposes in data mining (clustering, classification, etc), information retrieval (ranking, search, etc), xml, data compression, data streaming, and any other non-commercial activity. For more information, please refer to the link http://www.di.unipi.it/~gulli/AG_corpus_of_news_articles.html\""
   ]
  },
  {
   "cell_type": "markdown",
   "metadata": {
    "id": "G2eDEqVuZczn"
   },
   "source": [
    "### 4.2 Load sample dataset"
   ]
  },
  {
   "cell_type": "markdown",
   "metadata": {
    "id": "zTqJuZxTZczn"
   },
   "source": [
    "Use HuggingFace's [`datasets`](https://huggingface.co/docs/datasets/index) library to download the dataset and load it into your session. This library is quick, efficient and will allow you to manipulate unstructured data in other ways.\n",
    "\n",
    "The `load_dataset` function directly downloads the dataset from the [HuggingFace Data Hub](https://huggingface.co/datasets) to your local machine."
   ]
  },
  {
   "cell_type": "code",
   "execution_count": 1,
   "metadata": {
    "id": "6SvDifhmZczn"
   },
   "outputs": [],
   "source": [
    "from datasets import load_dataset"
   ]
  },
  {
   "cell_type": "markdown",
   "metadata": {
    "id": "TDFa_PAUZczo"
   },
   "source": [
    "Indicate that you want to **split** the dataset into a `train` set only. This avoids creating partitions."
   ]
  },
  {
   "cell_type": "code",
   "execution_count": 2,
   "metadata": {
    "colab": {
     "base_uri": "https://localhost:8080/"
    },
    "id": "DkGwLShwZczo",
    "outputId": "2ebf2c95-8c33-4ef1-ed3f-e32221e85041"
   },
   "outputs": [
    {
     "name": "stderr",
     "output_type": "stream",
     "text": [
      "/usr/local/lib/python3.10/dist-packages/huggingface_hub/utils/_token.py:89: UserWarning: \n",
      "The secret `HF_TOKEN` does not exist in your Colab secrets.\n",
      "To authenticate with the Hugging Face Hub, create a token in your settings tab (https://huggingface.co/settings/tokens), set it as secret in your Google Colab and restart your session.\n",
      "You will be able to reuse this secret in all of your notebooks.\n",
      "Please note that authentication is recommended but still optional to access public models or datasets.\n",
      "  warnings.warn(\n"
     ]
    },
    {
     "data": {
      "text/plain": [
       "Dataset({\n",
       "    features: ['text', 'label'],\n",
       "    num_rows: 120000\n",
       "})"
      ]
     },
     "execution_count": 2,
     "metadata": {},
     "output_type": "execute_result"
    }
   ],
   "source": [
    "dataset = load_dataset(\"ag_news\", split=\"train\")\n",
    "dataset"
   ]
  },
  {
   "cell_type": "markdown",
   "metadata": {
    "id": "YfWKdBptZczp"
   },
   "source": [
    "### 4.3 Examine the dataset"
   ]
  },
  {
   "cell_type": "markdown",
   "metadata": {
    "id": "jECgML8-Zczp"
   },
   "source": [
    "Now that we have loaded the dataset, let's look at some sample articles:"
   ]
  },
  {
   "cell_type": "code",
   "execution_count": 3,
   "metadata": {
    "colab": {
     "base_uri": "https://localhost:8080/"
    },
    "id": "JA3hE7HPZczp",
    "outputId": "89376297-377c-4fdb-d097-ef7041393da5"
   },
   "outputs": [
    {
     "name": "stdout",
     "output_type": "stream",
     "text": [
      "Sample 1\n",
      "======================================================================\n",
      "Blast Kills Man at Chechen Polling Station OISKHARA, Russia - Against a backdrop of war and squalor, Chechens voted Sunday for a replacement for their assassinated president in a vote the Kremlin hopes will bring some stability to the violence-torn region. A man was killed when he attempted to blow up a polling station...\n",
      "\n",
      "Sample 2\n",
      "======================================================================\n",
      "Robin makes rare Christmas visit A rare species of robin settles in for its first winter in Scotland after being spotted on a reserve in Aberdeenshire.\n",
      "\n",
      "Sample 3\n",
      "======================================================================\n",
      "Dravid, Gambhir blast Bangladeshi bowlers Gautam Gambhir scored a half century in his second consecutive innings after India suffered an early setback on the first day of the second and final cricket Test against Bangladesh at Chittagong today.\n",
      "\n",
      "Sample 4\n",
      "======================================================================\n",
      "Tennis: Flying Finn Nieminen knocks off Nalbandian for third semi &lt;b&gt;...&lt;/b&gt; BEIJING : Flying Finn Jarkko Nieminen soared into his third semi-final of the season, stunning third seed David Nalbandian 6-2, 2-6, 6-2 at the 500,000-dollar China Open.\n",
      "\n",
      "Sample 5\n",
      "======================================================================\n",
      "Stocks Seen Flat as Microsoft Weighs  NEW YORK (Reuters) - U.S. stock futures fell slightly on  Friday, indicating stocks would open little changed, as Wall  Street weighed climbing oil prices and a disappointing revenue  outlook from software maker Microsoft Corp. &lt;A HREF=\"http://www.investor.reuters.com/FullQuote.aspx?ticker=MSFT.O target=/stocks/quickinfo/fullquote\"&gt;MSFT.O&lt;/A&gt;.\n",
      "\n"
     ]
    }
   ],
   "source": [
    "from random import choice\n",
    "\n",
    "for i in range(5):\n",
    "    random_sample = choice(range(len(dataset)))\n",
    "    print(f\"Sample {i+1}\")\n",
    "    print(\"=\" * 70)\n",
    "    print(dataset[random_sample][\"text\"])\n",
    "    print()"
   ]
  },
  {
   "cell_type": "markdown",
   "metadata": {
    "id": "0Z6z-hPBZczp"
   },
   "source": [
    "You can switch to a pandas dataframe by using the method `.to_pandas()`. This can come in handy when you want to manipulate and plot the data.\n",
    "\n",
    "Here you will extract the class names of news articles and plot the frequency with which they appear:"
   ]
  },
  {
   "cell_type": "code",
   "execution_count": 4,
   "metadata": {
    "id": "9hI1sUPRZczp"
   },
   "outputs": [],
   "source": [
    "id2label = {str(i): label for i, label in enumerate(dataset.features[\"label\"].names)}"
   ]
  },
  {
   "cell_type": "code",
   "execution_count": 5,
   "metadata": {
    "colab": {
     "base_uri": "https://localhost:8080/",
     "height": 452
    },
    "id": "XbyDXXr9Zczp",
    "outputId": "142f98bd-12a8-4aeb-83a9-b7053b82906f"
   },
   "outputs": [
    {
     "data": {
      "image/png": "[encoded data removed]",
      "text/plain": [
       "<Figure size 640x480 with 1 Axes>"
      ]
     },
     "metadata": {},
     "output_type": "display_data"
    }
   ],
   "source": [
    "(\n",
    "    dataset.select_columns(\"label\")\n",
    "    .to_pandas()\n",
    "    .astype(str)[\"label\"]\n",
    "    .map(id2label)\n",
    "    .value_counts()\n",
    "    .plot(kind=\"barh\", title=\"Frequency with which each label appears\")\n",
    ");"
   ]
  },
  {
   "cell_type": "markdown",
   "metadata": {
    "id": "EfyKTO1MZczq"
   },
   "source": [
    "As you can see, the dataset is well balanced.\n",
    "\n",
    "What if you want to know the average length of text per each class label?\n",
    "\n",
    "Write a function for this and map to all of the elements in the dataset.\n",
    "`'length_of_text'` will be the new column in the dataset."
   ]
  },
  {
   "cell_type": "code",
   "execution_count": 6,
   "metadata": {
    "colab": {
     "base_uri": "https://localhost:8080/",
     "height": 67,
     "referenced_widgets": [
      "4187900fba8c416a9e00e8ba3bad75e8",
      "028c9512ecbf4c15a484c6c9d67e9861",
      "c2c219ee94a1440190674827adc56cd7",
      "d44e0b5d61724bc9a04ea918f55cfd7a",
      "040a4ce3acd64ae2abcb94bb88d2946e",
      "4c8c1229b3c34261be74271bf8a8c9e4",
      "58b65a41bf1b4beb86ab33415b91ed8e",
      "5437e9b9a6bd446fa02f53474083c11d",
      "9b0c75d26e0a4851aadd1062a83b0981",
      "5392e2049b884bb087641e3d55844381",
      "a722b1fad428401db1697a9b28697587"
     ]
    },
    "id": "OuLCb8nCZczq",
    "outputId": "d740f5a5-a3be-4e25-ffa3-5890f3ca84e8"
   },
   "outputs": [
    {
     "data": {
      "application/vnd.jupyter.widget-view+json": {
       "model_id": "4187900fba8c416a9e00e8ba3bad75e8",
       "version_major": 2,
       "version_minor": 0
      },
      "text/plain": [
       "Map:   0%|          | 0/120000 [00:00<?, ? examples/s]"
      ]
     },
     "metadata": {},
     "output_type": "display_data"
    },
    {
     "data": {
      "text/plain": [
       "[144, 266, 232, 256, 234, 239, 215, 252, 414, 147]"
      ]
     },
     "execution_count": 6,
     "metadata": {},
     "output_type": "execute_result"
    }
   ],
   "source": [
    "def get_length_of_text(example):\n",
    "    example[\"length_of_text\"] = len(example[\"text\"])\n",
    "    return example\n",
    "\n",
    "\n",
    "dataset = dataset.map(get_length_of_text)\n",
    "dataset[:10][\"length_of_text\"]"
   ]
  },
  {
   "cell_type": "code",
   "execution_count": 7,
   "metadata": {
    "colab": {
     "base_uri": "https://localhost:8080/",
     "height": 452
    },
    "id": "e8pQlPmDZczq",
    "outputId": "2653e297-554f-48d7-ddd2-ef0a8f1e4a1b"
   },
   "outputs": [
    {
     "data": {
      "image/png": "[encoded data removed]",
      "text/plain": [
       "<Figure size 640x480 with 1 Axes>"
      ]
     },
     "metadata": {},
     "output_type": "display_data"
    }
   ],
   "source": [
    "(\n",
    "    dataset.select_columns([\"label\", \"length_of_text\"])\n",
    "    .to_pandas()\n",
    "    .pivot(columns=\"label\", values=\"length_of_text\")\n",
    "    .plot.hist(bins=100, alpha=0.5, title=\"Distribution of the Length of News\")\n",
    ");"
   ]
  },
  {
   "cell_type": "markdown",
   "metadata": {
    "id": "q9cp3ruzZczq"
   },
   "source": [
    "The length of characters in the news articles seem to be quite similar for all the labels, and that's okay as very large documents might need to be broken apart before we get to feed them to our model."
   ]
  },
  {
   "cell_type": "markdown",
   "metadata": {
    "id": "ZuYXS28wZczq"
   },
   "source": [
    "### Tokenize and embed data using GPT-2"
   ]
  },
  {
   "cell_type": "markdown",
   "metadata": {
    "id": "i6RAHRccZczq"
   },
   "source": [
    "Your next step is to use a pre-trained model to tokenize the data and create an embedding layer based on it.\n",
    "\n",
    "Tokenizing is breaking down a sentence into smaller pieces called \"tokens\". These tokens can be words, numbers, curly brackets, or even punctuation marks. This process helps computers understand and analyze text more easily because they can treat each token as a separate unit and work with them individually.\n",
    "\n",
    "The model you will use to tokenize our news articles and extract the embeddings is [GPT-2](https://huggingface.co/gpt2). GPT-2 is a powerful language model created by OpenAI, which has been trained on vast amounts of text from the Internet. You can think of it as an AI that can generate human-like text and answer questions based on what it has learned. GPT-2 can be used for a variety of things, like writing articles, creating chatbots, generating story ideas, or even helping with language translation.\n",
    "\n",
    "The example below takes inspiration from an example available on Chapter 9 of [Natural Language Processing with Transformers](https://transformersbook.com/) by Lewis Tunstall, Leandro von Werra, and Thomas Wolf. If you would like to use a different model to follow along, you can find all of the models available at [Hugging Face's model hub](https://huggingface.co/models)"
   ]
  },
  {
   "cell_type": "markdown",
   "metadata": {
    "id": "Zrd0Tm64Zczq"
   },
   "source": [
    "In order to tokenize your dataset, use two classes from the `transformers` library, AutoTokenizer and AutoModel. These will make use of the version of GPT-2 provided."
   ]
  },
  {
   "cell_type": "code",
   "execution_count": 8,
   "metadata": {
    "id": "FGT4tu2uZczq"
   },
   "outputs": [],
   "source": [
    "from transformers import AutoModel, AutoTokenizer\n",
    "import torch"
   ]
  },
  {
   "cell_type": "code",
   "execution_count": 9,
   "metadata": {
    "id": "o3zBulEnZczq"
   },
   "outputs": [],
   "source": [
    "device = torch.device(\"cuda\" if torch.cuda.is_available() else \"cpu\")\n",
    "tokenizer = AutoTokenizer.from_pretrained(\"gpt2\")\n",
    "model = AutoModel.from_pretrained(\"gpt2\").to(device)"
   ]
  },
  {
   "cell_type": "markdown",
   "metadata": {
    "id": "kyd9BeUVZczq"
   },
   "source": [
    "First, you will need to set a padding token for GPT-2. In natural language processing (NLP), padding refers to adding extra tokens to make all input sequences the same length. When processing text data, it's common for sentences or documents to have different lengths. However, many machine learning models require fixed-size inputs. Padding solves this issue by adding special tokens (such as zeros) to the shorter sequences, making them equal in length to the longest sequence in the dataset. For example, say you have a set of sentences and you want to process them using a model that requires fixed-length input, you may pad the sequences to match the length of the longest sentence, let's say five tokens. The padded sentences would look like this:\n",
    "\n",
    "1. \"I love cats\" -> \"I love cats [PAD] [PAD]\"\n",
    "2. \"Dogs are friendly\" -> \"Dogs are friendly [PAD]\"\n",
    "3. \"Birds can fly\" -> \"Birds can fly [PAD] [PAD]\"\n",
    "\n",
    "By padding the sequences, you ensure that all inputs have the same size, allowing the model to process them uniformly. Because GPT-2 does not have a padding token, we will use the \"end of text\" token instead."
   ]
  },
  {
   "cell_type": "code",
   "execution_count": 10,
   "metadata": {
    "colab": {
     "base_uri": "https://localhost:8080/",
     "height": 35
    },
    "id": "CjUH6dOCZczq",
    "outputId": "c822ea20-f691-4d32-8b03-70dadd2d67e8"
   },
   "outputs": [
    {
     "data": {
      "application/vnd.google.colaboratory.intrinsic+json": {
       "type": "string"
      },
      "text/plain": [
       "'<|endoftext|>'"
      ]
     },
     "execution_count": 10,
     "metadata": {},
     "output_type": "execute_result"
    }
   ],
   "source": [
    "tokenizer.eos_token"
   ]
  },
  {
   "cell_type": "code",
   "execution_count": 11,
   "metadata": {
    "id": "yIc8Gr7OZczr"
   },
   "outputs": [],
   "source": [
    "tokenizer.pad_token"
   ]
  },
  {
   "cell_type": "code",
   "execution_count": 12,
   "metadata": {
    "id": "B-ZWYMPiZczr"
   },
   "outputs": [],
   "source": [
    "tokenizer.pad_token = tokenizer.eos_token"
   ]
  },
  {
   "cell_type": "markdown",
   "metadata": {
    "id": "JxZK4s7bZczv"
   },
   "source": [
    "Let's go through a quick example:"
   ]
  },
  {
   "cell_type": "code",
   "execution_count": 13,
   "metadata": {
    "colab": {
     "base_uri": "https://localhost:8080/"
    },
    "id": "Y6UpbyB_Zczw",
    "outputId": "0370c605-91a6-4024-c0c0-c5347bad0eab"
   },
   "outputs": [
    {
     "data": {
      "text/plain": [
       "{'input_ids': tensor([[ 2061,   857,   257,  9875,   779,   284,   466, 10688,    30,   317,\n",
       "          9875,    12,  3129,  1352,    13]]), 'attention_mask': tensor([[1, 1, 1, 1, 1, 1, 1, 1, 1, 1, 1, 1, 1, 1, 1]])}"
      ]
     },
     "execution_count": 13,
     "metadata": {},
     "output_type": "execute_result"
    }
   ],
   "source": [
    "text = \"What does a cow use to do math? A cow-culator.\"\n",
    "inputs = tokenizer(\n",
    "    text, padding=True, truncation=True, max_length=128, return_tensors=\"pt\"\n",
    ")  # .to(device)\n",
    "inputs"
   ]
  },
  {
   "cell_type": "markdown",
   "metadata": {
    "id": "12FYlBfSZczw"
   },
   "source": [
    "The tokenizer will return an input IDs and an attention mask for every word in the sentence. These IDs are represented internally in the vocabulary of the model. To view your tokens, do the following:"
   ]
  },
  {
   "cell_type": "code",
   "execution_count": 16,
   "metadata": {
    "colab": {
     "base_uri": "https://localhost:8080/"
    },
    "id": "QnAe43g_Zczw",
    "outputId": "dce4ab6d-acca-4c46-a505-23ecd60ad9f2"
   },
   "outputs": [
    {
     "data": {
      "text/plain": [
       "['What',\n",
       " 'Ġdoes',\n",
       " 'Ġa',\n",
       " 'Ġcow',\n",
       " 'Ġuse',\n",
       " 'Ġto',\n",
       " 'Ġdo',\n",
       " 'Ġmath',\n",
       " '?',\n",
       " 'ĠA',\n",
       " 'Ġcow',\n",
       " '-',\n",
       " 'cul',\n",
       " 'ator',\n",
       " '.']"
      ]
     },
     "execution_count": 16,
     "metadata": {},
     "output_type": "execute_result"
    }
   ],
   "source": [
    "toks = tokenizer.convert_ids_to_tokens(inputs.input_ids[0])\n",
    "toks"
   ]
  },
  {
   "cell_type": "markdown",
   "metadata": {
    "id": "oCXM2YvOZczw"
   },
   "source": [
    "You can always go back to a sentence as well."
   ]
  },
  {
   "cell_type": "code",
   "execution_count": 17,
   "metadata": {
    "colab": {
     "base_uri": "https://localhost:8080/",
     "height": 35
    },
    "id": "WGG3aHriZczw",
    "outputId": "e2552f37-eb4f-4791-baed-a69fdbca566c"
   },
   "outputs": [
    {
     "data": {
      "application/vnd.google.colaboratory.intrinsic+json": {
       "type": "string"
      },
      "text/plain": [
       "'What does a cow use to do math? A cow-culator.'"
      ]
     },
     "execution_count": 17,
     "metadata": {},
     "output_type": "execute_result"
    }
   ],
   "source": [
    "tokenizer.convert_tokens_to_string(toks)"
   ]
  },
  {
   "cell_type": "markdown",
   "metadata": {
    "id": "ZVF0DB81Zczw"
   },
   "source": [
    "If you are curious about how large is the vocabulary in your model, you can always access it with the method `.vocab_size`."
   ]
  },
  {
   "cell_type": "code",
   "execution_count": 18,
   "metadata": {
    "colab": {
     "base_uri": "https://localhost:8080/"
    },
    "id": "pod_QrAHZczw",
    "outputId": "c1b1e4a3-5f6e-494d-af8e-74d0362cbdbc"
   },
   "outputs": [
    {
     "data": {
      "text/plain": [
       "50257"
      ]
     },
     "execution_count": 18,
     "metadata": {},
     "output_type": "execute_result"
    }
   ],
   "source": [
    "tokenizer.vocab_size"
   ]
  },
  {
   "cell_type": "markdown",
   "metadata": {
    "id": "iPy4LDbbZczw"
   },
   "source": [
    "Now pass the inputs from the tokenizer to your model and check out the response:"
   ]
  },
  {
   "cell_type": "code",
   "execution_count": 19,
   "metadata": {
    "colab": {
     "base_uri": "https://localhost:8080/"
    },
    "id": "hNZnojPSZczw",
    "outputId": "60ed8bd0-7d33-4074-b018-4f1cf0ce26d2"
   },
   "outputs": [
    {
     "data": {
      "text/plain": [
       "(torch.Size([1, 15, 768]),\n",
       " tensor([[[-0.1643,  0.0957, -0.2844,  ..., -0.1632, -0.0774, -0.2154],\n",
       "          [ 0.0472,  0.2181,  0.0754,  ...,  0.0281,  0.2386, -0.0731],\n",
       "          [-0.1410,  0.1957,  0.5674,  ..., -0.4050,  0.1199, -0.0043],\n",
       "          ...,\n",
       "          [ 0.0686,  0.2000,  0.2881,  ...,  0.2151, -0.5111, -0.2907],\n",
       "          [-0.0662,  0.3934, -0.8001,  ...,  0.2597, -0.1465, -0.1695],\n",
       "          [-0.1900, -0.2704, -0.3135,  ...,  0.3318, -0.4120, -0.0153]]]))"
      ]
     },
     "execution_count": 19,
     "metadata": {},
     "output_type": "execute_result"
    }
   ],
   "source": [
    "with torch.no_grad():\n",
    "    embs = model(**inputs)\n",
    "\n",
    "embs.last_hidden_state.size(), embs[0]"
   ]
  },
  {
   "cell_type": "markdown",
   "metadata": {
    "id": "tewHvlATZczw"
   },
   "source": [
    "Notice that you got a tensor of shape `[batch_size, inputs, dimensions]`. The inputs are your tokens and these dimensions are the embedding representation that you want for your sentence rather than each token. So what can you do to get one rather than 15? The answer is **mean pooling**.\n",
    "\n",
    "You are going to take the average of all 15 vectors while paying attention to the most important parts of it. The details of how this is happening are outside of the scope of this tutorial, but please refer to the Natural Language Processing with Transformers book mentioned earlier for a richer discussion on the concepts touched on in this section (including the borrowed functions we are about to use)."
   ]
  },
  {
   "cell_type": "code",
   "execution_count": 20,
   "metadata": {
    "id": "SNogynwAZczw"
   },
   "outputs": [],
   "source": [
    "def mean_pooling(model_output, attention_mask):\n",
    "    token_embeddings = model_output[0]\n",
    "    input_mask_expanded = (\n",
    "        attention_mask.unsqueeze(-1).expand(token_embeddings.size()).float()\n",
    "    )\n",
    "    sum_embeddings = torch.sum(token_embeddings * input_mask_expanded, 1)\n",
    "    sum_mask = torch.clamp(input_mask_expanded.sum(1), min=1e-9)\n",
    "    return sum_embeddings / sum_mask"
   ]
  },
  {
   "cell_type": "code",
   "execution_count": 21,
   "metadata": {
    "colab": {
     "base_uri": "https://localhost:8080/"
    },
    "id": "WC-Q_Dv_Zczw",
    "outputId": "bf416048-f330-40bf-d3d6-d458dd757b7b"
   },
   "outputs": [
    {
     "data": {
      "text/plain": [
       "(torch.Size([1, 768]),\n",
       " tensor([-0.2175, -0.0280, -0.4393, -0.0739, -0.1338,  0.3550,  3.4335,  0.1762,\n",
       "         -0.1412,  0.1184]))"
      ]
     },
     "execution_count": 21,
     "metadata": {},
     "output_type": "execute_result"
    }
   ],
   "source": [
    "embedding = mean_pooling(embs, inputs[\"attention_mask\"])\n",
    "embedding.shape, embedding[0, :10]"
   ]
  },
  {
   "cell_type": "markdown",
   "metadata": {
    "id": "c7NLsoQaZczw"
   },
   "source": [
    "Now you have everything you need to extract the embedding layers from our corpus of news. The last piece of the puzzle is to create a function that we can map to every news article and extract the embedding layers with. Use your tokenizer and model from earlier and apply it to a smaller subset of the data (since the dataset is quite large)."
   ]
  },
  {
   "cell_type": "code",
   "execution_count": 22,
   "metadata": {
    "id": "Tv9tk260Zczx"
   },
   "outputs": [],
   "source": [
    "def embed_text(examples):\n",
    "    inputs = tokenizer(\n",
    "        examples[\"text\"], padding=True, truncation=True, return_tensors=\"pt\"\n",
    "    )  # .to(device)\n",
    "    with torch.no_grad():\n",
    "        model_output = model(**inputs)\n",
    "    pooled_embeds = mean_pooling(model_output, inputs[\"attention_mask\"])\n",
    "    return {\"embedding\": pooled_embeds.cpu().numpy()}"
   ]
  },
  {
   "cell_type": "code",
   "execution_count": 23,
   "metadata": {
    "colab": {
     "base_uri": "https://localhost:8080/",
     "height": 49,
     "referenced_widgets": [
      "0c38085eb442490fba94a1684a197077",
      "98e930d325404cc28d5a7e81de8bcc38",
      "0ca8efe63b274bb2aedb21710fddfe99",
      "5b2a7ba5e1474ddd8a0b20dc6b4b13ac",
      "9979b3858b80495db60b982ab5ee9d66",
      "518c95d24421420184cfb0dcad1b97d0",
      "5a1e0ff995d144648213f5da701db817",
      "9db1be9c84a144d28169be623a98dad3",
      "8930050f53194481b216f1ed3952f457",
      "28bef8c1f95d4925bed2a9ccab4954ee",
      "f3c5ca13c3f44f8bbcabc0c7331676c8"
     ]
    },
    "id": "PfAGn3QaZczx",
    "outputId": "440c4da7-4ca0-47f6-b21c-c637cfa4ab9f"
   },
   "outputs": [
    {
     "data": {
      "application/vnd.jupyter.widget-view+json": {
       "model_id": "0c38085eb442490fba94a1684a197077",
       "version_major": 2,
       "version_minor": 0
      },
      "text/plain": [
       "Map:   0%|          | 0/100 [00:00<?, ? examples/s]"
      ]
     },
     "metadata": {},
     "output_type": "display_data"
    }
   ],
   "source": [
    "small_set = (\n",
    "    dataset.shuffle(42)  # randomly shuffles the data, 42 is the seed\n",
    "    .select(range(100))  # we'll take 100 rows\n",
    "    .map(\n",
    "        embed_text, batched=True, batch_size=128\n",
    "    )  # and apply our function above to 128 articles at a time\n",
    ")"
   ]
  },
  {
   "cell_type": "code",
   "execution_count": 24,
   "metadata": {
    "colab": {
     "base_uri": "https://localhost:8080/"
    },
    "id": "xwKULinfZczx",
    "outputId": "e811bd15-bf71-4626-c1e2-93cc8fe669e2"
   },
   "outputs": [
    {
     "data": {
      "text/plain": [
       "Dataset({\n",
       "    features: ['text', 'label', 'length_of_text', 'embedding'],\n",
       "    num_rows: 100\n",
       "})"
      ]
     },
     "execution_count": 24,
     "metadata": {},
     "output_type": "execute_result"
    }
   ],
   "source": [
    "small_set"
   ]
  },
  {
   "cell_type": "markdown",
   "metadata": {
    "id": "BzulsJFOZczx"
   },
   "source": [
    "As you can see, there is an extra column with the embeddings for your data. You we can use these vector representations to semantically search for other news articles or to recommend similar articles to our users by taking advantage of Qdrant.\n",
    "\n",
    "Before we add our news articles to Qdrant, let's create a list of ids for our dataset and a column with the labels to allow our users to get recommendations in a more precise fashion, i.e. by context."
   ]
  },
  {
   "cell_type": "code",
   "execution_count": 25,
   "metadata": {
    "colab": {
     "base_uri": "https://localhost:8080/"
    },
    "id": "Oh1_62K7Zczx",
    "outputId": "37a412d2-b1a2-4559-bfcd-a454dbce47d2"
   },
   "outputs": [
    {
     "data": {
      "text/plain": [
       "Dataset({\n",
       "    features: ['text', 'label', 'length_of_text', 'embedding', 'idx'],\n",
       "    num_rows: 100\n",
       "})"
      ]
     },
     "execution_count": 25,
     "metadata": {},
     "output_type": "execute_result"
    }
   ],
   "source": [
    "n_rows = range(len(small_set))\n",
    "small_set = small_set.add_column(\"idx\", n_rows)\n",
    "small_set"
   ]
  },
  {
   "cell_type": "code",
   "execution_count": 26,
   "metadata": {
    "colab": {
     "base_uri": "https://localhost:8080/"
    },
    "id": "XJ7WkGioZczx",
    "outputId": "836dfd7c-058f-4b7b-f88d-3e51837c3823"
   },
   "outputs": [
    {
     "data": {
      "text/plain": [
       "[90, 91, 92, 93, 94, 95, 96, 97, 98, 99]"
      ]
     },
     "execution_count": 26,
     "metadata": {},
     "output_type": "execute_result"
    }
   ],
   "source": [
    "small_set[\"idx\"][-10:]"
   ]
  },
  {
   "cell_type": "code",
   "execution_count": 27,
   "metadata": {
    "colab": {
     "base_uri": "https://localhost:8080/"
    },
    "id": "Puez_hYzZczx",
    "outputId": "eca8e55e-8301-4833-f112-8b5b3f80db31"
   },
   "outputs": [
    {
     "data": {
      "text/plain": [
       "Dataset({\n",
       "    features: ['text', 'label', 'length_of_text', 'embedding', 'idx', 'label_names'],\n",
       "    num_rows: 100\n",
       "})"
      ]
     },
     "execution_count": 27,
     "metadata": {},
     "output_type": "execute_result"
    }
   ],
   "source": [
    "def get_names(label_num):\n",
    "    return id2label[str(label_num)]\n",
    "\n",
    "\n",
    "label_names = list(map(get_names, small_set[\"label\"]))\n",
    "small_set = small_set.add_column(\"label_names\", label_names)\n",
    "small_set"
   ]
  },
  {
   "cell_type": "markdown",
   "metadata": {
    "id": "vFIpupSPZczx"
   },
   "source": [
    "We will also need the amount of dimensions of our embeddings."
   ]
  },
  {
   "cell_type": "code",
   "execution_count": 28,
   "metadata": {
    "colab": {
     "base_uri": "https://localhost:8080/"
    },
    "id": "WLcVRFTHZczx",
    "outputId": "f46561e6-48fe-46ba-f723-90f0f7a42afc"
   },
   "outputs": [
    {
     "data": {
      "text/plain": [
       "768"
      ]
     },
     "execution_count": 28,
     "metadata": {},
     "output_type": "execute_result"
    }
   ],
   "source": [
    "dim_size = len(small_set[0][\"embedding\"])  # we'll need the dimensions of our embeddings\n",
    "dim_size"
   ]
  },
  {
   "cell_type": "markdown",
   "metadata": {
    "id": "ykdjsgYLZczx"
   },
   "source": [
    "## 5. Semantic Search with Qdrant"
   ]
  },
  {
   "cell_type": "markdown",
   "metadata": {
    "id": "Lw5C5jdkZczx"
   },
   "source": [
    "The two modules we'll use the most are the `QdrantClient` and the `models` one. The former allows us to connect to our container running Qdrant, and the latter will give us the rest of the utilities we'll need to manage our collections.\n",
    "\n",
    "As a quick reminder, [collections](https://qdrant.tech/documentation/collections/) are named sets of points among which you can search; [points](https://qdrant.tech/documentation/points/) consist of a vector, an optional id and an optional payload; an id a unique identifier for your vectors, and a [payload](https://qdrant.tech/documentation/payload/) is a JSON object with additional data you can add to your points. Each collection needs a distance metric such as Euclidean Distance, Dot Product, or Cosine Similarity."
   ]
  },
  {
   "cell_type": "code",
   "execution_count": 29,
   "metadata": {
    "id": "T51jtwBvZczx"
   },
   "outputs": [],
   "source": [
    "from qdrant_client import QdrantClient\n",
    "from qdrant_client import models"
   ]
  },
  {
   "cell_type": "code",
   "execution_count": 30,
   "metadata": {
    "colab": {
     "base_uri": "https://localhost:8080/"
    },
    "id": "6-qjy-5sZczx",
    "outputId": "5c88130d-e070-439c-d1f1-2204e1cb5b33"
   },
   "outputs": [
    {
     "data": {
      "text/plain": [
       "<qdrant_client.qdrant_client.QdrantClient at 0x7cb48ad4e740>"
      ]
     },
     "execution_count": 30,
     "metadata": {},
     "output_type": "execute_result"
    }
   ],
   "source": [
    "client = QdrantClient(location=\":memory:\")\n",
    "client"
   ]
  },
  {
   "cell_type": "code",
   "execution_count": 31,
   "metadata": {
    "colab": {
     "base_uri": "https://localhost:8080/"
    },
    "id": "drRm9EXRZczx",
    "outputId": "5a4b9206-e71d-4c28-97d0-44b7585d75f6"
   },
   "outputs": [
    {
     "name": "stderr",
     "output_type": "stream",
     "text": [
      "<ipython-input-31-3d7e6fc551bd>:2: DeprecationWarning: `recreate_collection` method is deprecated and will be removed in the future. Use `collection_exists` to check collection existence and `create_collection` instead.\n",
      "  client.recreate_collection(\n"
     ]
    },
    {
     "data": {
      "text/plain": [
       "True"
      ]
     },
     "execution_count": 31,
     "metadata": {},
     "output_type": "execute_result"
    }
   ],
   "source": [
    "my_collection = \"news_embeddings\"\n",
    "client.recreate_collection(\n",
    "    collection_name=my_collection,\n",
    "    vectors_config=models.VectorParams(size=dim_size, distance=models.Distance.COSINE),\n",
    ")"
   ]
  },
  {
   "cell_type": "markdown",
   "metadata": {
    "id": "3RlowDy2Zczx"
   },
   "source": [
    "Before you fill in your new collection, create a payload that contains the news domain the article belongs to, plus the article itself. Note that this payload is a list of JSON objects where the key is the name of the column and the value is the label or text of that same column."
   ]
  },
  {
   "cell_type": "code",
   "execution_count": 32,
   "metadata": {
    "colab": {
     "base_uri": "https://localhost:8080/"
    },
    "id": "iLeWmqT8Zczx",
    "outputId": "10c64ed9-01c3-448f-bcb4-858601651ece"
   },
   "outputs": [
    {
     "data": {
      "text/plain": [
       "[{'label_names': 'World',\n",
       "  'text': 'Bangladesh paralysed by strikes Opposition activists have brought many towns and cities in Bangladesh to a halt, the day after 18 people died in explosions at a political rally.'},\n",
       " {'label_names': 'Sports',\n",
       "  'text': 'Desiring Stability Redskins coach Joe Gibbs expects few major personnel changes in the offseason and wants to instill a culture of stability in Washington.'},\n",
       " {'label_names': 'World',\n",
       "  'text': 'Will Putin #39;s Power Play Make Russia Safer? Outwardly, Russia has not changed since the barrage of terrorist attacks that culminated in the school massacre in Beslan on Sept.'}]"
      ]
     },
     "execution_count": 32,
     "metadata": {},
     "output_type": "execute_result"
    }
   ],
   "source": [
    "payloads = (\n",
    "    small_set.select_columns([\"label_names\", \"text\"])\n",
    "    .to_pandas()\n",
    "    .to_dict(orient=\"records\")\n",
    ")\n",
    "payloads[:3]"
   ]
  },
  {
   "cell_type": "code",
   "execution_count": 33,
   "metadata": {
    "colab": {
     "base_uri": "https://localhost:8080/"
    },
    "id": "j--uRVxuZczy",
    "outputId": "cbce8f14-184f-4dea-bd18-a1fe03267ff0"
   },
   "outputs": [
    {
     "data": {
      "text/plain": [
       "UpdateResult(operation_id=0, status=<UpdateStatus.COMPLETED: 'completed'>)"
      ]
     },
     "execution_count": 33,
     "metadata": {},
     "output_type": "execute_result"
    }
   ],
   "source": [
    "client.upsert(\n",
    "    collection_name=my_collection,\n",
    "    points=models.Batch(\n",
    "        ids=small_set[\"idx\"], vectors=small_set[\"embedding\"], payloads=payloads\n",
    "    ),\n",
    ")"
   ]
  },
  {
   "cell_type": "markdown",
   "metadata": {
    "id": "_CheaAI_Zczy"
   },
   "source": [
    "Verify that the collection has been created by scrolling through the points with the following command:"
   ]
  },
  {
   "cell_type": "code",
   "execution_count": 34,
   "metadata": {
    "colab": {
     "base_uri": "https://localhost:8080/"
    },
    "id": "dVlRvH9VZczy",
    "outputId": "0ba64c51-724e-43b7-ec0d-01a9ff32bf5c"
   },
   "outputs": [
    {
     "data": {
      "text/plain": [
       "([Record(id=0, payload=None, vector=None, shard_key=None, order_value=None),\n",
       "  Record(id=1, payload=None, vector=None, shard_key=None, order_value=None),\n",
       "  Record(id=2, payload=None, vector=None, shard_key=None, order_value=None),\n",
       "  Record(id=3, payload=None, vector=None, shard_key=None, order_value=None),\n",
       "  Record(id=4, payload=None, vector=None, shard_key=None, order_value=None),\n",
       "  Record(id=5, payload=None, vector=None, shard_key=None, order_value=None),\n",
       "  Record(id=6, payload=None, vector=None, shard_key=None, order_value=None),\n",
       "  Record(id=7, payload=None, vector=None, shard_key=None, order_value=None),\n",
       "  Record(id=8, payload=None, vector=None, shard_key=None, order_value=None),\n",
       "  Record(id=9, payload=None, vector=None, shard_key=None, order_value=None)],\n",
       " 10)"
      ]
     },
     "execution_count": 34,
     "metadata": {},
     "output_type": "execute_result"
    }
   ],
   "source": [
    "client.scroll(\n",
    "    collection_name=my_collection,\n",
    "    limit=10,\n",
    "    with_payload=False,  # change to True to see the payload\n",
    "    with_vectors=False,  # change to True to see the vectors\n",
    ")"
   ]
  },
  {
   "cell_type": "markdown",
   "metadata": {
    "id": "rEHM1rILZczy"
   },
   "source": [
    "Now that we have our collection ready, let's start querying the data and see what we get."
   ]
  },
  {
   "cell_type": "code",
   "execution_count": 35,
   "metadata": {
    "colab": {
     "base_uri": "https://localhost:8080/"
    },
    "id": "fsMZ60tfZczy",
    "outputId": "aa9495fd-aeec-440a-9125-bc8298a9124c"
   },
   "outputs": [
    {
     "data": {
      "text/plain": [
       "(\"Busch's ambience set it apart from others ST. LOUIS -- Even a cookie-cutter stadium -- which is the pejorative term that came to describe the multipurpose bowls that seemed to spring up simultaneously in Pittsburgh, Cincinnati, Atlanta, Queens, Philadelphia, and St. Louis in the late 1960s and early '70s -- can have their quirks.\",\n",
       " [0.1424039751291275,\n",
       "  -0.051233235746622086,\n",
       "  -0.27102717757225037,\n",
       "  0.07963515818119049,\n",
       "  0.1585829257965088,\n",
       "  -0.35505735874176025,\n",
       "  3.133955240249634])"
      ]
     },
     "execution_count": 35,
     "metadata": {},
     "output_type": "execute_result"
    }
   ],
   "source": [
    "query1 = small_set[99][\"embedding\"]\n",
    "small_set[99][\"text\"], query1[:7]"
   ]
  },
  {
   "cell_type": "markdown",
   "metadata": {
    "id": "6rFUihE_Zczy"
   },
   "source": [
    "As you can see the text above is talking about stocks so let's have a look at what kinds of articles we can find with Qdrant."
   ]
  },
  {
   "cell_type": "code",
   "execution_count": 36,
   "metadata": {
    "colab": {
     "base_uri": "https://localhost:8080/"
    },
    "id": "dGguEG3fZczy",
    "outputId": "ec1a3c74-0d1d-485c-8fdb-c9db691220d4"
   },
   "outputs": [
    {
     "data": {
      "text/plain": [
       "[ScoredPoint(id=99, version=0, score=0.9999999905189133, payload={'label_names': 'Sports', 'text': \"Busch's ambience set it apart from others ST. LOUIS -- Even a cookie-cutter stadium -- which is the pejorative term that came to describe the multipurpose bowls that seemed to spring up simultaneously in Pittsburgh, Cincinnati, Atlanta, Queens, Philadelphia, and St. Louis in the late 1960s and early '70s -- can have their quirks.\"}, vector=None, shard_key=None, order_value=None),\n",
       " ScoredPoint(id=3, version=0, score=0.999327473250493, payload={'label_names': 'Sci/Tech', 'text': 'U2 pitches for Apple New iTunes ads airing during baseball games Tuesday will feature the advertising-shy Irish rockers.'}, vector=None, shard_key=None, order_value=None),\n",
       " ScoredPoint(id=68, version=0, score=0.9992285114798962, payload={'label_names': 'Sports', 'text': 'Mistakes hinder Knicks in loss It will be labeled a learning experience, but that won #39;t remove any of the sting. Momentum was lost again Wednesday night as the Knicks blew a lead and lost 94-93 to the Detroit Pistons at Madison Square Garden.'}, vector=None, shard_key=None, order_value=None)]"
      ]
     },
     "execution_count": 36,
     "metadata": {},
     "output_type": "execute_result"
    }
   ],
   "source": [
    "client.query_points(collection_name=my_collection, query=query1, limit=3).points"
   ]
  },
  {
   "cell_type": "markdown",
   "metadata": {
    "id": "Ktqn20YOZczy"
   },
   "source": [
    "Of course, the first article is going to be the same one we used to query the data as there is no distance between the same vector. The other interesting thing we can see here is that even though we have different labels, we still get semantically similar articles with the label `World` as we do with the label `Business`.\n",
    "\n",
    "The nice thing about what we have done is that we are getting decent results and we haven't even fine-tuned the model to our use case. To fine-tune a model means to take a pre-trained model that has learned general knowledge from (usually large amounts of) data and adapt it to a specific task or domain. It's like giving a smart assistant some additional training to make them better at a particular job. When we do this, we should expect even better results from our search.\n",
    "\n",
    "Let's pick a random sample from the larger dataset and see what we get back from Qdrant. Note that because our function was created to be applied on a dictionary object, we'll represent the random text in the same way."
   ]
  },
  {
   "cell_type": "code",
   "execution_count": 37,
   "metadata": {
    "colab": {
     "base_uri": "https://localhost:8080/"
    },
    "id": "XLsL8qc3Zczy",
    "outputId": "45b27e21-19b7-4ce2-8b34-bcbc722443d2"
   },
   "outputs": [
    {
     "data": {
      "text/plain": [
       "{'text': 'Fifteenth-Ranked Utah Rocks Utah St. 48-6 (AP) AP - Alex Smith threw for one touchdown and ran for another, and Utah converted three Utah State turnovers into touchdowns to rout its rival 48-6 Saturday night.'}"
      ]
     },
     "execution_count": 37,
     "metadata": {},
     "output_type": "execute_result"
    }
   ],
   "source": [
    "# Step 1 - Select Random Sample\n",
    "query2 = {\"text\": dataset[choice(range(len(dataset)))][\"text\"]}\n",
    "query2"
   ]
  },
  {
   "cell_type": "code",
   "execution_count": 38,
   "metadata": {
    "colab": {
     "base_uri": "https://localhost:8080/"
    },
    "id": "1HohggKKZczy",
    "outputId": "5400d95c-7784-494f-af66-17a35be43b30"
   },
   "outputs": [
    {
     "data": {
      "text/plain": [
       "((768,),\n",
       " array([ 0.4631669 ,  0.21426679,  0.1769519 ,  0.06818997,  0.57228196,\n",
       "        -0.23123097,  7.268908  , -0.34892577,  0.18357149, -0.33726475,\n",
       "         0.26699057, -0.16434783, -0.30012795, -0.03731229, -0.2809622 ,\n",
       "         0.21101162, -0.28782076, -0.07745638, -0.1231352 , -0.9009491 ],\n",
       "       dtype=float32))"
      ]
     },
     "execution_count": 38,
     "metadata": {},
     "output_type": "execute_result"
    }
   ],
   "source": [
    "# Step 2 - Create a Vector\n",
    "query2 = embed_text(query2)[\"embedding\"][0, :]\n",
    "query2.shape, query2[:20]"
   ]
  },
  {
   "cell_type": "code",
   "execution_count": 39,
   "metadata": {
    "colab": {
     "base_uri": "https://localhost:8080/"
    },
    "id": "p_ujdZPWZczy",
    "outputId": "2409c4dd-6a76-4d69-90e0-ff905455395f"
   },
   "outputs": [
    {
     "data": {
      "text/plain": [
       "[0.46316689252853394,\n",
       " 0.2142667919397354,\n",
       " 0.17695190012454987,\n",
       " 0.06818997114896774,\n",
       " 0.5722819566726685,\n",
       " -0.2312309741973877,\n",
       " 7.2689080238342285,\n",
       " -0.34892576932907104,\n",
       " 0.1835714876651764,\n",
       " -0.337264746427536,\n",
       " 0.2669905722141266,\n",
       " -0.1643478274345398,\n",
       " -0.30012795329093933,\n",
       " -0.03731228783726692,\n",
       " -0.280962198972702,\n",
       " 0.2110116183757782,\n",
       " -0.2878207564353943,\n",
       " -0.07745637744665146,\n",
       " -0.12313520163297653,\n",
       " -0.9009491205215454]"
      ]
     },
     "execution_count": 39,
     "metadata": {},
     "output_type": "execute_result"
    }
   ],
   "source": [
    "query2.tolist()[:20]"
   ]
  },
  {
   "cell_type": "code",
   "execution_count": 40,
   "metadata": {
    "colab": {
     "base_uri": "https://localhost:8080/"
    },
    "id": "VOnTDAb3Zczy",
    "outputId": "b17d3de5-d68b-4460-d674-ba3a9b7aefa9"
   },
   "outputs": [
    {
     "data": {
      "text/plain": [
       "[ScoredPoint(id=88, version=0, score=0.9992023641037459, payload={'label_names': 'Sports', 'text': 'Pitt Locks Up BCS Bid Tyler Palko tosses a career-high 411 yards and five touchdowns to push No. 19 Pittsburgh over South Florida, 43-14, on Satudray.'}, vector=None, shard_key=None, order_value=None),\n",
       " ScoredPoint(id=51, version=0, score=0.9991318771336059, payload={'label_names': 'Sports', 'text': 'Panthers #39; defense leads to another win Carl Krauser scored all but two of his 17 points at the free throw line to lead No. 11 Pittsburgh to a 70-51 victory over Memphis on Tuesday night in the Jimmy V Classic.'}, vector=None, shard_key=None, order_value=None),\n",
       " ScoredPoint(id=43, version=0, score=0.9990993751804613, payload={'label_names': 'Sports', 'text': 'Federer, Moya Dodge the Rain and Post Masters Cup Wins Ending after midnight due to rain delays, Roger Federer finally put his second round robin match in the books early Thursday morning at the ATP Tennis Masters Cup in Houston, defeating Lleyton Hewitt for the fifth consecutive time 6-3, 6-4.'}, vector=None, shard_key=None, order_value=None),\n",
       " ScoredPoint(id=78, version=0, score=0.9988737613574972, payload={'label_names': 'Sports', 'text': 'One last mile to go before they sweep Pedro Martinez dazzles for seven as Boston takes a seemingly safe three games to none lead. By MARC TOPKIN, Times Staff Writer. ST.'}, vector=None, shard_key=None, order_value=None),\n",
       " ScoredPoint(id=84, version=0, score=0.9988350105229953, payload={'label_names': 'Sports', 'text': 'Padres Paste Slumping Mets 4-0 (AP) AP - Brian Lawrence escaped a bases-loaded jam in the first inning and allowed just four hits the rest of the way Wednesday night, pitching the San Diego Padres to a 4-0 victory over the slumping New York Mets.'}, vector=None, shard_key=None, order_value=None)]"
      ]
     },
     "execution_count": 40,
     "metadata": {},
     "output_type": "execute_result"
    }
   ],
   "source": [
    "# Step 3 - Search for similar articles. Don't forget to convert the vector to a list.\n",
    "client.query_points(\n",
    "    collection_name=my_collection, query=query2.tolist(), limit=5\n",
    ").points"
   ]
  },
  {
   "cell_type": "markdown",
   "metadata": {
    "id": "QnqpfpNQZczy"
   },
   "source": [
    "Because we selected a random sample, you will see something different everytime you go through this part of the tutorial so make sure you read some of the articles that come back and evaluate the similarity of these articles to the one you randomly got from the larger dataset. Have some fun with it. 🙂\n",
    "\n",
    "Let's make things more interesting and pick the most similar results from a Business context. We'll do so by creating a field condition with `models.FieldCondition()` with the `key=` parameter set to `label_names` and the `match=` parameter set to `\"Business\"` via the `models.MatchValue()` function."
   ]
  },
  {
   "cell_type": "code",
   "execution_count": 41,
   "metadata": {
    "id": "KEMSN6K2Zczz"
   },
   "outputs": [],
   "source": [
    "business = models.Filter(\n",
    "    must=[\n",
    "        models.FieldCondition(\n",
    "            key=\"label_names\", match=models.MatchValue(value=\"Business\")\n",
    "        )\n",
    "    ]\n",
    ")"
   ]
  },
  {
   "cell_type": "markdown",
   "metadata": {
    "id": "832zLZaJZczz"
   },
   "source": [
    "We will add our `business` variable as a query filter to our `client.search()` call and see what we get."
   ]
  },
  {
   "cell_type": "code",
   "execution_count": 42,
   "metadata": {
    "colab": {
     "base_uri": "https://localhost:8080/"
    },
    "id": "WB0Ijod5Zczz",
    "outputId": "b2c5cdcc-54fb-4251-a7c1-9534f8705cf7"
   },
   "outputs": [
    {
     "data": {
      "text/plain": [
       "[ScoredPoint(id=11, version=0, score=0.9980901049053494, payload={'label_names': 'Business', 'text': 'RBC Centura CEO steps down RALEIGH, NC - The head of RBC Centura Bank has stepped down, and his successor will run the bank out of Raleigh rather than Rocky Mount, where the bank is based.'}, vector=None, shard_key=None, order_value=None),\n",
       " ScoredPoint(id=27, version=0, score=0.9977535531917637, payload={'label_names': 'Business', 'text': 'Merger could affect Nextel Partners The proposed \\\\$35 billion merger of Sprint Corp. and Nextel Communications could mean changes for Kirkland-based Nextel Partners Inc.'}, vector=None, shard_key=None, order_value=None),\n",
       " ScoredPoint(id=14, version=0, score=0.9977418817397671, payload={'label_names': 'Business', 'text': 'Oracle acquisition of PeopleSoft leads flurry of deals NEW YORK (CBS.MW) -- US stocks closed higher Monday, with the Dow Jones Industrial Average ending at its best level in more than nine months amid better-than-expected economic data and merger-related optimism.'}, vector=None, shard_key=None, order_value=None),\n",
       " ScoredPoint(id=82, version=0, score=0.997737225923265, payload={'label_names': 'Business', 'text': 'Tests Show No Mad Cow, Cattle Prices Rise  WASHINGTON/CHICAGO (Reuters) - An animal suspected of  having mad cow disease was given a clean bill of health in a  second round of sophisticated testing, the U.S. Agriculture  Department said on Tuesday after cattle prices soared in  expectation of the news.'}, vector=None, shard_key=None, order_value=None),\n",
       " ScoredPoint(id=85, version=0, score=0.9977358452541891, payload={'label_names': 'Business', 'text': 'Quiz Eisner in shareholder suit Disney big cheese Michael Eisner took the witness stand for the first time yesterday in an ongoing shareholder lawsuit, defending his choice of ex-super talent agent Michael Ovitz as Disney #39;s No.'}, vector=None, shard_key=None, order_value=None)]"
      ]
     },
     "execution_count": 42,
     "metadata": {},
     "output_type": "execute_result"
    }
   ],
   "source": [
    "client.query_points(\n",
    "    collection_name=my_collection, query=query2.tolist(), query_filter=business, limit=5\n",
    ").points"
   ]
  },
  {
   "cell_type": "markdown",
   "metadata": {
    "id": "yLzfgo3FZczz"
   },
   "source": [
    "## 6. Recommendations API"
   ]
  },
  {
   "cell_type": "markdown",
   "metadata": {
    "id": "SXhCqHZUZczz"
   },
   "source": [
    "You might notice that even though the similarity score we are getting seem quite high, the results seem to be a bit all over the place. To solve this, we could fine-tune our model and create a new embedding layer, but that would take some time and, most-likely, a GPU.\n",
    "\n",
    "What we can do instead is to pick a model that works better off the bat and test the quality of the embeddings while we explore the recommendations API of Qdrant.\n",
    "\n",
    "Let's do just that by using the package [`fastembed`](https://github.com/qdrant/fastembed) with the model `sentence-transformers/all-MiniLM-L6-v2`."
   ]
  },
  {
   "cell_type": "code",
   "execution_count": 44,
   "metadata": {
    "id": "RODfInnjZczz"
   },
   "outputs": [],
   "source": [
    "from fastembed import TextEmbedding"
   ]
  },
  {
   "cell_type": "code",
   "execution_count": null,
   "metadata": {
    "id": "URoToXhTZczz"
   },
   "outputs": [],
   "source": [
    "model = TextEmbedding(model_name=\"sentence-transformers/all-MiniLM-L6-v2\")"
   ]
  },
  {
   "cell_type": "markdown",
   "metadata": {
    "id": "uoSvMClNZczz"
   },
   "source": [
    "We will call the second embedding feature `embedding_2` and extract it from our articles in the same way as before."
   ]
  },
  {
   "cell_type": "code",
   "execution_count": 48,
   "metadata": {
    "colab": {
     "base_uri": "https://localhost:8080/",
     "height": 49,
     "referenced_widgets": [
      "e2d2450328ef4619a333a077761a59a0",
      "530f726ff5a246529825828aefbefa2b",
      "5475f1c0466b4fb5885029ac4e4c962c",
      "0cba44a88bd14ecb8bc9e3bf6eaac6df",
      "a6b668970ca84679b51cc5ca7def25c0",
      "4a9693487c96464ab5db5ac95429b417",
      "f8663084a46e4dab9855567d64497564",
      "9c31b180da9c404b85f1a1e206bddca7",
      "9f45cd74b2c74af1acc049f0edfb279c",
      "414dc141ccb94041b44cf22d307271c6",
      "d3e93ac898c2491e85b4ef87da5d3b55"
     ]
    },
    "id": "DJesCKzdZczz",
    "outputId": "a956b489-8753-4d70-9448-ce6b481bdc82"
   },
   "outputs": [
    {
     "data": {
      "application/vnd.jupyter.widget-view+json": {
       "model_id": "e2d2450328ef4619a333a077761a59a0",
       "version_major": 2,
       "version_minor": 0
      },
      "text/plain": [
       "Map:   0%|          | 0/100 [00:00<?, ? examples/s]"
      ]
     },
     "metadata": {},
     "output_type": "display_data"
    }
   ],
   "source": [
    "def get_st_embedding(example):\n",
    "    example[\"embedding_2\"] = list(model.embed(example[\"text\"]))[0]\n",
    "    return example\n",
    "\n",
    "\n",
    "small_set = small_set.map(get_st_embedding)"
   ]
  },
  {
   "cell_type": "code",
   "execution_count": 49,
   "metadata": {
    "colab": {
     "base_uri": "https://localhost:8080/"
    },
    "id": "zBaCTaWHZczz",
    "outputId": "90dd0311-d796-492c-8fdb-49e3882a927f"
   },
   "outputs": [
    {
     "data": {
      "text/plain": [
       "Dataset({\n",
       "    features: ['text', 'label', 'length_of_text', 'embedding', 'idx', 'label_names', 'embedding_2'],\n",
       "    num_rows: 100\n",
       "})"
      ]
     },
     "execution_count": 49,
     "metadata": {},
     "output_type": "execute_result"
    }
   ],
   "source": [
    "small_set"
   ]
  },
  {
   "cell_type": "markdown",
   "metadata": {
    "id": "DV6hRRVgZczz"
   },
   "source": [
    "Now that we have the new embedding layer, let's create a new collection with the same `small_set`, `ids`, and `payload`, and call this collection `better_news`."
   ]
  },
  {
   "cell_type": "code",
   "execution_count": 50,
   "metadata": {
    "colab": {
     "base_uri": "https://localhost:8080/"
    },
    "id": "b0UzUgINZczz",
    "outputId": "858ce187-0da8-4126-e60e-c9b85a7f8285"
   },
   "outputs": [
    {
     "name": "stderr",
     "output_type": "stream",
     "text": [
      "<ipython-input-50-a351c201cc39>:2: DeprecationWarning: `recreate_collection` method is deprecated and will be removed in the future. Use `collection_exists` to check collection existence and `create_collection` instead.\n",
      "  client.recreate_collection(\n"
     ]
    },
    {
     "data": {
      "text/plain": [
       "True"
      ]
     },
     "execution_count": 50,
     "metadata": {},
     "output_type": "execute_result"
    }
   ],
   "source": [
    "second_collection = \"better_news\"\n",
    "client.recreate_collection(\n",
    "    collection_name=second_collection,\n",
    "    vectors_config=models.VectorParams(\n",
    "        size=len(small_set[0][\"embedding_2\"]), distance=models.Distance.COSINE\n",
    "    ),\n",
    ")"
   ]
  },
  {
   "cell_type": "code",
   "execution_count": 51,
   "metadata": {
    "colab": {
     "base_uri": "https://localhost:8080/"
    },
    "id": "eBezRqhaZczz",
    "outputId": "196c8056-7362-4242-9c46-b1a657fd97be"
   },
   "outputs": [
    {
     "data": {
      "text/plain": [
       "UpdateResult(operation_id=0, status=<UpdateStatus.COMPLETED: 'completed'>)"
      ]
     },
     "execution_count": 51,
     "metadata": {},
     "output_type": "execute_result"
    }
   ],
   "source": [
    "client.upsert(\n",
    "    collection_name=second_collection,\n",
    "    points=models.Batch(\n",
    "        ids=small_set[\"idx\"], vectors=small_set[\"embedding_2\"], payloads=payloads\n",
    "    ),\n",
    ")"
   ]
  },
  {
   "cell_type": "markdown",
   "metadata": {
    "id": "Vh2LcW2fZczz"
   },
   "source": [
    "Let's pick a random news article."
   ]
  },
  {
   "cell_type": "code",
   "execution_count": 65,
   "metadata": {
    "colab": {
     "base_uri": "https://localhost:8080/"
    },
    "id": "6xQMOFvBZczz",
    "outputId": "2826423b-72ab-4b54-c658-11dbbf32ed34"
   },
   "outputs": [
    {
     "data": {
      "text/plain": [
       "(87,\n",
       " '1,600 internet cafes closed in China The Chinese local governments have closed 1600 Internet cafes and fined operators a total of 100m yuan (\\\\$12m) between February and August this year.')"
      ]
     },
     "execution_count": 65,
     "metadata": {},
     "output_type": "execute_result"
    }
   ],
   "source": [
    "some_txt = small_set[87]\n",
    "some_txt[\"idx\"], some_txt[\"text\"]"
   ]
  },
  {
   "cell_type": "markdown",
   "metadata": {
    "id": "IRWsBBFZZczz"
   },
   "source": []
  },
  {
   "cell_type": "markdown",
   "metadata": {
    "id": "9xvXGuWYZczz"
   },
   "source": [
    "They key thing about the recommendation API of Qdrant is that we need at least 1 id for an article\n",
    "that a user liked, or gave us a 👍 for, but the number of negative articles is optional."
   ]
  },
  {
   "cell_type": "code",
   "execution_count": 66,
   "metadata": {
    "colab": {
     "base_uri": "https://localhost:8080/"
    },
    "id": "a8CXituaZczz",
    "outputId": "be6a5f80-fd86-4f98-d437-73e316641835"
   },
   "outputs": [
    {
     "data": {
      "text/plain": [
       "(21,\n",
       " 'Icahn pushes harder to stop Mylan #39;s King acquisition PITTSBURGH Carl Icahn, the largest shareholder of Mylan Laboratories, is now threatening to push for new company directors to stop the generic drug maker #39;s four (B) billion-dollar takeover bid of King Pharmaceuticals.')"
      ]
     },
     "execution_count": 66,
     "metadata": {},
     "output_type": "execute_result"
    }
   ],
   "source": [
    "article_we_liked = small_set[21]\n",
    "article_we_liked[\"idx\"], article_we_liked[\"text\"]"
   ]
  },
  {
   "cell_type": "code",
   "execution_count": 67,
   "metadata": {
    "colab": {
     "base_uri": "https://localhost:8080/"
    },
    "id": "5IAekWrlZcz0",
    "outputId": "1e367466-d81c-4978-a0cd-983a14d53c72"
   },
   "outputs": [
    {
     "data": {
      "text/plain": [
       "[ScoredPoint(id=93, version=0, score=0.4016504396936016, payload={'label_names': 'Sci/Tech', 'text': 'Feds go after  #39;Spam King #39; Federal attorneys are trying to shut down an allegedly illicit Internet business operated out of a dance club in Rochester that is deluging computers with unwanted pop-up ads by hijacking their browsers.'}, vector=None, shard_key=None, order_value=None),\n",
       " ScoredPoint(id=56, version=0, score=0.3821894452008371, payload={'label_names': 'Business', 'text': \"Amazon moves into China US internet giant Amazon.com is buying China's largest web retailer Joyo.com, in a deal worth \\\\$75m (41m).\"}, vector=None, shard_key=None, order_value=None),\n",
       " ScoredPoint(id=73, version=0, score=0.36303007487200234, payload={'label_names': 'Sci/Tech', 'text': 'China  #39;blocks Google news site #39; China has been accused of blocking access to Google News by the media watchdog, Reporters Without Borders. The Paris-based pressure group said the English-language news site had been unavailable for the past 10 days.'}, vector=None, shard_key=None, order_value=None),\n",
       " ScoredPoint(id=14, version=0, score=0.3339852217199736, payload={'label_names': 'Business', 'text': 'Oracle acquisition of PeopleSoft leads flurry of deals NEW YORK (CBS.MW) -- US stocks closed higher Monday, with the Dow Jones Industrial Average ending at its best level in more than nine months amid better-than-expected economic data and merger-related optimism.'}, vector=None, shard_key=None, order_value=None),\n",
       " ScoredPoint(id=20, version=0, score=0.3047674328733027, payload={'label_names': 'Sci/Tech', 'text': 'Cisco switch products target small business Company aggressively addresses smaller businesses with products that reduce the cost and complexity of operating a Cisco network.'}, vector=None, shard_key=None, order_value=None)]"
      ]
     },
     "execution_count": 67,
     "metadata": {},
     "output_type": "execute_result"
    }
   ],
   "source": [
    "client.query_points(\n",
    "    collection_name=second_collection,\n",
    "    query=models.RecommendQuery(\n",
    "        recommend=models.RecommendInput(\n",
    "            positive=[some_txt[\"idx\"], article_we_liked[\"idx\"]]\n",
    "        )\n",
    "    ),\n",
    "    limit=5,\n",
    ").points"
   ]
  },
  {
   "cell_type": "markdown",
   "metadata": {
    "id": "CjwV34-QZcz0"
   },
   "source": [
    "Not surprisingly, we get a lot of tech news with decent degrees of similarity."
   ]
  },
  {
   "cell_type": "code",
   "execution_count": 69,
   "metadata": {
    "colab": {
     "base_uri": "https://localhost:8080/"
    },
    "id": "J5flAcx7Zcz0",
    "outputId": "d6b70002-7895-427c-8718-6d41ebfb7300"
   },
   "outputs": [
    {
     "data": {
      "text/plain": [
       "(70,\n",
       " 'Cranes rain down as peace gesture Millions of origami paper cranes yesterday rained down upon Thailand #39;s three violence-torn southern provinces in an extravagant government-sponsored gesture aimed at bringing peace to the predominantly Muslim region.')"
      ]
     },
     "execution_count": 69,
     "metadata": {},
     "output_type": "execute_result"
    }
   ],
   "source": [
    "another_article_we_liked = small_set[70]\n",
    "another_article_we_liked[\"idx\"], another_article_we_liked[\"text\"]"
   ]
  },
  {
   "cell_type": "code",
   "execution_count": 70,
   "metadata": {
    "colab": {
     "base_uri": "https://localhost:8080/"
    },
    "id": "RU25YajEZcz0",
    "outputId": "8e98b275-2e76-4d14-8454-7933808dd647"
   },
   "outputs": [
    {
     "data": {
      "text/plain": [
       "(14,\n",
       " 'Oracle acquisition of PeopleSoft leads flurry of deals NEW YORK (CBS.MW) -- US stocks closed higher Monday, with the Dow Jones Industrial Average ending at its best level in more than nine months amid better-than-expected economic data and merger-related optimism.')"
      ]
     },
     "execution_count": 70,
     "metadata": {},
     "output_type": "execute_result"
    }
   ],
   "source": [
    "article_we_dont_like = small_set[14]\n",
    "article_we_dont_like[\"idx\"], article_we_dont_like[\"text\"]"
   ]
  },
  {
   "cell_type": "code",
   "execution_count": null,
   "metadata": {
    "id": "eeg5A94fZcz0"
   },
   "outputs": [],
   "source": [
    "some_other_txt = small_set[88]\n",
    "some_other_txt"
   ]
  },
  {
   "cell_type": "code",
   "execution_count": 72,
   "metadata": {
    "id": "NADUWA41Zcz0"
   },
   "outputs": [],
   "source": [
    "query4 = model.embed(some_other_txt)"
   ]
  },
  {
   "cell_type": "code",
   "execution_count": 76,
   "metadata": {
    "colab": {
     "base_uri": "https://localhost:8080/"
    },
    "id": "6rdIXJzZZcz0",
    "outputId": "dedb1662-2e11-42c6-8150-7d6b803e9aee"
   },
   "outputs": [
    {
     "data": {
      "text/plain": [
       "[ScoredPoint(id=51, version=0, score=0.2447113759461485, payload={'label_names': 'Sports', 'text': 'Panthers #39; defense leads to another win Carl Krauser scored all but two of his 17 points at the free throw line to lead No. 11 Pittsburgh to a 70-51 victory over Memphis on Tuesday night in the Jimmy V Classic.'}, vector=None, shard_key=None, order_value=None),\n",
       " ScoredPoint(id=97, version=0, score=0.19922779504187965, payload={'label_names': 'Sports', 'text': 'MOTOR RACING: IT #39;S TWO IN A ROW FOR DARIO DARIO FRANCHITTI scored a scorching second Indy Racing League race of 2004 on a triumphant return to Pikes Peak. The Scot finished fourth at the Colorado track last year but this time he led the race four '}, vector=None, shard_key=None, order_value=None),\n",
       " ScoredPoint(id=31, version=0, score=0.17695470777361116, payload={'label_names': 'Sports', 'text': 'Shanahan says he intends to honour his deal with Broncos Trying to defuse rumours he might be leaving soon, Denver Broncos coach Mike Shanahan said Thursday night he intends to honour the final four years of his contract.'}, vector=None, shard_key=None, order_value=None),\n",
       " ScoredPoint(id=15, version=0, score=0.171702610948617, payload={'label_names': 'Sports', 'text': 'They #146;re in the wrong ATHENS -- Matt Emmons was focusing on staying calm. He should have been focusing on the right target.'}, vector=None, shard_key=None, order_value=None),\n",
       " ScoredPoint(id=0, version=0, score=0.14830260252946847, payload={'label_names': 'World', 'text': 'Bangladesh paralysed by strikes Opposition activists have brought many towns and cities in Bangladesh to a halt, the day after 18 people died in explosions at a political rally.'}, vector=None, shard_key=None, order_value=None),\n",
       " ScoredPoint(id=28, version=0, score=0.1449231087011586, payload={'label_names': 'Sports', 'text': 'TEXANS STAT CENTER After finally winning consecutive games, the Texans are a team in search of a challenge.  quot;I knew that was going to come up, quot; Texans coach Dom Capers said with a laugh.'}, vector=None, shard_key=None, order_value=None),\n",
       " ScoredPoint(id=29, version=0, score=0.14203110720347584, payload={'label_names': 'Sports', 'text': 'About-face for Heels Rashad McCants wasn #39;t thinking about last year at Kentucky. Jawad Williams said last year was last year. And Sean May was thinking more about his last game than North Carolina #39;s Jan. 3 defeat at Rupp Arena.'}, vector=None, shard_key=None, order_value=None),\n",
       " ScoredPoint(id=16, version=0, score=0.127455928492053, payload={'label_names': 'Sports', 'text': \"Mularkey Sticking With Bledsoe As Bills QB (AP) AP - Mike Mularkey has a message to those clamoring for rookie quarterback J.P. Losman to replace Drew Bledsoe as Buffalo's starter. Not yet.\"}, vector=None, shard_key=None, order_value=None)]"
      ]
     },
     "execution_count": 76,
     "metadata": {},
     "output_type": "execute_result"
    }
   ],
   "source": [
    "client.query_points(\n",
    "    collection_name=second_collection,\n",
    "    query=models.RecommendQuery(\n",
    "        recommend=models.RecommendInput(\n",
    "            positive=[\n",
    "                some_other_txt[\"idx\"],\n",
    "                article_we_liked[\"idx\"],\n",
    "                another_article_we_liked[\"idx\"],\n",
    "            ],\n",
    "            negative=[article_we_dont_like[\"idx\"]],\n",
    "        )\n",
    "    ),\n",
    "    limit=8,\n",
    ").points"
   ]
  },
  {
   "cell_type": "code",
   "execution_count": null,
   "metadata": {
    "id": "KgGS5ohTgtZN"
   },
   "outputs": [],
   "source": []
  },
  {
   "cell_type": "markdown",
   "metadata": {
    "id": "_JAGWbKDZcz0"
   },
   "source": [
    "The results seem palatable given the search criteria. Also, this time we want to see only articles that\n",
    "pass a certain similarity threshold to make sure we only get very relevant results back."
   ]
  },
  {
   "cell_type": "code",
   "execution_count": 79,
   "metadata": {
    "colab": {
     "base_uri": "https://localhost:8080/"
    },
    "id": "WLlgfuEqZcz0",
    "outputId": "ee662912-5a10-4d0a-b280-51e8e6b536fc"
   },
   "outputs": [
    {
     "data": {
      "text/plain": [
       "[ScoredPoint(id=51, version=0, score=0.23785189164775716, payload={'label_names': 'Sports', 'text': 'Panthers #39; defense leads to another win Carl Krauser scored all but two of his 17 points at the free throw line to lead No. 11 Pittsburgh to a 70-51 victory over Memphis on Tuesday night in the Jimmy V Classic.'}, vector=None, shard_key=None, order_value=None),\n",
       " ScoredPoint(id=0, version=0, score=0.1807877638829638, payload={'label_names': 'World', 'text': 'Bangladesh paralysed by strikes Opposition activists have brought many towns and cities in Bangladesh to a halt, the day after 18 people died in explosions at a political rally.'}, vector=None, shard_key=None, order_value=None),\n",
       " ScoredPoint(id=29, version=0, score=0.1774875422419001, payload={'label_names': 'Sports', 'text': 'About-face for Heels Rashad McCants wasn #39;t thinking about last year at Kentucky. Jawad Williams said last year was last year. And Sean May was thinking more about his last game than North Carolina #39;s Jan. 3 defeat at Rupp Arena.'}, vector=None, shard_key=None, order_value=None),\n",
       " ScoredPoint(id=97, version=0, score=0.16742433889881747, payload={'label_names': 'Sports', 'text': 'MOTOR RACING: IT #39;S TWO IN A ROW FOR DARIO DARIO FRANCHITTI scored a scorching second Indy Racing League race of 2004 on a triumphant return to Pikes Peak. The Scot finished fourth at the Colorado track last year but this time he led the race four '}, vector=None, shard_key=None, order_value=None),\n",
       " ScoredPoint(id=55, version=0, score=0.16378504481516357, payload={'label_names': 'Sports', 'text': 'Bama offense faces tough test Like most Alabama fans, injured quarterback Brodie Croyle will sweat out tonight #39;s LSU game at home. If, somehow, the Crimson Tide can knock off the 17th-ranked Tigers, Croyle '}, vector=None, shard_key=None, order_value=None),\n",
       " ScoredPoint(id=13, version=0, score=0.16075136748638885, payload={'label_names': 'World', 'text': 'Paris Marks Liberation Mindful of Collaboration With solemn commemorations, a ceremonial flag-raising at the Eiffel Tower and columns of 1940s-era tanks and army jeeps, Parisians on Wednesday marked the 60th anniversary '}, vector=None, shard_key=None, order_value=None),\n",
       " ScoredPoint(id=75, version=0, score=0.15894293793543512, payload={'label_names': 'Sports', 'text': 'Orton Engineers Purdue Victory Over Illinois The Illinois rushing offense and the Purdue passing offense dueled in the Big Ten opener for both schools on Saturday at Memorial Stadium in Champaign.'}, vector=None, shard_key=None, order_value=None),\n",
       " ScoredPoint(id=15, version=0, score=0.15206416157764854, payload={'label_names': 'Sports', 'text': 'They #146;re in the wrong ATHENS -- Matt Emmons was focusing on staying calm. He should have been focusing on the right target.'}, vector=None, shard_key=None, order_value=None)]"
      ]
     },
     "execution_count": 79,
     "metadata": {},
     "output_type": "execute_result"
    }
   ],
   "source": [
    "client.query_points(\n",
    "    collection_name=second_collection,\n",
    "    query=models.RecommendQuery(\n",
    "        recommend=models.RecommendInput(\n",
    "            positive=[some_other_txt[\"idx\"], another_article_we_liked[\"idx\"]],\n",
    "            negative=[article_we_dont_like[\"idx\"]],\n",
    "        )\n",
    "    ),\n",
    "    score_threshold=0.10,\n",
    "    limit=8,\n",
    ").points"
   ]
  },
  {
   "cell_type": "markdown",
   "metadata": {
    "id": "G9s0YDHbZcz0"
   },
   "source": [
    "That's it! To see all of the collections that you have created in this tutorial, use `client.get_collections`."
   ]
  },
  {
   "cell_type": "code",
   "execution_count": 78,
   "metadata": {
    "colab": {
     "base_uri": "https://localhost:8080/"
    },
    "id": "IUfMb8WBZcz0",
    "outputId": "763e0d04-3b08-4949-c8fd-c1c05cc33077"
   },
   "outputs": [
    {
     "data": {
      "text/plain": [
       "CollectionsResponse(collections=[CollectionDescription(name='news_embeddings'), CollectionDescription(name='better_news')])"
      ]
     },
     "execution_count": 78,
     "metadata": {},
     "output_type": "execute_result"
    }
   ],
   "source": [
    "client.get_collections()"
   ]
  },
  {
   "cell_type": "markdown",
   "metadata": {
    "id": "zs3JvPhjZcz0"
   },
   "source": [
    "## 5. Conclusion"
   ]
  },
  {
   "cell_type": "markdown",
   "metadata": {
    "id": "c4wvEtWhZcz0"
   },
   "source": [
    "In this tutorial you have learned that (1) vector databases provide efficient storage and retrieval of high-dimensional vectors, making them ideal for similarity-based search tasks. (2) Natural language processing enables us to understand and process human language, opening up possibilities for different kinds of useful applications for digital technologies. (3) Transformers, with their attention mechanism, capture long-range dependencies in language and achieve incredible results in different tasks. Finally, embeddings encode words or sentences into dense vectors, capturing semantic relationships and enabling powerful language understanding.\n",
    "\n",
    "By combining these technologies, you can unlock new levels of language understanding, information retrieval, and intelligent systems that continue to push the boundaries of what's possible in the realm of AI."
   ]
  },
  {
   "cell_type": "markdown",
   "metadata": {
    "id": "0imsd3S6Zcz0"
   },
   "source": [
    "## 6. Resources"
   ]
  },
  {
   "cell_type": "markdown",
   "metadata": {
    "id": "tka1CD1HZcz0"
   },
   "source": [
    "Here is a list with some resources that we found useful, and that helped with the development of this tutorial.\n",
    "\n",
    "1. Books\n",
    "    - [Natural Language Processing with Transformers](https://transformersbook.com/) by Lewis Tunstall, Leandro von Werra, and Thomas Wolf\n",
    "    - [Natural Language Processing in Action, Second Edition](https://www.manning.com/books/natural-language-processing-in-action-second-edition) by Hobson Lane and Maria Dyshel\n",
    "2. Articles\n",
    "    - [Fine Tuning Similar Cars Search](https://qdrant.tech/articles/cars-recognition/)\n",
    "    - [Q&A with Similarity Learning](https://qdrant.tech/articles/faq-question-answering/)\n",
    "    - [Question Answering with LangChain and Qdrant without boilerplate](https://qdrant.tech/articles/langchain-integration/)\n",
    "    - [Extending ChatGPT with a Qdrant-based knowledge base](https://qdrant.tech/articles/chatgpt-plugin/)\n",
    "3. Videos\n",
    "    - [Word Embedding and Word2Vec, Clearly Explained!!!](https://www.youtube.com/watch?v=viZrOnJclY0&ab_channel=StatQuestwithJoshStarmer) by StatQuest with Josh Starmer\n",
    "    - [Word Embeddings, Bias in ML, Why You Don't Like Math, & Why AI Needs You](https://www.youtube.com/watch?v=25nC0n9ERq4&ab_channel=RachelThomas) by Rachel Thomas\n",
    "4. Courses\n",
    "    - [fast.ai Code-First Intro to Natural Language Processing](https://www.youtube.com/playlist?list=PLtmWHNX-gukKocXQOkQjuVxglSDYWsSh9)\n",
    "    - [NLP Course by Hugging Face](https://huggingface.co/learn/nlp-course/chapter1/1)"
   ]
  }
 ],
 "metadata": {
  "colab": {
   "provenance": []
  },
  "kernelspec": {
   "display_name": "Python 3 (ipykernel)",
   "language": "python",
   "name": "python3"
  },
  "language_info": {
   "codemirror_mode": {
    "name": "ipython",
    "version": 3
   },
   "file_extension": ".py",
   "mimetype": "text/x-python",
   "name": "python",
   "nbconvert_exporter": "python",
   "pygments_lexer": "ipython3",
   "version": "3.11.3"
  },
  "widgets": {
   "application/vnd.jupyter.widget-state+json": {
    "028c9512ecbf4c15a484c6c9d67e9861": {
     "model_module": "@jupyter-widgets/controls",
     "model_module_version": "1.5.0",
     "model_name": "HTMLModel",
     "state": {
      "_dom_classes": [],
      "_model_module": "@jupyter-widgets/controls",
      "_model_module_version": "1.5.0",
      "_model_name": "HTMLModel",
      "_view_count": null,
      "_view_module": "@jupyter-widgets/controls",
      "_view_module_version": "1.5.0",
      "_view_name": "HTMLView",
      "description": "",
      "description_tooltip": null,
      "layout": "IPY_MODEL_4c8c1229b3c34261be74271bf8a8c9e4",
      "placeholder": "​",
      "style": "IPY_MODEL_58b65a41bf1b4beb86ab33415b91ed8e",
      "value": "Map: 100%"
     }
    },
    "040a4ce3acd64ae2abcb94bb88d2946e": {
     "model_module": "@jupyter-widgets/base",
     "model_module_version": "1.2.0",
     "model_name": "LayoutModel",
     "state": {
      "_model_module": "@jupyter-widgets/base",
      "_model_module_version": "1.2.0",
      "_model_name": "LayoutModel",
      "_view_count": null,
      "_view_module": "@jupyter-widgets/base",
      "_view_module_version": "1.2.0",
      "_view_name": "LayoutView",
      "align_content": null,
      "align_items": null,
      "align_self": null,
      "border": null,
      "bottom": null,
      "display": null,
      "flex": null,
      "flex_flow": null,
      "grid_area": null,
      "grid_auto_columns": null,
      "grid_auto_flow": null,
      "grid_auto_rows": null,
      "grid_column": null,
      "grid_gap": null,
      "grid_row": null,
      "grid_template_areas": null,
      "grid_template_columns": null,
      "grid_template_rows": null,
      "height": null,
      "justify_content": null,
      "justify_items": null,
      "left": null,
      "margin": null,
      "max_height": null,
      "max_width": null,
      "min_height": null,
      "min_width": null,
      "object_fit": null,
      "object_position": null,
      "order": null,
      "overflow": null,
      "overflow_x": null,
      "overflow_y": null,
      "padding": null,
      "right": null,
      "top": null,
      "visibility": null,
      "width": null
     }
    },
    "0c38085eb442490fba94a1684a197077": {
     "model_module": "@jupyter-widgets/controls",
     "model_module_version": "1.5.0",
     "model_name": "HBoxModel",
     "state": {
      "_dom_classes": [],
      "_model_module": "@jupyter-widgets/controls",
      "_model_module_version": "1.5.0",
      "_model_name": "HBoxModel",
      "_view_count": null,
      "_view_module": "@jupyter-widgets/controls",
      "_view_module_version": "1.5.0",
      "_view_name": "HBoxView",
      "box_style": "",
      "children": [
       "IPY_MODEL_98e930d325404cc28d5a7e81de8bcc38",
       "IPY_MODEL_0ca8efe63b274bb2aedb21710fddfe99",
       "IPY_MODEL_5b2a7ba5e1474ddd8a0b20dc6b4b13ac"
      ],
      "layout": "IPY_MODEL_9979b3858b80495db60b982ab5ee9d66"
     }
    },
    "0ca8efe63b274bb2aedb21710fddfe99": {
     "model_module": "@jupyter-widgets/controls",
     "model_module_version": "1.5.0",
     "model_name": "FloatProgressModel",
     "state": {
      "_dom_classes": [],
      "_model_module": "@jupyter-widgets/controls",
      "_model_module_version": "1.5.0",
      "_model_name": "FloatProgressModel",
      "_view_count": null,
      "_view_module": "@jupyter-widgets/controls",
      "_view_module_version": "1.5.0",
      "_view_name": "ProgressView",
      "bar_style": "success",
      "description": "",
      "description_tooltip": null,
      "layout": "IPY_MODEL_9db1be9c84a144d28169be623a98dad3",
      "max": 100,
      "min": 0,
      "orientation": "horizontal",
      "style": "IPY_MODEL_8930050f53194481b216f1ed3952f457",
      "value": 100
     }
    },
    "0cba44a88bd14ecb8bc9e3bf6eaac6df": {
     "model_module": "@jupyter-widgets/controls",
     "model_module_version": "1.5.0",
     "model_name": "HTMLModel",
     "state": {
      "_dom_classes": [],
      "_model_module": "@jupyter-widgets/controls",
      "_model_module_version": "1.5.0",
      "_model_name": "HTMLModel",
      "_view_count": null,
      "_view_module": "@jupyter-widgets/controls",
      "_view_module_version": "1.5.0",
      "_view_name": "HTMLView",
      "description": "",
      "description_tooltip": null,
      "layout": "IPY_MODEL_414dc141ccb94041b44cf22d307271c6",
      "placeholder": "​",
      "style": "IPY_MODEL_d3e93ac898c2491e85b4ef87da5d3b55",
      "value": " 100/100 [00:04&lt;00:00, 21.66 examples/s]"
     }
    },
    "28bef8c1f95d4925bed2a9ccab4954ee": {
     "model_module": "@jupyter-widgets/base",
     "model_module_version": "1.2.0",
     "model_name": "LayoutModel",
     "state": {
      "_model_module": "@jupyter-widgets/base",
      "_model_module_version": "1.2.0",
      "_model_name": "LayoutModel",
      "_view_count": null,
      "_view_module": "@jupyter-widgets/base",
      "_view_module_version": "1.2.0",
      "_view_name": "LayoutView",
      "align_content": null,
      "align_items": null,
      "align_self": null,
      "border": null,
      "bottom": null,
      "display": null,
      "flex": null,
      "flex_flow": null,
      "grid_area": null,
      "grid_auto_columns": null,
      "grid_auto_flow": null,
      "grid_auto_rows": null,
      "grid_column": null,
      "grid_gap": null,
      "grid_row": null,
      "grid_template_areas": null,
      "grid_template_columns": null,
      "grid_template_rows": null,
      "height": null,
      "justify_content": null,
      "justify_items": null,
      "left": null,
      "margin": null,
      "max_height": null,
      "max_width": null,
      "min_height": null,
      "min_width": null,
      "object_fit": null,
      "object_position": null,
      "order": null,
      "overflow": null,
      "overflow_x": null,
      "overflow_y": null,
      "padding": null,
      "right": null,
      "top": null,
      "visibility": null,
      "width": null
     }
    },
    "414dc141ccb94041b44cf22d307271c6": {
     "model_module": "@jupyter-widgets/base",
     "model_module_version": "1.2.0",
     "model_name": "LayoutModel",
     "state": {
      "_model_module": "@jupyter-widgets/base",
      "_model_module_version": "1.2.0",
      "_model_name": "LayoutModel",
      "_view_count": null,
      "_view_module": "@jupyter-widgets/base",
      "_view_module_version": "1.2.0",
      "_view_name": "LayoutView",
      "align_content": null,
      "align_items": null,
      "align_self": null,
      "border": null,
      "bottom": null,
      "display": null,
      "flex": null,
      "flex_flow": null,
      "grid_area": null,
      "grid_auto_columns": null,
      "grid_auto_flow": null,
      "grid_auto_rows": null,
      "grid_column": null,
      "grid_gap": null,
      "grid_row": null,
      "grid_template_areas": null,
      "grid_template_columns": null,
      "grid_template_rows": null,
      "height": null,
      "justify_content": null,
      "justify_items": null,
      "left": null,
      "margin": null,
      "max_height": null,
      "max_width": null,
      "min_height": null,
      "min_width": null,
      "object_fit": null,
      "object_position": null,
      "order": null,
      "overflow": null,
      "overflow_x": null,
      "overflow_y": null,
      "padding": null,
      "right": null,
      "top": null,
      "visibility": null,
      "width": null
     }
    },
    "4187900fba8c416a9e00e8ba3bad75e8": {
     "model_module": "@jupyter-widgets/controls",
     "model_module_version": "1.5.0",
     "model_name": "HBoxModel",
     "state": {
      "_dom_classes": [],
      "_model_module": "@jupyter-widgets/controls",
      "_model_module_version": "1.5.0",
      "_model_name": "HBoxModel",
      "_view_count": null,
      "_view_module": "@jupyter-widgets/controls",
      "_view_module_version": "1.5.0",
      "_view_name": "HBoxView",
      "box_style": "",
      "children": [
       "IPY_MODEL_028c9512ecbf4c15a484c6c9d67e9861",
       "IPY_MODEL_c2c219ee94a1440190674827adc56cd7",
       "IPY_MODEL_d44e0b5d61724bc9a04ea918f55cfd7a"
      ],
      "layout": "IPY_MODEL_040a4ce3acd64ae2abcb94bb88d2946e"
     }
    },
    "4a9693487c96464ab5db5ac95429b417": {
     "model_module": "@jupyter-widgets/base",
     "model_module_version": "1.2.0",
     "model_name": "LayoutModel",
     "state": {
      "_model_module": "@jupyter-widgets/base",
      "_model_module_version": "1.2.0",
      "_model_name": "LayoutModel",
      "_view_count": null,
      "_view_module": "@jupyter-widgets/base",
      "_view_module_version": "1.2.0",
      "_view_name": "LayoutView",
      "align_content": null,
      "align_items": null,
      "align_self": null,
      "border": null,
      "bottom": null,
      "display": null,
      "flex": null,
      "flex_flow": null,
      "grid_area": null,
      "grid_auto_columns": null,
      "grid_auto_flow": null,
      "grid_auto_rows": null,
      "grid_column": null,
      "grid_gap": null,
      "grid_row": null,
      "grid_template_areas": null,
      "grid_template_columns": null,
      "grid_template_rows": null,
      "height": null,
      "justify_content": null,
      "justify_items": null,
      "left": null,
      "margin": null,
      "max_height": null,
      "max_width": null,
      "min_height": null,
      "min_width": null,
      "object_fit": null,
      "object_position": null,
      "order": null,
      "overflow": null,
      "overflow_x": null,
      "overflow_y": null,
      "padding": null,
      "right": null,
      "top": null,
      "visibility": null,
      "width": null
     }
    },
    "4c8c1229b3c34261be74271bf8a8c9e4": {
     "model_module": "@jupyter-widgets/base",
     "model_module_version": "1.2.0",
     "model_name": "LayoutModel",
     "state": {
      "_model_module": "@jupyter-widgets/base",
      "_model_module_version": "1.2.0",
      "_model_name": "LayoutModel",
      "_view_count": null,
      "_view_module": "@jupyter-widgets/base",
      "_view_module_version": "1.2.0",
      "_view_name": "LayoutView",
      "align_content": null,
      "align_items": null,
      "align_self": null,
      "border": null,
      "bottom": null,
      "display": null,
      "flex": null,
      "flex_flow": null,
      "grid_area": null,
      "grid_auto_columns": null,
      "grid_auto_flow": null,
      "grid_auto_rows": null,
      "grid_column": null,
      "grid_gap": null,
      "grid_row": null,
      "grid_template_areas": null,
      "grid_template_columns": null,
      "grid_template_rows": null,
      "height": null,
      "justify_content": null,
      "justify_items": null,
      "left": null,
      "margin": null,
      "max_height": null,
      "max_width": null,
      "min_height": null,
      "min_width": null,
      "object_fit": null,
      "object_position": null,
      "order": null,
      "overflow": null,
      "overflow_x": null,
      "overflow_y": null,
      "padding": null,
      "right": null,
      "top": null,
      "visibility": null,
      "width": null
     }
    },
    "518c95d24421420184cfb0dcad1b97d0": {
     "model_module": "@jupyter-widgets/base",
     "model_module_version": "1.2.0",
     "model_name": "LayoutModel",
     "state": {
      "_model_module": "@jupyter-widgets/base",
      "_model_module_version": "1.2.0",
      "_model_name": "LayoutModel",
      "_view_count": null,
      "_view_module": "@jupyter-widgets/base",
      "_view_module_version": "1.2.0",
      "_view_name": "LayoutView",
      "align_content": null,
      "align_items": null,
      "align_self": null,
      "border": null,
      "bottom": null,
      "display": null,
      "flex": null,
      "flex_flow": null,
      "grid_area": null,
      "grid_auto_columns": null,
      "grid_auto_flow": null,
      "grid_auto_rows": null,
      "grid_column": null,
      "grid_gap": null,
      "grid_row": null,
      "grid_template_areas": null,
      "grid_template_columns": null,
      "grid_template_rows": null,
      "height": null,
      "justify_content": null,
      "justify_items": null,
      "left": null,
      "margin": null,
      "max_height": null,
      "max_width": null,
      "min_height": null,
      "min_width": null,
      "object_fit": null,
      "object_position": null,
      "order": null,
      "overflow": null,
      "overflow_x": null,
      "overflow_y": null,
      "padding": null,
      "right": null,
      "top": null,
      "visibility": null,
      "width": null
     }
    },
    "530f726ff5a246529825828aefbefa2b": {
     "model_module": "@jupyter-widgets/controls",
     "model_module_version": "1.5.0",
     "model_name": "HTMLModel",
     "state": {
      "_dom_classes": [],
      "_model_module": "@jupyter-widgets/controls",
      "_model_module_version": "1.5.0",
      "_model_name": "HTMLModel",
      "_view_count": null,
      "_view_module": "@jupyter-widgets/controls",
      "_view_module_version": "1.5.0",
      "_view_name": "HTMLView",
      "description": "",
      "description_tooltip": null,
      "layout": "IPY_MODEL_4a9693487c96464ab5db5ac95429b417",
      "placeholder": "​",
      "style": "IPY_MODEL_f8663084a46e4dab9855567d64497564",
      "value": "Map: 100%"
     }
    },
    "5392e2049b884bb087641e3d55844381": {
     "model_module": "@jupyter-widgets/base",
     "model_module_version": "1.2.0",
     "model_name": "LayoutModel",
     "state": {
      "_model_module": "@jupyter-widgets/base",
      "_model_module_version": "1.2.0",
      "_model_name": "LayoutModel",
      "_view_count": null,
      "_view_module": "@jupyter-widgets/base",
      "_view_module_version": "1.2.0",
      "_view_name": "LayoutView",
      "align_content": null,
      "align_items": null,
      "align_self": null,
      "border": null,
      "bottom": null,
      "display": null,
      "flex": null,
      "flex_flow": null,
      "grid_area": null,
      "grid_auto_columns": null,
      "grid_auto_flow": null,
      "grid_auto_rows": null,
      "grid_column": null,
      "grid_gap": null,
      "grid_row": null,
      "grid_template_areas": null,
      "grid_template_columns": null,
      "grid_template_rows": null,
      "height": null,
      "justify_content": null,
      "justify_items": null,
      "left": null,
      "margin": null,
      "max_height": null,
      "max_width": null,
      "min_height": null,
      "min_width": null,
      "object_fit": null,
      "object_position": null,
      "order": null,
      "overflow": null,
      "overflow_x": null,
      "overflow_y": null,
      "padding": null,
      "right": null,
      "top": null,
      "visibility": null,
      "width": null
     }
    },
    "5437e9b9a6bd446fa02f53474083c11d": {
     "model_module": "@jupyter-widgets/base",
     "model_module_version": "1.2.0",
     "model_name": "LayoutModel",
     "state": {
      "_model_module": "@jupyter-widgets/base",
      "_model_module_version": "1.2.0",
      "_model_name": "LayoutModel",
      "_view_count": null,
      "_view_module": "@jupyter-widgets/base",
      "_view_module_version": "1.2.0",
      "_view_name": "LayoutView",
      "align_content": null,
      "align_items": null,
      "align_self": null,
      "border": null,
      "bottom": null,
      "display": null,
      "flex": null,
      "flex_flow": null,
      "grid_area": null,
      "grid_auto_columns": null,
      "grid_auto_flow": null,
      "grid_auto_rows": null,
      "grid_column": null,
      "grid_gap": null,
      "grid_row": null,
      "grid_template_areas": null,
      "grid_template_columns": null,
      "grid_template_rows": null,
      "height": null,
      "justify_content": null,
      "justify_items": null,
      "left": null,
      "margin": null,
      "max_height": null,
      "max_width": null,
      "min_height": null,
      "min_width": null,
      "object_fit": null,
      "object_position": null,
      "order": null,
      "overflow": null,
      "overflow_x": null,
      "overflow_y": null,
      "padding": null,
      "right": null,
      "top": null,
      "visibility": null,
      "width": null
     }
    },
    "5475f1c0466b4fb5885029ac4e4c962c": {
     "model_module": "@jupyter-widgets/controls",
     "model_module_version": "1.5.0",
     "model_name": "FloatProgressModel",
     "state": {
      "_dom_classes": [],
      "_model_module": "@jupyter-widgets/controls",
      "_model_module_version": "1.5.0",
      "_model_name": "FloatProgressModel",
      "_view_count": null,
      "_view_module": "@jupyter-widgets/controls",
      "_view_module_version": "1.5.0",
      "_view_name": "ProgressView",
      "bar_style": "success",
      "description": "",
      "description_tooltip": null,
      "layout": "IPY_MODEL_9c31b180da9c404b85f1a1e206bddca7",
      "max": 100,
      "min": 0,
      "orientation": "horizontal",
      "style": "IPY_MODEL_9f45cd74b2c74af1acc049f0edfb279c",
      "value": 100
     }
    },
    "58b65a41bf1b4beb86ab33415b91ed8e": {
     "model_module": "@jupyter-widgets/controls",
     "model_module_version": "1.5.0",
     "model_name": "DescriptionStyleModel",
     "state": {
      "_model_module": "@jupyter-widgets/controls",
      "_model_module_version": "1.5.0",
      "_model_name": "DescriptionStyleModel",
      "_view_count": null,
      "_view_module": "@jupyter-widgets/base",
      "_view_module_version": "1.2.0",
      "_view_name": "StyleView",
      "description_width": ""
     }
    },
    "5a1e0ff995d144648213f5da701db817": {
     "model_module": "@jupyter-widgets/controls",
     "model_module_version": "1.5.0",
     "model_name": "DescriptionStyleModel",
     "state": {
      "_model_module": "@jupyter-widgets/controls",
      "_model_module_version": "1.5.0",
      "_model_name": "DescriptionStyleModel",
      "_view_count": null,
      "_view_module": "@jupyter-widgets/base",
      "_view_module_version": "1.2.0",
      "_view_name": "StyleView",
      "description_width": ""
     }
    },
    "5b2a7ba5e1474ddd8a0b20dc6b4b13ac": {
     "model_module": "@jupyter-widgets/controls",
     "model_module_version": "1.5.0",
     "model_name": "HTMLModel",
     "state": {
      "_dom_classes": [],
      "_model_module": "@jupyter-widgets/controls",
      "_model_module_version": "1.5.0",
      "_model_name": "HTMLModel",
      "_view_count": null,
      "_view_module": "@jupyter-widgets/controls",
      "_view_module_version": "1.5.0",
      "_view_name": "HTMLView",
      "description": "",
      "description_tooltip": null,
      "layout": "IPY_MODEL_28bef8c1f95d4925bed2a9ccab4954ee",
      "placeholder": "​",
      "style": "IPY_MODEL_f3c5ca13c3f44f8bbcabc0c7331676c8",
      "value": " 100/100 [00:42&lt;00:00,  2.33 examples/s]"
     }
    },
    "8930050f53194481b216f1ed3952f457": {
     "model_module": "@jupyter-widgets/controls",
     "model_module_version": "1.5.0",
     "model_name": "ProgressStyleModel",
     "state": {
      "_model_module": "@jupyter-widgets/controls",
      "_model_module_version": "1.5.0",
      "_model_name": "ProgressStyleModel",
      "_view_count": null,
      "_view_module": "@jupyter-widgets/base",
      "_view_module_version": "1.2.0",
      "_view_name": "StyleView",
      "bar_color": null,
      "description_width": ""
     }
    },
    "98e930d325404cc28d5a7e81de8bcc38": {
     "model_module": "@jupyter-widgets/controls",
     "model_module_version": "1.5.0",
     "model_name": "HTMLModel",
     "state": {
      "_dom_classes": [],
      "_model_module": "@jupyter-widgets/controls",
      "_model_module_version": "1.5.0",
      "_model_name": "HTMLModel",
      "_view_count": null,
      "_view_module": "@jupyter-widgets/controls",
      "_view_module_version": "1.5.0",
      "_view_name": "HTMLView",
      "description": "",
      "description_tooltip": null,
      "layout": "IPY_MODEL_518c95d24421420184cfb0dcad1b97d0",
      "placeholder": "​",
      "style": "IPY_MODEL_5a1e0ff995d144648213f5da701db817",
      "value": "Map: 100%"
     }
    },
    "9979b3858b80495db60b982ab5ee9d66": {
     "model_module": "@jupyter-widgets/base",
     "model_module_version": "1.2.0",
     "model_name": "LayoutModel",
     "state": {
      "_model_module": "@jupyter-widgets/base",
      "_model_module_version": "1.2.0",
      "_model_name": "LayoutModel",
      "_view_count": null,
      "_view_module": "@jupyter-widgets/base",
      "_view_module_version": "1.2.0",
      "_view_name": "LayoutView",
      "align_content": null,
      "align_items": null,
      "align_self": null,
      "border": null,
      "bottom": null,
      "display": null,
      "flex": null,
      "flex_flow": null,
      "grid_area": null,
      "grid_auto_columns": null,
      "grid_auto_flow": null,
      "grid_auto_rows": null,
      "grid_column": null,
      "grid_gap": null,
      "grid_row": null,
      "grid_template_areas": null,
      "grid_template_columns": null,
      "grid_template_rows": null,
      "height": null,
      "justify_content": null,
      "justify_items": null,
      "left": null,
      "margin": null,
      "max_height": null,
      "max_width": null,
      "min_height": null,
      "min_width": null,
      "object_fit": null,
      "object_position": null,
      "order": null,
      "overflow": null,
      "overflow_x": null,
      "overflow_y": null,
      "padding": null,
      "right": null,
      "top": null,
      "visibility": null,
      "width": null
     }
    },
    "9b0c75d26e0a4851aadd1062a83b0981": {
     "model_module": "@jupyter-widgets/controls",
     "model_module_version": "1.5.0",
     "model_name": "ProgressStyleModel",
     "state": {
      "_model_module": "@jupyter-widgets/controls",
      "_model_module_version": "1.5.0",
      "_model_name": "ProgressStyleModel",
      "_view_count": null,
      "_view_module": "@jupyter-widgets/base",
      "_view_module_version": "1.2.0",
      "_view_name": "StyleView",
      "bar_color": null,
      "description_width": ""
     }
    },
    "9c31b180da9c404b85f1a1e206bddca7": {
     "model_module": "@jupyter-widgets/base",
     "model_module_version": "1.2.0",
     "model_name": "LayoutModel",
     "state": {
      "_model_module": "@jupyter-widgets/base",
      "_model_module_version": "1.2.0",
      "_model_name": "LayoutModel",
      "_view_count": null,
      "_view_module": "@jupyter-widgets/base",
      "_view_module_version": "1.2.0",
      "_view_name": "LayoutView",
      "align_content": null,
      "align_items": null,
      "align_self": null,
      "border": null,
      "bottom": null,
      "display": null,
      "flex": null,
      "flex_flow": null,
      "grid_area": null,
      "grid_auto_columns": null,
      "grid_auto_flow": null,
      "grid_auto_rows": null,
      "grid_column": null,
      "grid_gap": null,
      "grid_row": null,
      "grid_template_areas": null,
      "grid_template_columns": null,
      "grid_template_rows": null,
      "height": null,
      "justify_content": null,
      "justify_items": null,
      "left": null,
      "margin": null,
      "max_height": null,
      "max_width": null,
      "min_height": null,
      "min_width": null,
      "object_fit": null,
      "object_position": null,
      "order": null,
      "overflow": null,
      "overflow_x": null,
      "overflow_y": null,
      "padding": null,
      "right": null,
      "top": null,
      "visibility": null,
      "width": null
     }
    },
    "9db1be9c84a144d28169be623a98dad3": {
     "model_module": "@jupyter-widgets/base",
     "model_module_version": "1.2.0",
     "model_name": "LayoutModel",
     "state": {
      "_model_module": "@jupyter-widgets/base",
      "_model_module_version": "1.2.0",
      "_model_name": "LayoutModel",
      "_view_count": null,
      "_view_module": "@jupyter-widgets/base",
      "_view_module_version": "1.2.0",
      "_view_name": "LayoutView",
      "align_content": null,
      "align_items": null,
      "align_self": null,
      "border": null,
      "bottom": null,
      "display": null,
      "flex": null,
      "flex_flow": null,
      "grid_area": null,
      "grid_auto_columns": null,
      "grid_auto_flow": null,
      "grid_auto_rows": null,
      "grid_column": null,
      "grid_gap": null,
      "grid_row": null,
      "grid_template_areas": null,
      "grid_template_columns": null,
      "grid_template_rows": null,
      "height": null,
      "justify_content": null,
      "justify_items": null,
      "left": null,
      "margin": null,
      "max_height": null,
      "max_width": null,
      "min_height": null,
      "min_width": null,
      "object_fit": null,
      "object_position": null,
      "order": null,
      "overflow": null,
      "overflow_x": null,
      "overflow_y": null,
      "padding": null,
      "right": null,
      "top": null,
      "visibility": null,
      "width": null
     }
    },
    "9f45cd74b2c74af1acc049f0edfb279c": {
     "model_module": "@jupyter-widgets/controls",
     "model_module_version": "1.5.0",
     "model_name": "ProgressStyleModel",
     "state": {
      "_model_module": "@jupyter-widgets/controls",
      "_model_module_version": "1.5.0",
      "_model_name": "ProgressStyleModel",
      "_view_count": null,
      "_view_module": "@jupyter-widgets/base",
      "_view_module_version": "1.2.0",
      "_view_name": "StyleView",
      "bar_color": null,
      "description_width": ""
     }
    },
    "a6b668970ca84679b51cc5ca7def25c0": {
     "model_module": "@jupyter-widgets/base",
     "model_module_version": "1.2.0",
     "model_name": "LayoutModel",
     "state": {
      "_model_module": "@jupyter-widgets/base",
      "_model_module_version": "1.2.0",
      "_model_name": "LayoutModel",
      "_view_count": null,
      "_view_module": "@jupyter-widgets/base",
      "_view_module_version": "1.2.0",
      "_view_name": "LayoutView",
      "align_content": null,
      "align_items": null,
      "align_self": null,
      "border": null,
      "bottom": null,
      "display": null,
      "flex": null,
      "flex_flow": null,
      "grid_area": null,
      "grid_auto_columns": null,
      "grid_auto_flow": null,
      "grid_auto_rows": null,
      "grid_column": null,
      "grid_gap": null,
      "grid_row": null,
      "grid_template_areas": null,
      "grid_template_columns": null,
      "grid_template_rows": null,
      "height": null,
      "justify_content": null,
      "justify_items": null,
      "left": null,
      "margin": null,
      "max_height": null,
      "max_width": null,
      "min_height": null,
      "min_width": null,
      "object_fit": null,
      "object_position": null,
      "order": null,
      "overflow": null,
      "overflow_x": null,
      "overflow_y": null,
      "padding": null,
      "right": null,
      "top": null,
      "visibility": null,
      "width": null
     }
    },
    "a722b1fad428401db1697a9b28697587": {
     "model_module": "@jupyter-widgets/controls",
     "model_module_version": "1.5.0",
     "model_name": "DescriptionStyleModel",
     "state": {
      "_model_module": "@jupyter-widgets/controls",
      "_model_module_version": "1.5.0",
      "_model_name": "DescriptionStyleModel",
      "_view_count": null,
      "_view_module": "@jupyter-widgets/base",
      "_view_module_version": "1.2.0",
      "_view_name": "StyleView",
      "description_width": ""
     }
    },
    "c2c219ee94a1440190674827adc56cd7": {
     "model_module": "@jupyter-widgets/controls",
     "model_module_version": "1.5.0",
     "model_name": "FloatProgressModel",
     "state": {
      "_dom_classes": [],
      "_model_module": "@jupyter-widgets/controls",
      "_model_module_version": "1.5.0",
      "_model_name": "FloatProgressModel",
      "_view_count": null,
      "_view_module": "@jupyter-widgets/controls",
      "_view_module_version": "1.5.0",
      "_view_name": "ProgressView",
      "bar_style": "success",
      "description": "",
      "description_tooltip": null,
      "layout": "IPY_MODEL_5437e9b9a6bd446fa02f53474083c11d",
      "max": 120000,
      "min": 0,
      "orientation": "horizontal",
      "style": "IPY_MODEL_9b0c75d26e0a4851aadd1062a83b0981",
      "value": 120000
     }
    },
    "d3e93ac898c2491e85b4ef87da5d3b55": {
     "model_module": "@jupyter-widgets/controls",
     "model_module_version": "1.5.0",
     "model_name": "DescriptionStyleModel",
     "state": {
      "_model_module": "@jupyter-widgets/controls",
      "_model_module_version": "1.5.0",
      "_model_name": "DescriptionStyleModel",
      "_view_count": null,
      "_view_module": "@jupyter-widgets/base",
      "_view_module_version": "1.2.0",
      "_view_name": "StyleView",
      "description_width": ""
     }
    },
    "d44e0b5d61724bc9a04ea918f55cfd7a": {
     "model_module": "@jupyter-widgets/controls",
     "model_module_version": "1.5.0",
     "model_name": "HTMLModel",
     "state": {
      "_dom_classes": [],
      "_model_module": "@jupyter-widgets/controls",
      "_model_module_version": "1.5.0",
      "_model_name": "HTMLModel",
      "_view_count": null,
      "_view_module": "@jupyter-widgets/controls",
      "_view_module_version": "1.5.0",
      "_view_name": "HTMLView",
      "description": "",
      "description_tooltip": null,
      "layout": "IPY_MODEL_5392e2049b884bb087641e3d55844381",
      "placeholder": "​",
      "style": "IPY_MODEL_a722b1fad428401db1697a9b28697587",
      "value": " 120000/120000 [00:36&lt;00:00, 2593.74 examples/s]"
     }
    },
    "e2d2450328ef4619a333a077761a59a0": {
     "model_module": "@jupyter-widgets/controls",
     "model_module_version": "1.5.0",
     "model_name": "HBoxModel",
     "state": {
      "_dom_classes": [],
      "_model_module": "@jupyter-widgets/controls",
      "_model_module_version": "1.5.0",
      "_model_name": "HBoxModel",
      "_view_count": null,
      "_view_module": "@jupyter-widgets/controls",
      "_view_module_version": "1.5.0",
      "_view_name": "HBoxView",
      "box_style": "",
      "children": [
       "IPY_MODEL_530f726ff5a246529825828aefbefa2b",
       "IPY_MODEL_5475f1c0466b4fb5885029ac4e4c962c",
       "IPY_MODEL_0cba44a88bd14ecb8bc9e3bf6eaac6df"
      ],
      "layout": "IPY_MODEL_a6b668970ca84679b51cc5ca7def25c0"
     }
    },
    "f3c5ca13c3f44f8bbcabc0c7331676c8": {
     "model_module": "@jupyter-widgets/controls",
     "model_module_version": "1.5.0",
     "model_name": "DescriptionStyleModel",
     "state": {
      "_model_module": "@jupyter-widgets/controls",
      "_model_module_version": "1.5.0",
      "_model_name": "DescriptionStyleModel",
      "_view_count": null,
      "_view_module": "@jupyter-widgets/base",
      "_view_module_version": "1.2.0",
      "_view_name": "StyleView",
      "description_width": ""
     }
    },
    "f8663084a46e4dab9855567d64497564": {
     "model_module": "@jupyter-widgets/controls",
     "model_module_version": "1.5.0",
     "model_name": "DescriptionStyleModel",
     "state": {
      "_model_module": "@jupyter-widgets/controls",
      "_model_module_version": "1.5.0",
      "_model_name": "DescriptionStyleModel",
      "_view_count": null,
      "_view_module": "@jupyter-widgets/base",
      "_view_module_version": "1.2.0",
      "_view_name": "StyleView",
      "description_width": ""
     }
    }
   }
  }
 },
 "nbformat": 4,
 "nbformat_minor": 0
}

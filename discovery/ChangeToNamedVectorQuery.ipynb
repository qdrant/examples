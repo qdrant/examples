{
 "cells": [
  {
   "cell_type": "code",
   "execution_count": 1,
   "id": "ca1d8015-cc22-4f28-9936-57c71d5bc377",
   "metadata": {},
   "outputs": [],
   "source": [
    "from qdrant_client import models, QdrantClient"
   ]
  },
  {
   "cell_type": "code",
   "execution_count": 2,
   "id": "206b85ab-5416-46c0-8376-eb8911f58f17",
   "metadata": {},
   "outputs": [],
   "source": [
    "client = QdrantClient(QDRANT_URL, api_key=QDRANT_API_KEY)"
   ]
  },
  {
   "cell_type": "code",
   "execution_count": 23,
   "id": "2808569d-f977-4a2e-8c46-1d198f95b316",
   "metadata": {},
   "outputs": [
    {
     "data": {
      "text/plain": [
       "CollectionInfo(status=<CollectionStatus.GREEN: 'green'>, optimizer_status=<OptimizersStatusOneOf.OK: 'ok'>, vectors_count=383424, indexed_vectors_count=381568, points_count=191712, segments_count=2, config=CollectionConfig(params=CollectionParams(vectors={'image': VectorParams(size=1024, distance=<Distance.COSINE: 'Cosine'>, hnsw_config=None, quantization_config=None, on_disk=None), 'prompt': VectorParams(size=1024, distance=<Distance.COSINE: 'Cosine'>, hnsw_config=None, quantization_config=None, on_disk=None)}, shard_number=1, sharding_method=None, replication_factor=1, write_consistency_factor=1, read_fan_out_factor=None, on_disk_payload=True, sparse_vectors=None), hnsw_config=HnswConfig(m=16, ef_construct=100, full_scan_threshold=10000, max_indexing_threads=0, on_disk=False, payload_m=None), optimizer_config=OptimizersConfig(deleted_threshold=0.2, vacuum_min_vector_number=1000, default_segment_number=0, max_segment_size=None, memmap_threshold=None, indexing_threshold=20000, flush_interval_sec=5, max_optimization_threads=1), wal_config=WalConfig(wal_capacity_mb=32, wal_segments_ahead=0), quantization_config=None), payload_schema={})"
      ]
     },
     "execution_count": 23,
     "metadata": {},
     "output_type": "execute_result"
    }
   ],
   "source": [
    "client.get_collection(COLLECTION_NAME)"
   ]
  },
  {
   "cell_type": "code",
   "execution_count": 27,
   "id": "4f1be169-861c-474d-aa99-ef10835daf16",
   "metadata": {},
   "outputs": [
    {
     "data": {
      "text/plain": [
       "[ScoredPoint(id=1114887381938618379, version=5714, score=1.0000001, payload={'channel_id': '989268300473192561', 'content': '**apple laptop on desk in office with glass window and forest behind. Asian lady around 40 years old with her back to the camera looking at data analytics on the screen of the laptop. Photo realistic, ultra real. Summer day outside** - Image #2 <@713017210163036211>', 'height': 1024, 'id': '1114887381754052628', 'size': 1451833, 'split': 'train', 'timestamp': '2023-06-04T12:04:25.416000+00:00', 'url': 'https://cdn.discordapp.com/attachments/989268300473192561/1114887381938618379/NickWillWright_apple_laptop_on_desk_in_office_with_glass_window_873d2eb3-b6be-4044-afcb-d945b3adf627.png', 'width': 1024}, vector=None, shard_key=None),\n",
       " ScoredPoint(id=1114887087066460210, version=5714, score=1.0000001, payload={'channel_id': '989268300473192561', 'content': '**apple laptop on desk in office with glass window and forest behind. Asian lady around 40 years old with her back to the camera looking at data analytics on the screen of the laptop. Photo realistic, ultra real. Summer day outside** - Image #4 <@713017210163036211>', 'height': 1024, 'id': '1114887086911258684', 'size': 1471350, 'split': 'train', 'timestamp': '2023-06-04T12:03:15.120000+00:00', 'url': 'https://cdn.discordapp.com/attachments/989268300473192561/1114887087066460210/NickWillWright_apple_laptop_on_desk_in_office_with_glass_window_44e62c08-1ce4-4e48-a2de-f50bff9b7e69.png', 'width': 1024}, vector=None, shard_key=None),\n",
       " ScoredPoint(id=1115672681489113148, version=5595, score=0.5777961, payload={'channel_id': '989268300473192561', 'content': '**Front shot of a MacBook Air on an office desk, office light, super realistic in the background of an urban public garden reflected from the office window, 5, 8K resolution composite photograph** - Image #4 <@1081210725411852350>', 'height': 1024, 'id': '1115672681094844537', 'size': 1358058, 'split': 'train', 'timestamp': '2023-06-06T16:04:55.369000+00:00', 'url': 'https://cdn.discordapp.com/attachments/989268300473192561/1115672681489113148/merav_Front_shot_of_a_MacBook_Air_on_an_office_desk_office_ligh_2e5b35ca-972e-41e8-b1ec-7b067e9cd58f.png', 'width': 1024}, vector=None, shard_key=None),\n",
       " ScoredPoint(id=1127102401468448798, version=3860, score=0.5727918, payload={'channel_id': '989268300473192561', 'content': '**working career woman, in a clean pretty office with , working on a laptop , woman is asian and pretty . girl is looking at her laptop, office has a great view of the city** - Image #1 <@1118556088485294171>', 'height': 1024, 'id': '1127102401715900457', 'size': 1368332, 'split': 'train', 'timestamp': '2023-07-08T05:02:33.119000+00:00', 'url': 'https://cdn.discordapp.com/attachments/989268300473192561/1127102401468448798/hirokacecilia_working_career_woman_in_a_clean_pretty_office_wit_557b28df-0e65-4420-b9ea-64eaa9c7b0e6.png', 'width': 1024}, vector=None, shard_key=None),\n",
       " ScoredPoint(id=1127101247216959579, version=3847, score=0.5727918, payload={'channel_id': '989268300473192561', 'content': '**working career woman, in a clean pretty office with , working on a laptop , woman is asian and pretty . girl is looking at her laptop, office has a great view of the city** - Image #3 <@1118556088485294171>', 'height': 1024, 'id': '1127101247502176297', 'size': 1222790, 'split': 'train', 'timestamp': '2023-07-08T04:57:57.933000+00:00', 'url': 'https://cdn.discordapp.com/attachments/989268300473192561/1127101247216959579/hirokacecilia_working_career_woman_in_a_clean_pretty_office_wit_96a81556-7fbe-471d-a2d9-c7abd4909497.png', 'width': 1024}, vector=None, shard_key=None),\n",
       " ScoredPoint(id=1108461288524365916, version=6718, score=0.5715728, payload={'channel_id': '989268300473192561', 'content': '**woman working at a rustic desk outdoors, back view, background is a summer lake, summertime, high details, realistic** - Image #3 <@965556536615243816>', 'height': 1024, 'id': '1108461288809566328', 'size': 1813967, 'split': 'train', 'timestamp': '2023-05-17T18:29:25.467000+00:00', 'url': 'https://cdn.discordapp.com/attachments/989268300473192561/1108461288524365916/AnaMaria_woman_working_at_a_rustic_desk_outdoors_back_view_back_264099af-e66a-4fc2-bf84-5613312f1d6e.png', 'width': 1024}, vector=None, shard_key=None),\n",
       " ScoredPoint(id=1110270792056447096, version=6380, score=0.5588807, payload={'channel_id': '989268300473192561', 'content': '**Business woman in business casual attire sitting at a glass office desk, in an office with large floor to ceiling windows, with a mountain landscape in the background, 8k resolution, photorealistic, 9:16** - Image #3 <@967855414505000981>', 'height': 1024, 'id': '1110270792387805204', 'size': 1307273, 'split': 'train', 'timestamp': '2023-05-22T18:19:44.739000+00:00', 'url': 'https://cdn.discordapp.com/attachments/989268300473192561/1110270792056447096/jmoore1125_Business_woman_in_business_casual_attire_sitting_at__6a516d6c-23fe-4412-ad1d-d8348622a611.png', 'width': 1024}, vector=None, shard_key=None),\n",
       " ScoredPoint(id=1108448335930589374, version=6735, score=0.5420216, payload={'channel_id': '989268300473192561', 'content': '**woman working at a rustic desk outdoors, back view, background is a winter forest, wintertime, high details, realistic** - Image #3 <@965556536615243816>', 'height': 1024, 'id': '1108448335930609727', 'size': 1452586, 'split': 'train', 'timestamp': '2023-05-17T17:37:57.260000+00:00', 'url': 'https://cdn.discordapp.com/attachments/989268300473192561/1108448335930589374/AnaMaria_woman_working_at_a_rustic_desk_outdoors_back_view_back_d2a00243-d32c-4064-bf0a-7aa6b070a1de.png', 'width': 1024}, vector=None, shard_key=None),\n",
       " ScoredPoint(id=1108448324769550378, version=6736, score=0.5420216, payload={'channel_id': '989268300473192561', 'content': '**woman working at a rustic desk outdoors, back view, background is a winter forest, wintertime, high details, realistic** - Image #4 <@965556536615243816>', 'height': 1024, 'id': '1108448325088333845', 'size': 1774155, 'split': 'train', 'timestamp': '2023-05-17T17:37:54.675000+00:00', 'url': 'https://cdn.discordapp.com/attachments/989268300473192561/1108448324769550378/AnaMaria_woman_working_at_a_rustic_desk_outdoors_back_view_back_bbc32340-686d-4713-91f5-2d13d31caff2.png', 'width': 1024}, vector=None, shard_key=None),\n",
       " ScoredPoint(id=1108451233305481328, version=6698, score=0.5420216, payload={'channel_id': '989268300473192561', 'content': '**woman working at a rustic desk outdoors, back view, background is a winter forest, wintertime, high details, realistic** - Image #2 <@965556536615243816>', 'height': 1024, 'id': '1108451233578094654', 'size': 1666165, 'split': 'train', 'timestamp': '2023-05-17T17:49:28.113000+00:00', 'url': 'https://cdn.discordapp.com/attachments/989268300473192561/1108451233305481328/AnaMaria_woman_working_at_a_rustic_desk_outdoors_back_view_back_c7b5d5b4-9209-4de0-ab26-9644f2f9c879.png', 'width': 1024}, vector=None, shard_key=None)]"
      ]
     },
     "execution_count": 27,
     "metadata": {},
     "output_type": "execute_result"
    }
   ],
   "source": [
    "client.search(collection_name=COLLECTION_NAME, query_vector=(\"prompt\", query_vector))"
   ]
  },
  {
   "cell_type": "code",
   "execution_count": 5,
   "id": "0dbabbab-032c-4783-9d16-ff4549a94dae",
   "metadata": {},
   "outputs": [],
   "source": [
    "discover_queries = [\n",
    "    models.DiscoverRequest(\n",
    "        target = 1128286804957745162,\n",
    "        context=[\n",
    "            models.ContextExamplePair(\n",
    "                positive=1115438021920178297,\n",
    "                negative=1115669471156244562,\n",
    "            ),\n",
    "            models.ContextExamplePair(\n",
    "                positive=1115542324940902440,\n",
    "                negative=1115603557098463262,\n",
    "            )\n",
    "        ],\n",
    "        using = \"prompt\",\n",
    "        with_payload = True,\n",
    "        with_vector = True,\n",
    "        limit=10,\n",
    "    ),\n",
    "]"
   ]
  },
  {
   "cell_type": "code",
   "execution_count": 6,
   "id": "a4d24643-2365-4be2-86cb-7425a8e879b9",
   "metadata": {},
   "outputs": [
    {
     "data": {
      "text/plain": [
       "[DiscoverRequest(shard_key=None, target=1128286804957745162, context=[ContextExamplePair(positive=1115438021920178297, negative=1115669471156244562), ContextExamplePair(positive=1115542324940902440, negative=1115603557098463262)], filter=None, params=None, limit=10, offset=None, with_payload=True, with_vector=True, using='prompt', lookup_from=None)]"
      ]
     },
     "execution_count": 6,
     "metadata": {},
     "output_type": "execute_result"
    }
   ],
   "source": [
    "discover_queries"
   ]
  },
  {
   "cell_type": "code",
   "execution_count": 8,
   "id": "f913ada4-90e7-40f3-aa2d-148f5d913fae",
   "metadata": {},
   "outputs": [],
   "source": [
    "clipvector = client.discover_batch(collection_name='midjourney-CLIP-ViT-H-14-laion2B-s32B-b79K', requests=discover_queries)\n",
    "query_vector = clipvector[0][0].vector['prompt']"
   ]
  },
  {
   "cell_type": "code",
   "execution_count": 37,
   "id": "a628afbc-9784-4a61-a46d-db3680b38d05",
   "metadata": {},
   "outputs": [],
   "source": [
    "# clipvector[0][0].vector['image']"
   ]
  },
  {
   "cell_type": "code",
   "execution_count": 36,
   "id": "3323ed13-1dcb-4f44-bcec-3c5523e66847",
   "metadata": {},
   "outputs": [
    {
     "data": {
      "text/plain": [
       "[[ScoredPoint(id=1108740571658453024, version=6658, score=0.38312382, payload=None, vector=None, shard_key=None),\n",
       "  ScoredPoint(id=1131774944833978480, version=3013, score=0.36947462, payload=None, vector=None, shard_key=None),\n",
       "  ScoredPoint(id=1131792157682958356, version=3012, score=0.36947462, payload=None, vector=None, shard_key=None)]]"
      ]
     },
     "execution_count": 36,
     "metadata": {},
     "output_type": "execute_result"
    }
   ],
   "source": [
    "filter = models.Filter(\n",
    "    must=[\n",
    "        models.FieldCondition(\n",
    "            key=\"content\",\n",
    "            match=models.MatchText(\n",
    "                text=\"beach\",\n",
    "            ),\n",
    "        )\n",
    "    ]\n",
    ")\n",
    "named_vector = models.NamedVector(name='prompt', vector=query_vector)\n",
    "search_queries = [\n",
    "    models.SearchRequest(vector=named_vector, filter=filter, limit=3),\n",
    "]\n",
    "client.search_batch(collection_name='midjourney-CLIP-ViT-H-14-laion2B-s32B-b79K', requests=search_queries)"
   ]
  }
 ],
 "metadata": {
  "kernelspec": {
   "display_name": "Python 3 (ipykernel)",
   "language": "python",
   "name": "python3"
  },
  "language_info": {
   "codemirror_mode": {
    "name": "ipython",
    "version": 3
   },
   "file_extension": ".py",
   "mimetype": "text/x-python",
   "name": "python",
   "nbconvert_exporter": "python",
   "pygments_lexer": "ipython3",
   "version": "3.9.17"
  }
 },
 "nbformat": 4,
 "nbformat_minor": 5
}

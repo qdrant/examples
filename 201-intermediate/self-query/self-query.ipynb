{
 "cells": [
  {
   "cell_type": "code",
   "execution_count": 1,
   "id": "c9fa40b4-27fe-4681-82aa-cf632dc7c1ee",
   "metadata": {
    "editable": true,
    "slideshow": {
     "slide_type": ""
    },
    "tags": []
   },
   "outputs": [],
   "source": [
    "import os\n",
    "import warnings\n",
    "import pandas as pd\n",
    "from qdrant_client import models, QdrantClient\n",
    "from sentence_transformers import SentenceTransformer\n",
    "from dotenv import load_dotenv\n",
    "\n",
    "warnings.filterwarnings(\"ignore\")\n",
    "encoder = SentenceTransformer(\"all-MiniLM-L6-v2\")\n",
    "load_dotenv()\n",
    "\n",
    "client = QdrantClient(os.getenv(\"QDRANT_HOST\"), api_key=os.getenv(\"QDRANT_API_KEY\"))"
   ]
  },
  {
   "cell_type": "markdown",
   "id": "c59b0e45-0b8b-43b2-a72b-444cdede1ea2",
   "metadata": {},
   "source": [
    "# Loading and cleaning data\n",
    "This [dataset](https://www.kaggle.com/datasets/zynicide/wine-reviews) contains approximately 130k reviews from the Wine Enthusiast\n",
    "\n",
    "Once cleaned we will have around 120k."
   ]
  },
  {
   "cell_type": "code",
   "execution_count": 2,
   "id": "5aba0c46-7c83-4556-8f4b-956196a36097",
   "metadata": {},
   "outputs": [],
   "source": [
    "df = pd.read_csv(\"winemag-data-130k-v2.csv\")"
   ]
  },
  {
   "cell_type": "code",
   "execution_count": 3,
   "id": "990fdfe3-8e15-4a39-900e-64b9560815e9",
   "metadata": {},
   "outputs": [],
   "source": [
    "wines = df.copy()\n",
    "wines = wines.drop(\n",
    "    [\n",
    "        \"Unnamed: 0\",\n",
    "        \"designation\",\n",
    "        \"province\",\n",
    "        \"region_1\",\n",
    "        \"region_2\",\n",
    "        \"taster_name\",\n",
    "        \"taster_twitter_handle\",\n",
    "        \"winery\",\n",
    "    ],\n",
    "    axis=1,\n",
    ")\n",
    "wines = wines.dropna(subset=[\"country\", \"price\", \"variety\"])"
   ]
  },
  {
   "cell_type": "code",
   "execution_count": 4,
   "id": "c08e860e-ebbf-4380-9dad-37cac03e13ed",
   "metadata": {},
   "outputs": [
    {
     "data": {
      "text/html": [
       "<div>\n",
       "<style scoped>\n",
       "    .dataframe tbody tr th:only-of-type {\n",
       "        vertical-align: middle;\n",
       "    }\n",
       "\n",
       "    .dataframe tbody tr th {\n",
       "        vertical-align: top;\n",
       "    }\n",
       "\n",
       "    .dataframe thead th {\n",
       "        text-align: right;\n",
       "    }\n",
       "</style>\n",
       "<table border=\"1\" class=\"dataframe\">\n",
       "  <thead>\n",
       "    <tr style=\"text-align: right;\">\n",
       "      <th></th>\n",
       "      <th>country</th>\n",
       "      <th>description</th>\n",
       "      <th>points</th>\n",
       "      <th>price</th>\n",
       "      <th>title</th>\n",
       "      <th>variety</th>\n",
       "    </tr>\n",
       "  </thead>\n",
       "  <tbody>\n",
       "    <tr>\n",
       "      <th>1</th>\n",
       "      <td>Portugal</td>\n",
       "      <td>This is ripe and fruity, a wine that is smooth...</td>\n",
       "      <td>87</td>\n",
       "      <td>15.0</td>\n",
       "      <td>Quinta dos Avidagos 2011 Avidagos Red (Douro)</td>\n",
       "      <td>Portuguese Red</td>\n",
       "    </tr>\n",
       "    <tr>\n",
       "      <th>2</th>\n",
       "      <td>US</td>\n",
       "      <td>Tart and snappy, the flavors of lime flesh and...</td>\n",
       "      <td>87</td>\n",
       "      <td>14.0</td>\n",
       "      <td>Rainstorm 2013 Pinot Gris (Willamette Valley)</td>\n",
       "      <td>Pinot Gris</td>\n",
       "    </tr>\n",
       "    <tr>\n",
       "      <th>3</th>\n",
       "      <td>US</td>\n",
       "      <td>Pineapple rind, lemon pith and orange blossom ...</td>\n",
       "      <td>87</td>\n",
       "      <td>13.0</td>\n",
       "      <td>St. Julian 2013 Reserve Late Harvest Riesling ...</td>\n",
       "      <td>Riesling</td>\n",
       "    </tr>\n",
       "    <tr>\n",
       "      <th>4</th>\n",
       "      <td>US</td>\n",
       "      <td>Much like the regular bottling from 2012, this...</td>\n",
       "      <td>87</td>\n",
       "      <td>65.0</td>\n",
       "      <td>Sweet Cheeks 2012 Vintner's Reserve Wild Child...</td>\n",
       "      <td>Pinot Noir</td>\n",
       "    </tr>\n",
       "    <tr>\n",
       "      <th>5</th>\n",
       "      <td>Spain</td>\n",
       "      <td>Blackberry and raspberry aromas show a typical...</td>\n",
       "      <td>87</td>\n",
       "      <td>15.0</td>\n",
       "      <td>Tandem 2011 Ars In Vitro Tempranillo-Merlot (N...</td>\n",
       "      <td>Tempranillo-Merlot</td>\n",
       "    </tr>\n",
       "  </tbody>\n",
       "</table>\n",
       "</div>"
      ],
      "text/plain": [
       "    country                                        description  points  price  \\\n",
       "1  Portugal  This is ripe and fruity, a wine that is smooth...      87   15.0   \n",
       "2        US  Tart and snappy, the flavors of lime flesh and...      87   14.0   \n",
       "3        US  Pineapple rind, lemon pith and orange blossom ...      87   13.0   \n",
       "4        US  Much like the regular bottling from 2012, this...      87   65.0   \n",
       "5     Spain  Blackberry and raspberry aromas show a typical...      87   15.0   \n",
       "\n",
       "                                               title             variety  \n",
       "1      Quinta dos Avidagos 2011 Avidagos Red (Douro)      Portuguese Red  \n",
       "2      Rainstorm 2013 Pinot Gris (Willamette Valley)          Pinot Gris  \n",
       "3  St. Julian 2013 Reserve Late Harvest Riesling ...            Riesling  \n",
       "4  Sweet Cheeks 2012 Vintner's Reserve Wild Child...          Pinot Noir  \n",
       "5  Tandem 2011 Ars In Vitro Tempranillo-Merlot (N...  Tempranillo-Merlot  "
      ]
     },
     "execution_count": 4,
     "metadata": {},
     "output_type": "execute_result"
    }
   ],
   "source": [
    "wines.head()"
   ]
  },
  {
   "cell_type": "code",
   "execution_count": 5,
   "id": "99712357-338f-4075-ae87-240fa58cb7d1",
   "metadata": {},
   "outputs": [
    {
     "name": "stdout",
     "output_type": "stream",
     "text": [
      "<class 'pandas.core.frame.DataFrame'>\n",
      "Index: 120915 entries, 1 to 129970\n",
      "Data columns (total 6 columns):\n",
      " #   Column       Non-Null Count   Dtype  \n",
      "---  ------       --------------   -----  \n",
      " 0   country      120915 non-null  object \n",
      " 1   description  120915 non-null  object \n",
      " 2   points       120915 non-null  int64  \n",
      " 3   price        120915 non-null  float64\n",
      " 4   title        120915 non-null  object \n",
      " 5   variety      120915 non-null  object \n",
      "dtypes: float64(1), int64(1), object(4)\n",
      "memory usage: 6.5+ MB\n"
     ]
    }
   ],
   "source": [
    "wines.info()"
   ]
  },
  {
   "cell_type": "markdown",
   "id": "fbcd68f6-464d-43ae-a7c3-54a187c84890",
   "metadata": {},
   "source": [
    "# Create a collection"
   ]
  },
  {
   "cell_type": "code",
   "execution_count": null,
   "id": "b163e6ec-d674-45ca-b8b0-68bdac028f07",
   "metadata": {},
   "outputs": [],
   "source": [
    "client.create_collection(\n",
    "    collection_name=\"wine_reviews\",\n",
    "    vectors_config=models.VectorParams(\n",
    "        size=encoder.get_sentence_embedding_dimension(),\n",
    "        distance=models.Distance.COSINE,\n",
    "    ),\n",
    ")"
   ]
  },
  {
   "cell_type": "code",
   "execution_count": null,
   "id": "a1b570de-a4ee-472f-91ba-f1b79fc681a3",
   "metadata": {},
   "outputs": [],
   "source": [
    "# Document class to structure data\n",
    "class Document:\n",
    "    def __init__(self, page_content, metadata):\n",
    "        self.page_content = page_content\n",
    "        self.metadata = metadata\n",
    "\n",
    "\n",
    "# Convert DataFrame rows into Document objects\n",
    "def df_to_documents(df):\n",
    "    documents = []\n",
    "    for _, row in df.iterrows():\n",
    "        metadata = {\n",
    "            \"country\": row[\"country\"],\n",
    "            \"points\": row[\"points\"],\n",
    "            \"price\": row[\"price\"],\n",
    "            \"title\": row[\"title\"],\n",
    "            \"variety\": row[\"variety\"],\n",
    "        }\n",
    "        document = Document(page_content=row[\"description\"], metadata=metadata)\n",
    "        documents.append(document)\n",
    "    return documents\n",
    "\n",
    "\n",
    "docs = df_to_documents(wines)"
   ]
  },
  {
   "cell_type": "code",
   "execution_count": null,
   "id": "ddcdf0d5-e0fc-4f57-a279-e31eed228456",
   "metadata": {},
   "outputs": [],
   "source": [
    "points = [\n",
    "    models.PointStruct(\n",
    "        id=idx,\n",
    "        vector=encoder.encode(doc.page_content).tolist(),\n",
    "        payload={\"metadata\": doc.metadata, \"page_content\": doc.page_content},\n",
    "    )\n",
    "    for idx, doc in enumerate(docs)\n",
    "]"
   ]
  },
  {
   "cell_type": "code",
   "execution_count": null,
   "id": "63c9ae7c-5c81-484f-9e9d-170bbb999815",
   "metadata": {
    "editable": true,
    "slideshow": {
     "slide_type": ""
    },
    "tags": []
   },
   "outputs": [],
   "source": [
    "client.upload_points(\n",
    "    collection_name=\"wine_reviews\",\n",
    "    points=points,\n",
    ")"
   ]
  },
  {
   "cell_type": "markdown",
   "id": "d8d3c724-f609-4ff5-8474-aed37c581a3d",
   "metadata": {},
   "source": [
    "# Test search"
   ]
  },
  {
   "cell_type": "code",
   "execution_count": 6,
   "id": "2c5d4f98-b7f5-418a-8030-0a298c6bf627",
   "metadata": {},
   "outputs": [
    {
     "name": "stdout",
     "output_type": "stream",
     "text": [
      "Aveleda 2010 Follies Quinta da Agueira Touriga Nacional (Beiras) score: 0.46982175\n",
      "Quinta da Romaneira 2013 Sino da Romaneira Red (Douro) score: 0.43031913\n",
      "Quinta da Romaneira 2013 Sino da Romaneira Red (Douro) score: 0.43031913\n"
     ]
    }
   ],
   "source": [
    "hits = client.search(\n",
    "    collection_name=\"wine_reviews\",\n",
    "    query_vector=encoder.encode(\"Quinta dos Avidagos 2011\").tolist(),\n",
    "    limit=3,\n",
    ")\n",
    "\n",
    "for hit in hits:\n",
    "    print(hit.payload[\"metadata\"][\"title\"], \"score:\", hit.score)"
   ]
  },
  {
   "cell_type": "markdown",
   "id": "d8b0b90a-e64a-4009-bc44-1cdcb835b805",
   "metadata": {},
   "source": [
    "# Test filtering"
   ]
  },
  {
   "cell_type": "code",
   "execution_count": 7,
   "id": "7cb0de60-a6b9-4d1b-9bee-e3407a1e910c",
   "metadata": {},
   "outputs": [
    {
     "name": "stdout",
     "output_type": "stream",
     "text": [
      "Ballentine 2010 Fig Tree Vineyard Petite Sirah (St. Helena) \n",
      "price: 28.0 \n",
      "points: 91 \n",
      "\n",
      "\n",
      "Seven Angels 2012 St. Peter of Alcantara Vineyard Zinfandel (Paso Robles) \n",
      "price: 29.0 \n",
      "points: 92 \n",
      "\n",
      "\n",
      "Jamieson Canyon 1999 Cabernet Sauvignon (Napa Valley) \n",
      "price: 20.0 \n",
      "points: 91 \n",
      "\n",
      "\n"
     ]
    }
   ],
   "source": [
    "# query filter\n",
    "hits = client.search(\n",
    "    collection_name=\"wine_reviews\",\n",
    "    query_vector=encoder.encode(\"Night Sky\").tolist(),\n",
    "    query_filter=models.Filter(\n",
    "        must=[\n",
    "            models.FieldCondition(\n",
    "                key=\"metadata.country\", match=models.MatchValue(value=\"US\")\n",
    "            ),\n",
    "            models.FieldCondition(\n",
    "                key=\"metadata.price\", range=models.Range(gte=15.0, lte=30.0)\n",
    "            ),\n",
    "            models.FieldCondition(\n",
    "                key=\"metadata.points\", range=models.Range(gte=90, lte=100)\n",
    "            ),\n",
    "        ]\n",
    "    ),\n",
    "    limit=3,\n",
    ")\n",
    "\n",
    "for hit in hits:\n",
    "    print(\n",
    "        hit.payload[\"metadata\"][\"title\"],\n",
    "        \"\\nprice:\",\n",
    "        hit.payload[\"metadata\"][\"price\"],\n",
    "        \"\\npoints:\",\n",
    "        hit.payload[\"metadata\"][\"points\"],\n",
    "        \"\\n\\n\",\n",
    "    )"
   ]
  },
  {
   "cell_type": "markdown",
   "id": "b59b399a-351e-428f-b812-1bd8bd563b25",
   "metadata": {},
   "source": [
    "# Self-querying with LangChain"
   ]
  },
  {
   "cell_type": "code",
   "execution_count": 8,
   "id": "9de4ae95-392c-4562-ba89-df1902311af5",
   "metadata": {},
   "outputs": [],
   "source": [
    "from langchain.chains.query_constructor.base import AttributeInfo\n",
    "from langchain.retrievers.self_query.base import SelfQueryRetriever\n",
    "from langchain_community.embeddings import HuggingFaceEmbeddings\n",
    "from langchain.callbacks.tracers import ConsoleCallbackHandler\n",
    "from langchain_openai import ChatOpenAI\n",
    "from langchain_qdrant import Qdrant\n",
    "\n",
    "handler = ConsoleCallbackHandler()\n",
    "llm = ChatOpenAI(temperature=0, model=\"gpt-4o\")\n",
    "# llm = OpenAI(temperature=0)\n",
    "\n",
    "embeddings = HuggingFaceEmbeddings(model_name=\"all-MiniLM-L6-v2\")\n",
    "vectorstore = Qdrant(client, collection_name=\"wine_reviews\", embeddings=embeddings)"
   ]
  },
  {
   "cell_type": "code",
   "execution_count": 9,
   "id": "8a1775a2-9f38-4945-87cb-40f0c05012ae",
   "metadata": {},
   "outputs": [],
   "source": [
    "metadata_field_info = [\n",
    "    AttributeInfo(\n",
    "        name=\"country\",\n",
    "        description=\"The country that the wine is from\",\n",
    "        type=\"string\",\n",
    "    ),\n",
    "    AttributeInfo(\n",
    "        name=\"points\",\n",
    "        description=\"The number of points WineEnthusiast rated the wine on a scale of 1-100\",\n",
    "        type=\"integer\",\n",
    "    ),\n",
    "    AttributeInfo(\n",
    "        name=\"price\",\n",
    "        description=\"The cost for a bottle of the wine\",\n",
    "        type=\"float\",\n",
    "    ),\n",
    "    AttributeInfo(\n",
    "        name=\"variety\",\n",
    "        description=\"The grapes used to make the wine\",\n",
    "        type=\"string\",\n",
    "    ),\n",
    "]\n",
    "\n",
    "document_content_description = \"Brief description of the wine\"\n",
    "\n",
    "retriever = SelfQueryRetriever.from_llm(\n",
    "    llm, vectorstore, document_content_description, metadata_field_info\n",
    ")"
   ]
  },
  {
   "cell_type": "code",
   "execution_count": 11,
   "id": "b9cc595d-c5e6-4ada-bb88-28f843bb8c75",
   "metadata": {},
   "outputs": [
    {
     "data": {
      "text/plain": [
       "[Document(page_content='An outstanding value, the latest release of this wine dazzles with bold, black cherry and chocolate mocha flavors. The focus and definition throughout are exceptional also. This is a gem at a more than fair tariff.', metadata={'country': 'US', 'points': 91, 'price': 28.0, 'title': 'Dobbes Family Estate 2014 Grand Assemblage Pinot Noir (Willamette Valley)', 'variety': 'Pinot Noir', '_id': 10604, '_collection_name': 'wine_reviews'}),\n",
       " Document(page_content='This is an amazingly fresh and fruity tank-fermented wine, imparting a subtle hint of grass before unleashing sublime layers of melon and apricot alongside measured, zesty acidity. New winemaker Chris Kajani is taking things in a refreshing, aim-for-the-top direction with this bottling.', metadata={'country': 'US', 'points': 92, 'price': 30.0, 'title': \"Bouchaine 2013 Chêne d'Argent Estate Vineyard Chardonnay (Carneros)\", 'variety': 'Chardonnay', '_id': 102251, '_collection_name': 'wine_reviews'}),\n",
       " Document(page_content=\"A streak of confectionary nougat and lemony acidity combine for a smooth, well-integrated wine, full bodied in style, that's lip-smacking in apple-cider juiciness on the finish.\", metadata={'country': 'US', 'points': 92, 'price': 25.0, 'title': 'Conn Creek 2014 Chardonnay (Carneros)', 'variety': 'Chardonnay', '_id': 100685, '_collection_name': 'wine_reviews'}),\n",
       " Document(page_content='Rick Longoria shows increasing mastery over this popular variety, lifting it into true complexity. After an outstanding 2010 vintage, his 2011 is even better, showing the same crisp acidity and savory orange, apricot and honey flavors, but with even greater elegance.', metadata={'country': 'US', 'points': 91, 'price': 19.0, 'title': 'Longoria 2011 Pinot Grigio (Santa Barbara County)', 'variety': 'Pinot Grigio', '_id': 105297, '_collection_name': 'wine_reviews'})]"
      ]
     },
     "execution_count": 11,
     "metadata": {},
     "output_type": "execute_result"
    }
   ],
   "source": [
    "response = retriever.invoke(\n",
    "    \"Which US wines are priced between 15 and 30 and have points above 90?\"\n",
    ")\n",
    "response"
   ]
  },
  {
   "cell_type": "code",
   "execution_count": 12,
   "id": "88457dde-6b00-4cff-b54d-d2b3213bbd15",
   "metadata": {},
   "outputs": [
    {
     "name": "stdout",
     "output_type": "stream",
     "text": [
      "Dobbes Family Estate 2014 Grand Assemblage Pinot Noir (Willamette Valley) \n",
      " price: 28.0 points: 91 \n",
      "\n",
      "\n",
      "Bouchaine 2013 Chêne d'Argent Estate Vineyard Chardonnay (Carneros) \n",
      " price: 30.0 points: 92 \n",
      "\n",
      "\n",
      "Conn Creek 2014 Chardonnay (Carneros) \n",
      " price: 25.0 points: 92 \n",
      "\n",
      "\n",
      "Longoria 2011 Pinot Grigio (Santa Barbara County) \n",
      " price: 19.0 points: 91 \n",
      "\n",
      "\n"
     ]
    }
   ],
   "source": [
    "for resp in response:\n",
    "    print(\n",
    "        resp.metadata[\"title\"],\n",
    "        \"\\n price:\",\n",
    "        resp.metadata[\"price\"],\n",
    "        \"points:\",\n",
    "        resp.metadata[\"points\"],\n",
    "        \"\\n\\n\",\n",
    "    )"
   ]
  },
  {
   "cell_type": "markdown",
   "id": "032a9804-6005-4177-93f1-c18ed7c232a7",
   "metadata": {},
   "source": [
    "# Tracing to see filters in action"
   ]
  },
  {
   "cell_type": "code",
   "execution_count": 13,
   "id": "983bb612-7dd5-4453-9522-f23bc6fb756e",
   "metadata": {},
   "outputs": [
    {
     "name": "stdout",
     "output_type": "stream",
     "text": [
      "\u001B[32;1m\u001B[1;3m[chain/start]\u001B[0m \u001B[1m[retriever:Retriever > chain:query_constructor] Entering Chain run with input:\n",
      "\u001B[0m{\n",
      "  \"query\": \"Which US wines are priced between 15 and 30 and have points above 90?\"\n",
      "}\n",
      "\u001B[32;1m\u001B[1;3m[chain/start]\u001B[0m \u001B[1m[retriever:Retriever > chain:query_constructor > prompt:FewShotPromptTemplate] Entering Prompt run with input:\n",
      "\u001B[0m{\n",
      "  \"query\": \"Which US wines are priced between 15 and 30 and have points above 90?\"\n",
      "}\n",
      "\u001B[36;1m\u001B[1;3m[chain/end]\u001B[0m \u001B[1m[retriever:Retriever > chain:query_constructor > prompt:FewShotPromptTemplate] [1ms] Exiting Prompt run with output:\n",
      "\u001B[0m[outputs]\n",
      "\u001B[32;1m\u001B[1;3m[llm/start]\u001B[0m \u001B[1m[retriever:Retriever > chain:query_constructor > llm:ChatOpenAI] Entering LLM run with input:\n",
      "\u001B[0m{\n",
      "  \"prompts\": [\n",
      "    \"Human: Your goal is to structure the user's query to match the request schema provided below.\\n\\n<< Structured Request Schema >>\\nWhen responding use a markdown code snippet with a JSON object formatted in the following schema:\\n\\n```json\\n{\\n    \\\"query\\\": string \\\\ text string to compare to document contents\\n    \\\"filter\\\": string \\\\ logical condition statement for filtering documents\\n}\\n```\\n\\nThe query string should contain only text that is expected to match the contents of documents. Any conditions in the filter should not be mentioned in the query as well.\\n\\nA logical condition statement is composed of one or more comparison and logical operation statements.\\n\\nA comparison statement takes the form: `comp(attr, val)`:\\n- `comp` (eq | lt | lte | gt | gte | like): comparator\\n- `attr` (string):  name of attribute to apply the comparison to\\n- `val` (string): is the comparison value\\n\\nA logical operation statement takes the form `op(statement1, statement2, ...)`:\\n- `op` (and | or | not): logical operator\\n- `statement1`, `statement2`, ... (comparison statements or logical operation statements): one or more statements to apply the operation to\\n\\nMake sure that you only use the comparators and logical operators listed above and no others.\\nMake sure that filters only refer to attributes that exist in the data source.\\nMake sure that filters only use the attributed names with its function names if there are functions applied on them.\\nMake sure that filters only use format `YYYY-MM-DD` when handling date data typed values.\\nMake sure that filters take into account the descriptions of attributes and only make comparisons that are feasible given the type of data being stored.\\nMake sure that filters are only used as needed. If there are no filters that should be applied return \\\"NO_FILTER\\\" for the filter value.\\n\\n<< Example 1. >>\\nData Source:\\n```json\\n{\\n    \\\"content\\\": \\\"Lyrics of a song\\\",\\n    \\\"attributes\\\": {\\n        \\\"artist\\\": {\\n            \\\"type\\\": \\\"string\\\",\\n            \\\"description\\\": \\\"Name of the song artist\\\"\\n        },\\n        \\\"length\\\": {\\n            \\\"type\\\": \\\"integer\\\",\\n            \\\"description\\\": \\\"Length of the song in seconds\\\"\\n        },\\n        \\\"genre\\\": {\\n            \\\"type\\\": \\\"string\\\",\\n            \\\"description\\\": \\\"The song genre, one of \\\"pop\\\", \\\"rock\\\" or \\\"rap\\\"\\\"\\n        }\\n    }\\n}\\n```\\n\\nUser Query:\\nWhat are songs by Taylor Swift or Katy Perry about teenage romance under 3 minutes long in the dance pop genre\\n\\nStructured Request:\\n```json\\n{\\n    \\\"query\\\": \\\"teenager love\\\",\\n    \\\"filter\\\": \\\"and(or(eq(\\\\\\\"artist\\\\\\\", \\\\\\\"Taylor Swift\\\\\\\"), eq(\\\\\\\"artist\\\\\\\", \\\\\\\"Katy Perry\\\\\\\")), lt(\\\\\\\"length\\\\\\\", 180), eq(\\\\\\\"genre\\\\\\\", \\\\\\\"pop\\\\\\\"))\\\"\\n}\\n```\\n\\n\\n<< Example 2. >>\\nData Source:\\n```json\\n{\\n    \\\"content\\\": \\\"Lyrics of a song\\\",\\n    \\\"attributes\\\": {\\n        \\\"artist\\\": {\\n            \\\"type\\\": \\\"string\\\",\\n            \\\"description\\\": \\\"Name of the song artist\\\"\\n        },\\n        \\\"length\\\": {\\n            \\\"type\\\": \\\"integer\\\",\\n            \\\"description\\\": \\\"Length of the song in seconds\\\"\\n        },\\n        \\\"genre\\\": {\\n            \\\"type\\\": \\\"string\\\",\\n            \\\"description\\\": \\\"The song genre, one of \\\"pop\\\", \\\"rock\\\" or \\\"rap\\\"\\\"\\n        }\\n    }\\n}\\n```\\n\\nUser Query:\\nWhat are songs that were not published on Spotify\\n\\nStructured Request:\\n```json\\n{\\n    \\\"query\\\": \\\"\\\",\\n    \\\"filter\\\": \\\"NO_FILTER\\\"\\n}\\n```\\n\\n\\n<< Example 3. >>\\nData Source:\\n```json\\n{\\n    \\\"content\\\": \\\"Brief description of the wine\\\",\\n    \\\"attributes\\\": {\\n    \\\"country\\\": {\\n        \\\"description\\\": \\\"The country that the wine is from\\\",\\n        \\\"type\\\": \\\"string\\\"\\n    },\\n    \\\"points\\\": {\\n        \\\"description\\\": \\\"The number of points WineEnthusiast rated the wine on a scale of 1-100\\\",\\n        \\\"type\\\": \\\"integer\\\"\\n    },\\n    \\\"price\\\": {\\n        \\\"description\\\": \\\"The cost for a bottle of the wine\\\",\\n        \\\"type\\\": \\\"float\\\"\\n    },\\n    \\\"variety\\\": {\\n        \\\"description\\\": \\\"The grapes used to make the wine\\\",\\n        \\\"type\\\": \\\"string\\\"\\n    }\\n}\\n}\\n```\\n\\nUser Query:\\nWhich US wines are priced between 15 and 30 and have points above 90?\\n\\nStructured Request:\"\n",
      "  ]\n",
      "}\n",
      "\u001B[36;1m\u001B[1;3m[llm/end]\u001B[0m \u001B[1m[retriever:Retriever > chain:query_constructor > llm:ChatOpenAI] [3.00s] Exiting LLM run with output:\n",
      "\u001B[0m{\n",
      "  \"generations\": [\n",
      "    [\n",
      "      {\n",
      "        \"text\": \"```json\\n{\\n    \\\"query\\\": \\\"\\\",\\n    \\\"filter\\\": \\\"and(eq(\\\\\\\"country\\\\\\\", \\\\\\\"US\\\\\\\"), gte(\\\\\\\"price\\\\\\\", 15), lte(\\\\\\\"price\\\\\\\", 30), gt(\\\\\\\"points\\\\\\\", 90))\\\"\\n}\\n```\",\n",
      "        \"generation_info\": {\n",
      "          \"finish_reason\": \"stop\",\n",
      "          \"logprobs\": null\n",
      "        },\n",
      "        \"type\": \"ChatGeneration\",\n",
      "        \"message\": {\n",
      "          \"lc\": 1,\n",
      "          \"type\": \"constructor\",\n",
      "          \"id\": [\n",
      "            \"langchain\",\n",
      "            \"schema\",\n",
      "            \"messages\",\n",
      "            \"AIMessage\"\n",
      "          ],\n",
      "          \"kwargs\": {\n",
      "            \"content\": \"```json\\n{\\n    \\\"query\\\": \\\"\\\",\\n    \\\"filter\\\": \\\"and(eq(\\\\\\\"country\\\\\\\", \\\\\\\"US\\\\\\\"), gte(\\\\\\\"price\\\\\\\", 15), lte(\\\\\\\"price\\\\\\\", 30), gt(\\\\\\\"points\\\\\\\", 90))\\\"\\n}\\n```\",\n",
      "            \"response_metadata\": {\n",
      "              \"token_usage\": {\n",
      "                \"completion_tokens\": 49,\n",
      "                \"prompt_tokens\": 922,\n",
      "                \"total_tokens\": 971\n",
      "              },\n",
      "              \"model_name\": \"gpt-4o\",\n",
      "              \"system_fingerprint\": \"fp_729ea513f7\",\n",
      "              \"finish_reason\": \"stop\",\n",
      "              \"logprobs\": null\n",
      "            },\n",
      "            \"type\": \"ai\",\n",
      "            \"id\": \"run-804927ef-53b2-4236-9c22-15e4913667f5-0\",\n",
      "            \"tool_calls\": [],\n",
      "            \"invalid_tool_calls\": []\n",
      "          }\n",
      "        }\n",
      "      }\n",
      "    ]\n",
      "  ],\n",
      "  \"llm_output\": {\n",
      "    \"token_usage\": {\n",
      "      \"completion_tokens\": 49,\n",
      "      \"prompt_tokens\": 922,\n",
      "      \"total_tokens\": 971\n",
      "    },\n",
      "    \"model_name\": \"gpt-4o\",\n",
      "    \"system_fingerprint\": \"fp_729ea513f7\"\n",
      "  },\n",
      "  \"run\": null\n",
      "}\n",
      "\u001B[32;1m\u001B[1;3m[chain/start]\u001B[0m \u001B[1m[retriever:Retriever > chain:query_constructor > parser:StructuredQueryOutputParser] Entering Parser run with input:\n",
      "\u001B[0m[inputs]\n",
      "\u001B[36;1m\u001B[1;3m[chain/end]\u001B[0m \u001B[1m[retriever:Retriever > chain:query_constructor > parser:StructuredQueryOutputParser] [4ms] Exiting Parser run with output:\n",
      "\u001B[0m[outputs]\n",
      "\u001B[36;1m\u001B[1;3m[chain/end]\u001B[0m \u001B[1m[retriever:Retriever > chain:query_constructor] [3.01s] Exiting Chain run with output:\n",
      "\u001B[0m[outputs]\n"
     ]
    },
    {
     "data": {
      "text/plain": [
       "[Document(page_content='An outstanding value, the latest release of this wine dazzles with bold, black cherry and chocolate mocha flavors. The focus and definition throughout are exceptional also. This is a gem at a more than fair tariff.', metadata={'country': 'US', 'points': 91, 'price': 28.0, 'title': 'Dobbes Family Estate 2014 Grand Assemblage Pinot Noir (Willamette Valley)', 'variety': 'Pinot Noir', '_id': 10604, '_collection_name': 'wine_reviews'}),\n",
       " Document(page_content='This is an amazingly fresh and fruity tank-fermented wine, imparting a subtle hint of grass before unleashing sublime layers of melon and apricot alongside measured, zesty acidity. New winemaker Chris Kajani is taking things in a refreshing, aim-for-the-top direction with this bottling.', metadata={'country': 'US', 'points': 92, 'price': 30.0, 'title': \"Bouchaine 2013 Chêne d'Argent Estate Vineyard Chardonnay (Carneros)\", 'variety': 'Chardonnay', '_id': 102251, '_collection_name': 'wine_reviews'}),\n",
       " Document(page_content=\"A streak of confectionary nougat and lemony acidity combine for a smooth, well-integrated wine, full bodied in style, that's lip-smacking in apple-cider juiciness on the finish.\", metadata={'country': 'US', 'points': 92, 'price': 25.0, 'title': 'Conn Creek 2014 Chardonnay (Carneros)', 'variety': 'Chardonnay', '_id': 100685, '_collection_name': 'wine_reviews'}),\n",
       " Document(page_content='Rick Longoria shows increasing mastery over this popular variety, lifting it into true complexity. After an outstanding 2010 vintage, his 2011 is even better, showing the same crisp acidity and savory orange, apricot and honey flavors, but with even greater elegance.', metadata={'country': 'US', 'points': 91, 'price': 19.0, 'title': 'Longoria 2011 Pinot Grigio (Santa Barbara County)', 'variety': 'Pinot Grigio', '_id': 105297, '_collection_name': 'wine_reviews'})]"
      ]
     },
     "execution_count": 13,
     "metadata": {},
     "output_type": "execute_result"
    }
   ],
   "source": [
    "retriever.invoke(\n",
    "    \"Which US wines are priced between 15 and 30 and have points above 90?\",\n",
    "    {\"callbacks\": [handler]},\n",
    ")"
   ]
  },
  {
   "cell_type": "code",
   "execution_count": null,
   "id": "dd0e5470-30de-43b8-9f53-b9948fe98a4e",
   "metadata": {},
   "outputs": [],
   "source": []
  }
 ],
 "metadata": {
  "kernelspec": {
   "display_name": "Python 3 (ipykernel)",
   "language": "python",
   "name": "python3"
  },
  "language_info": {
   "codemirror_mode": {
    "name": "ipython",
    "version": 3
   },
   "file_extension": ".py",
   "mimetype": "text/x-python",
   "name": "python",
   "nbconvert_exporter": "python",
   "pygments_lexer": "ipython3",
   "version": "3.11.9"
  }
 },
 "nbformat": 4,
 "nbformat_minor": 5
}

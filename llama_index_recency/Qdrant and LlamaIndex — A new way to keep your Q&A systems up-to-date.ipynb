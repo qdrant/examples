{
 "cells": [
  {
   "cell_type": "markdown",
   "metadata": {
    "id": "-vvB9_1wRc1Z"
   },
   "source": [
    "Combining Qdrant and LlamaIndex to keep Q&A systems up-to-date\n",
    "\n",
    "\n",
    "[![Open In Colab](https://colab.research.google.com/assets/colab-badge.svg)](https://colab.research.google.com/github/qdrant/examples/blob/master/llama_index_recency/Qdrant%20and%20LlamaIndex%20%E2%80%94%20A%20new%20way%20to%20keep%20your%20Q%26A%20systems%20up-to-date.ipynb)\n",
    "\n",
    "#  Introduction\n",
    "\n",
    "Have you ever been frustrated with an answer engine that is stuck in the past? As our world rapidly evolves, the accuracy of information changes accordingly. Traditional models can become outdated, providing answers that were once accurate but are now obsolete. The cost of outdated knowledge can be high - misinforming users, impacting decision-making, and ultimately undermining trust in your system.\n",
    "\n",
    "Qdrant and LlamaIndex work together seamlessly, continually adapting your engine to the relentless pace of information change. By mastering these tools, you can transform your applications from static knowledge repositories into dynamic, adaptable knowledge machines. Whether you're a seasoned data scientist or an AI enthusiast, join us on this learning journey - the future of answer engines is here, and it's time to embrace it.\n",
    "\n",
    "## Learning Outcomes\n",
    "\n",
    "In this tutorial, you will learn the following:\n",
    "\n",
    "- 1️⃣ How to build a question-answering system using LlamaIndex and Qdrant.\n",
    "    - We will load a news dataset, store it with Qdrant client, and load the data into LlamaIndex.\n",
    "- 2️⃣ How to keep the QA engine updated and improve the ranking system.\n",
    "    - We will define two postprocessors: Recency and Cohere Rerank; and use these to create various query engines.\n",
    "- 3️⃣ How to use Node Sources in LlamaIndex to investigate questions and sources on which the answers are based.\n",
    "    - We will query these engines with various questions and compare their responses.\n"
   ]
  },
  {
   "cell_type": "markdown",
   "metadata": {
    "id": "0q5-QRzyRc1a"
   },
   "source": [
    "## Prerequisites\n",
    "\n",
    "Main Tools\n",
    "1. `llama_index`: A powerful tool for building large-scale information retrieval systems. [Learn More](https://gpt-index.readthedocs.io/en/latest/getting_started/starter_example.html)\n",
    "2. `qdrant_client`: A high-performance vector database designed for storing and searching large-scale high-dimensional vectors. In this tutorial, we use Qdrant as our vector storage system.\n",
    "3. `cohere`: A key reranking service to be used in postprocessing. It takes in a query and a list of texts and returns an ordered array with each text assigned a _new_ relevance score.\n",
    "4. `OpenAI`: Important for answer generation, as it takes the top few candidates to produce a final answer.\n",
    "5. `datasets`: Library necessary to import our dataset.\n",
    "6. `pandas`: Relevant library for data manipulation and analysis.\n"
   ]
  },
  {
   "cell_type": "markdown",
   "metadata": {
    "id": "y9Q5J689Rc1b"
   },
   "source": [
    "### Install Packages\n",
    "\n",
    "Before you start, install the required packages with pip:"
   ]
  },
  {
   "cell_type": "code",
   "execution_count": null,
   "metadata": {
    "id": "FTr0LGRVWvx_"
   },
   "outputs": [],
   "source": [
    "pip install -U datasets"
   ]
  },
  {
   "cell_type": "code",
   "execution_count": null,
   "metadata": {
    "id": "Z0De9P_ARc1b"
   },
   "outputs": [],
   "source": [
    "!pip install llama-index cohere pandas"
   ]
  },
  {
   "cell_type": "code",
   "execution_count": null,
   "metadata": {
    "id": "a4dtHTvnTed7"
   },
   "outputs": [],
   "source": [
    "!pip install -U qdrant-client"
   ]
  },
  {
   "cell_type": "code",
   "execution_count": null,
   "metadata": {
    "id": "sssKvGNnVI4D"
   },
   "outputs": [],
   "source": [
    "pip install -q cohere llama-index-postprocessor-cohere-rerank"
   ]
  },
  {
   "cell_type": "code",
   "execution_count": null,
   "metadata": {
    "id": "U-drNRkbV3_J"
   },
   "outputs": [],
   "source": [
    "pip install llama-index-vector-stores-qdrant"
   ]
  },
  {
   "cell_type": "markdown",
   "metadata": {
    "id": "O3dB3SbJRc1b"
   },
   "source": [
    "Optional: install Rich to make error messages and stack traces easier to read.\n"
   ]
  },
  {
   "cell_type": "code",
   "execution_count": null,
   "metadata": {
    "id": "3Rihws-yRc1b"
   },
   "outputs": [],
   "source": [
    "# !pip install 'rich[jupyter]'\n",
    "%load_ext rich"
   ]
  },
  {
   "cell_type": "markdown",
   "metadata": {
    "id": "uudBIOodRc1c"
   },
   "source": [
    "Import your packages"
   ]
  },
  {
   "cell_type": "code",
   "execution_count": null,
   "metadata": {
    "id": "ZWsPq7_xRc1c"
   },
   "outputs": [],
   "source": [
    "import datetime\n",
    "import os\n",
    "import random\n",
    "from pathlib import Path\n",
    "from typing import Any\n",
    "\n",
    "import pandas as pd\n",
    "from datasets import load_dataset\n",
    "from IPython.display import Markdown, display_markdown\n",
    "from llama_index.core import VectorStoreIndex\n",
    "from llama_index.core import ServiceContext, SimpleDirectoryReader\n"
   ]
  },
  {
   "cell_type": "code",
   "execution_count": null,
   "metadata": {
    "id": "E6Fw9BKAVOOa"
   },
   "outputs": [],
   "source": [
    "from llama_index.postprocessor.cohere_rerank import CohereRerank"
   ]
  },
  {
   "cell_type": "code",
   "execution_count": null,
   "metadata": {
    "id": "2KT7qYGCVfm0"
   },
   "outputs": [],
   "source": [
    "from llama_index.core.postprocessor import FixedRecencyPostprocessor"
   ]
  },
  {
   "cell_type": "code",
   "execution_count": null,
   "metadata": {
    "id": "JL1q-SF8UiNk"
   },
   "outputs": [],
   "source": [
    "from llama_index.vector_stores.qdrant import QdrantVectorStore\n"
   ]
  },
  {
   "cell_type": "code",
   "execution_count": null,
   "metadata": {
    "id": "MKqcohb4Uz09"
   },
   "outputs": [],
   "source": [
    "Path.ls = lambda x: list(x.iterdir())\n",
    "random.seed(42)  # This is the answer"
   ]
  },
  {
   "cell_type": "markdown",
   "metadata": {
    "id": "WosKRjt4Rc1c"
   },
   "source": [
    "### Retrieve API Keys:\n",
    "\n",
    "Before you start, you must retrieve two API keys for the following services:\n",
    "\n",
    "1. OpenAI key for LLM. [Link](https://platform.openai.com/account/api-keys)\n",
    "2. Cohere key for Rerank. [Link](https://dashboard.cohere.ai/api-keys) or additionally, read [Cohere Documentation](https://docs.cohere.com/reference/key).\n",
    "\n",
    "This tutorial by default uses Qdrant Cloud instead, so you need a third key. You can get it [the Qdrant Cloud main control panel](https://cloud.qdrant.io/)   \n",
    "\n",
    "If you are running on Colab, you will need to save your API keys under the secrets section of Colab. Adjust accordingly if you are running the notebook in a different environment.\n",
    "\n",
    "\n"
   ]
  },
  {
   "cell_type": "code",
   "execution_count": null,
   "metadata": {
    "id": "Vy0eonc5TU0-"
   },
   "outputs": [],
   "source": [
    "from google.colab import userdata"
   ]
  },
  {
   "cell_type": "code",
   "execution_count": null,
   "metadata": {
    "id": "ccVf6Ku0Rc1d"
   },
   "outputs": [],
   "source": [
    "def check_environment_keys():\n",
    "    \"\"\"\n",
    "    Utility Function that you have the NECESSARY Keys\n",
    "    \"\"\"\n",
    "    if userdata.get(\"OPENAI_API_KEY\") is None:\n",
    "        raise ValueError(\n",
    "            \"OPENAI_API_KEY cannot be None. Set the key using os.environ['OPENAI_API_KEY']='sk-xxx'\"\n",
    "        )\n",
    "    if userdata.get(\"COHERE_API_KEY\") is None:\n",
    "        raise ValueError(\n",
    "            \"COHERE_API_KEY cannot be None. Set the key using os.environ['COHERE_API_KEY']='xxx'\"\n",
    "        )\n",
    "    if userdata.get(\"QDRANT_API_KEY\") is None:\n",
    "        print(\"[Optional] If you want to use the Qdrant Cloud, please get the Qdrant Cloud API Keys and URL\")\n",
    "\n",
    "\n",
    "check_environment_keys()"
   ]
  },
  {
   "cell_type": "code",
   "execution_count": null,
   "metadata": {
    "id": "dRdDBG_BYfTu"
   },
   "outputs": [],
   "source": [
    "os.environ[\"OPENAI_API_KEY\"] = userdata.get(\"OPENAI_API_KEY\")\n",
    "os.environ[\"COHERE_API_KEY\"] = userdata.get(\"COHERE_API_KEY\")"
   ]
  },
  {
   "cell_type": "markdown",
   "metadata": {
    "id": "D4iXd1GeRc1e"
   },
   "source": [
    "## Architecture\n",
    "\n",
    "Our answer engine consists of two main parts:\n",
    "\n",
    "1. Retrieval - Done with Qdrant\n",
    "2. Synthesis - Done with OpenAI API\n",
    "\n",
    "We will use LlamaIndex to make the Query Engine and Qdrant for our Vector Store. Later, we will add components to keep the engine updated and improve ranking after retrieval\n",
    "\n",
    "The arrow point represents the direction of data flow. The \"Query Engine\" box encapsulates the postprocessing step to indicate that it's a part of the query engine's function. This diagram is meant to provide a high-level understanding of the process and does not include all the details involved.\n",
    "\n",
    "![](images/SetupFocus.png)\n",
    "\n",
    "\n",
    "\n"
   ]
  },
  {
   "cell_type": "markdown",
   "metadata": {
    "id": "V6x_f3_ARc1e"
   },
   "source": [
    "# Load Sample Dataset\n",
    "\n",
    "First we need to load our documents. In this example, we will use the [News Category Dataset v3](https://huggingface.co/datasets/heegyu/news-category-dataset). This dataset contains news articles with various fields like `headline`, `category`, `short_description`, `link`, `authors`, and date. Once we load the data, we will reformat it to suit our needs."
   ]
  },
  {
   "cell_type": "code",
   "execution_count": null,
   "metadata": {
    "colab": {
     "base_uri": "https://localhost:8080/",
     "height": 240,
     "referenced_widgets": [
      "55c0ed63430f4d2cb271ad8e165e237c",
      "b9bc56fadd1d4eca8d92c4ce1b70c561",
      "d31ea9bff59c41daa347e77c0e949e6e",
      "e202ba7292f8425b83586a91005fe3a1",
      "a4bf159bf18b42f6912672519a850105",
      "5f3d4dd38c044081b7efd4eef8049b26",
      "a7babc8fdcac47d586c7daac8d806912",
      "bccdb0d9778444218f20b5fa11a0c763",
      "76736b2b431f466285e573d6eec4db26",
      "aa8bee9dd00d49659200d5d1a7412caa",
      "ffd2448410354ef1b297c09a18499d2b",
      "b431885e0d8d4d3085a356ddccf9ceab",
      "6bbcdb97b77f44e4ba3b409c39f48539",
      "d90caf3a0e03492ba9b4385dc04bc2c2",
      "e5ab2da13e1c4ffb9ba157dae9ec640a",
      "1fbf2bd2ea044a6688272228d9a58ea6",
      "1f115cef9ff14fd2b9d8748147abb17b",
      "cb9c24805c884f1a9f8d8daefe0bbd97",
      "b562f8cade0649c392d3d1ed1f1e4e80",
      "13aec498cc0b47be8d5bcbd2c67d3fe3",
      "092089012eb241a6ad89f51d5a145834",
      "0b62a66e7d7a4ac791996779ab0da1fa",
      "18dd8524fb9d494eb836ce11943e597c",
      "0e66739a529640e9a8deaa5e097024ac",
      "c00754f809d740ffad864327b15dd99c",
      "8a352abd3f0e47818cfcbf009551b341",
      "2b8dea2d364c4cc7971e288cf8fcaf53",
      "8b7faedf1872440c995a6290538c9e44",
      "d037d2e34e984b3b8a9d6af140502c9f",
      "895d515554bd4eefb86ebc56cdad3250",
      "7519ba8e1e4e49cd875e0a776cba2adb",
      "0c6ecfbc9e0449bf882f7e4c066e64bb",
      "5a33517e83414ce3ad1ee9d56fb301ff"
     ]
    },
    "id": "joKLGFpGRc1e",
    "outputId": "c13a82d9-0398-43c9-85ac-f935f7f9fa93"
   },
   "outputs": [],
   "source": [
    "dataset = load_dataset(\"heegyu/news-category-dataset\", split=\"train\")"
   ]
  },
  {
   "cell_type": "code",
   "execution_count": null,
   "metadata": {
    "colab": {
     "base_uri": "https://localhost:8080/",
     "height": 293
    },
    "id": "PHxJTTe7Rc1e",
    "outputId": "77eee89a-34bc-44f0-fbe9-164e18b3e7bb"
   },
   "outputs": [],
   "source": [
    "def get_single_text(k):\n",
    "    return f\"Under the category:\\n{k['category']}:\\n{k['headline']}\\n{k['short_description']}\"\n",
    "\n",
    "\n",
    "df = pd.DataFrame(dataset)\n",
    "df.head()"
   ]
  },
  {
   "cell_type": "code",
   "execution_count": null,
   "metadata": {
    "colab": {
     "base_uri": "https://localhost:8080/"
    },
    "id": "fFPkxuxhRc1e",
    "outputId": "85ca70e4-94c5-4823-f6e4-0d56a574a707"
   },
   "outputs": [],
   "source": [
    "# Assuming `df` is your original dataframe\n",
    "df[\"year\"] = df[\"date\"].dt.year\n",
    "\n",
    "category_columns_to_keep = [\"POLITICS\", \"THE WORLDPOST\", \"WORLD NEWS\", \"WORLDPOST\", \"U.S. NEWS\"]\n",
    "\n",
    "# Filter by category\n",
    "df_filtered = df[df[\"category\"].isin(category_columns_to_keep)]\n",
    "\n",
    "# Sample data for each year\n",
    "\n",
    "\n",
    "def sample_func(x):\n",
    "    return x.sample(min(len(x), 200), random_state=42)\n",
    "\n",
    "\n",
    "df_sampled = df_filtered.groupby(\"year\").apply(sample_func).reset_index(drop=True)"
   ]
  },
  {
   "cell_type": "code",
   "execution_count": null,
   "metadata": {
    "colab": {
     "base_uri": "https://localhost:8080/",
     "height": 398
    },
    "id": "1HWBEURwRc1e",
    "outputId": "76f0866b-e0bb-43a3-efba-dedcf546539d"
   },
   "outputs": [],
   "source": [
    "df_sampled[\"year\"].value_counts()"
   ]
  },
  {
   "cell_type": "code",
   "execution_count": null,
   "metadata": {
    "id": "ks91Gz_VRc1e"
   },
   "outputs": [],
   "source": [
    "del df"
   ]
  },
  {
   "cell_type": "code",
   "execution_count": null,
   "metadata": {
    "id": "o12ohKnHRc1e"
   },
   "outputs": [],
   "source": [
    "df = df_sampled"
   ]
  },
  {
   "cell_type": "code",
   "execution_count": null,
   "metadata": {
    "colab": {
     "base_uri": "https://localhost:8080/",
     "height": 458
    },
    "id": "pQ-C2_tURc1e",
    "outputId": "a1b13a36-acd9-450d-9260-c2c4b50bc482"
   },
   "outputs": [],
   "source": [
    "df[\"text\"] = df.apply(get_single_text, axis=1)\n",
    "df[\"text\"]"
   ]
  },
  {
   "cell_type": "code",
   "execution_count": null,
   "metadata": {
    "colab": {
     "base_uri": "https://localhost:8080/",
     "height": 35
    },
    "id": "LCl5F6CmRc1e",
    "outputId": "6473139a-8400-47eb-cc6d-32c35a19a063"
   },
   "outputs": [],
   "source": [
    "df[\"text\"][9]"
   ]
  },
  {
   "cell_type": "code",
   "execution_count": null,
   "metadata": {
    "id": "7qUqN51hRc1e"
   },
   "outputs": [],
   "source": [
    "df.drop(columns=[\"year\"], inplace=True)"
   ]
  },
  {
   "cell_type": "markdown",
   "metadata": {
    "id": "6ZxZg2NFRc1f"
   },
   "source": [
    "Next, write these documents to text files in a directory. Each document will be written to a text file named after its date."
   ]
  },
  {
   "cell_type": "code",
   "execution_count": null,
   "metadata": {
    "colab": {
     "base_uri": "https://localhost:8080/"
    },
    "id": "uepvMpFKRc1f",
    "outputId": "a23b0696-c577-4082-f0c8-1d7b3d91d19b"
   },
   "outputs": [],
   "source": [
    "%%time\n",
    "write_dir = Path(\"../data/sample\").resolve()\n",
    "if write_dir.exists():\n",
    "    [f.unlink() for f in write_dir.ls()]\n",
    "write_dir.mkdir(exist_ok=True, parents=True)\n",
    "for index, row in df.iterrows():\n",
    "    date = str(row[\"date\"]).replace(\"-\", \"_\")  # replace '-' in date with '_' to avoid issues with file names\n",
    "    file_path = write_dir / f\"date_{date}_row_{index}.txt\"\n",
    "    with file_path.open(\"w\") as f:\n",
    "        f.write(row[\"text\"])"
   ]
  },
  {
   "cell_type": "code",
   "execution_count": null,
   "metadata": {
    "id": "-XH15qiuRc1f"
   },
   "outputs": [],
   "source": [
    "# del dataset, df"
   ]
  },
  {
   "cell_type": "markdown",
   "metadata": {
    "id": "fnjjgi4IRc1f"
   },
   "source": [
    "## Store Dataset with Qdrant Client\n",
    "We'll be using Qdrant as our vector storage system. Qdrant is a high-performance vector database designed for storing and searching large-scale high-dimensional vectors.\n",
    "\n",
    "### Local Qdrant Server/Docker + Cloud Instructions\n",
    "- If you're running a local Qdrant instance with Docker, use `uri`:\n",
    "  - `uri=\"http://<host>:<port>\"`\n",
    "  \n",
    "Here I'll be using the cloud, so I am using the url set to my cloud instance\n",
    "\n",
    "- Set the API KEY for Qdrant Cloud:\n",
    "  - `api_key=\"<qdrant-api-key>\"`\n",
    "  - `url`\n"
   ]
  },
  {
   "cell_type": "code",
   "execution_count": null,
   "metadata": {
    "colab": {
     "base_uri": "https://localhost:8080/"
    },
    "id": "fLsUF1XfTkXf",
    "outputId": "11451a48-16b6-467c-edf2-7768a604e196"
   },
   "outputs": [],
   "source": [
    "from qdrant_client import QdrantClient\n",
    "\n",
    "client = QdrantClient(\n",
    "    url=\"YOUR_QDRANT_URL\",\n",
    "    api_key=userdata.get(\"QDRANT_API_KEY\"),\n",
    ")\n",
    "\n",
    "print(client.get_collections())"
   ]
  },
  {
   "cell_type": "markdown",
   "metadata": {
    "id": "xv8C1tSlRc1f"
   },
   "source": [
    "## Load Data into LlamaIndex\n",
    "LlamaIndex has a simple way to load documents from a directory. We can define a function to get the metadata from a file name, and pass this function to the `SimpleDirectoryReader` class."
   ]
  },
  {
   "cell_type": "code",
   "execution_count": null,
   "metadata": {
    "id": "vOZjFGRCRc1f"
   },
   "outputs": [],
   "source": [
    "def get_file_metadata(file_name: str):\n",
    "    \"\"\"Get file metadata.\"\"\"\n",
    "    date_str = Path(file_name).stem.split(\"_\")[1:4]\n",
    "    return {\"date\": \"-\".join(date_str)}\n",
    "\n",
    "\n",
    "documents = SimpleDirectoryReader(input_files=write_dir.ls(), file_metadata=get_file_metadata).load_data()"
   ]
  },
  {
   "cell_type": "code",
   "execution_count": null,
   "metadata": {
    "colab": {
     "base_uri": "https://localhost:8080/",
     "height": 35
    },
    "id": "qNgx_AK0Rc1f",
    "outputId": "0a68c401-f7d0-47f1-d79e-f05475c59177"
   },
   "outputs": [],
   "source": [
    "len(documents)"
   ]
  },
  {
   "cell_type": "markdown",
   "metadata": {
    "id": "qBkJODsKRc1f"
   },
   "source": [
    "Let's look at the date ranges in our dataset:"
   ]
  },
  {
   "cell_type": "code",
   "execution_count": null,
   "metadata": {
    "colab": {
     "base_uri": "https://localhost:8080/"
    },
    "id": "565AiBWqRc1f",
    "outputId": "0a8847d2-40a0-43fe-be01-808c89c0f076"
   },
   "outputs": [],
   "source": [
    "dates, years = [], []\n",
    "\n",
    "for document in documents:\n",
    "    dt = datetime.datetime.fromisoformat(document.extra_info[\"date\"])\n",
    "    #     print(d)\n",
    "    try:\n",
    "        dates.append(dt)\n",
    "        years.append(dt.year)\n",
    "    except:\n",
    "        print(dt)"
   ]
  },
  {
   "cell_type": "markdown",
   "metadata": {
    "id": "4tpzzHQmRc1f"
   },
   "source": [
    "This `date` key is *necessary* for the Recency Postprocessor that we are going to use later.\n",
    "\n",
    "We have to parse these documents into nodes and create our QdrantVectorStore:"
   ]
  },
  {
   "cell_type": "code",
   "execution_count": null,
   "metadata": {
    "id": "2pN1e8bbRc1f"
   },
   "outputs": [],
   "source": [
    "from llama_index.core import Settings\n",
    "from llama_index.core.node_parser import SentenceSplitter\n",
    "from llama_index.vector_stores.qdrant import QdrantVectorStore\n",
    "from qdrant_client import QdrantClient\n",
    "from llama_index.core import StorageContext\n",
    "\n",
    "\n",
    "# Define settings globally\n",
    "Settings.node_parser = SentenceSplitter(chunk_size=512)\n",
    "\n",
    "vector_store = QdrantVectorStore(client=client, collection_name=\"NewsCategoryv3PoliticsSample\")\n",
    "storage_context = StorageContext.from_defaults(vector_store=vector_store)"
   ]
  },
  {
   "cell_type": "markdown",
   "metadata": {
    "id": "sWfNZM-7Rc1f"
   },
   "source": [
    "Next, we will create our `VectorStoreIndex` from the documents. This operation might take some time as it's creating the index from the documents."
   ]
  },
  {
   "cell_type": "code",
   "execution_count": null,
   "metadata": {
    "colab": {
     "base_uri": "https://localhost:8080/"
    },
    "id": "0B46Dd3LRc1f",
    "outputId": "8fd6917d-22fd-4026-f732-7fbb0b0379f2"
   },
   "outputs": [],
   "source": [
    "%%time\n",
    "index = VectorStoreIndex.from_documents(documents, storage_context=storage_context)"
   ]
  },
  {
   "cell_type": "code",
   "execution_count": null,
   "metadata": {
    "colab": {
     "base_uri": "https://localhost:8080/",
     "height": 178
    },
    "id": "AsWMXo-DrC-U",
    "outputId": "d6a756e3-ee01-4d78-9be8-a25f6b9199cf"
   },
   "outputs": [],
   "source": [
    "client.get_collections()"
   ]
  },
  {
   "cell_type": "markdown",
   "metadata": {
    "id": "O8j9DIXLRc1f"
   },
   "source": [
    "## Run a Test Query\n",
    "\n",
    "We have made an index. But as we saw in the diagram, we also need some added functionality to do 3 things:\n",
    "\n",
    "1. Retrieval\n",
    "    - Convert the text query into embedding\n",
    "    - Find the most similar documents\n",
    "2. Synthesis\n",
    "    - The LLM (here, OpenAI) texts the question, similar documents and a prompt to give you an answer"
   ]
  },
  {
   "cell_type": "code",
   "execution_count": null,
   "metadata": {
    "id": "6_X-fXqnRc1g"
   },
   "outputs": [],
   "source": [
    "query_engine = index.as_query_engine(similarity_top_k=10)"
   ]
  },
  {
   "cell_type": "code",
   "execution_count": null,
   "metadata": {
    "colab": {
     "base_uri": "https://localhost:8080/"
    },
    "id": "nHduFLdURc1g",
    "outputId": "bb20f518-9f47-4ad0-9d87-d30e9137a2e6"
   },
   "outputs": [],
   "source": [
    "response = query_engine.query(\"Who is the US President?\")\n",
    "print(response)"
   ]
  },
  {
   "cell_type": "code",
   "execution_count": null,
   "metadata": {
    "colab": {
     "base_uri": "https://localhost:8080/"
    },
    "id": "uh5XmW3qRc1g",
    "outputId": "2b178d8a-60d0-49db-dadc-088c45a7f8bf"
   },
   "outputs": [],
   "source": [
    "response = query_engine.query(\"Who is the current US President?\")\n",
    "print(response)"
   ]
  },
  {
   "cell_type": "markdown",
   "metadata": {
    "id": "SUZCKIP1Rc1o"
   },
   "source": [
    "\n",
    "# Adding Postprocessors\n",
    "\n",
    "LlamaIndex excels at composing Retrieval and Ranking steps.\n",
    "\n",
    "The intention behind this is to improve answer quality. Let's see if we can use Postprocessors to improve answer quality by using two approaches:\n",
    "1. Selecting the most recent nodes (Recency).\n",
    "2. Reranking using a different model (Cohere Rerank).\n",
    "\n",
    "![](images/RankFocus.png)\n",
    "\n",
    "Here is what the diagram represents:\n",
    "1. The user issues a query to the query engine.\n",
    "2. The query engine, which has been configured with certain postprocessors, performs a search on the vector store based on the query.\n",
    "3. The query engine then postprocesses the results.\n",
    "4. The postprocessed results are then returned to the user"
   ]
  },
  {
   "cell_type": "markdown",
   "metadata": {
    "id": "2mkMesKIRc1o"
   },
   "source": [
    "### Define a Recency Postprocessor\n",
    "\n",
    "LlamaIndex allows us to add postprocessors to our query engine. These postprocessors can modify the results of our queries after they are returned from the index. Here, we'll add a recency postprocessor to our query engine. This postprocessor will prioritize recent documents in the results.\n",
    "\n",
    "We'll define a single type of recency postprocessor: `FixedRecencyPostprocessor`."
   ]
  },
  {
   "cell_type": "code",
   "execution_count": null,
   "metadata": {
    "id": "GPgDLXorRc1o"
   },
   "outputs": [],
   "source": [
    "recency_postprocessor = FixedRecencyPostprocessor(top_k=1)"
   ]
  },
  {
   "cell_type": "markdown",
   "metadata": {
    "id": "WuEE21GaRc1p"
   },
   "source": [
    "### Rerank with Cohere\n",
    "\n",
    "Cohere Rerank works on the top K results which the Retrieval step from Qdrant returns. While Qdrant works on your entire corpus (here thousands, but Qdrant is designed to work with millions) -- Cohere works with the result from Qdrant. This can improve the search results since it's working on smaller number of entries.\n",
    "\n",
    "![](images/RerankFocus.png)\n",
    "\n",
    "\n",
    "Rerank endpoint takes in a query and a list of texts and produces an ordered array with each text assigned a relevance score. We'll define a `CohereRerank` postprocessor and add it to our query engine."
   ]
  },
  {
   "cell_type": "markdown",
   "metadata": {
    "id": "-mf0_5D-Rc1p"
   },
   "source": [
    "## Defining Query Engines\n",
    "We'll define four query engines for this tutorial:\n",
    "1. Just the Vector Store i.e. Qdrant here\n",
    "1. A recency query engine\n",
    "1. A reranking query engine\n",
    "1. And a combined query engine.\n",
    "\n",
    "The recency query engine uses the `FixedRecencyPostprocessor`, the reranking query engine uses the `CohereRerank` postprocessor, and the combined query engine uses both."
   ]
  },
  {
   "cell_type": "code",
   "execution_count": null,
   "metadata": {
    "id": "Z5nytDCzRc1p"
   },
   "outputs": [],
   "source": [
    "top_k = 10  # set one, reuse from now on, ensures consistency"
   ]
  },
  {
   "cell_type": "code",
   "execution_count": null,
   "metadata": {
    "id": "hnV9a8F_Rc1p"
   },
   "outputs": [],
   "source": [
    "index_query_engine = index.as_query_engine(\n",
    "    similarity_top_k=top_k,\n",
    ")"
   ]
  },
  {
   "cell_type": "code",
   "execution_count": null,
   "metadata": {
    "id": "l5LeWtuMRc1p"
   },
   "outputs": [],
   "source": [
    "recency_query_engine = index.as_query_engine(\n",
    "    similarity_top_k=top_k,\n",
    "    node_postprocessors=[recency_postprocessor],\n",
    ")"
   ]
  },
  {
   "cell_type": "code",
   "execution_count": null,
   "metadata": {
    "id": "RBrkJ_dyRc1p"
   },
   "outputs": [],
   "source": [
    "cohere_rerank = CohereRerank(api_key=os.environ[\"COHERE_API_KEY\"], top_n=top_k)\n",
    "reranking_query_engine = index.as_query_engine(\n",
    "    similarity_top_k=top_k,\n",
    "    node_postprocessors=[cohere_rerank],\n",
    ")"
   ]
  },
  {
   "cell_type": "code",
   "execution_count": null,
   "metadata": {
    "id": "BNRWZaW0Rc1p"
   },
   "outputs": [],
   "source": [
    "query_engine = index.as_query_engine(\n",
    "    similarity_top_k=top_k,\n",
    "    node_postprocessors=[cohere_rerank, recency_postprocessor],\n",
    ")"
   ]
  },
  {
   "cell_type": "markdown",
   "metadata": {
    "id": "Atym48MLRc1p"
   },
   "source": [
    "## Querying the Engine\n",
    "Finally, we can query our engine. Let's ask it \"Who is the current US President?\" and see the results from each query engine."
   ]
  },
  {
   "cell_type": "code",
   "execution_count": null,
   "metadata": {
    "colab": {
     "base_uri": "https://localhost:8080/"
    },
    "id": "McazTVorRc1p",
    "outputId": "beac935e-c83b-4eaa-e228-0612a09101d8"
   },
   "outputs": [],
   "source": [
    "# question = \"Who is the current US President?\"\n",
    "response = index_query_engine.query(\"Who is the US President?\")\n",
    "print(response)"
   ]
  },
  {
   "cell_type": "markdown",
   "metadata": {
    "id": "ZaalQ_92Rc1p"
   },
   "source": [
    "The `response` object has a few interesting attributes which help us quickly debug and understand what happened in each of our steps:\n",
    "1. What source nodes (similar to Document Chunks in Langchain) were used to answer the question\n",
    "2. What `extra_info` does the index have which we can use? This could also be sent as a payload to Qdrant to filter on (via epoch time) -- but Llama Index does not\n",
    "\n",
    "Let's unpack that a bit, and we'll use what we learn from `response` to improve our understanding of the query engines and post processors themselves."
   ]
  },
  {
   "cell_type": "markdown",
   "metadata": {
    "id": "Nd6priQiRc1p"
   },
   "source": [
    "Note that `10` which is the top-k parameter we set. This confirms that we retrieved the 10 documents most similar to the question (or more correct: 10 nearest neighbours to the question) and a confidence score.\n",
    "\n",
    "Can we show this in a more human-readable way?"
   ]
  },
  {
   "cell_type": "code",
   "execution_count": null,
   "metadata": {
    "colab": {
     "base_uri": "https://localhost:8080/"
    },
    "id": "sjK2uS1nRc1p",
    "outputId": "5c0902a6-cf34-41ff-c662-f23fff2c883f"
   },
   "outputs": [],
   "source": [
    "print(response.get_formatted_sources()[:318])"
   ]
  },
  {
   "cell_type": "markdown",
   "metadata": {
    "id": "6xKb0V43Rc1q"
   },
   "source": [
    "Let's check what is stored in the `extra_info` attribute."
   ]
  },
  {
   "cell_type": "code",
   "execution_count": null,
   "metadata": {
    "colab": {
     "base_uri": "https://localhost:8080/",
     "height": 142
    },
    "id": "atAgBIE38Iz-",
    "outputId": "0853d8da-af02-4dae-d9cc-9aa1fb6d9555"
   },
   "outputs": [],
   "source": [
    "response.metadata"
   ]
  },
  {
   "cell_type": "markdown",
   "metadata": {
    "id": "iBI15OEpRc1q"
   },
   "source": [
    "This has a `date` key-value as a string against the `doc id`"
   ]
  },
  {
   "cell_type": "markdown",
   "metadata": {
    "id": "OU0PON9lRc1q"
   },
   "source": [
    "Let's setup some tools to have a question, answer and the responses from the index engine in the same object - this will come handy in a bit for explaining a wrong answer."
   ]
  },
  {
   "cell_type": "code",
   "execution_count": null,
   "metadata": {
    "id": "tQYShrNXRc1q"
   },
   "outputs": [],
   "source": [
    "def mprint(text: str):\n",
    "    display_markdown(Markdown(text))\n",
    "\n",
    "\n",
    "class QAInfo:\n",
    "    \"\"\"This class is used to store the question, correct answer and responses from different query engines.\"\"\"\n",
    "\n",
    "    def __init__(self, question: str, correct_answer: str, query_engines: dict[str, Any]):\n",
    "        self.question = question\n",
    "        self.query_engines = query_engines\n",
    "        self.correct_answer = correct_answer\n",
    "        self.responses = {}\n",
    "\n",
    "    def add_response(self, engine: str, response: str):\n",
    "        # This method is used to add the response of a query engine to the responses dictionary.\n",
    "        self.responses[engine] = response\n",
    "\n",
    "    def compare_responses(self):\n",
    "        \"\"\"This function takes in a QAInfo object and a dictionary of query engines, and runs the question through each query engine.\n",
    "        The responses from each engine are added to the QAInfo object.\"\"\"\n",
    "        mprint(f\"### Question: {self.question}\")\n",
    "\n",
    "        for engine_name, engine in query_engines.items():\n",
    "            response = engine.query(self.question)\n",
    "            self.add_response(engine_name, response)\n",
    "            mprint(f\"**{engine_name.title()}**: {response}\")\n",
    "\n",
    "        mprint(f\"Correct Answer is: {self.correct_answer}\")\n",
    "\n",
    "    def node_print(self, index, preview_count=5):\n",
    "        source_nodes = self.responses[index].source_nodes\n",
    "        for i in range(preview_count):\n",
    "            mprint(f\"- {source_nodes[i].node.text}\")\n",
    "\n",
    "\n",
    "query_engines = {\n",
    "    \"qdrant\": index_query_engine,\n",
    "    \"recency\": recency_query_engine,\n",
    "    \"reranking\": reranking_query_engine,\n",
    "    \"both\": query_engine,\n",
    "}"
   ]
  },
  {
   "cell_type": "code",
   "execution_count": null,
   "metadata": {
    "colab": {
     "base_uri": "https://localhost:8080/",
     "height": 176
    },
    "id": "eqjDnP3bRc1q",
    "outputId": "b7ce232c-056c-4e5d-8e39-af2966b381b9"
   },
   "outputs": [],
   "source": [
    "question = \"Who is the US President?\"\n",
    "correct_answer = \"Donald Trump\"  # This would normally be determined programmatically.\n",
    "president_qa_info = QAInfo(question=question, correct_answer=correct_answer, query_engines=query_engines)\n",
    "president_qa_info.compare_responses()"
   ]
  },
  {
   "cell_type": "code",
   "execution_count": null,
   "metadata": {
    "colab": {
     "base_uri": "https://localhost:8080/",
     "height": 64
    },
    "id": "rW-eAOV6Rc1q",
    "outputId": "53634533-2698-4c24-a695-3b9ffaca2357"
   },
   "outputs": [],
   "source": [
    "president_qa_info.node_print(index=\"recency\", preview_count=1)"
   ]
  },
  {
   "cell_type": "code",
   "execution_count": null,
   "metadata": {
    "colab": {
     "base_uri": "https://localhost:8080/",
     "height": 64
    },
    "id": "VjjBmGRKRc1q",
    "outputId": "37aac234-946e-4f09-f97f-a0444ea4982a"
   },
   "outputs": [],
   "source": [
    "president_qa_info.node_print(index=\"qdrant\", preview_count=1)"
   ]
  },
  {
   "cell_type": "markdown",
   "metadata": {
    "id": "1iHzV_bARc1q"
   },
   "source": [
    "## Impact of how a question is asked"
   ]
  },
  {
   "cell_type": "code",
   "execution_count": null,
   "metadata": {
    "colab": {
     "base_uri": "https://localhost:8080/",
     "height": 176
    },
    "id": "-ztZ9pKFRc1q",
    "outputId": "8959b4d7-5b67-4a52-b953-91648fb3f907"
   },
   "outputs": [],
   "source": [
    "question = \"Who is US President in 2022?\"\n",
    "correct_answer = \"Joe Biden\"  # This would normally be determined programmatically.\n",
    "current_president_qa_info = QAInfo(\n",
    "    question=question, correct_answer=correct_answer, query_engines=query_engines\n",
    ")\n",
    "current_president_qa_info.compare_responses()"
   ]
  },
  {
   "cell_type": "markdown",
   "metadata": {
    "id": "A314oWDtRc1q"
   },
   "source": [
    "### Investigating for Ranking Challenges\n",
    "\n",
    "We pull the few top documents which from each query engine. To make them easy to read, we've a utility `node_print` here.\n",
    "\n",
    "\n",
    "💡 We notice that Qdrant (using embeddings) correctly pulls out a few mentions of \"2024\", \"Joe Biden\" and \"President Joe Biden\"\n",
    "\n",
    "💡 Cohere also re-orders the top 10 candidates to give the top 3 which mention \"President Joe Biden\".\n",
    "\n",
    "With Recency, we get an undetermined answer. This is because we're only using the one, most recent result.\n",
    "\n",
    "## 🎓 Try this now:\n",
    "\n",
    "> Change the `top_k` value passed to `llama_index` and see how that changes the answers"
   ]
  },
  {
   "cell_type": "code",
   "execution_count": null,
   "metadata": {
    "colab": {
     "base_uri": "https://localhost:8080/",
     "height": 145
    },
    "id": "1_Pg36q7Rc1r",
    "outputId": "dad2322e-61e4-4055-9cb0-0d920657dee0"
   },
   "outputs": [],
   "source": [
    "current_president_qa_info.node_print(index=\"qdrant\", preview_count=3)"
   ]
  },
  {
   "cell_type": "code",
   "execution_count": null,
   "metadata": {
    "colab": {
     "base_uri": "https://localhost:8080/",
     "height": 64
    },
    "id": "dmBL2OJWRc1r",
    "outputId": "4209d184-c548-4247-8bc9-a99343a75b16"
   },
   "outputs": [],
   "source": [
    "current_president_qa_info.node_print(index=\"recency\", preview_count=1)"
   ]
  },
  {
   "cell_type": "code",
   "execution_count": null,
   "metadata": {
    "colab": {
     "base_uri": "https://localhost:8080/",
     "height": 145
    },
    "id": "qx2EKqRrRc1r",
    "outputId": "d7414775-671e-4d4f-bbd5-5b67cc54418d"
   },
   "outputs": [],
   "source": [
    "current_president_qa_info.node_print(index=\"reranking\", preview_count=3)"
   ]
  },
  {
   "cell_type": "markdown",
   "metadata": {
    "id": "D3ruEdv9Rc1r"
   },
   "source": [
    "## Add a specific Year\n",
    "\n",
    "That looks interesting. Let's try this question after specifying the year:"
   ]
  },
  {
   "cell_type": "code",
   "execution_count": null,
   "metadata": {
    "colab": {
     "base_uri": "https://localhost:8080/",
     "height": 176
    },
    "id": "S4VaPxs3Rc1r",
    "outputId": "40e263dc-1b18-4127-b2a2-c944e04ebfc9"
   },
   "outputs": [],
   "source": [
    "question = \"Who was the US President in 2010?\"\n",
    "correct_answer = \"Barack Obama\"  # This would normally be determined programmatically.\n",
    "president_2010_qa_info = QAInfo(question=question, correct_answer=correct_answer, query_engines=query_engines)\n",
    "president_2010_qa_info.compare_responses()"
   ]
  },
  {
   "cell_type": "markdown",
   "metadata": {
    "id": "FGYLMD8FRc1r"
   },
   "source": [
    "Let's try a different variant of this question, specify a year and see what happens?"
   ]
  },
  {
   "cell_type": "code",
   "execution_count": null,
   "metadata": {
    "colab": {
     "base_uri": "https://localhost:8080/",
     "height": 176
    },
    "id": "BPuczn9LRc1r",
    "outputId": "85a0ab1d-43c8-4bfd-8069-58f16cb13fec"
   },
   "outputs": [],
   "source": [
    "question = \"Who was the Finance Minister of India under Manmohan Singh Govt?\"\n",
    "correct_answer = \"P. Chidambaram\"  # This would normally be determined programmatically.\n",
    "prime_minister_jan2014 = QAInfo(question=question, correct_answer=correct_answer, query_engines=query_engines)\n",
    "prime_minister_jan2014.compare_responses()"
   ]
  },
  {
   "cell_type": "markdown",
   "metadata": {
    "id": "kl0T57WVRc1r"
   },
   "source": [
    "### Observation\n",
    "\n",
    "In this question: All the engines give the correct answer!\n",
    "\n",
    "This is despite the fact that the Recency Postprocessor response does not even talk about the Indian Prime Minister! ❌\n",
    "\n",
    "Qdrant via OpenAI Embeddings and Cohere Rerank do not do that much better\n",
    "\n",
    "The correct answer comes from OpenAI LLM's knowledge of the world!"
   ]
  },
  {
   "cell_type": "code",
   "execution_count": null,
   "metadata": {
    "colab": {
     "base_uri": "https://localhost:8080/",
     "height": 128
    },
    "id": "2Oepco_DRc1r",
    "outputId": "6745c9c6-1ac1-4fc4-8d42-320459ad3280"
   },
   "outputs": [],
   "source": [
    "prime_minister_jan2014.node_print(index=\"qdrant\", preview_count=3)"
   ]
  },
  {
   "cell_type": "code",
   "execution_count": null,
   "metadata": {
    "colab": {
     "base_uri": "https://localhost:8080/",
     "height": 64
    },
    "id": "42z4j_BWRc1r",
    "outputId": "0a92acd7-9dd1-4545-ecd2-77be391c2c75"
   },
   "outputs": [],
   "source": [
    "prime_minister_jan2014.node_print(index=\"recency\", preview_count=1)"
   ]
  },
  {
   "cell_type": "code",
   "execution_count": null,
   "metadata": {
    "colab": {
     "base_uri": "https://localhost:8080/",
     "height": 128
    },
    "id": "_4i1m7SwRc1r",
    "outputId": "ab4dd6ec-6fff-467f-e739-8dc09ff778fc"
   },
   "outputs": [],
   "source": [
    "prime_minister_jan2014.node_print(index=\"reranking\", preview_count=3)"
   ]
  },
  {
   "cell_type": "markdown",
   "metadata": {
    "id": "lenhYIMqRc1r"
   },
   "source": [
    "# Recap\n",
    "\n",
    "- 1️⃣ Crafting a Q&A bot with LlamaIndex and Qdrant\n",
    "    - We dumped a news dataset, kicked up a Qdrant client, and stuffed our data into a LlamaIndex\n",
    "- 2️⃣ Keeping our Q&A bot fresh and cranking up the ranking goodness\n",
    "    - We used a recency postprocessor and a Cohere reranking postprocessor, and put them to work building different query engines\n",
    "- 3️⃣ Using Node Sources in Llama Index to dig into the Q&A trails\n",
    "    - We threw a bunch of questions at these engines and saw how they stacked up!\n",
    "\n",
    "We figured out that recency postprocessing has its perks, but it can leave us hanging when we narrow down the info too much. Plugging in a reranking postprocessor like Cohere can help sort the responses better."
   ]
  }
 ],
 "metadata": {
  "colab": {
   "provenance": []
  },
  "kernelspec": {
   "display_name": "Python 3 (ipykernel)",
   "language": "python",
   "name": "python3"
  },
  "language_info": {
   "codemirror_mode": {
    "name": "ipython",
    "version": 3
   },
   "file_extension": ".py",
   "mimetype": "text/x-python",
   "name": "python",
   "nbconvert_exporter": "python",
   "pygments_lexer": "ipython3",
   "version": "3.11.3"
  }
 },
 "nbformat": 4,
 "nbformat_minor": 0
}

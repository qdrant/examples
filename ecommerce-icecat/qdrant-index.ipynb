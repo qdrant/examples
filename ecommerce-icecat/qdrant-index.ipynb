{
 "cells": [
  {
   "cell_type": "code",
   "execution_count": null,
   "metadata": {},
   "outputs": [],
   "source": [
    "# !pip install -U qdrant-client fastembed datasets -q"
   ]
  },
  {
   "cell_type": "code",
   "execution_count": 27,
   "metadata": {},
   "outputs": [],
   "source": [
    "import os\n",
    "import json\n",
    "import pandas as pd\n",
    "from datasets import load_dataset\n",
    "from qdrant_client import QdrantClient"
   ]
  },
  {
   "cell_type": "code",
   "execution_count": null,
   "metadata": {},
   "outputs": [],
   "source": []
  },
  {
   "cell_type": "code",
   "execution_count": null,
   "metadata": {},
   "outputs": [],
   "source": [
    "dataset = load_dataset(\"nirantk/ecommerce-icecat-dataset\", split=\"train\")\n",
    "collection_name = 'ecommerce-icecat-dataset'"
   ]
  },
  {
   "cell_type": "code",
   "execution_count": null,
   "metadata": {},
   "outputs": [],
   "source": [
    "qdrant_client = QdrantClient(\n",
    "    os.environ[\"QDRANT_API_URL\"],\n",
    "    api_key = os.environ[\"QDRANT_API_KEY\"],\n",
    ")"
   ]
  },
  {
   "cell_type": "code",
   "execution_count": null,
   "metadata": {},
   "outputs": [],
   "source": [
    "names = [c.name for c in qdrant_client.get_collections().collections]\n",
    "names"
   ]
  },
  {
   "cell_type": "code",
   "execution_count": null,
   "metadata": {},
   "outputs": [],
   "source": [
    "if collection_name in names:\n",
    "    qdrant_client.delete_collection(collection_name)"
   ]
  },
  {
   "cell_type": "code",
   "execution_count": null,
   "metadata": {},
   "outputs": [],
   "source": [
    "qdrant_client.get_collections()"
   ]
  },
  {
   "cell_type": "code",
   "execution_count": null,
   "metadata": {},
   "outputs": [],
   "source": [
    "dataset"
   ]
  },
  {
   "cell_type": "code",
   "execution_count": null,
   "metadata": {},
   "outputs": [],
   "source": [
    "def make_document(example):\n",
    "    return {\n",
    "        'document': f\"Name: {example['name']}\\nTitle: {example['title']}\\nDescription:{example['short_description']}\",\n",
    "    }\n",
    "\n",
    "new_dataset = dataset.map(lambda example: make_document(example))"
   ]
  },
  {
   "cell_type": "code",
   "execution_count": null,
   "metadata": {},
   "outputs": [],
   "source": [
    "new_dataset"
   ]
  },
  {
   "cell_type": "code",
   "execution_count": null,
   "metadata": {},
   "outputs": [],
   "source": [
    "sample_dataset = new_dataset.select(range(1000))\n",
    "text_documents = sample_dataset['document']\n",
    "ds = sample_dataset.remove_columns(['document', 'id', 'ean', 'price'])\n",
    "metadata = ds.to_pandas().to_dict(orient='records')"
   ]
  },
  {
   "cell_type": "code",
   "execution_count": null,
   "metadata": {},
   "outputs": [],
   "source": [
    "# metadata"
   ]
  },
  {
   "cell_type": "code",
   "execution_count": 19,
   "metadata": {},
   "outputs": [
    {
     "data": {
      "text/plain": [
       "(True, True)"
      ]
     },
     "execution_count": 19,
     "metadata": {},
     "output_type": "execute_result"
    }
   ],
   "source": [
    "isinstance(metadata, list), isinstance(metadata[0], dict)"
   ]
  },
  {
   "cell_type": "code",
   "execution_count": null,
   "metadata": {},
   "outputs": [],
   "source": [
    "inserted_ids = qdrant_client.add(\n",
    "    collection_name=collection_name,\n",
    "    documents= text_documents,\n",
    "    metadata = metadata\n",
    ")\n",
    "\n",
    "print(f\"Inserted {len(inserted_ids)} documents\")"
   ]
  },
  {
   "cell_type": "code",
   "execution_count": 35,
   "metadata": {},
   "outputs": [
    {
     "name": "stdout",
     "output_type": "stream",
     "text": [
      "---Position: 0---\n",
      "---Score: 0.87856674---\n",
      "Name: Compaq nc2400 Notebook PC\n",
      "Title: HP Compaq nc2400 Notebook PC\n",
      "Description:Compaq nc2400 Notebook PC 0.87856674\n",
      "---Position: 1---\n",
      "---Score: 0.877485---\n",
      "Name: Compaq 8510p Notebook PC\n",
      "Title: HP Compaq 8510p Notebook PC\n",
      "Description:Compaq 8510p Notebook PC 0.877485\n",
      "---Position: 2---\n",
      "---Score: 0.87729037---\n",
      "Name: 255 G7\n",
      "Title: HP 255 G7 Notebook Black 39.6 cm (15.6\") 1920 x 1080 pixels AMD Ryzen 3 8 GB DDR4-SDRAM 256 GB SSD Wi-Fi 5 (802.11ac) Windows 10 Pro\n",
      "Description:None 0.87729037\n",
      "---Position: 3---\n",
      "---Score: 0.87464297---\n",
      "Name: FY949AA\n",
      "Title: HP FY949AA graphics card NVIDIA Quadro FX 3800 1 GB GDDR3\n",
      "Description:NVIDIA Quadro FX3800 1GB PCIe Graphics Card 0.87464297\n",
      "---Position: 4---\n",
      "---Score: 0.8735425---\n",
      "Name: KD060AT\n",
      "Title: HP KD060AT graphics card GDDR2\n",
      "Description:ATI Radeon HD 2400XT (256MB DH) PCIe Graphics Card 0.8735425\n",
      "---Position: 5---\n",
      "---Score: 0.87204087---\n",
      "Name: 15 WB-7US1130SH\n",
      "Title: Gigabyte AERO 15 WB-7US1130SH Notebook Black 39.6 cm (15.6\") 1920 x 1080 pixels 10th gen Intel® Core™ i7 16 GB DDR4-SDRAM 512 GB SSD NVIDIA® GeForce RTX™ 2070 Max-Q Wi-Fi 6 (802.11ax) Windows 10 Home\n",
      "Description:Intel Core i7-10750H (12MB Cache, 2.6GHz), 16GB DDR4-SDRAM, 512GB SSD, 39.6 cm (15.6\") Full HD 1920 x 1080 IPS, Intel UHD Graphics, NVIDIA GeForce RTX 2070 Max-Q (8GB GDDR6), LAN, WLAN, Webcam, Windows 10 Home 64-bit 0.87204087\n",
      "---Position: 6---\n",
      "---Score: 0.87181675---\n",
      "Name: PH315-52-7914\n",
      "Title: Acer Predator Helios 300 PH315-52-7914 Notebook Black 39.6 cm (15.6\") 1920 x 1080 pixels 9th gen Intel® Core™ i7 8 GB DDR4-SDRAM 1000 GB SSD NVIDIA® GeForce® GTX 1660 Ti Wi-Fi 6 (802.11ax) Windows 10 Home\n",
      "Description:Intel Core i7-9750H (12MB Cache, 2.6GHz), 8GB DDR4-SDRAM, 1000GB SSD, 39.6 cm (15.6\") Full HD 1920 x 1080 IPS, Intel UHD Graphics 630, NVIDIA GeForce GTX 1660 Ti (6GB GDDR6), LAN, WLAN, Webcam, Windows 10 Home 64-bit 0.87181675\n",
      "---Position: 7---\n",
      "---Score: 0.87127733---\n",
      "Name: DY596A\n",
      "Title: HP DY596A graphics card AMD Radeon X300 0.125 GB GDDR\n",
      "Description:128MB DDR, DVI-I, S-Video, x16 PCIE 0.87127733\n",
      "---Position: 8---\n",
      "---Score: 0.8706---\n",
      "Name: p6313uk\n",
      "Title: HP Pavilion p6313uk AMD Athlon II X3 435 3 GB DDR3-SDRAM 500 GB HDD Mini Tower Black PC Windows 7 Home Premium\n",
      "Description:2.9GHz AMD Athlon II X3 435, NVIDIA nForce 430, 3GB DDR3 1333MHz, 500GB SATA HDD, nVidia GeForce 6150 SE, DVD Super Multi DL, Fast LAN, Windows 7 Home Premium 64-bit 0.8706\n",
      "---Position: 9---\n",
      "---Score: 0.8705796---\n",
      "Name: Compaq dc7800 Ultra-slim Desktop PC\n",
      "Title: HP Compaq dc7800 Ultra-slim Desktop PC\n",
      "Description:Compaq dc7800 Ultra-slim Desktop PC 0.8705796\n"
     ]
    }
   ],
   "source": [
    "def query_and_display(query_text: str):\n",
    "    results = qdrant_client.query(\n",
    "        collection_name=collection_name,\n",
    "        query_text=query_text,\n",
    "        limit=10,\n",
    "    )\n",
    "    for idx, result in enumerate(results):\n",
    "        print(f\"---Position: {idx}---\")\n",
    "        print(f\"---Score: {result.score}---\")\n",
    "        print(result.document, result.score)\n",
    "\n",
    "query_and_display(\"What is a good laptop for gaming?\")"
   ]
  },
  {
   "cell_type": "code",
   "execution_count": 36,
   "metadata": {},
   "outputs": [
    {
     "name": "stdout",
     "output_type": "stream",
     "text": [
      "---Position: 0---\n",
      "---Score: 0.91898155---\n",
      "Name: Color LaserJet 5500n Printer\n",
      "Title: HP Color LaserJet 5500n Printer\n",
      "Description:Color LaserJet 5500n Printer 0.91898155\n",
      "---Position: 1---\n",
      "---Score: 0.91878814---\n",
      "Name: LaserJet 3030 all-in-one printer/fax/scanner/copier\n",
      "Title: HP LaserJet 3030 all-in-one printer/fax/scanner/copier\n",
      "Description:LaserJet 3030 All-in-One Printer 0.91878814\n",
      "---Position: 2---\n",
      "---Score: 0.91801757---\n",
      "Name: Deskjet 460cb Mobile Printer\n",
      "Title: HP Deskjet 460cb Mobile Printer inkjet printer Colour 4800 x 1200 DPI A4\n",
      "Description:Deskjet 460cb 0.91801757\n",
      "---Position: 3---\n",
      "---Score: 0.91674614---\n",
      "Name: DesignJet 50ps Printer\n",
      "Title: HP DesignJet 50ps Printer\n",
      "Description:Designjet 50ps Printer 0.91674614\n",
      "---Position: 4---\n",
      "---Score: 0.9158038---\n",
      "Name: A626\n",
      "Title: HP Photosmart A626 photo printer Inkjet 4800 x 1200 DPI\n",
      "Description:Photosmart A626 0.9158038\n",
      "---Position: 5---\n",
      "---Score: 0.91522676---\n",
      "Name: DesignJet 500ps Plus 42-in Printer\n",
      "Title: HP DesignJet 500ps Plus 42-in Printer large format printer\n",
      "Description:DesignJet 500ps Plus 42-in Printer 0.91522676\n",
      "---Position: 6---\n",
      "---Score: 0.9150411---\n",
      "Name: 3600n\n",
      "Title: HP LaserJet 3600n Colour 600 x 600 DPI\n",
      "Description:Color LaserJet 3600n Printer 0.9150411\n",
      "---Position: 7---\n",
      "---Score: 0.9149842---\n",
      "Name: Q5931A\n",
      "Title: HP Q5931A printer kit\n",
      "Description:HP LaserJet 250-sheet paper tray, 3.1kg 0.9149842\n",
      "---Position: 8---\n",
      "---Score: 0.91387486---\n",
      "Name: C4922AE\n",
      "Title: HP C4922AE print head Inkjet\n",
      "Description:HP 14 Magenta, 4 pl 0.91387486\n",
      "---Position: 9---\n",
      "---Score: 0.91293335---\n",
      "Name: K5400dn\n",
      "Title: HP Officejet K5400dn inkjet printer Colour 4800 x 1200 DPI A4\n",
      "Description:32MB DDR, 10/100Base-TX, 80W, PCL 3, 4800 x 1200dpi 0.91293335\n"
     ]
    }
   ],
   "source": [
    "query_and_display(\"Printer for home use\")"
   ]
  }
 ],
 "metadata": {
  "kernelspec": {
   "display_name": "fst",
   "language": "python",
   "name": "python3"
  },
  "language_info": {
   "codemirror_mode": {
    "name": "ipython",
    "version": 3
   },
   "file_extension": ".py",
   "mimetype": "text/x-python",
   "name": "python",
   "nbconvert_exporter": "python",
   "pygments_lexer": "ipython3",
   "version": "3.9.17"
  }
 },
 "nbformat": 4,
 "nbformat_minor": 2
}

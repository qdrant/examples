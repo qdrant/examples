{
  "cells": [
    {
      "cell_type": "code",
      "source": [
        "!pip install pypdfium2 backoff langchain-community langchain langchain-openai langgraph -q\n",
        "!pip install qdrant-client -q\n"
      ],
      "metadata": {
        "id": "1I9o4hl4aytx"
      },
      "id": "1I9o4hl4aytx",
      "execution_count": 1,
      "outputs": []
    },
    {
      "cell_type": "code",
      "execution_count": 2,
      "id": "bea12ac1",
      "metadata": {
        "id": "bea12ac1"
      },
      "outputs": [],
      "source": [
        "from io import BytesIO\n",
        "import pypdfium2 as pdfium\n",
        "import backoff\n",
        "import asyncio\n",
        "import json\n",
        "import os\n",
        "import base64\n",
        "from PIL import Image\n",
        "import operator\n",
        "\n",
        "from typing import Annotated, Sequence, TypedDict, Literal\n",
        "\n",
        "from openai import OpenAIError\n",
        "from openai import AsyncOpenAI, OpenAI\n",
        "\n",
        "from langchain_openai import ChatOpenAI\n",
        "from langchain import hub\n",
        "from langchain_core.output_parsers import StrOutputParser\n",
        "from langchain_core.prompts import PromptTemplate\n",
        "from langchain_community.vectorstores import Chroma\n",
        "from langchain_openai import OpenAIEmbeddings\n",
        "from langchain_text_splitters import RecursiveCharacterTextSplitter\n",
        "from langchain_core.messages import AnyMessage, BaseMessage, HumanMessage, SystemMessage\n",
        "from langchain.tools.retriever import create_retriever_tool\n",
        "from langchain_community.vectorstores import FAISS\n",
        "\n",
        "from langgraph.graph.message import add_messages\n",
        "from langgraph.graph import START, END, StateGraph, MessagesState\n",
        "from langgraph.prebuilt import tools_condition, ToolNode\n",
        "\n",
        "\n",
        "from IPython.display import Image, display\n",
        "from pydantic import BaseModel, Field"
      ]
    },
    {
      "cell_type": "code",
      "source": [
        "# if you are working in colab\n",
        "from google.colab import userdata\n",
        "OPENAI_API_KEY= userdata.get('OPENAI_API_KEY')"
      ],
      "metadata": {
        "id": "x0Vp1uqWbVCx"
      },
      "id": "x0Vp1uqWbVCx",
      "execution_count": 3,
      "outputs": []
    },
    {
      "cell_type": "code",
      "execution_count": 4,
      "id": "26b6fe1d",
      "metadata": {
        "id": "26b6fe1d"
      },
      "outputs": [],
      "source": [
        "MODEL = \"gpt-4o-2024-08-06\"\n",
        "baseurl = \"https://api.openai.com/v1\"\n",
        "apikey = OPENAI_API_KEY\n",
        "\n",
        "clienta = AsyncOpenAI(api_key=apikey ,  base_url=baseurl)\n",
        "os.environ[\"OPENAI_API_BASE\"] = baseurl\n",
        "os.environ[\"OPENAI_API_KEY\"] = apikey"
      ]
    },
    {
      "cell_type": "code",
      "execution_count": 5,
      "id": "984e550a",
      "metadata": {
        "id": "984e550a"
      },
      "outputs": [],
      "source": [
        "@backoff.on_exception(backoff.expo, OpenAIError)\n",
        "async def parse_page_with_gpt(base64_image: str) -> str:\n",
        "    messages=[\n",
        "        {\n",
        "            \"role\": \"system\",\n",
        "            \"content\": \"\"\"\n",
        "\n",
        "            You are a helpful assistant that extracts information from images.\n",
        "\n",
        "            \"\"\"\n",
        "        },\n",
        "        {\n",
        "            \"role\": \"user\",\n",
        "            \"content\": [\n",
        "                {\"type\": \"text\", \"text\": \"Extract information from image into text\"},\n",
        "                {\n",
        "                    \"type\": \"image_url\",\n",
        "                    \"image_url\": {\n",
        "                        \"url\": f\"data:image/jpeg;base64,{base64_image}\",\n",
        "                        \"detail\": \"auto\"\n",
        "                    },\n",
        "                },\n",
        "            ],\n",
        "        }\n",
        "    ]\n",
        "    response = await clienta.chat.completions.create(\n",
        "        model=MODEL,\n",
        "        messages=messages,\n",
        "        temperature=0,\n",
        "        max_tokens=4096,\n",
        "    )\n",
        "    return response.choices[0].message.content or \"\""
      ]
    },
    {
      "cell_type": "code",
      "execution_count": 6,
      "id": "f156ab10",
      "metadata": {
        "id": "f156ab10"
      },
      "outputs": [],
      "source": [
        "async def document_analysis(filename: str) -> str:\n",
        "    \"\"\"\n",
        "    Document Understanding\n",
        "\n",
        "    Args:\n",
        "        filename: pdf filename str\n",
        "    \"\"\"\n",
        "\n",
        "    pdf = pdfium.PdfDocument(filename)\n",
        "    images = []\n",
        "    for i in range(len(pdf)):\n",
        "        page = pdf[i]\n",
        "        image = page.render(scale=8).to_pil()\n",
        "        buffered = BytesIO()\n",
        "        image.save(buffered, format=\"JPEG\")\n",
        "        img_byte = buffered.getvalue()\n",
        "        img_base64 = base64.b64encode(img_byte).decode(\"utf-8\")\n",
        "        images.append(img_base64)\n",
        "\n",
        "    text_of_pages = await asyncio.gather(*[parse_page_with_gpt(image) for image in images])\n",
        "\n",
        "    results = []\n",
        "\n",
        "    extracted_texts = [doc for doc in text_of_pages]\n",
        "    # Clean each string in the list and append to json_results\n",
        "    for text in extracted_texts:\n",
        "        results.append(text)\n",
        "\n",
        "    return results"
      ]
    },
    {
      "cell_type": "code",
      "execution_count": 7,
      "id": "8dc79679",
      "metadata": {
        "id": "8dc79679"
      },
      "outputs": [],
      "source": [
        "docs_list = await document_analysis(\"/content/stock price LSTM- GNN.pdf\")"
      ]
    },
    {
      "cell_type": "code",
      "execution_count": null,
      "id": "e84dc143",
      "metadata": {
        "id": "e84dc143"
      },
      "outputs": [],
      "source": [
        "docs_list"
      ]
    },
    {
      "cell_type": "code",
      "execution_count": 9,
      "id": "7a099085",
      "metadata": {
        "colab": {
          "base_uri": "https://localhost:8080/"
        },
        "id": "7a099085",
        "outputId": "9302ad64-9e57-40a0-8623-89291f2aa07b"
      },
      "outputs": [
        {
          "output_type": "stream",
          "name": "stdout",
          "text": [
            "data has been written to 1a982e27-8794-46c1-bf1e-ad89ec5d3f05.txt\n"
          ]
        }
      ],
      "source": [
        "import uuid\n",
        "\n",
        "output_file_path = f\"{uuid.uuid4()}.txt\"\n",
        "\n",
        "with open(output_file_path, 'w') as json_file:\n",
        "    json.dump(docs_list, json_file, indent=2)\n",
        "\n",
        "print(f\"data has been written to {output_file_path}\")"
      ]
    },
    {
      "cell_type": "code",
      "execution_count": 10,
      "id": "93c487e4",
      "metadata": {
        "colab": {
          "base_uri": "https://localhost:8080/"
        },
        "id": "93c487e4",
        "outputId": "601c196c-1a1b-4daa-aff9-48c5e7d61970"
      },
      "outputs": [
        {
          "output_type": "execute_result",
          "data": {
            "text/plain": [
              "[Document(metadata={'source': '1a982e27-8794-46c1-bf1e-ad89ec5d3f05.txt'}, page_content='[\\n  \"**Title:** Stock Price Prediction Using a Hybrid LSTM-GNN Model: Integrating Time-Series and Graph-Based Analysis\\\\n\\\\n**Authors:**\\\\n- Meet Satishbhai Sonani, Department of Computer Science, University of Reading, UK\\\\n- Atta Badii, Department of Computer Science, University of Reading, UK\\\\n- Armin Moin, Department of Computer Science, University of Colorado, Colorado Springs, CO, USA\\\\n\\\\n**Abstract:**\\\\nThis paper presents a novel hybrid model that integrates long-short-term memory (LSTM) networks and Graph Neural Networks (GNNs) to enhance stock market prediction accuracy. The LSTM component captures temporal patterns in stock price data, while the GNN component uses Pearson correlation and association analysis to model inter-stock relational data. The model is trained using an expanding window validation approach. Experiments show that the hybrid model achieves a mean square error (MSE) of 0.00144, a 10.6% improvement over the standalone LSTM model. The hybrid model outperforms traditional benchmarks like linear regression and convolutional neural networks (CNN). This highlights the potential of combining temporal and relational data for real-time trading and financial analysis.\\\\n\\\\n**Keywords:** Stock Market Prediction, LSTM, GNN, Hybrid Models, Time-Series Analysis, Financial Forecasting, Machine Learning\\\\n\\\\n**1. Introduction:**\\\\nThe stock market is a complex system influenced by various factors, making stock price movements unpredictable. Accurate predictions are crucial for investors and policymakers. Traditional statistical methods often fail to capture complex patterns. Recent interest in machine learning techniques, such as LSTM networks, shows promise in improving prediction accuracy by handling time-series data effectively.\",\\n  \"**Extracted Information:**\\\\n\\\\n**Problem and Context:**\\\\n- LSTMs have been applied to stock market prediction due to their ability to model the sequential nature of stock prices over time.\\\\n- Stock markets are influenced by historical prices and relationships between different stocks and sectors.\\\\n- Economic downturns can cause correlated declines in stocks within the same sector.\\\\n\\\\n**Graph Neural Networks (GNNs):**\\\\n- GNNs model relational data as graphs, capturing dependencies and interactions between entities.\\\\n- They can learn complex relationships not evident from isolated data points.\\\\n- GNNs represent stocks as nodes and their relationships as edges, capturing both direct and indirect influences.\\\\n\\\\n**Hybrid Model Proposal:**\\\\n- Combines LSTM networks and GNNs to leverage both temporal and relational data for stock market prediction.\\\\n- Aims to improve predictive accuracy in volatile and complex financial markets.\\\\n\\\\n**Literature Review:**\\\\n\\\\n**2.1 Introduction:**\\\\n- Accurate stock prediction is challenging due to market volatility, non-linearity, and sensitivity to various factors.\\\\n- Traditional statistical methods often fail to capture these complexities.\\\\n- Machine learning models like SVM and ANN struggled with the sequential nature of financial data.\\\\n- CNNs excel in capturing spatial patterns but are less effective with temporal dependencies.\\\\n- LSTMs and GNNs have emerged to address these limitations.\\\\n\\\\n**Explainable AI (XAI):**\\\\n- XAI enhances transparency and interpretability in financial forecasting.\\\\n- It is crucial for trust and compliance in financial markets.\\\\n\\\\n**2.2 Data Acquisition and Challenges:**\\\\n- Reliable prediction models require accurate data acquisition.\\\\n- Financial data is often noisy, incomplete, and unpredictable.\\\\n- Robust preprocessing techniques are essential for enhancing data quality.\\\\n- Scaling and normalization improve model accuracy.\\\\n- Managing noise in financial time series enhances model resilience.\\\\n\\\\n**2.3 Machine Learning Approaches in Financial Forecasting:**\\\\n- LSTMs are prominent in financial time-series prediction due to their ability to capture long-term dependencies.\\\\n- They are suitable for modeling the non-linear and volatile nature of stock prices.\",\\n  \"**Text Extracted from Image:**\\\\n\\\\ndemonstrating adaptability in recognising complex patterns and robustness in volatile markets (Yeung et al. 2020, Zhao et al. 2023). Comparative studies have shown that LSTM outperforms traditional models such as ARIMA in stock price forecasting, particularly with non-linear time-series data (Shankaran et al. 2022, Jarrah & Derbali 2023).\\\\n\\\\nGNNs are essential for analysing stock relationships by capturing dependencies between stocks, modelling the interconnections that traditional methods overlook. (Shi et al. 2024) developed a graph-based GCN-LSTM model integrating relational data with time-series analysis, achieving more accurate predictions by leveraging GNN to capture stock interconnections. Other studies have emphasised the importance of capturing relational dependencies using Graph Convolutional Networks (GCN), showing that GCN outperforms traditional time-series models by considering both temporal and relational dynamics (Singh et al. 2021, Chen et al. 2018). These findings illustrate that GNNs improve stock market predictions by capturing complex relationships between stocks, and when combined with models such as LSTM, they effectively handle both relational and temporal dynamics.\\\\n\\\\nHybrid models integrating LSTM networks with GNNs leverage the strengths of both methods, enabling simultaneous modelling of temporal sequences and relational data. Cheng et al. (2022) demonstrated significant enhancements in predictive accuracy by combining relational data from GNN and temporal patterns from other models. Shi et al. (2024) found that such hybrid models achieve more accurate predictions by capturing both temporal dynamics and inter-stock relationships. However, these models face challenges such as increased computational demands and risks of overfitting or data leakage if not properly implemented (Tang et al. 2021). Careful implementation and validation are necessary to avoid these pitfalls (Mehta & Sen 2020).\\\\n\\\\nDynamic modelling approaches such as rolling window and expanding window analyses are essential for adapting to evolving patterns in stock market data. Rolling window analysis trains the model on a fixed window of recent data, shifting forward with each new prediction, which is effective for short-term predictions (Matsunaga et al. 2019). Expanding window analysis enlarges the training dataset by adding new data while retaining all past observations, outperforming rolling windows in capturing long-term volatility patterns (Feng et al. 2024). These methods enhance the adaptability of predictive models but can incur biases if not properly managed, necessitating a balanced approach to optimise continuous learning while maintaining historical integrity.\\\\n\\\\n4. Research Challenges\\\\n\\\\nDespite the advancements in stock market prediction, several outstanding research issues persist:\\\\n\\\\n1. Integration of Temporal and Relational Models: While hybrid models combining LSTM and GNN have shown potential, empirical evaluations in real-world conditions remain limited. There is a need for more extensive studies assessing their performance in volatile, real-time trading environments(Chen et al. 2018, Shi et al. 2024).\\\\n\\\\n2. Robust Data Handling: Many models overlook real-time challenges such as noisy data, missing values, and market shifts. Although preprocessing methods have been proposed (Bhanja & Das 2018, Yeung et al. 2020), these need further refinement to better handle the complexities of financial data and enhance model resilience.\\\\n\\\\n3. Explainability: The lack of transparency in LSTM and GNN models poses challenges in interpreting predictions. While Explainable AI (XAI) offers solutions (Kuiper et al. 2022), its application in financial models is still limited. Integrating XAI techniques could improve trust and compliance in AI-driven financial forecasting.\\\\n\\\\n4. Scalability and Efficiency: Hybrid models are often computationally intensive, making real-time application difficult. Future research should focus on optimising these models for better scalability without sacrificing accuracy, possibly through algorithmic innovations or hardware acceleration.\\\\n\\\\n5. Real-Time Adaptation: Although expanding window analysis improves real-time predictions (Feng et al. 2024), models require better strategies for continuous adaptation to new data in fast-changing markets. This includes developing methods to quickly retrain models or update predictions without extensive computational overheads.\\\\n\\\\n3 Methodology\\\\n\\\\n3.1 Data Collection and Preprocessing\\\\n\\\\nThe dataset was obtained from Kaggle via the YFinance API, providing comprehensive historical stock data essential for time-series analysis. Ten prominent stocks representing diverse sectors were selected: Apple Inc. (AAPL), Microsoft Corporation (MSFT), Comcast Corporation (CMCSA), Costco Wholesale Corporation (COST), Qualcomm\",\\n  \"**Text Extracted from Image:**\\\\n\\\\nIncorporated (QCOM), Adobe Inc. (ADBE), Starbucks Corporation (SBUX), Intuit Inc. (INTU), Advanced Micro Devices (AMD), and Intel Corporation (INTC). These stocks were chosen due to their significant market capitalisation and influence, ensuring broad applicability of the findings.\\\\n\\\\nThe data spanned from January 1, 2005, to December 31, 2023, encompassing various market conditions and providing a robust dataset for model training and evaluation. Features extracted included daily open, high, low, close, adjusted close prices, and trading volume, offering a detailed view of market activity. Figure 1 shows an example of normalised closing prices for a sample stock, along with its 50-day and 200-day moving averages.\\\\n\\\\nFigure 1: Normalised closing prices of a sample stock with its 50-day and 200-day moving averages.\\\\n\\\\n3.1.1 Feature Engineering\\\\n\\\\nTo enhance predictive capabilities, feature engineering was conducted separately for the LSTM and GNN components. For the LSTM network, the primary input consisted of sequences of closing prices. Structuring the data into sequences enabled the model to capture temporal dependencies effectively. The batch size, a crucial hyperparameter, was optimised during training, with values tested at 11 and 21 to balance computational efficiency and the ability to learn long-term dependencies.\\\\n\\\\nFor the GNN component, a graph representing relationships between stocks was constructed. Each node represented a stock, and edges represented relationships based on Pearson correlation coefficients and association analysis. Pearson correlation captured linear relationships by calculating the correlation coefficients between the daily returns of stock pairs, while association analysis identified non-linear and complex relationships. Combining these methods provided a comprehensive representation of inter-stock relationships, crucial for modelling the interconnected nature of the stock market.\\\\n\\\\n3.1.2 Data Preprocessing\\\\n\\\\nData preprocessing focused on scaling and structuring the data. The raw data was clean, with no missing values or significant outliers. Min-Max Scaling was applied to normalise the data. Specifically, each stock price \\\\\\\\( x \\\\\\\\) was transformed to a normalised value \\\\\\\\( x\\' \\\\\\\\) in the range [0, 1] using\\\\n\\\\n\\\\\\\\[ x\\' = \\\\\\\\frac{x - x_{\\\\\\\\text{min}}}{x_{\\\\\\\\text{max}} - x_{\\\\\\\\text{min}}}, \\\\\\\\]\\\\n\\\\nas shown in Equation 1. This normalisation was essential for the convergence of the neural network models and prevented stocks with higher absolute prices from disproportionately influencing the learning process.\\\\n\\\\nTime-series batches were then created for the LSTM network, each of comprising consecutive daily closing prices. The batch size determined the number of days of historical data instances to be ingested into the model to enable it to make a prediction, impacting its ability to capture dependencies. Outlier detection and removal were omitted to preserve time-series integrity and reflect market realities, as extreme price movements may represent significant events rather than anomalies.\",\\n  \"**3.2 Graphical Representation of the Stock Network**\\\\n\\\\n- Stocks were modeled using a graph \\\\\\\\( G = (V, E) \\\\\\\\) where each vertex \\\\\\\\( v \\\\\\\\in V \\\\\\\\) represents a stock, and each edge \\\\\\\\( e \\\\\\\\in E \\\\\\\\) represents a significant relationship between two stocks.\\\\n- Pearson correlation coefficients were calculated between daily returns of stock pairs to quantify linear relationships.\\\\n- Daily return \\\\\\\\( r_t \\\\\\\\) for a stock at time \\\\\\\\( t \\\\\\\\) was computed as:\\\\n\\\\n  \\\\\\\\[\\\\n  r_t = \\\\\\\\frac{P_t - P_{t-1}}{P_{t-1}}\\\\n  \\\\\\\\]\\\\n\\\\n  where \\\\\\\\( P_t \\\\\\\\) is the closing price at time \\\\\\\\( t \\\\\\\\).\\\\n\\\\n- Pearson correlation coefficient \\\\\\\\( \\\\\\\\rho_{ij} \\\\\\\\) between stocks \\\\\\\\( i \\\\\\\\) and \\\\\\\\( j \\\\\\\\) was computed as:\\\\n\\\\n  \\\\\\\\[\\\\n  \\\\\\\\rho_{ij} = \\\\\\\\frac{\\\\\\\\sum_{t=1}^{n} (r_{i,t} - \\\\\\\\bar{r_i})(r_{j,t} - \\\\\\\\bar{r_j})}{\\\\\\\\sqrt{\\\\\\\\sum_{t=1}^{n} (r_{i,t} - \\\\\\\\bar{r_i})^2} \\\\\\\\sqrt{\\\\\\\\sum_{t=1}^{n} (r_{j,t} - \\\\\\\\bar{r_j})^2}}\\\\n  \\\\\\\\]\\\\n\\\\n- Edges were established between stocks with \\\\\\\\( |\\\\\\\\rho_{ij}| > 0.7 \\\\\\\\), indicating a strong linear relationship.\\\\n- Association analysis was used to capture non-linear relationships using the Apriori algorithm.\\\\n- A lift threshold of 1.7 was set, meaning two stocks appeared 70% more frequently together than if independent.\\\\n- Only rules exceeding this threshold contributed additional edges in the final undirected graph.\\\\n\\\\n**3.3 LSTM Component**\\\\n\\\\n- The LSTM network captured temporal dependencies in stock prices by processing sequences of historical data.\\\\n- Architecture included an input layer for normalized closing price sequences over optimized time windows.\\\\n- Multiple LSTM layers were stacked to learn complex temporal patterns using gating mechanisms.\\\\n- A dense layer transformed LSTM outputs into feature vectors for integration with the GNN component.\\\\n- Hyperparameters such as learning rate, batch size, and number of epochs were optimized through experimentation.\\\\n- Learning rates of 0.001, 0.005, and 0.01 were tested, with batch sizes of 11 and 21.\\\\n- Number of epochs varied between 10 and 50, using early stopping to prevent overfitting.\\\\n- The Adam optimizer was used for efficient training, and Mean Squared Error (MSE) served as the loss function.\\\\n\\\\n**3.4 GNN Component**\\\\n\\\\n- The GNN component modeled relational dependencies among stocks based on the constructed graph.\\\\n- Architecture included an input layer that received the stock graph and initial node features.\",\\n  \"3.5 Hybrid Model Integration\\\\n\\\\nThe hybrid model integrated outputs from the LSTM and GNN components to leverage both temporal and relational information. Temporal embeddings from the LSTM captured historical price patterns, while relational embeddings from the GNN encapsulated inter-stock relationships. These embeddings were concatenated to form a unified feature vector, which was then passed through additional dense layers to learn complex interactions. A final dense layer with a linear activation function produced the predicted closing price. Hidden layers utilized ReLU activations to capture non-linear relationships, and the output layer employed a linear activation suitable for regression tasks. The model was trained using the MSE loss function with the Adam optimizer.\\\\n\\\\n3.6 Training Strategy\\\\n\\\\nTo evaluate the performance of the model in a manner that reflects real-world trading scenarios, an expanding window validation strategy was implemented. Baseline models (including linear models, CNNs, dense neural networks, and standalone LSTM models) were first trained to provide a comparative benchmark. The overall training period was set to two years, with 50 days reserved for testing. In this setup, the model was tested on one day at a time; after each test, the data from the corresponding day was added to the training set, effectively expanding the training window. This iterative process, illustrated in Figure 3, ensured that the model consistently incorporated new information from the most recent market conditions, reflecting a dynamic and adaptive learning process. The model was retrained at each step with the updated dataset, enabling it to learn from evolving market trends and continuously improve its predictions. This strategy enhanced model accuracy by ensuring that only historical data was used for training and enhanced the robustness of the model.\\\\n\\\\n3.7 Training Parameters\\\\n\\\\n- Early Stopping: Implemented based on validation loss to prevent overfitting, with a patience parameter set to halt training if no improvement was observed over several epochs.\\\\n- Number of Epochs: Varied between 10 and 50, with the optimal number determined through experimentation.\\\\n- Batch Size: Maintained consistency with the batch sizes used during model input preparation.\\\\n\\\\n4 Experiments and Results\\\\n\\\\n4.1 Experiment Setup\\\\n\\\\nThe experiments were conducted on a high-performance computing platform equipped with an NVIDIA GTX 1080 GPU (8 GB VRAM), 16 GB of RAM, and a multi-core Intel i7 processor. This hardware configuration was essential for...\",\\n  \"The document discusses the implementation and evaluation of a hybrid LSTM-GNN model for stock price prediction. Key points include:\\\\n\\\\n- **Software Environment**: Utilized Windows OS, Python 3.8, PyTorch, PyTorch Geometric, NumPy, Pandas, scikit-learn, NetworkX, and Matplotlib.\\\\n\\\\n- **Hyperparameter Tuning**: \\\\n  - Learning rates tested: 0.001, 0.005, 0.01; 0.005 was optimal.\\\\n  - Batch sizes: 11 and 21; 11 was selected.\\\\n  - Number of epochs: 10 to 50; optimal between 40 and 50.\\\\n\\\\n- **Model Features**:\\\\n  - Patience parameter and minimum delta for early stopping.\\\\n  - Adam optimizer for adaptive learning.\\\\n  - ReLU activation in hidden layers, linear activation in output layer.\\\\n  - Dropout layers with a rate of 0.5.\\\\n\\\\n- **Evaluation Metric**: Mean Squared Error (MSE) defined as:\\\\n\\\\n  \\\\\\\\[\\\\n  \\\\\\\\text{MSE} = \\\\\\\\frac{1}{n} \\\\\\\\sum_{i=1}^{n} (\\\\\\\\hat{y}_i - y_i)^2\\\\n  \\\\\\\\]\\\\n\\\\n  where \\\\\\\\( n \\\\\\\\) is the number of predictions, \\\\\\\\( \\\\\\\\hat{y}_i \\\\\\\\) is the predicted stock price, and \\\\\\\\( y_i \\\\\\\\) is the actual stock price.\\\\n\\\\n- **Performance Analysis**:\\\\n  - The model effectively integrated time-series and relational data.\\\\n  - Consistently low MSE values were observed, with spikes on November 10, 2022, and November 30, 2022, due to market volatility.\\\\n\\\\n- **Figure 4**: Displays MSE values across all test days using the best parameter configuration.\",\\n  \"4.3 Impact of Expanding Window Validation\\\\n\\\\nThe expanding window validation strategy was crucial for adapting the model to changing market conditions. By updating the training set with new data, the model maintained dynamic, real-time applicability. This method balanced retaining historical trends and incorporating recent market dynamics, ensuring predictions reflected current market behavior. It enhanced backtesting accuracy and provided a path for real-world deployment, mitigating overfitting and improving generalization.\\\\n\\\\n4.4 Hyperparameter Tuning\\\\n\\\\nHyperparameter tuning used a grid search to find the optimal combination of learning rates, batch sizes, and epochs. The best configuration had a learning rate of 0.005, 40 epochs, and a batch size of 11, achieving the lowest MSE. Early stopping was applied during training to halt the process if no improvement in validation loss was observed for five consecutive epochs, optimizing both training time and model performance.\\\\n\\\\n4.5 Comparison with Baseline Models\\\\n\\\\nThe hybrid LSTM-GNN model was evaluated against several baseline models, including Linear Regression, CNN, DNN, and a standalone LSTM. The hybrid model outperformed all baselines in terms of MSE.\\\\n\\\\n- Hybrid LSTM-GNN: MSE of 0.00144\\\\n- Linear Regression: MSE of 0.00224\\\\n- Standalone LSTM: MSE of 0.00161\\\\n- CNN: MSE of 0.00302\\\\n- DNN: MSE of 0.00335\\\\n\\\\nThe hybrid model consistently achieved lower MSE values across all stocks, demonstrating robustness and generalizability. It performed well for stocks like CMCSA, AMD, and INTC, while CNN and DNN models had higher MSE values, especially for more volatile stocks.\\\\n\\\\nFigure 5: Comparison of MSE values across different models.\",\\n  \"**Heatmap Information:**\\\\n\\\\n- **Title:** MSE Heatmap for Models and Stocks\\\\n- **Models:** Dense, CNN, Middle, LSTM, LSTM+GNN\\\\n- **Stocks:** AAPL, MSFT, CMCSA, COST, QCOM, ADBE, SBUX, NTU, AMD, INTC\\\\n- **Color Scale:** Ranges from 0.001 to 0.007\\\\n\\\\n**Figure Caption:**\\\\nFigure 6: Heatmap of MSE values for different models across individual stocks.\\\\n\\\\n**Text Extract:**\\\\n\\\\n**4.6 Comparative Study**\\\\n\\\\nThe comparative analysis demonstrates the clear advantages of the hybrid LSTM-GNN model over baseline models in predictive accuracy and robustness. While the standalone LSTM captured temporal dependencies effectively, it lacked the ability to model inter-stock relationships significantly influencing market behaviour. Incorporating the GNN component enabled the hybrid model to utilise relational data, capturing complex interactions between stocks and enhancing predictions.\\\\n\\\\nCompared to the standalone LSTM, the hybrid model achieved a 10.6% reduction in average MSE (0.00144 vs 0.00161). This improvement highlights the value of incorporating relational data through the GNN component, which captures both linear and non-linear relationships between stocks. The added contextual information from the GNN enabled the model to leverage insights from stock correlations and broader market trends, improving overall predictive performance.\\\\n\\\\nThe DNN and CNN models, although capable of modelling non-linear relationships, underperformed due to their inability to capture the sequential nature of stock price movements. Stock prices are inherently temporal, and models that do not account for this structure often fail to identify critical patterns. Consequently, the LSTM-based models outperformed the DNN and CNN, reinforcing the importance of temporal modelling in financial forecasting.\\\\n\\\\nLinear Regression, as a simple baseline model, showed limitations in capturing non-linear relationships and temporal dependencies, resulting in an MSE of 0.00224. Although its MSE was lower than that of the CNN and DNN models, it was less effective than the LSTM-based models due to its inability to model the intricate dynamics of stock markets. These limitations were especially evident in more volatile stocks, where Linear Regression struggled with complex market movements.\\\\n\\\\nA key factor driving the hybrid model superior performance was the expanding window training approach. This method progressively increased the training dataset by incorporating new data as it became available, enabling the model to remain up-to-date with recent market trends. Retraining with the most current data enabled the hybrid LSTM-GNN to continuously adapt to changes in market behaviour.\\\\n\\\\nThe expanding window training approach offers several key advantages. Firstly, it enhances adaptability by enabling the model to learn from recent patterns and market anomalies, which improves predictive accuracy in a dynamic environment.\",\\n  \"**5 Discussion**\\\\n\\\\n**5.1 Interpretation of Results**\\\\n\\\\nThe hybrid LSTM-GNN model significantly outperformed baseline models in stock price prediction due to its ability to capture both temporal dynamics and relational dependencies. The LSTM component modeled sequential patterns and long-term trends in stock prices, essential in financial time-series data where past events influence future movements. The GNN component captured complex inter-stock relationships by constructing a graph based on Pearson correlation and association analysis, accounting for both linear and non-linear dependencies.\\\\n\\\\nBy integrating temporal and relational embeddings, the hybrid model leveraged the strengths of both approaches, resulting in lower Mean Squared Error (MSE) compared to the standalone LSTM. The expanding window training approach enhanced adaptability by continuously incorporating new data, ensuring the model remained attuned to recent market conditions\\\\u2014a critical factor in the dynamic financial environment. The robust performance of the model across various stocks, including those which are highly volatile such as AMD, indicates its effectiveness in capturing both stable patterns and sudden market shifts.\\\\n\\\\n**5.2 Limitations**\\\\n\\\\nDespite its advantages, the hybrid model has limitations. The increased computational complexity from integrating LSTM and GNN components demands significant processing power and memory, which may not be readily available to all practitioners. The expanding window approach, while improving adaptability, complicates validation since it lacks a separate validation set, increasing the risk of overfitting without proper feedback during training.\\\\n\\\\nThe model performance is sensitive to hyperparameter tuning, requiring extensive experimentation that can be resource-intensive. Data limitations, such as missing values or anomalies, can degrade the model effectiveness. Additionally, assuming that past relationships persist into the future may not hold during unprecedented market events or structural economic changes, reducing the model predictive accuracy.\\\\n\\\\nFrequent retraining due to the expanding window method increases computational load, which can be impractical in real-time applications where swift predictions are essential. This could limit the model applicability in high-frequency trading environments that demand rapid decision-making.\\\\n\\\\n**5.3 Implications for Practice**\\\\n\\\\nThe enhanced predictive accuracy of the hybrid model holds significant implications for real-time trading and financial analysis. It can aid traders and investors in making informed decisions, improving risk management and potentially increasing returns. By accurately forecasting stock prices, the model supports strategies such as algorithmic trading, portfolio optimisation, and risk assessment.\",\\n  \"**Conclusion:**\\\\n\\\\nThe study introduces a hybrid model combining Long Short-Term Memory (LSTM) and Graph Neural Network (GNN) for stock price prediction. It integrates temporal and relational data to enhance predictive accuracy. Key findings include:\\\\n\\\\n- The hybrid model outperforms traditional models like linear regression, convolutional neural networks, dense neural networks, and standalone LSTM models.\\\\n- It achieves a notable reduction in Mean Squared Error (MSE), approximately 10.6% lower than standalone LSTM.\\\\n- The GNN component effectively incorporates inter-stock relationships.\\\\n\\\\nThe research demonstrates that integrating temporal dependencies with relational information can improve stock price predictions. The model adapts to evolving market conditions, capturing long-term trends and recent market shifts.\\\\n\\\\nFuture research could explore additional data sources like macroeconomic indicators, news sentiment, and social media trends for a comprehensive understanding of stock prices. Extending the model to other financial instruments could validate its adaptability across different markets.\\\\n\\\\n**References:**\\\\n\\\\n1. Bhanja, S. & Das, A. (2018). Impact of data normalization on deep neural network for time series forecasting. arXiv preprint. [URL](https://arxiv.org/abs/1812.05519)\\\\n\\\\n2. Chen, Y., Wei, Z. & Huang, X. (2018). Incorporating Corporation Relationship via Graph Convolutional Neural Networks for Stock Price Prediction.\\\\n\\\\n3. Cheng, D., Yang, F., Xiang, S. & Liu, J. (2022). Financial time series forecasting with multi-modality graph neural network. Pattern Recognition 121, 108218.\\\\n\\\\n4. Fama, E. F. (1970). Efficient capital markets: A review of theory and empirical work. The Journal of Finance 25(2), 383-417. [URL](http://www.jstor.org/stable/2325486)\\\\n\\\\n5. Feng, Y., Zhang, Y. & Wang, Y. (2024). Out-of-sample volatility prediction: Rolling window, expanding window, or both?. Journal of Forecasting 43(3), 567-582.\\\\n\\\\n6. Fischer, T. & Krauss, C. (2018). Deep learning with long short-term memory networks for financial market predictions. European Journal of Operational Research 270(2), 654-669. [URL](https://www.sciencedirect.com/science/article/pii/S0377221717310652)\",\\n  \"Here is the extracted information from the image:\\\\n\\\\n1. Fjellstr\\\\u00f6m, C. (2022). \\\\\"Long short-term memory neural network for financial time series\\\\\". URL: https://arxiv.org/abs/2201.08218\\\\n\\\\n2. Gandhmal, D. P. & Kannan, K. (2019). \\\\\"Systematic analysis and review of stock market prediction techniques\\\\\", Computer Science Review 34. URL: https://api.semanticscholar.org/CorpusID:202771464\\\\n\\\\n3. Hadavandi, E., Ghanbari, A. & Abbasian-Naghneh, S. (2010). \\\\\"Developing a time series model based on particle swarm optimization for gold price forecasting\\\\\", 2012 Fifth International Conference on Business Intelligence and Financial Engineering 0, 337\\\\u2013340.\\\\n\\\\n4. Hiremath, G. S. & Kamaiah, B. (2010). \\\\\"Nonlinear dependence in stock returns: Evidences from india\\\\\", Journal of Quantitative Economics 8(1), 69\\\\u201385. URL: https://ideas.repec.org/a/jqe/jqenew/v8y2010i1p69-85.html\\\\n\\\\n5. Hochreiter, S. & Schmidhuber, J. (1997). \\\\\"Long short-term memory\\\\\", Neural Computation 9(8), 1735\\\\u20131780. URL: https://doi.org/10.1162/neco.1997.9.8.1735\\\\n\\\\n6. Jarrah, M. & Derbali, M. (2023). \\\\\"Predicting saudi stock market index by using multivariate time series based on deep learning\\\\\", Applied Sciences 13(14).\\\\n\\\\n7. Kipf, T. & Welling, M. (2016). \\\\\"Semi-supervised classification with graph convolutional networks\\\\\", ArXiv abs/1609.02907. URL: https://api.semanticscholar.org/CorpusID:31444218\\\\n\\\\n8. Kuiper, O., van den Berg, M., van der Burgt, J. & Leijnen, S. (2022). Exploring explainable ai in the financial sector: Perspectives of banks and supervisory authorities, in \\\\\"Explainable Artificial Intelligence: Concepts, Techniques, and Applications\\\\\", pp. 105\\\\u2013119.\\\\n\\\\n9. Kullmann, L., Kert\\\\u00e9sz, J. & Kaski, K. (2002). \\\\\"Time-dependent cross-correlations between different stock returns: A directed network of influence\\\\\", Physical Review E 66(2), 026125. URL: https://link.aps.org/doi/10.1103/PhysRevE.66.026125\\\\n\\\\n10. Malkiel, B. G. (2003). \\\\\"The efficient market hypothesis and its critics\\\\\", Journal of Economic Perspectives 17(1), 59\\\\u201382. URL: https://www.aeaweb.org/articles?id=10.1257/089533003321164958\\\\n\\\\n11. Mantegna, R. N. (1999). \\\\\"Hierarchical structure in financial markets\\\\\", The European Physical Journal B 11(1), 193\\\\u2013197. URL: https://doi.org/10.1007/s100510050929\\\\n\\\\n12. Martinez, J. (2003). \\\\\"The impact of firm-specific attributes on the relevance in earnings and cash-flows: a nonlinear relationship between stock returns and accounting numbers\\\\\", Review of Accounting and Finance 2(1), 16\\\\u201339. URL: https://doi.org/10.1108/eb026999\\\\n\\\\n13. Matsunaga, D., Suzumura, T. & Takahashi, T. (2019). \\\\\"Exploring graph neural networks for stock market predictions with rolling window analysis\\\\\", arXiv preprint . URL: https://arxiv.org/abs/1909.10660\\\\n\\\\n14. Mehtab, S. & Sen, J. (2020). Stock price prediction using cnn and lstm-based deep learning models, in \\\\\"2020 International Conference on Decision Aid Sciences and Application (DASA)\\\\\", IEEE, pp. 447\\\\u2013453.\\\\n\\\\n15. Ran, X., Shan, Z., Fan, Y. & Gao, L. (2024). \\\\\"A model based lstm and graph convolutional network for stock trend prediction\\\\\", PeerJ Computer Science 10, e2326.\\\\n\\\\n16. Senapati, M. R., Das, S. & Mishra, S. (2018). \\\\\"A novel model for stock price prediction using hybrid neural network\\\\\", Journal of The Institution of Engineers (India): Series B 99(6), 555\\\\u2013563. URL: https://doi.org/10.1007/s40031-018-0343-7\\\\n\\\\n17. Shankar, P., Sharma, N., Naga Rohith, K. & Ghosh, A. (2022). \\\\\"Stock-price-prediction-using lstm arima\\\\\", Journal of Development Economics and Management Research Studies 9, 55\\\\u201366.\\\\n\\\\n18. Shi, Y., Wang, Y., Qu, Y. & Chen, Z. (2024). \\\\\"Integrated gcn-lstm stock prices movement prediction based on knowledge- incorporated graphs construction\\\\\", International Journal of Machine Learning and Cybernetics 15(1), 161\\\\u2013176.\\\\n\\\\n19. Soni, A., Gupta, P. & Thakur, N. (2021). \\\\\"An empirical research and comprehensive analysis of stock market prediction using machine learning and deep learning techniques\\\\\", IOP Conference Series: Materials Science and Engineering 1022(1), 012098.\\\\n\\\\n20. Tang, Q., Shi, R., Fan, T., Ma, Y. & Huang, J. (2021). \\\\\"Prediction of financial time series based on lstm using wavelet transform and singular spectrum analysis\\\\\", Mathematical Problems in Engineering 2021(1), 9942410.\\\\n\\\\n21. Thakkar, A. & Chaudhari, K. (2021). \\\\\"Fusion in stock market prediction: a decade survey on the necessity, recent developments, and potential future directions\\\\\", Information Fusion 65, 95\\\\u2013107.\",\\n  \"Worsnup, C. (2022). \\\\u2018Backtesting cross validation for timeseries [notebook]\\\\u2019.  \\\\n*URL:* https://www.kaggle.com/code/cworsnup/backtesting-cross-validation-for-timeseries/notebook\\\\n\\\\nWu, Z., Pan, S., Chen, F., Long, G., Zhang, C. & Yu, P. S. (2021). \\\\u2018A comprehensive survey on graph neural networks\\\\u2019, *IEEE Transactions on Neural Networks and Learning Systems* 32(1), 4\\\\u201324.\\\\n\\\\nYeung, J., Wei, Z., Chan, K. Y., Lau, H. & Yiu, K.-F. (2020). \\\\u2018Jump detection in financial time series using machine learning algorithms\\\\u2019, *Soft Computing* 24.\\\\n\\\\nZhao, C., Hu, P., Liu, X., Lan, X. & Zhang, H. (2023). \\\\u2018Stock market analysis using time series relational models for stock price prediction\\\\u2019, *Mathematics* 11(5), 1130.\"\\n]')]"
            ]
          },
          "metadata": {},
          "execution_count": 10
        }
      ],
      "source": [
        "from langchain_community.document_loaders import TextLoader\n",
        "\n",
        "loader = TextLoader(output_file_path)\n",
        "data = loader.load()\n",
        "data"
      ]
    },
    {
      "cell_type": "code",
      "execution_count": 11,
      "id": "b0158e26",
      "metadata": {
        "colab": {
          "base_uri": "https://localhost:8080/"
        },
        "id": "b0158e26",
        "outputId": "7a3f2243-bb8b-4afa-9314-8777539f5061"
      },
      "outputs": [
        {
          "output_type": "stream",
          "name": "stdout",
          "text": [
            "File 1a982e27-8794-46c1-bf1e-ad89ec5d3f05.txt deleted successfully.\n"
          ]
        }
      ],
      "source": [
        "# Check if the file exists\n",
        "if os.path.exists(output_file_path):\n",
        "\n",
        "    # Delete the file\n",
        "    os.remove(output_file_path)\n",
        "    print(f\"File {output_file_path} deleted successfully.\")\n",
        "else:\n",
        "    print(\"File does not exist.\")"
      ]
    },
    {
      "cell_type": "code",
      "source": [
        "from langchain_core.documents import Document\n",
        "from langchain_text_splitters import CharacterTextSplitter\n",
        "\n",
        "documents = [Document(page_content=text, metadata={\"page\": i})\n",
        "             for i, text in enumerate(docs_list)]\n",
        "\n",
        "text_splitter = CharacterTextSplitter(chunk_size=1000, chunk_overlap=400)\n",
        "doc_splits = text_splitter.split_documents(documents)\n",
        "len(doc_splits)"
      ],
      "metadata": {
        "colab": {
          "base_uri": "https://localhost:8080/"
        },
        "id": "nWdMKAndRWbl",
        "outputId": "0ad24e49-d38c-44af-8874-eb66e5f5179a"
      },
      "id": "nWdMKAndRWbl",
      "execution_count": 21,
      "outputs": [
        {
          "output_type": "stream",
          "name": "stderr",
          "text": [
            "WARNING:langchain_text_splitters.base:Created a chunk of size 1077, which is longer than the specified 1000\n"
          ]
        },
        {
          "output_type": "execute_result",
          "data": {
            "text/plain": [
              "50"
            ]
          },
          "metadata": {},
          "execution_count": 21
        }
      ]
    },
    {
      "cell_type": "code",
      "source": [
        "embedding_model = OpenAIEmbeddings(model=\"text-embedding-3-small\")"
      ],
      "metadata": {
        "id": "7Z3cK37GfrAN"
      },
      "id": "7Z3cK37GfrAN",
      "execution_count": 14,
      "outputs": []
    },
    {
      "cell_type": "code",
      "source": [
        "from google.colab import userdata\n",
        "QDRANT_API_KEY= userdata.get('QDRANT_API_KEY')\n",
        "QDRANT_URL=\"\"\n",
        "QDRANT_API_KEY=\"\""
      ],
      "metadata": {
        "id": "HOVvYwobdlHu"
      },
      "id": "HOVvYwobdlHu",
      "execution_count": 38,
      "outputs": []
    },
    {
      "cell_type": "code",
      "source": [
        "import qdrant_client\n",
        "from qdrant_client import QdrantClient\n",
        "from qdrant_client.models import Distance, VectorParams\n",
        "\n",
        "client = QdrantClient(\n",
        "    QDRANT_URL,\n",
        "    api_key = QDRANT_API_KEY\n",
        ")\n",
        "\n",
        "QDRANT_COLLECTION = \"agentic_collection\"\n",
        "collection_config = qdrant_client.http.models.VectorParams(\n",
        "        size=1536, # 768 for instructor-xl, 1536 for OpenAI # 384 for sentence trans= fastembed 768 for mpnet\n",
        "        distance=qdrant_client.http.models.Distance.COSINE\n",
        "    )\n",
        "client.recreate_collection(\n",
        "    collection_name = QDRANT_COLLECTION,\n",
        "    vectors_config=collection_config\n",
        ")"
      ],
      "metadata": {
        "colab": {
          "base_uri": "https://localhost:8080/"
        },
        "id": "JaY5jXDpQRCO",
        "outputId": "74d22154-9ef2-4c4d-d37b-c8a8176980e7"
      },
      "id": "JaY5jXDpQRCO",
      "execution_count": 39,
      "outputs": [
        {
          "output_type": "stream",
          "name": "stderr",
          "text": [
            "/tmp/ipython-input-3990674477.py:17: DeprecationWarning: `recreate_collection` method is deprecated and will be removed in the future. Use `collection_exists` to check collection existence and `create_collection` instead.\n",
            "  client.recreate_collection(\n"
          ]
        },
        {
          "output_type": "execute_result",
          "data": {
            "text/plain": [
              "True"
            ]
          },
          "metadata": {},
          "execution_count": 39
        }
      ]
    },
    {
      "cell_type": "code",
      "source": [
        "from langchain.vectorstores import Qdrant\n",
        "\n",
        "vectorstore = Qdrant(\n",
        "        client=client,\n",
        "        collection_name=QDRANT_COLLECTION,\n",
        "        embeddings=embedding_model\n",
        "    )\n",
        "texts = [doc.page_content for doc in doc_splits]\n",
        "vectorstore.add_texts(texts)\n",
        "retriever=vectorstore.as_retriever()"
      ],
      "metadata": {
        "id": "6uT3zoN8QQyW"
      },
      "id": "6uT3zoN8QQyW",
      "execution_count": 40,
      "outputs": []
    },
    {
      "cell_type": "code",
      "execution_count": 25,
      "id": "5c2a4092",
      "metadata": {
        "id": "5c2a4092"
      },
      "outputs": [],
      "source": [
        "retriever_tool = create_retriever_tool(\n",
        "    retriever,\n",
        "    \"document_understanding\",\n",
        "    \"Retrieve and provide insights on document content analysis and knowledge extraction\",\n",
        ")\n",
        "tools = [retriever_tool]"
      ]
    },
    {
      "cell_type": "code",
      "execution_count": 26,
      "id": "5b0ffede",
      "metadata": {
        "id": "5b0ffede"
      },
      "outputs": [],
      "source": [
        "class AgentState(TypedDict):\n",
        "    # The add_messages function defines how an update should be processed\n",
        "    # Default is to replace. add_messages says \"append\"\n",
        "    messages: Annotated[Sequence[BaseMessage], add_messages]"
      ]
    },
    {
      "cell_type": "code",
      "execution_count": 27,
      "id": "33cd3b20",
      "metadata": {
        "id": "33cd3b20"
      },
      "outputs": [],
      "source": [
        "### Edges\n",
        "def grade_documents(state) -> Literal[\"generate\", \"rewrite\"]:\n",
        "    \"\"\"\n",
        "    Determines whether the retrieved documents are relevant to the question.\n",
        "\n",
        "    Args:\n",
        "        state (messages): The current state\n",
        "\n",
        "    Returns:\n",
        "        str: A decision for whether the documents are relevant or not\n",
        "    \"\"\"\n",
        "\n",
        "    print(\"---CHECK RELEVANCE---\")\n",
        "\n",
        "    # Data model\n",
        "    class grade(BaseModel):\n",
        "        \"\"\"Binary score for relevance check.\"\"\"\n",
        "\n",
        "        binary_score: str = Field(description=\"Relevance score 'yes' or 'no'\")\n",
        "\n",
        "    # LLM\n",
        "    model = ChatOpenAI(temperature=0, model=\"gpt-4o\", streaming=True)\n",
        "\n",
        "    # LLM with tool and validation\n",
        "    llm_with_tool = model.with_structured_output(grade)\n",
        "\n",
        "\n",
        "    # Prompt\n",
        "    prompt = PromptTemplate(\n",
        "        template=\"\"\"You are a grader assessing relevance of a retrieved document to a user question. \\n\n",
        "        Here is the retrieved document: \\n\\n {context} \\n\\n\n",
        "        Here is the user question: {question} \\n\n",
        "        If the document contains keyword(s) then grade it as relevant. \\n\n",
        "        Give a binary score 'yes' or 'no' score to indicate whether the document is relevant to the question.\"\"\",\n",
        "        input_variables=[\"context\", \"question\"],\n",
        "    )\n",
        "\n",
        "    # Chain\n",
        "    chain = prompt | llm_with_tool\n",
        "\n",
        "    messages = state[\"messages\"]\n",
        "    last_message = messages[-1]\n",
        "\n",
        "    question = messages[0].content\n",
        "    docs = last_message.content\n",
        "\n",
        "    print(\"question: \", question)\n",
        "    print(\"context: \", docs)\n",
        "    scored_result = chain.invoke({\"question\": question, \"context\": docs})\n",
        "\n",
        "    score = scored_result.binary_score\n",
        "\n",
        "    if score == \"yes\":\n",
        "        print(\"---DECISION: DOCS RELEVANT---\")\n",
        "        return \"generate\"\n",
        "\n",
        "    else:\n",
        "        print(\"---DECISION: DOCS NOT RELEVANT---\")\n",
        "        print(score)\n",
        "        return \"rewrite\""
      ]
    },
    {
      "cell_type": "code",
      "execution_count": 28,
      "id": "00d5c686",
      "metadata": {
        "colab": {
          "base_uri": "https://localhost:8080/"
        },
        "id": "00d5c686",
        "outputId": "13fa95bb-eaa0-4313-d526-ba2e8fc4b3a1"
      },
      "outputs": [
        {
          "output_type": "stream",
          "name": "stdout",
          "text": [
            "********************Prompt[rlm/rag-prompt]********************\n",
            "================================\u001b[1m Human Message \u001b[0m=================================\n",
            "\n",
            "You are an assistant for question-answering tasks. Use the following pieces of retrieved context to answer the question. If you don't know the answer, just say that you don't know. Use three sentences maximum and keep the answer concise.\n",
            "Question: \u001b[33;1m\u001b[1;3m{question}\u001b[0m \n",
            "Context: \u001b[33;1m\u001b[1;3m{context}\u001b[0m \n",
            "Answer:\n"
          ]
        },
        {
          "output_type": "stream",
          "name": "stderr",
          "text": [
            "/usr/local/lib/python3.11/dist-packages/langsmith/client.py:272: LangSmithMissingAPIKeyWarning: API key must be provided when using hosted LangSmith API\n",
            "  warnings.warn(\n"
          ]
        }
      ],
      "source": [
        "### Nodes\n",
        "def agent(state):\n",
        "    \"\"\"\n",
        "    Invokes the agent model to generate a response based on the current state. Given\n",
        "    the question, it will decide to retrieve using the retriever tool, or simply end.\n",
        "\n",
        "    Args:\n",
        "        state (messages): The current state\n",
        "\n",
        "    Returns:\n",
        "        dict: The updated state with the agent response appended to messages\n",
        "    \"\"\"\n",
        "    print(\"---CALL AGENT---\")\n",
        "    messages = state[\"messages\"]\n",
        "    model = ChatOpenAI(temperature=0, streaming=True, model=\"gpt-4o\")\n",
        "    model = model.bind_tools(tools)\n",
        "    response = model.invoke(messages)\n",
        "    # We return a list, because this will get added to the existing list\n",
        "    return {\"messages\": [response]}\n",
        "\n",
        "\n",
        "def rewrite(state):\n",
        "    \"\"\"\n",
        "    Transform the query to produce a better question.\n",
        "\n",
        "    Args:\n",
        "        state (messages): The current state\n",
        "\n",
        "    Returns:\n",
        "        dict: The updated state with re-phrased question\n",
        "    \"\"\"\n",
        "\n",
        "    print(\"---TRANSFORM QUERY---\")\n",
        "    messages = state[\"messages\"]\n",
        "    question = messages[0].content\n",
        "\n",
        "    msg = [\n",
        "        HumanMessage(\n",
        "            content=f\"\"\" \\n\n",
        "    Look at the input and try to reason about the underlying semantic intent / meaning. \\n\n",
        "    Here is the initial question:\n",
        "    \\n ------- \\n\n",
        "    {question}\n",
        "    \\n ------- \\n\n",
        "    Formulate an improved question: \"\"\",\n",
        "        )\n",
        "    ]\n",
        "\n",
        "    # Grader\n",
        "    model = ChatOpenAI(temperature=0, model=\"gpt-4o\", streaming=True)\n",
        "    response = model.invoke(msg)\n",
        "    return {\"messages\": [response]}\n",
        "\n",
        "\n",
        "def generate(state):\n",
        "    \"\"\"\n",
        "    Generate answer\n",
        "\n",
        "    Args:\n",
        "        state (messages): The current state\n",
        "\n",
        "    Returns:\n",
        "         dict: The updated state with re-phrased question\n",
        "    \"\"\"\n",
        "    print(\"---GENERATE---\")\n",
        "    messages = state[\"messages\"]\n",
        "    question = messages[0].content\n",
        "    last_message = messages[-1]\n",
        "\n",
        "    docs = last_message.content\n",
        "\n",
        "    # Prompt\n",
        "    prompt = hub.pull(\"rlm/rag-prompt\")\n",
        "\n",
        "    # LLM\n",
        "    llm = ChatOpenAI(model_name=\"gpt-4o\", temperature=0, streaming=True)\n",
        "\n",
        "    # Post-processing\n",
        "    def format_docs(docs):\n",
        "        return \"\\n\\n\".join(doc.page_content for doc in docs)\n",
        "\n",
        "    # Chain\n",
        "    rag_chain = prompt | llm | StrOutputParser()\n",
        "\n",
        "    # Run\n",
        "    print(\"context: \", docs)\n",
        "    print(\"question: \", question)\n",
        "    response = rag_chain.invoke({\"context\": docs, \"question\": question})\n",
        "    return {\"messages\": [response]}\n",
        "\n",
        "\n",
        "print(\"*\" * 20 + \"Prompt[rlm/rag-prompt]\" + \"*\" * 20)\n",
        "prompt = hub.pull(\"rlm/rag-prompt\").pretty_print()  # Show what the prompt looks like\n"
      ]
    },
    {
      "cell_type": "code",
      "execution_count": 29,
      "id": "bd6a1131",
      "metadata": {
        "id": "bd6a1131"
      },
      "outputs": [],
      "source": [
        "# Define a new graph\n",
        "workflow = StateGraph(AgentState)\n",
        "\n",
        "# Define the nodes we will cycle between\n",
        "workflow.add_node(\"agent\", agent)  # agent\n",
        "retrieve = ToolNode([retriever_tool])\n",
        "workflow.add_node(\"retrieve\", retrieve)  # retrieval\n",
        "workflow.add_node(\"rewrite\", rewrite)  # Re-writing the question\n",
        "workflow.add_node(\n",
        "    \"generate\", generate\n",
        ")  # Generating a response after we know the documents are relevant\n",
        "# Call agent node to decide to retrieve or not\n",
        "workflow.add_edge(START, \"agent\")\n",
        "\n",
        "# Decide whether to retrieve\n",
        "workflow.add_conditional_edges(\n",
        "    \"agent\",\n",
        "    # Assess agent decision\n",
        "    tools_condition,\n",
        "    {\n",
        "        # Translate the condition outputs to nodes in our graph\n",
        "        \"tools\": \"retrieve\",\n",
        "        END: END,\n",
        "    },\n",
        ")\n",
        "\n",
        "# Edges taken after the `action` node is called.\n",
        "workflow.add_conditional_edges(\n",
        "    \"retrieve\",\n",
        "    # Assess agent decision\n",
        "    grade_documents,\n",
        ")\n",
        "workflow.add_edge(\"generate\", END)\n",
        "workflow.add_edge(\"rewrite\", \"agent\")\n",
        "\n",
        "# Compile\n",
        "graph = workflow.compile()\n"
      ]
    },
    {
      "cell_type": "code",
      "source": [
        "from IPython.display import Image, display\n",
        "\n",
        "try:\n",
        "    display(Image(graph.get_graph(xray=True).draw_mermaid_png()))\n",
        "except Exception:\n",
        "    # This requires some extra dependencies and is optional\n",
        "    pass"
      ],
      "metadata": {
        "colab": {
          "base_uri": "https://localhost:8080/",
          "height": 473
        },
        "id": "iP5IM0qhcrQx",
        "outputId": "edb939ac-698d-4979-fa57-9e771d93b370"
      },
      "id": "iP5IM0qhcrQx",
      "execution_count": 30,
      "outputs": [
        {
          "output_type": "display_data",
          "data": {
            "image/png": "[encoded data removed]",
            "text/plain": [
              "<IPython.core.display.Image object>"
            ]
          },
          "metadata": {}
        }
      ]
    },
    {
      "cell_type": "code",
      "execution_count": 32,
      "id": "ae730429",
      "metadata": {
        "id": "ae730429",
        "colab": {
          "base_uri": "https://localhost:8080/"
        },
        "outputId": "525b0cf5-1315-4941-c341-4e7d178eb83f"
      },
      "outputs": [
        {
          "output_type": "stream",
          "name": "stdout",
          "text": [
            "---CALL AGENT---\n",
            "\"Output from node 'agent':\"\n",
            "'---'\n",
            "{ 'messages': [ AIMessage(content='', additional_kwargs={'tool_calls': [{'index': 0, 'id': 'call_orodPM8UEjVSn7vR8uGQ2g2B', 'function': {'arguments': '{\"query\": \"graph construction for GNN component in stock analysis\"}', 'name': 'document_understanding'}, 'type': 'function'}, {'index': 1, 'id': 'call_w2YvW3VYPvUg5IWY0C9C1gvn', 'function': {'arguments': '{\"query\": \"metrics used to define relationships between stocks in GNN\"}', 'name': 'document_understanding'}, 'type': 'function'}]}, response_metadata={'finish_reason': 'tool_calls', 'model_name': 'gpt-4o-2024-08-06', 'system_fingerprint': 'fp_07871e2ad8', 'service_tier': 'default'}, id='run--6d4ebeb9-60b9-4ce5-88a9-a11abeaa01a5-0', tool_calls=[{'name': 'document_understanding', 'args': {'query': 'graph construction for GNN component in stock analysis'}, 'id': 'call_orodPM8UEjVSn7vR8uGQ2g2B', 'type': 'tool_call'}, {'name': 'document_understanding', 'args': {'query': 'metrics used to define relationships between stocks in GNN'}, 'id': 'call_w2YvW3VYPvUg5IWY0C9C1gvn', 'type': 'tool_call'}])]}\n",
            "'\\n---\\n'\n",
            "---CHECK RELEVANCE---\n",
            "question:  \n",
            "        How is the graph constructed for the GNN component, and what metrics are used to define relationships between stocks?\n",
            "        \n",
            "context:  For the GNN component, a graph representing relationships between stocks was constructed. Each node represented a stock, and edges represented relationships based on Pearson correlation coefficients and association analysis. Pearson correlation captured linear relationships by calculating the correlation coefficients between the daily returns of stock pairs, while association analysis identified non-linear and complex relationships. Combining these methods provided a comprehensive representation of inter-stock relationships, crucial for modelling the interconnected nature of the stock market.\n",
            "\n",
            "3.1.2 Data Preprocessing\n",
            "\n",
            "Data preprocessing focused on scaling and structuring the data. The raw data was clean, with no missing values or significant outliers. Min-Max Scaling was applied to normalise the data. Specifically, each stock price \\( x \\) was transformed to a normalised value \\( x' \\) in the range [0, 1] using\n",
            "\n",
            "\\[ x' = \\frac{x - x_{\\text{min}}}{x_{\\text{max}} - x_{\\text{min}}}, \\]\n",
            "\n",
            "GNNs are essential for analysing stock relationships by capturing dependencies between stocks, modelling the interconnections that traditional methods overlook. (Shi et al. 2024) developed a graph-based GCN-LSTM model integrating relational data with time-series analysis, achieving more accurate predictions by leveraging GNN to capture stock interconnections. Other studies have emphasised the importance of capturing relational dependencies using Graph Convolutional Networks (GCN), showing that GCN outperforms traditional time-series models by considering both temporal and relational dynamics (Singh et al. 2021, Chen et al. 2018). These findings illustrate that GNNs improve stock market predictions by capturing complex relationships between stocks, and when combined with models such as LSTM, they effectively handle both relational and temporal dynamics.\n",
            "\n",
            "**3.2 Graphical Representation of the Stock Network**\n",
            "\n",
            "- Stocks were modeled using a graph \\( G = (V, E) \\) where each vertex \\( v \\in V \\) represents a stock, and each edge \\( e \\in E \\) represents a significant relationship between two stocks.\n",
            "- Pearson correlation coefficients were calculated between daily returns of stock pairs to quantify linear relationships.\n",
            "- Daily return \\( r_t \\) for a stock at time \\( t \\) was computed as:\n",
            "\n",
            "  \\[\n",
            "  r_t = \\frac{P_t - P_{t-1}}{P_{t-1}}\n",
            "  \\]\n",
            "\n",
            "  where \\( P_t \\) is the closing price at time \\( t \\).\n",
            "\n",
            "- Pearson correlation coefficient \\( \\rho_{ij} \\) between stocks \\( i \\) and \\( j \\) was computed as:\n",
            "\n",
            "  \\[\n",
            "  \\rho_{ij} = \\frac{\\sum_{t=1}^{n} (r_{i,t} - \\bar{r_i})(r_{j,t} - \\bar{r_j})}{\\sqrt{\\sum_{t=1}^{n} (r_{i,t} - \\bar{r_i})^2} \\sqrt{\\sum_{t=1}^{n} (r_{j,t} - \\bar{r_j})^2}}\n",
            "  \\]\n",
            "\n",
            "**3.4 GNN Component**\n",
            "\n",
            "- The GNN component modeled relational dependencies among stocks based on the constructed graph.\n",
            "- Architecture included an input layer that received the stock graph and initial node features.\n",
            "---DECISION: DOCS RELEVANT---\n",
            "\"Output from node 'retrieve':\"\n",
            "'---'\n",
            "{ 'messages': [ ToolMessage(content=\"**3.4 GNN Component**\\n\\n- The GNN component modeled relational dependencies among stocks based on the constructed graph.\\n- Architecture included an input layer that received the stock graph and initial node features.\\n\\nFor the GNN component, a graph representing relationships between stocks was constructed. Each node represented a stock, and edges represented relationships based on Pearson correlation coefficients and association analysis. Pearson correlation captured linear relationships by calculating the correlation coefficients between the daily returns of stock pairs, while association analysis identified non-linear and complex relationships. Combining these methods provided a comprehensive representation of inter-stock relationships, crucial for modelling the interconnected nature of the stock market.\\n\\n3.1.2 Data Preprocessing\\n\\nData preprocessing focused on scaling and structuring the data. The raw data was clean, with no missing values or significant outliers. Min-Max Scaling was applied to normalise the data. Specifically, each stock price \\\\( x \\\\) was transformed to a normalised value \\\\( x' \\\\) in the range [0, 1] using\\n\\n\\\\[ x' = \\\\frac{x - x_{\\\\text{min}}}{x_{\\\\text{max}} - x_{\\\\text{min}}}, \\\\]\\n\\nGNNs are essential for analysing stock relationships by capturing dependencies between stocks, modelling the interconnections that traditional methods overlook. (Shi et al. 2024) developed a graph-based GCN-LSTM model integrating relational data with time-series analysis, achieving more accurate predictions by leveraging GNN to capture stock interconnections. Other studies have emphasised the importance of capturing relational dependencies using Graph Convolutional Networks (GCN), showing that GCN outperforms traditional time-series models by considering both temporal and relational dynamics (Singh et al. 2021, Chen et al. 2018). These findings illustrate that GNNs improve stock market predictions by capturing complex relationships between stocks, and when combined with models such as LSTM, they effectively handle both relational and temporal dynamics.\\n\\n**3.3 LSTM Component**\\n\\n- The LSTM network captured temporal dependencies in stock prices by processing sequences of historical data.\\n- Architecture included an input layer for normalized closing price sequences over optimized time windows.\\n- Multiple LSTM layers were stacked to learn complex temporal patterns using gating mechanisms.\\n- A dense layer transformed LSTM outputs into feature vectors for integration with the GNN component.\\n- Hyperparameters such as learning rate, batch size, and number of epochs were optimized through experimentation.\\n- Learning rates of 0.001, 0.005, and 0.01 were tested, with batch sizes of 11 and 21.\\n- Number of epochs varied between 10 and 50, using early stopping to prevent overfitting.\\n- The Adam optimizer was used for efficient training, and Mean Squared Error (MSE) served as the loss function.\\n\\n**3.4 GNN Component**\", name='document_understanding', id='6ec9ad91-d172-421f-9cf7-7b419c4bba54', tool_call_id='call_orodPM8UEjVSn7vR8uGQ2g2B'),\n",
            "                ToolMessage(content=\"For the GNN component, a graph representing relationships between stocks was constructed. Each node represented a stock, and edges represented relationships based on Pearson correlation coefficients and association analysis. Pearson correlation captured linear relationships by calculating the correlation coefficients between the daily returns of stock pairs, while association analysis identified non-linear and complex relationships. Combining these methods provided a comprehensive representation of inter-stock relationships, crucial for modelling the interconnected nature of the stock market.\\n\\n3.1.2 Data Preprocessing\\n\\nData preprocessing focused on scaling and structuring the data. The raw data was clean, with no missing values or significant outliers. Min-Max Scaling was applied to normalise the data. Specifically, each stock price \\\\( x \\\\) was transformed to a normalised value \\\\( x' \\\\) in the range [0, 1] using\\n\\n\\\\[ x' = \\\\frac{x - x_{\\\\text{min}}}{x_{\\\\text{max}} - x_{\\\\text{min}}}, \\\\]\\n\\nGNNs are essential for analysing stock relationships by capturing dependencies between stocks, modelling the interconnections that traditional methods overlook. (Shi et al. 2024) developed a graph-based GCN-LSTM model integrating relational data with time-series analysis, achieving more accurate predictions by leveraging GNN to capture stock interconnections. Other studies have emphasised the importance of capturing relational dependencies using Graph Convolutional Networks (GCN), showing that GCN outperforms traditional time-series models by considering both temporal and relational dynamics (Singh et al. 2021, Chen et al. 2018). These findings illustrate that GNNs improve stock market predictions by capturing complex relationships between stocks, and when combined with models such as LSTM, they effectively handle both relational and temporal dynamics.\\n\\n**3.2 Graphical Representation of the Stock Network**\\n\\n- Stocks were modeled using a graph \\\\( G = (V, E) \\\\) where each vertex \\\\( v \\\\in V \\\\) represents a stock, and each edge \\\\( e \\\\in E \\\\) represents a significant relationship between two stocks.\\n- Pearson correlation coefficients were calculated between daily returns of stock pairs to quantify linear relationships.\\n- Daily return \\\\( r_t \\\\) for a stock at time \\\\( t \\\\) was computed as:\\n\\n  \\\\[\\n  r_t = \\\\frac{P_t - P_{t-1}}{P_{t-1}}\\n  \\\\]\\n\\n  where \\\\( P_t \\\\) is the closing price at time \\\\( t \\\\).\\n\\n- Pearson correlation coefficient \\\\( \\\\rho_{ij} \\\\) between stocks \\\\( i \\\\) and \\\\( j \\\\) was computed as:\\n\\n  \\\\[\\n  \\\\rho_{ij} = \\\\frac{\\\\sum_{t=1}^{n} (r_{i,t} - \\\\bar{r_i})(r_{j,t} - \\\\bar{r_j})}{\\\\sqrt{\\\\sum_{t=1}^{n} (r_{i,t} - \\\\bar{r_i})^2} \\\\sqrt{\\\\sum_{t=1}^{n} (r_{j,t} - \\\\bar{r_j})^2}}\\n  \\\\]\\n\\n**3.4 GNN Component**\\n\\n- The GNN component modeled relational dependencies among stocks based on the constructed graph.\\n- Architecture included an input layer that received the stock graph and initial node features.\", name='document_understanding', id='37905d9b-c537-429a-b3b3-f3d37cf920a6', tool_call_id='call_w2YvW3VYPvUg5IWY0C9C1gvn')]}\n",
            "'\\n---\\n'\n",
            "---GENERATE---\n",
            "context:  For the GNN component, a graph representing relationships between stocks was constructed. Each node represented a stock, and edges represented relationships based on Pearson correlation coefficients and association analysis. Pearson correlation captured linear relationships by calculating the correlation coefficients between the daily returns of stock pairs, while association analysis identified non-linear and complex relationships. Combining these methods provided a comprehensive representation of inter-stock relationships, crucial for modelling the interconnected nature of the stock market.\n",
            "\n",
            "3.1.2 Data Preprocessing\n",
            "\n",
            "Data preprocessing focused on scaling and structuring the data. The raw data was clean, with no missing values or significant outliers. Min-Max Scaling was applied to normalise the data. Specifically, each stock price \\( x \\) was transformed to a normalised value \\( x' \\) in the range [0, 1] using\n",
            "\n",
            "\\[ x' = \\frac{x - x_{\\text{min}}}{x_{\\text{max}} - x_{\\text{min}}}, \\]\n",
            "\n",
            "GNNs are essential for analysing stock relationships by capturing dependencies between stocks, modelling the interconnections that traditional methods overlook. (Shi et al. 2024) developed a graph-based GCN-LSTM model integrating relational data with time-series analysis, achieving more accurate predictions by leveraging GNN to capture stock interconnections. Other studies have emphasised the importance of capturing relational dependencies using Graph Convolutional Networks (GCN), showing that GCN outperforms traditional time-series models by considering both temporal and relational dynamics (Singh et al. 2021, Chen et al. 2018). These findings illustrate that GNNs improve stock market predictions by capturing complex relationships between stocks, and when combined with models such as LSTM, they effectively handle both relational and temporal dynamics.\n",
            "\n",
            "**3.2 Graphical Representation of the Stock Network**\n",
            "\n",
            "- Stocks were modeled using a graph \\( G = (V, E) \\) where each vertex \\( v \\in V \\) represents a stock, and each edge \\( e \\in E \\) represents a significant relationship between two stocks.\n",
            "- Pearson correlation coefficients were calculated between daily returns of stock pairs to quantify linear relationships.\n",
            "- Daily return \\( r_t \\) for a stock at time \\( t \\) was computed as:\n",
            "\n",
            "  \\[\n",
            "  r_t = \\frac{P_t - P_{t-1}}{P_{t-1}}\n",
            "  \\]\n",
            "\n",
            "  where \\( P_t \\) is the closing price at time \\( t \\).\n",
            "\n",
            "- Pearson correlation coefficient \\( \\rho_{ij} \\) between stocks \\( i \\) and \\( j \\) was computed as:\n",
            "\n",
            "  \\[\n",
            "  \\rho_{ij} = \\frac{\\sum_{t=1}^{n} (r_{i,t} - \\bar{r_i})(r_{j,t} - \\bar{r_j})}{\\sqrt{\\sum_{t=1}^{n} (r_{i,t} - \\bar{r_i})^2} \\sqrt{\\sum_{t=1}^{n} (r_{j,t} - \\bar{r_j})^2}}\n",
            "  \\]\n",
            "\n",
            "**3.4 GNN Component**\n",
            "\n",
            "- The GNN component modeled relational dependencies among stocks based on the constructed graph.\n",
            "- Architecture included an input layer that received the stock graph and initial node features.\n",
            "question:  \n",
            "        How is the graph constructed for the GNN component, and what metrics are used to define relationships between stocks?\n",
            "        \n"
          ]
        },
        {
          "output_type": "stream",
          "name": "stderr",
          "text": [
            "/usr/local/lib/python3.11/dist-packages/langsmith/client.py:272: LangSmithMissingAPIKeyWarning: API key must be provided when using hosted LangSmith API\n",
            "  warnings.warn(\n"
          ]
        },
        {
          "output_type": "stream",
          "name": "stdout",
          "text": [
            "\"Output from node 'generate':\"\n",
            "'---'\n",
            "{ 'messages': [ 'The graph for the GNN component is constructed with nodes '\n",
            "                'representing stocks and edges representing relationships '\n",
            "                'between them. These relationships are defined using Pearson '\n",
            "                'correlation coefficients to capture linear relationships and '\n",
            "                'association analysis to identify non-linear and complex '\n",
            "                'relationships. This combination provides a comprehensive '\n",
            "                'representation of inter-stock relationships.']}\n",
            "'\\n---\\n'\n"
          ]
        }
      ],
      "source": [
        "import pprint\n",
        "\n",
        "inputs = {\n",
        "    \"messages\": [\n",
        "        (\"user\", \"\"\"\n",
        "        How is the graph constructed for the GNN component, and what metrics are used to define relationships between stocks?\n",
        "        \"\"\"),\n",
        "    ]\n",
        "}\n",
        "for output in graph.stream(inputs):\n",
        "    for key, value in output.items():\n",
        "        pprint.pprint(f\"Output from node '{key}':\")\n",
        "        pprint.pprint(\"---\")\n",
        "        pprint.pprint(value, indent=2, width=80, depth=None)\n",
        "    pprint.pprint(\"\\n---\\n\")"
      ]
    },
    {
      "cell_type": "code",
      "execution_count": 31,
      "id": "a2413706",
      "metadata": {
        "colab": {
          "base_uri": "https://localhost:8080/"
        },
        "id": "a2413706",
        "outputId": "a89d6e1d-f8c5-4021-d43b-ef772163b441"
      },
      "outputs": [
        {
          "output_type": "stream",
          "name": "stdout",
          "text": [
            "---CALL AGENT---\n",
            "\"Output from node 'agent':\"\n",
            "'---'\n",
            "{ 'messages': [ AIMessage(content='', additional_kwargs={'tool_calls': [{'index': 0, 'id': 'call_wtkFsHQ6KTgihfM7xWJpvdBX', 'function': {'arguments': '{\"query\":\"MSE of CNN in figure 5\"}', 'name': 'document_understanding'}, 'type': 'function'}]}, response_metadata={'finish_reason': 'tool_calls', 'model_name': 'gpt-4o-2024-08-06', 'system_fingerprint': 'fp_07871e2ad8', 'service_tier': 'default'}, id='run--6fb0406c-431a-470f-91c4-eed77a92487b-0', tool_calls=[{'name': 'document_understanding', 'args': {'query': 'MSE of CNN in figure 5'}, 'id': 'call_wtkFsHQ6KTgihfM7xWJpvdBX', 'type': 'tool_call'}])]}\n",
            "'\\n---\\n'\n",
            "---CHECK RELEVANCE---\n",
            "question:  \n",
            "        who is MSE of CNN in the figure 5 ?\n",
            "        \n",
            "context:  **Heatmap Information:**\n",
            "\n",
            "- **Title:** MSE Heatmap for Models and Stocks\n",
            "- **Models:** Dense, CNN, Middle, LSTM, LSTM+GNN\n",
            "- **Stocks:** AAPL, MSFT, CMCSA, COST, QCOM, ADBE, SBUX, NTU, AMD, INTC\n",
            "- **Color Scale:** Ranges from 0.001 to 0.007\n",
            "\n",
            "**Figure Caption:**\n",
            "Figure 6: Heatmap of MSE values for different models across individual stocks.\n",
            "\n",
            "**Text Extract:**\n",
            "\n",
            "**4.6 Comparative Study**\n",
            "\n",
            "The comparative analysis demonstrates the clear advantages of the hybrid LSTM-GNN model over baseline models in predictive accuracy and robustness. While the standalone LSTM captured temporal dependencies effectively, it lacked the ability to model inter-stock relationships significantly influencing market behaviour. Incorporating the GNN component enabled the hybrid model to utilise relational data, capturing complex interactions between stocks and enhancing predictions.\n",
            "\n",
            "4.5 Comparison with Baseline Models\n",
            "\n",
            "The hybrid LSTM-GNN model was evaluated against several baseline models, including Linear Regression, CNN, DNN, and a standalone LSTM. The hybrid model outperformed all baselines in terms of MSE.\n",
            "\n",
            "- Hybrid LSTM-GNN: MSE of 0.00144\n",
            "- Linear Regression: MSE of 0.00224\n",
            "- Standalone LSTM: MSE of 0.00161\n",
            "- CNN: MSE of 0.00302\n",
            "- DNN: MSE of 0.00335\n",
            "\n",
            "The hybrid model consistently achieved lower MSE values across all stocks, demonstrating robustness and generalizability. It performed well for stocks like CMCSA, AMD, and INTC, while CNN and DNN models had higher MSE values, especially for more volatile stocks.\n",
            "\n",
            "Figure 5: Comparison of MSE values across different models.\n",
            "\n",
            "- **Evaluation Metric**: Mean Squared Error (MSE) defined as:\n",
            "\n",
            "  \\[\n",
            "  \\text{MSE} = \\frac{1}{n} \\sum_{i=1}^{n} (\\hat{y}_i - y_i)^2\n",
            "  \\]\n",
            "\n",
            "  where \\( n \\) is the number of predictions, \\( \\hat{y}_i \\) is the predicted stock price, and \\( y_i \\) is the actual stock price.\n",
            "\n",
            "- **Performance Analysis**:\n",
            "  - The model effectively integrated time-series and relational data.\n",
            "  - Consistently low MSE values were observed, with spikes on November 10, 2022, and November 30, 2022, due to market volatility.\n",
            "\n",
            "- **Figure 4**: Displays MSE values across all test days using the best parameter configuration.\n",
            "\n",
            "Linear Regression, as a simple baseline model, showed limitations in capturing non-linear relationships and temporal dependencies, resulting in an MSE of 0.00224. Although its MSE was lower than that of the CNN and DNN models, it was less effective than the LSTM-based models due to its inability to model the intricate dynamics of stock markets. These limitations were especially evident in more volatile stocks, where Linear Regression struggled with complex market movements.\n",
            "\n",
            "A key factor driving the hybrid model superior performance was the expanding window training approach. This method progressively increased the training dataset by incorporating new data as it became available, enabling the model to remain up-to-date with recent market trends. Retraining with the most current data enabled the hybrid LSTM-GNN to continuously adapt to changes in market behaviour.\n",
            "---DECISION: DOCS RELEVANT---\n",
            "\"Output from node 'retrieve':\"\n",
            "'---'\n",
            "{ 'messages': [ ToolMessage(content='**Heatmap Information:**\\n\\n- **Title:** MSE Heatmap for Models and Stocks\\n- **Models:** Dense, CNN, Middle, LSTM, LSTM+GNN\\n- **Stocks:** AAPL, MSFT, CMCSA, COST, QCOM, ADBE, SBUX, NTU, AMD, INTC\\n- **Color Scale:** Ranges from 0.001 to 0.007\\n\\n**Figure Caption:**\\nFigure 6: Heatmap of MSE values for different models across individual stocks.\\n\\n**Text Extract:**\\n\\n**4.6 Comparative Study**\\n\\nThe comparative analysis demonstrates the clear advantages of the hybrid LSTM-GNN model over baseline models in predictive accuracy and robustness. While the standalone LSTM captured temporal dependencies effectively, it lacked the ability to model inter-stock relationships significantly influencing market behaviour. Incorporating the GNN component enabled the hybrid model to utilise relational data, capturing complex interactions between stocks and enhancing predictions.\\n\\n4.5 Comparison with Baseline Models\\n\\nThe hybrid LSTM-GNN model was evaluated against several baseline models, including Linear Regression, CNN, DNN, and a standalone LSTM. The hybrid model outperformed all baselines in terms of MSE.\\n\\n- Hybrid LSTM-GNN: MSE of 0.00144\\n- Linear Regression: MSE of 0.00224\\n- Standalone LSTM: MSE of 0.00161\\n- CNN: MSE of 0.00302\\n- DNN: MSE of 0.00335\\n\\nThe hybrid model consistently achieved lower MSE values across all stocks, demonstrating robustness and generalizability. It performed well for stocks like CMCSA, AMD, and INTC, while CNN and DNN models had higher MSE values, especially for more volatile stocks.\\n\\nFigure 5: Comparison of MSE values across different models.\\n\\n- **Evaluation Metric**: Mean Squared Error (MSE) defined as:\\n\\n  \\\\[\\n  \\\\text{MSE} = \\\\frac{1}{n} \\\\sum_{i=1}^{n} (\\\\hat{y}_i - y_i)^2\\n  \\\\]\\n\\n  where \\\\( n \\\\) is the number of predictions, \\\\( \\\\hat{y}_i \\\\) is the predicted stock price, and \\\\( y_i \\\\) is the actual stock price.\\n\\n- **Performance Analysis**:\\n  - The model effectively integrated time-series and relational data.\\n  - Consistently low MSE values were observed, with spikes on November 10, 2022, and November 30, 2022, due to market volatility.\\n\\n- **Figure 4**: Displays MSE values across all test days using the best parameter configuration.\\n\\nLinear Regression, as a simple baseline model, showed limitations in capturing non-linear relationships and temporal dependencies, resulting in an MSE of 0.00224. Although its MSE was lower than that of the CNN and DNN models, it was less effective than the LSTM-based models due to its inability to model the intricate dynamics of stock markets. These limitations were especially evident in more volatile stocks, where Linear Regression struggled with complex market movements.\\n\\nA key factor driving the hybrid model superior performance was the expanding window training approach. This method progressively increased the training dataset by incorporating new data as it became available, enabling the model to remain up-to-date with recent market trends. Retraining with the most current data enabled the hybrid LSTM-GNN to continuously adapt to changes in market behaviour.', name='document_understanding', id='7f28343b-0dcb-40d1-834e-50c0a50a995b', tool_call_id='call_wtkFsHQ6KTgihfM7xWJpvdBX')]}\n",
            "'\\n---\\n'\n",
            "---GENERATE---\n",
            "context:  **Heatmap Information:**\n",
            "\n",
            "- **Title:** MSE Heatmap for Models and Stocks\n",
            "- **Models:** Dense, CNN, Middle, LSTM, LSTM+GNN\n",
            "- **Stocks:** AAPL, MSFT, CMCSA, COST, QCOM, ADBE, SBUX, NTU, AMD, INTC\n",
            "- **Color Scale:** Ranges from 0.001 to 0.007\n",
            "\n",
            "**Figure Caption:**\n",
            "Figure 6: Heatmap of MSE values for different models across individual stocks.\n",
            "\n",
            "**Text Extract:**\n",
            "\n",
            "**4.6 Comparative Study**\n",
            "\n",
            "The comparative analysis demonstrates the clear advantages of the hybrid LSTM-GNN model over baseline models in predictive accuracy and robustness. While the standalone LSTM captured temporal dependencies effectively, it lacked the ability to model inter-stock relationships significantly influencing market behaviour. Incorporating the GNN component enabled the hybrid model to utilise relational data, capturing complex interactions between stocks and enhancing predictions.\n",
            "\n",
            "4.5 Comparison with Baseline Models\n",
            "\n",
            "The hybrid LSTM-GNN model was evaluated against several baseline models, including Linear Regression, CNN, DNN, and a standalone LSTM. The hybrid model outperformed all baselines in terms of MSE.\n",
            "\n",
            "- Hybrid LSTM-GNN: MSE of 0.00144\n",
            "- Linear Regression: MSE of 0.00224\n",
            "- Standalone LSTM: MSE of 0.00161\n",
            "- CNN: MSE of 0.00302\n",
            "- DNN: MSE of 0.00335\n",
            "\n",
            "The hybrid model consistently achieved lower MSE values across all stocks, demonstrating robustness and generalizability. It performed well for stocks like CMCSA, AMD, and INTC, while CNN and DNN models had higher MSE values, especially for more volatile stocks.\n",
            "\n",
            "Figure 5: Comparison of MSE values across different models.\n",
            "\n",
            "- **Evaluation Metric**: Mean Squared Error (MSE) defined as:\n",
            "\n",
            "  \\[\n",
            "  \\text{MSE} = \\frac{1}{n} \\sum_{i=1}^{n} (\\hat{y}_i - y_i)^2\n",
            "  \\]\n",
            "\n",
            "  where \\( n \\) is the number of predictions, \\( \\hat{y}_i \\) is the predicted stock price, and \\( y_i \\) is the actual stock price.\n",
            "\n",
            "- **Performance Analysis**:\n",
            "  - The model effectively integrated time-series and relational data.\n",
            "  - Consistently low MSE values were observed, with spikes on November 10, 2022, and November 30, 2022, due to market volatility.\n",
            "\n",
            "- **Figure 4**: Displays MSE values across all test days using the best parameter configuration.\n",
            "\n",
            "Linear Regression, as a simple baseline model, showed limitations in capturing non-linear relationships and temporal dependencies, resulting in an MSE of 0.00224. Although its MSE was lower than that of the CNN and DNN models, it was less effective than the LSTM-based models due to its inability to model the intricate dynamics of stock markets. These limitations were especially evident in more volatile stocks, where Linear Regression struggled with complex market movements.\n",
            "\n",
            "A key factor driving the hybrid model superior performance was the expanding window training approach. This method progressively increased the training dataset by incorporating new data as it became available, enabling the model to remain up-to-date with recent market trends. Retraining with the most current data enabled the hybrid LSTM-GNN to continuously adapt to changes in market behaviour.\n",
            "question:  \n",
            "        who is MSE of CNN in the figure 5 ?\n",
            "        \n"
          ]
        },
        {
          "output_type": "stream",
          "name": "stderr",
          "text": [
            "/usr/local/lib/python3.11/dist-packages/langsmith/client.py:272: LangSmithMissingAPIKeyWarning: API key must be provided when using hosted LangSmith API\n",
            "  warnings.warn(\n"
          ]
        },
        {
          "output_type": "stream",
          "name": "stdout",
          "text": [
            "\"Output from node 'generate':\"\n",
            "'---'\n",
            "{'messages': ['The MSE of CNN in Figure 5 is 0.00302.']}\n",
            "'\\n---\\n'\n"
          ]
        }
      ],
      "source": [
        "import pprint\n",
        "\n",
        "inputs = {\n",
        "    \"messages\": [\n",
        "        (\"user\", \"\"\"\n",
        "        who is MSE of CNN in the figure 5 ?\n",
        "        \"\"\"),\n",
        "    ]\n",
        "}\n",
        "for output in graph.stream(inputs):\n",
        "    for key, value in output.items():\n",
        "        pprint.pprint(f\"Output from node '{key}':\")\n",
        "        pprint.pprint(\"---\")\n",
        "        pprint.pprint(value, indent=2, width=80, depth=None)\n",
        "    pprint.pprint(\"\\n---\\n\")"
      ]
    },
    {
      "cell_type": "code",
      "execution_count": 37,
      "id": "fed0e282",
      "metadata": {
        "id": "fed0e282",
        "colab": {
          "base_uri": "https://localhost:8080/"
        },
        "outputId": "849eb6d9-0f3b-44d3-cec1-36504a697551"
      },
      "outputs": [
        {
          "output_type": "stream",
          "name": "stdout",
          "text": [
            "---CALL AGENT---\n",
            "\"Output from node 'agent':\"\n",
            "'---'\n",
            "{ 'messages': [ AIMessage(content='', additional_kwargs={'tool_calls': [{'index': 0, 'id': 'call_AvQ7tFlDQbNbkBYhyQ0HSJj3', 'function': {'arguments': '{\"query\":\"highest MSE value in figure 4\"}', 'name': 'document_understanding'}, 'type': 'function'}]}, response_metadata={'finish_reason': 'tool_calls', 'model_name': 'gpt-4o-2024-08-06', 'system_fingerprint': 'fp_07871e2ad8', 'service_tier': 'default'}, id='run--605026a7-2674-4317-b3b4-8374b0e06729-0', tool_calls=[{'name': 'document_understanding', 'args': {'query': 'highest MSE value in figure 4'}, 'id': 'call_AvQ7tFlDQbNbkBYhyQ0HSJj3', 'type': 'tool_call'}])]}\n",
            "'\\n---\\n'\n",
            "---CHECK RELEVANCE---\n",
            "question:  \n",
            "        what could be the number of test day corresponding to the highest MSE value in figure 4?\n",
            "        \n",
            "context:  - **Evaluation Metric**: Mean Squared Error (MSE) defined as:\n",
            "\n",
            "  \\[\n",
            "  \\text{MSE} = \\frac{1}{n} \\sum_{i=1}^{n} (\\hat{y}_i - y_i)^2\n",
            "  \\]\n",
            "\n",
            "  where \\( n \\) is the number of predictions, \\( \\hat{y}_i \\) is the predicted stock price, and \\( y_i \\) is the actual stock price.\n",
            "\n",
            "- **Performance Analysis**:\n",
            "  - The model effectively integrated time-series and relational data.\n",
            "  - Consistently low MSE values were observed, with spikes on November 10, 2022, and November 30, 2022, due to market volatility.\n",
            "\n",
            "- **Figure 4**: Displays MSE values across all test days using the best parameter configuration.\n",
            "\n",
            "**Heatmap Information:**\n",
            "\n",
            "- **Title:** MSE Heatmap for Models and Stocks\n",
            "- **Models:** Dense, CNN, Middle, LSTM, LSTM+GNN\n",
            "- **Stocks:** AAPL, MSFT, CMCSA, COST, QCOM, ADBE, SBUX, NTU, AMD, INTC\n",
            "- **Color Scale:** Ranges from 0.001 to 0.007\n",
            "\n",
            "**Figure Caption:**\n",
            "Figure 6: Heatmap of MSE values for different models across individual stocks.\n",
            "\n",
            "**Text Extract:**\n",
            "\n",
            "**4.6 Comparative Study**\n",
            "\n",
            "The comparative analysis demonstrates the clear advantages of the hybrid LSTM-GNN model over baseline models in predictive accuracy and robustness. While the standalone LSTM captured temporal dependencies effectively, it lacked the ability to model inter-stock relationships significantly influencing market behaviour. Incorporating the GNN component enabled the hybrid model to utilise relational data, capturing complex interactions between stocks and enhancing predictions.\n",
            "\n",
            "4.5 Comparison with Baseline Models\n",
            "\n",
            "The hybrid LSTM-GNN model was evaluated against several baseline models, including Linear Regression, CNN, DNN, and a standalone LSTM. The hybrid model outperformed all baselines in terms of MSE.\n",
            "\n",
            "- Hybrid LSTM-GNN: MSE of 0.00144\n",
            "- Linear Regression: MSE of 0.00224\n",
            "- Standalone LSTM: MSE of 0.00161\n",
            "- CNN: MSE of 0.00302\n",
            "- DNN: MSE of 0.00335\n",
            "\n",
            "The hybrid model consistently achieved lower MSE values across all stocks, demonstrating robustness and generalizability. It performed well for stocks like CMCSA, AMD, and INTC, while CNN and DNN models had higher MSE values, especially for more volatile stocks.\n",
            "\n",
            "Figure 5: Comparison of MSE values across different models.\n",
            "\n",
            "**Text Extracted from Image:**\n",
            "\n",
            "Incorporated (QCOM), Adobe Inc. (ADBE), Starbucks Corporation (SBUX), Intuit Inc. (INTU), Advanced Micro Devices (AMD), and Intel Corporation (INTC). These stocks were chosen due to their significant market capitalisation and influence, ensuring broad applicability of the findings.\n",
            "\n",
            "The data spanned from January 1, 2005, to December 31, 2023, encompassing various market conditions and providing a robust dataset for model training and evaluation. Features extracted included daily open, high, low, close, adjusted close prices, and trading volume, offering a detailed view of market activity. Figure 1 shows an example of normalised closing prices for a sample stock, along with its 50-day and 200-day moving averages.\n",
            "\n",
            "Figure 1: Normalised closing prices of a sample stock with its 50-day and 200-day moving averages.\n",
            "\n",
            "3.1.1 Feature Engineering\n",
            "---DECISION: DOCS NOT RELEVANT---\n",
            "no\n",
            "\"Output from node 'retrieve':\"\n",
            "'---'\n",
            "{ 'messages': [ ToolMessage(content='- **Evaluation Metric**: Mean Squared Error (MSE) defined as:\\n\\n  \\\\[\\n  \\\\text{MSE} = \\\\frac{1}{n} \\\\sum_{i=1}^{n} (\\\\hat{y}_i - y_i)^2\\n  \\\\]\\n\\n  where \\\\( n \\\\) is the number of predictions, \\\\( \\\\hat{y}_i \\\\) is the predicted stock price, and \\\\( y_i \\\\) is the actual stock price.\\n\\n- **Performance Analysis**:\\n  - The model effectively integrated time-series and relational data.\\n  - Consistently low MSE values were observed, with spikes on November 10, 2022, and November 30, 2022, due to market volatility.\\n\\n- **Figure 4**: Displays MSE values across all test days using the best parameter configuration.\\n\\n**Heatmap Information:**\\n\\n- **Title:** MSE Heatmap for Models and Stocks\\n- **Models:** Dense, CNN, Middle, LSTM, LSTM+GNN\\n- **Stocks:** AAPL, MSFT, CMCSA, COST, QCOM, ADBE, SBUX, NTU, AMD, INTC\\n- **Color Scale:** Ranges from 0.001 to 0.007\\n\\n**Figure Caption:**\\nFigure 6: Heatmap of MSE values for different models across individual stocks.\\n\\n**Text Extract:**\\n\\n**4.6 Comparative Study**\\n\\nThe comparative analysis demonstrates the clear advantages of the hybrid LSTM-GNN model over baseline models in predictive accuracy and robustness. While the standalone LSTM captured temporal dependencies effectively, it lacked the ability to model inter-stock relationships significantly influencing market behaviour. Incorporating the GNN component enabled the hybrid model to utilise relational data, capturing complex interactions between stocks and enhancing predictions.\\n\\n4.5 Comparison with Baseline Models\\n\\nThe hybrid LSTM-GNN model was evaluated against several baseline models, including Linear Regression, CNN, DNN, and a standalone LSTM. The hybrid model outperformed all baselines in terms of MSE.\\n\\n- Hybrid LSTM-GNN: MSE of 0.00144\\n- Linear Regression: MSE of 0.00224\\n- Standalone LSTM: MSE of 0.00161\\n- CNN: MSE of 0.00302\\n- DNN: MSE of 0.00335\\n\\nThe hybrid model consistently achieved lower MSE values across all stocks, demonstrating robustness and generalizability. It performed well for stocks like CMCSA, AMD, and INTC, while CNN and DNN models had higher MSE values, especially for more volatile stocks.\\n\\nFigure 5: Comparison of MSE values across different models.\\n\\n**Text Extracted from Image:**\\n\\nIncorporated (QCOM), Adobe Inc. (ADBE), Starbucks Corporation (SBUX), Intuit Inc. (INTU), Advanced Micro Devices (AMD), and Intel Corporation (INTC). These stocks were chosen due to their significant market capitalisation and influence, ensuring broad applicability of the findings.\\n\\nThe data spanned from January 1, 2005, to December 31, 2023, encompassing various market conditions and providing a robust dataset for model training and evaluation. Features extracted included daily open, high, low, close, adjusted close prices, and trading volume, offering a detailed view of market activity. Figure 1 shows an example of normalised closing prices for a sample stock, along with its 50-day and 200-day moving averages.\\n\\nFigure 1: Normalised closing prices of a sample stock with its 50-day and 200-day moving averages.\\n\\n3.1.1 Feature Engineering', name='document_understanding', id='5e6753b9-5613-4729-a8b5-e04d72c677f9', tool_call_id='call_AvQ7tFlDQbNbkBYhyQ0HSJj3')]}\n",
            "'\\n---\\n'\n",
            "---TRANSFORM QUERY---\n",
            "\"Output from node 'rewrite':\"\n",
            "'---'\n",
            "{ 'messages': [ AIMessage(content='What is the test day associated with the highest Mean Squared Error (MSE) value shown in Figure 4?', additional_kwargs={}, response_metadata={'finish_reason': 'stop', 'model_name': 'gpt-4o-2024-08-06', 'system_fingerprint': 'fp_07871e2ad8', 'service_tier': 'default'}, id='run--b2158157-4e43-416f-a7ff-d1777f27b851-0')]}\n",
            "'\\n---\\n'\n",
            "---CALL AGENT---\n",
            "\"Output from node 'agent':\"\n",
            "'---'\n",
            "{ 'messages': [ AIMessage(content='The test days corresponding to the highest MSE values in Figure 4 are November 10, 2022, and November 30, 2022, due to market volatility.', additional_kwargs={}, response_metadata={'finish_reason': 'stop', 'model_name': 'gpt-4o-2024-08-06', 'system_fingerprint': 'fp_07871e2ad8', 'service_tier': 'default'}, id='run--b4b69c5b-1bf3-4691-a042-58c6e44eea3b-0')]}\n",
            "'\\n---\\n'\n"
          ]
        }
      ],
      "source": [
        "import pprint\n",
        "\n",
        "inputs = {\n",
        "    \"messages\": [\n",
        "        (\"user\", \"\"\"\n",
        "        what could be the number of test day corresponding to the highest MSE value in figure 4?\n",
        "        \"\"\"),\n",
        "    ]\n",
        "}\n",
        "for output in graph.stream(inputs):\n",
        "    for key, value in output.items():\n",
        "        pprint.pprint(f\"Output from node '{key}':\")\n",
        "        pprint.pprint(\"---\")\n",
        "        pprint.pprint(value, indent=2, width=80, depth=None)\n",
        "    pprint.pprint(\"\\n---\\n\")"
      ]
    },
    {
      "cell_type": "code",
      "source": [],
      "metadata": {
        "id": "vgBtUdvpePbw"
      },
      "id": "vgBtUdvpePbw",
      "execution_count": 15,
      "outputs": []
    },
    {
      "cell_type": "code",
      "source": [],
      "metadata": {
        "id": "Sag01HKhlFHJ"
      },
      "id": "Sag01HKhlFHJ",
      "execution_count": 24,
      "outputs": []
    },
    {
      "cell_type": "code",
      "source": [],
      "metadata": {
        "id": "bd-G3xpHlT1x"
      },
      "id": "bd-G3xpHlT1x",
      "execution_count": null,
      "outputs": []
    },
    {
      "cell_type": "code",
      "source": [],
      "metadata": {
        "id": "GCX3PV0Wnf8P"
      },
      "id": "GCX3PV0Wnf8P",
      "execution_count": null,
      "outputs": []
    }
  ],
  "metadata": {
    "kernelspec": {
      "display_name": "Python 3 (ipykernel)",
      "language": "python",
      "name": "python3"
    },
    "language_info": {
      "codemirror_mode": {
        "name": "ipython",
        "version": 3
      },
      "file_extension": ".py",
      "mimetype": "text/x-python",
      "name": "python",
      "nbconvert_exporter": "python",
      "pygments_lexer": "ipython3",
      "version": "3.11.4"
    },
    "colab": {
      "provenance": []
    }
  },
  "nbformat": 4,
  "nbformat_minor": 5
}
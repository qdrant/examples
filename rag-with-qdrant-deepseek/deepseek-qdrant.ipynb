{
 "cells": [
  {
   "cell_type": "markdown",
   "id": "be881a6d",
   "metadata": {
    "collapsed": true,
    "jupyter": {
     "outputs_hidden": true
    }
   },
   "source": [
    "# Minimal dependency RAG with DeepSeek and Qdrant\n",
    "\n",
    "In the rapidly advancing field of AI, Large Language Models have made significant strides in understanding and generating human-like text. To improve their factual accuracy, these models significantly benefit from an integration with external knowledge sources.\n",
    "\n",
    "Retrieval Augmented Generation (RAG) is a framework that combines LLMs with real-time retrieval of relevant information, ensuring more accurate and contextually relevant outputs.\n",
    "\n",
    "In this example, we'll showcase an implementation using the latest [DeepSeek-V3](https://www.deepseek.com) model. It leads the way among open-source models and competes with the best closed-source models worldwide."
   ]
  },
  {
   "cell_type": "markdown",
   "id": "bb044259",
   "metadata": {},
   "source": [
    "## Prerequisites\n",
    "\n",
    "Let's start setting up all the pieces to implement the pipeline. We'll try to do this with minimal dependencies. \n",
    "\n",
    "### Preparing the environment"
   ]
  },
  {
   "cell_type": "code",
   "execution_count": null,
   "id": "4ce9f81b",
   "metadata": {
    "ExecuteTime": {
     "end_time": "2023-09-27T10:06:32.977456Z",
     "start_time": "2023-09-27T10:06:30.203757Z"
    },
    "scrolled": true
   },
   "outputs": [],
   "source": [
    "%pip install \"qdrant-client[fastembed]\""
   ]
  },
  {
   "cell_type": "markdown",
   "id": "aae4382a",
   "metadata": {},
   "source": [
    "[Qdrant](https://qdrant.tech) will act as a knowledge base providing the context information for the prompts we'll be sending to the LLM.\n",
    "\n",
    "You can get a free-forever Qdrant cloud instance at http://cloud.qdrant.io. Learn about setting up your instance from the [Quickstart](https://qdrant.tech/documentation/quickstart-cloud/)."
   ]
  },
  {
   "cell_type": "code",
   "execution_count": null,
   "id": "e8f4456c",
   "metadata": {
    "ExecuteTime": {
     "end_time": "2023-09-27T10:06:34.283299Z",
     "start_time": "2023-09-27T10:06:32.980517Z"
    }
   },
   "outputs": [],
   "source": [
    "QDRANT_URL = \"https://xyz-example.eu-central.aws.cloud.qdrant.io:6333\"\n",
    "QDRANT_API_KEY = \"<your-api-key>\""
   ]
  },
  {
   "cell_type": "markdown",
   "id": "a74c7a21",
   "metadata": {},
   "source": [
    "### Instantiating Qdrant Client"
   ]
  },
  {
   "cell_type": "code",
   "execution_count": null,
   "id": "2dd8966b",
   "metadata": {
    "ExecuteTime": {
     "end_time": "2023-09-27T10:06:36.242783Z",
     "start_time": "2023-09-27T10:06:34.289290Z"
    }
   },
   "outputs": [],
   "source": [
    "from qdrant_client import QdrantClient, models\n",
    "\n",
    "client = QdrantClient(url=QDRANT_URL, api_key=QDRANT_API_KEY)"
   ]
  },
  {
   "cell_type": "markdown",
   "id": "23f54205",
   "metadata": {},
   "source": [
    "### Building the knowledge base\n",
    "\n",
    "Qdrant will use vector embeddings of our facts to enrich the original prompt with some context. Thus, we need to store the vector embeddings and the facts used to generate them.\n",
    "\n",
    "We'll be using the [bge-small-en-v1.5](https://huggingface.co/BAAI/bge-small-en-v1.5) model via [FastEmbed](https://github.com/qdrant/fastembed/) - A lightweight, fast, Python library for embeddings generation.\n",
    "\n",
    "The Qdrant client provides a handy integration with FastEmbed that makes building a knowledge base very straighforward.\n",
    "\n",
    "First, we need to create a collection, so Qdrant would know what vectors it will be dealing with, and then, we just pass our raw documents\n",
    "wrapped into `models.Document` to compute and upload the embeddings."
   ]
  },
  {
   "cell_type": "code",
   "execution_count": 5,
   "id": "43154775",
   "metadata": {
    "ExecuteTime": {
     "end_time": "2023-09-27T10:06:36.692231Z",
     "start_time": "2023-09-27T10:06:36.245915Z"
    }
   },
   "outputs": [],
   "source": [
    "collection_name = \"knowledge_base\"\n",
    "model_name = \"BAAI/bge-small-en-v1.5\"\n",
    "client.create_collection(\n",
    "    collection_name=collection_name,\n",
    "    vectors_config=models.VectorParams(size=384, distance=models.Distance.COSINE)\n",
    ")"
   ]
  },
  {
   "cell_type": "code",
   "execution_count": 6,
   "id": "7a71cb92-6033-4491-97c7-2649e056749e",
   "metadata": {},
   "outputs": [],
   "source": [
    "documents = [\n",
    "    \"Qdrant is a vector database & vector similarity search engine. It deploys as an API service providing search for the nearest high-dimensional vectors. With Qdrant, embeddings or neural network encoders can be turned into full-fledged applications for matching, searching, recommending, and much more!\",\n",
    "    \"Docker helps developers build, share, and run applications anywhere — without tedious environment configuration or management.\",\n",
    "    \"PyTorch is a machine learning framework based on the Torch library, used for applications such as computer vision and natural language processing.\",\n",
    "    \"MySQL is an open-source relational database management system (RDBMS). A relational database organizes data into one or more data tables in which data may be related to each other; these relations help structure the data. SQL is a language that programmers use to create, modify and extract data from the relational database, as well as control user access to the database.\",\n",
    "    \"NGINX is a free, open-source, high-performance HTTP server and reverse proxy, as well as an IMAP/POP3 proxy server. NGINX is known for its high performance, stability, rich feature set, simple configuration, and low resource consumption.\",\n",
    "    \"FastAPI is a modern, fast (high-performance), web framework for building APIs with Python 3.7+ based on standard Python type hints.\",\n",
    "    \"SentenceTransformers is a Python framework for state-of-the-art sentence, text and image embeddings. You can use this framework to compute sentence / text embeddings for more than 100 languages. These embeddings can then be compared e.g. with cosine-similarity to find sentences with a similar meaning. This can be useful for semantic textual similar, semantic search, or paraphrase mining.\",\n",
    "    \"The cron command-line utility is a job scheduler on Unix-like operating systems. Users who set up and maintain software environments use cron to schedule jobs (commands or shell scripts), also known as cron jobs, to run periodically at fixed times, dates, or intervals.\",\n",
    "]"
   ]
  },
  {
   "cell_type": "code",
   "execution_count": 9,
   "id": "e71e82dd-1077-4917-8811-3d819154b789",
   "metadata": {},
   "outputs": [
    {
     "name": "stderr",
     "output_type": "stream",
     "text": [
      "Fetching 5 files: 100%|██████████████████████████████████████████████████| 5/5 [00:16<00:00,  3.39s/it]\n"
     ]
    },
    {
     "data": {
      "text/plain": [
       "UpdateResult(operation_id=0, status=<UpdateStatus.COMPLETED: 'completed'>)"
      ]
     },
     "execution_count": 9,
     "metadata": {},
     "output_type": "execute_result"
    }
   ],
   "source": [
    "client.upsert(\n",
    "    collection_name=collection_name,\n",
    "    points=[\n",
    "        models.PointStruct(\n",
    "            id=idx,\n",
    "            vector=models.Document(text=document, model=model_name),\n",
    "            payload={\"document\": document},\n",
    "        )\n",
    "        for idx, document in enumerate(documents)\n",
    "    ],\n",
    ")"
   ]
  },
  {
   "cell_type": "markdown",
   "id": "b36bddd6",
   "metadata": {},
   "source": [
    "## Retrieval Augmented Generation\n",
    "\n",
    "RAG changes the way we interact with Large Language Models. We're converting a knowledge-oriented task, in which the model may create a counterfactual answer, into a language-oriented task. The latter expects the model to extract meaningful information and generate an answer. LLMs, when implemented correctly, are supposed to be carrying out language-oriented tasks.\n",
    "\n",
    "The task starts with the original prompt sent by the user. The same prompt is then vectorized and used as a search query for the most relevant facts. Those facts are combined with the original prompt to build a longer prompt containing more information.\n",
    "\n",
    "But let's start simply by asking our question directly."
   ]
  },
  {
   "cell_type": "code",
   "execution_count": 10,
   "id": "ed31ca63",
   "metadata": {
    "ExecuteTime": {
     "end_time": "2023-09-27T10:06:36.695165Z",
     "start_time": "2023-09-27T10:06:36.695150Z"
    }
   },
   "outputs": [],
   "source": [
    "prompt = \"\"\"\n",
    "What tools should I need to use to build a web service using vector embeddings for search?\n",
    "\"\"\""
   ]
  },
  {
   "cell_type": "markdown",
   "id": "e7d2d7dd",
   "metadata": {},
   "source": [
    "Using the Deepseek API requires providing the API key. You can obtain it from the [DeepSeek platform](https://platform.deepseek.com/api_keys)."
   ]
  },
  {
   "cell_type": "markdown",
   "id": "7bf5c684",
   "metadata": {},
   "source": [
    "Now we can finally call the completion API."
   ]
  },
  {
   "cell_type": "code",
   "execution_count": 11,
   "id": "84c12e72",
   "metadata": {},
   "outputs": [],
   "source": [
    "import requests\n",
    "import json\n",
    "\n",
    "# Fill the environmental variable with your own Deepseek API key\n",
    "# See: https://platform.deepseek.com/api_keys\n",
    "API_KEY = \"<YOUR_DEEPSEEK_KEY>\"\n",
    "\n",
    "HEADERS = {\n",
    "    \"Authorization\": f\"Bearer {API_KEY}\",\n",
    "    \"Content-Type\": \"application/json\",\n",
    "}\n",
    "\n",
    "\n",
    "def query_deepseek(prompt):\n",
    "    data = {\n",
    "        \"model\": \"deepseek-chat\",\n",
    "        \"messages\": [{\"role\": \"user\", \"content\": prompt}],\n",
    "        \"stream\": False,\n",
    "    }\n",
    "\n",
    "    response = requests.post(\n",
    "        \"https://api.deepseek.com/chat/completions\", headers=HEADERS, data=json.dumps(data)\n",
    "    )\n",
    "\n",
    "    if response.ok:\n",
    "        result = response.json()\n",
    "        return result[\"choices\"][0][\"message\"][\"content\"]\n",
    "    else:\n",
    "        raise Exception(f\"Error {response.status_code}: {response.text}\")\n"
   ]
  },
  {
   "cell_type": "code",
   "execution_count": 12,
   "id": "00b08932",
   "metadata": {},
   "outputs": [
    {
     "data": {
      "text/plain": [
       "'Building a web service that leverages **vector embeddings** for search involves several key components. Here\\'s a breakdown of the tools and technologies you\\'ll need:\\n\\n---\\n\\n### **1. Vector Database (Storage & Search)**\\nThese databases are optimized for storing and querying high-dimensional vectors (embeddings).\\n\\n- **Pinecone** – Managed vector database, easy to use with API.\\n- **Weaviate** – Open-source vector search with GraphQL API.\\n- **Milvus** / **Zilliz** – High-performance open-source vector DB.\\n- **Qdrant** – Rust-based, fast and scalable.\\n- **Chroma** – Lightweight, in-memory (good for prototyping).\\n- **FAISS** (by Meta) – Library for efficient similarity search (not a full DB).\\n- **Redis with RedisSearch** – Supports vector similarity search.\\n\\n**Choose based on:** Scalability, latency, cost, and ease of integration.\\n\\n---\\n\\n### **2. Embedding Model (Generating Vectors)**\\nConverts text/images into embeddings.\\n\\n- **OpenAI Embeddings** (`text-embedding-3-small/large`) – Easy API.\\n- **HuggingFace Models** (e.g., `all-MiniLM-L6-v2`, `bge-base-en`) – Free, self-hosted.\\n- **Cohere Embed** – Alternative to OpenAI.\\n- **Google’s Vertex AI** – PaLM-based embeddings.\\n- **Sentence Transformers** (Python library) – Local embedding generation.\\n\\n**Choose based on:** Cost, accuracy, and whether you need local inference.\\n\\n---\\n\\n### **3. Backend Framework**\\nHandles business logic, API endpoints, and interacts with the vector DB.\\n\\n- **Python**:  \\n  - FastAPI (recommended for async support)  \\n  - Flask (simpler, but synchronous)  \\n- **Node.js**:  \\n  - Express.js  \\n  - NestJS (for larger apps)  \\n- **Go**:  \\n  - Gin, Fiber (high performance)  \\n\\n---\\n\\n### **4. Frontend (Optional)**\\nIf you need a UI for search:\\n\\n- **React** / **Next.js** – For interactive UIs.\\n- **Vue.js** / **Svelte** – Lighter alternatives.\\n- **Streamlit** – Quick Python-based UI (for prototypes).\\n\\n---\\n\\n### **5. Deployment & Infrastructure**\\n- **Cloud Providers**:  \\n  - AWS (EC2, Lambda, Aurora)  \\n  - GCP (Vertex AI, Cloud Run)  \\n  - Azure (AI Search, Functions)  \\n- **Serverless**: Vercel, Netlify (frontend), Fly.io (backend).  \\n- **Containerization**: Docker + Kubernetes (for scaling).  \\n\\n---\\n\\n### **6. Additional Tools**\\n- **LangChain** / **LlamaIndex** – Simplify RAG (Retrieval-Augmented Generation) workflows.  \\n- **PostgreSQL with pgvector** – If you need SQL + vector search in one DB.  \\n- **Celery** / **Redis Queue** – For async task processing (e.g., batch embeddings).  \\n\\n---\\n\\n### **Example Workflow**\\n1. **Ingest Data**:  \\n   - Use `Sentence Transformers` or OpenAI to generate embeddings.  \\n   - Store embeddings in Pinecone/Weaviate.  \\n2. **Query Handling**:  \\n   - User submits a search query → backend converts it to an embedding.  \\n   - Vector DB finds nearest neighbors.  \\n3. **Return Results**:  \\n   - Backend ranks and formats results → sends to frontend.  \\n\\n---\\n\\n### **Quick Start (Python)**\\n```python\\n# Example using FastAPI + Sentence Transformers + Qdrant\\nfrom fastapi import FastAPI\\nfrom sentence_transformers import SentenceTransformer\\nfrom qdrant_client import QdrantClient\\n\\napp = FastAPI()\\nmodel = SentenceTransformer(\"all-MiniLM-L6-v2\")\\nclient = QdrantClient(\"localhost\", port=6333)\\n\\n@app.post(\"/search\")\\nasync def search(query: str):\\n    query_embedding = model.encode(query)\\n    results = client.search(collection_name=\"docs\", query_vector=query_embedding, top_k=5)\\n    return results\\n```\\n\\n---\\n\\n### **Final Recommendations**\\n- For **quick prototyping**: Use OpenAI + Pinecone + FastAPI.  \\n- For **self-hosted**: HuggingFace + Milvus/Weaviate.  \\n- For **scalability**: AWS/GCP + managed vector DB.  \\n\\nWould you like a deeper dive into any specific part?'"
      ]
     },
     "execution_count": 12,
     "metadata": {},
     "output_type": "execute_result"
    }
   ],
   "source": [
    "query_deepseek(prompt)"
   ]
  },
  {
   "cell_type": "markdown",
   "id": "b420d81d",
   "metadata": {},
   "source": [
    "### Extending the prompt\n",
    "\n",
    "Even though the original answer sounds credible, it didn't answer our question correctly. Instead, it gave us a generic description of an application stack. To improve the results, enriching the original prompt with the descriptions of the tools available seems like one of the possibilities. Let's use a semantic knowledge base to augment the prompt with the descriptions of different technologies!"
   ]
  },
  {
   "cell_type": "code",
   "execution_count": 14,
   "id": "ce791ba3",
   "metadata": {
    "ExecuteTime": {
     "end_time": "2023-09-27T10:06:36.702641Z",
     "start_time": "2023-09-27T10:06:36.702619Z"
    }
   },
   "outputs": [
    {
     "data": {
      "text/plain": [
       "QueryResponse(points=[ScoredPoint(id=0, version=0, score=0.67437416, payload={'document': 'Qdrant is a vector database & vector similarity search engine. It deploys as an API service providing search for the nearest high-dimensional vectors. With Qdrant, embeddings or neural network encoders can be turned into full-fledged applications for matching, searching, recommending, and much more!'}, vector=None, shard_key=None, order_value=None), ScoredPoint(id=6, version=0, score=0.63144326, payload={'document': 'SentenceTransformers is a Python framework for state-of-the-art sentence, text and image embeddings. You can use this framework to compute sentence / text embeddings for more than 100 languages. These embeddings can then be compared e.g. with cosine-similarity to find sentences with a similar meaning. This can be useful for semantic textual similar, semantic search, or paraphrase mining.'}, vector=None, shard_key=None, order_value=None), ScoredPoint(id=5, version=0, score=0.6064749, payload={'document': 'FastAPI is a modern, fast (high-performance), web framework for building APIs with Python 3.7+ based on standard Python type hints.'}, vector=None, shard_key=None, order_value=None)])"
      ]
     },
     "execution_count": 14,
     "metadata": {},
     "output_type": "execute_result"
    }
   ],
   "source": [
    "results = client.query_points(\n",
    "    collection_name=collection_name,\n",
    "    query=models.Document(text=prompt, model=model_name),\n",
    "    limit=3,\n",
    ")\n",
    "results"
   ]
  },
  {
   "cell_type": "markdown",
   "id": "c6640067",
   "metadata": {},
   "source": [
    "We used the original prompt to perform a semantic search over the set of tool descriptions. Now we can use these descriptions to augment the prompt and create more context."
   ]
  },
  {
   "cell_type": "code",
   "execution_count": 15,
   "id": "a16d8549",
   "metadata": {},
   "outputs": [
    {
     "data": {
      "text/plain": [
       "'Qdrant is a vector database & vector similarity search engine. It deploys as an API service providing search for the nearest high-dimensional vectors. With Qdrant, embeddings or neural network encoders can be turned into full-fledged applications for matching, searching, recommending, and much more!\\nSentenceTransformers is a Python framework for state-of-the-art sentence, text and image embeddings. You can use this framework to compute sentence / text embeddings for more than 100 languages. These embeddings can then be compared e.g. with cosine-similarity to find sentences with a similar meaning. This can be useful for semantic textual similar, semantic search, or paraphrase mining.\\nFastAPI is a modern, fast (high-performance), web framework for building APIs with Python 3.7+ based on standard Python type hints.'"
      ]
     },
     "execution_count": 15,
     "metadata": {},
     "output_type": "execute_result"
    }
   ],
   "source": [
    "context = \"\\n\".join(r.payload['document'] for r in results.points)\n",
    "context"
   ]
  },
  {
   "cell_type": "markdown",
   "id": "a2c04a4e",
   "metadata": {},
   "source": [
    "Finally, let's build a metaprompt, the combination of the assumed role of the LLM, the original question, and the results from our semantic search that will force our LLM to use the provided context. \n",
    "\n",
    "By doing this, we effectively convert the knowledge-oriented task into a language task and hopefully reduce the chances of hallucinations. It also should make the response sound more relevant."
   ]
  },
  {
   "cell_type": "code",
   "execution_count": 16,
   "id": "1fc9a98b",
   "metadata": {},
   "outputs": [
    {
     "name": "stdout",
     "output_type": "stream",
     "text": [
      "\n",
      "You are a software architect. \n",
      "Answer the following question using the provided context. \n",
      "If you can't find the answer, do not pretend you know it, but answer \"I don't know\".\n",
      "\n",
      "Question: What tools should I need to use to build a web service using vector embeddings for search?\n",
      "\n",
      "Context: \n",
      "Qdrant is a vector database & vector similarity search engine. It deploys as an API service providing search for the nearest high-dimensional vectors. With Qdrant, embeddings or neural network encoders can be turned into full-fledged applications for matching, searching, recommending, and much more!\n",
      "SentenceTransformers is a Python framework for state-of-the-art sentence, text and image embeddings. You can use this framework to compute sentence / text embeddings for more than 100 languages. These embeddings can then be compared e.g. with cosine-similarity to find sentences with a similar meaning. This can be useful for semantic textual similar, semantic search, or paraphrase mining.\n",
      "FastAPI is a modern, fast (high-performance), web framework for building APIs with Python 3.7+ based on standard Python type hints.\n",
      "\n",
      "Answer:\n",
      "\n"
     ]
    }
   ],
   "source": [
    "metaprompt = f\"\"\"\n",
    "You are a software architect. \n",
    "Answer the following question using the provided context. \n",
    "If you can't find the answer, do not pretend you know it, but answer \"I don't know\".\n",
    "\n",
    "Question: {prompt.strip()}\n",
    "\n",
    "Context: \n",
    "{context.strip()}\n",
    "\n",
    "Answer:\n",
    "\"\"\"\n",
    "\n",
    "# Look at the full metaprompt\n",
    "print(metaprompt)"
   ]
  },
  {
   "cell_type": "markdown",
   "id": "9f1a7678",
   "metadata": {},
   "source": [
    "Our current prompt is much longer, and we also used a couple of strategies to make the responses even better:\n",
    "\n",
    "1. The LLM has the role of software architect.\n",
    "2. We provide more context to answer the question.\n",
    "3. If the context contains no meaningful information, the model shouldn't make up an answer.\n",
    "\n",
    "Let's find out if that works as expected."
   ]
  },
  {
   "cell_type": "code",
   "execution_count": 17,
   "id": "709b9f38",
   "metadata": {},
   "outputs": [
    {
     "data": {
      "text/plain": [
       "'To build a web service using vector embeddings for search, you will need the following tools based on the provided context:\\n\\n1. **Qdrant**: A vector database and similarity search engine to store and retrieve high-dimensional vectors efficiently. It provides the API service for nearest-neighbor search.\\n\\n2. **SentenceTransformers**: A Python framework to generate state-of-the-art sentence or text embeddings. You can use this to convert your text data into vector representations (embeddings) for search.\\n\\n3. **FastAPI**: A modern Python web framework to build the API layer for your web service. It will handle HTTP requests, interact with Qdrant, and serve search results to clients.\\n\\n### Optional but helpful tools:\\n- A machine learning model (e.g., from Hugging Face) if you need custom embeddings.\\n- A frontend framework (e.g., React, Vue.js) if you need a user interface.\\n- Docker for containerization and deployment.\\n\\nWould you like more details on any of these tools?'"
      ]
     },
     "execution_count": 17,
     "metadata": {},
     "output_type": "execute_result"
    }
   ],
   "source": [
    "query_deepseek(metaprompt)"
   ]
  },
  {
   "cell_type": "markdown",
   "id": "1c4120e1-9899-4caa-b974-51d9b3a485be",
   "metadata": {},
   "source": [
    "### Testing out the RAG pipeline\n",
    "\n",
    "By leveraging the semantic context we provided our model is doing a better job answering the question. Let's enclose the RAG as a function, so we can call it more easily for different prompts."
   ]
  },
  {
   "cell_type": "code",
   "execution_count": 18,
   "id": "62ed09d1-2c90-4ffc-9f1d-7beb87bab78b",
   "metadata": {},
   "outputs": [],
   "source": [
    "def rag(question: str, n_points: int = 3) -> str:\n",
    "    results = client.query_points(\n",
    "        collection_name=collection_name,\n",
    "        query=models.Document(text=question, model=model_name),\n",
    "        limit=n_points,\n",
    "    )\n",
    "\n",
    "    context = \"\\n\".join(r.payload[\"document\"] for r in results.points)\n",
    "\n",
    "    metaprompt = f\"\"\"\n",
    "    You are a software architect. \n",
    "    Answer the following question using the provided context. \n",
    "    If you can't find the answer, do not pretend you know it, but only answer \"I don't know\".\n",
    "\n",
    "    Question: {question.strip()}\n",
    "\n",
    "    Context: \n",
    "    {context.strip()}\n",
    "\n",
    "    Answer:\n",
    "    \"\"\"\n",
    "\n",
    "    return query_deepseek(metaprompt)"
   ]
  },
  {
   "cell_type": "markdown",
   "id": "86fecd76-9a0b-4ad1-9097-b1d292a618ac",
   "metadata": {},
   "source": [
    "Now it's easier to ask a broad range of questions."
   ]
  },
  {
   "cell_type": "code",
   "execution_count": 19,
   "id": "aa0fdead-a115-4fcd-88dc-5cc718dc0544",
   "metadata": {},
   "outputs": [
    {
     "data": {
      "text/plain": [
       "\"Based on the provided context, a possible stack for a web API could include:\\n\\n1. **Framework**: FastAPI (for building the API with Python)\\n2. **Web Server/Reverse Proxy**: NGINX (to handle HTTP requests and serve as a reverse proxy)\\n3. **Database**: MySQL (as the relational database management system)\\n\\nThis stack would look like:  \\n**FastAPI + NGINX + MySQL**  \\n\\nAdditional components (not mentioned in the context but often used in such stacks) might include:\\n- A cloud provider or server (e.g., AWS, GCP, or a Linux server)\\n- Docker for containerization\\n- Redis for caching (though not mentioned in the context)\\n\\nThe context does not provide details about other layers (e.g., authentication, monitoring, or frontend), so I’ve limited the answer to the explicitly mentioned technologies.  \\n\\nIf you'd like a more detailed or alternative stack, let me know, but the context only covers these three components.\""
      ]
     },
     "execution_count": 19,
     "metadata": {},
     "output_type": "execute_result"
    }
   ],
   "source": [
    "rag(\"What can the stack for a web api look like?\")"
   ]
  },
  {
   "cell_type": "code",
   "execution_count": 20,
   "id": "7324c127-c140-410a-ab19-87a5babce023",
   "metadata": {},
   "outputs": [
    {
     "data": {
      "text/plain": [
       "\"I don't know.\""
      ]
     },
     "execution_count": 20,
     "metadata": {},
     "output_type": "execute_result"
    }
   ],
   "source": [
    "rag(\"Where is the nearest grocery store?\")"
   ]
  },
  {
   "cell_type": "markdown",
   "id": "6fe56730-ed41-42c1-9c33-de3849c60b65",
   "metadata": {},
   "source": [
    "Our model can now:\n",
    "\n",
    "1. Take advantage of the knowledge in our vector datastore.\n",
    "2. Answer, based on the provided context, that it can not provide an answer.\n",
    "\n",
    "We have just shown a useful mechanism to mitigate the risks of hallucinations in Large Language Models."
   ]
  }
 ],
 "metadata": {
  "kernelspec": {
   "display_name": "Python 3 (ipykernel)",
   "language": "python",
   "name": "python3"
  },
  "language_info": {
   "codemirror_mode": {
    "name": "ipython",
    "version": 3
   },
   "file_extension": ".py",
   "mimetype": "text/x-python",
   "name": "python",
   "nbconvert_exporter": "python",
   "pygments_lexer": "ipython3",
   "version": "3.11.4"
  }
 },
 "nbformat": 4,
 "nbformat_minor": 5
}

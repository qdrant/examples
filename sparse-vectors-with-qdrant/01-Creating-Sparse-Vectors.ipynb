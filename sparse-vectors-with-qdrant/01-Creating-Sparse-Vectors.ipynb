{
 "cells": [
  {
   "cell_type": "code",
   "execution_count": 1,
   "id": "cd203a36-899c-446b-809a-087ab4f27599",
   "metadata": {},
   "outputs": [],
   "source": [
    "import torch\n",
    "# torch.set_num_threads(1)\n",
    "from datasets import load_dataset\n",
    "from transformers import AutoModelForMaskedLM, AutoTokenizer"
   ]
  },
  {
   "cell_type": "code",
   "execution_count": 2,
   "id": "6dedf8fc-76e0-490e-b260-3cf3ecdac3f7",
   "metadata": {},
   "outputs": [
    {
     "data": {
      "application/vnd.jupyter.widget-view+json": {
       "model_id": "dd7b53fe8be8408685388c1bf70d49b2",
       "version_major": 2,
       "version_minor": 0
      },
      "text/plain": [
       "Resolving data files:   0%|          | 0/26 [00:00<?, ?it/s]"
      ]
     },
     "metadata": {},
     "output_type": "display_data"
    }
   ],
   "source": [
    "dataset = load_dataset(\"KShivendu/dbpedia-entities-openai-1M\", split=\"train\")"
   ]
  },
  {
   "cell_type": "markdown",
   "id": "426279c5-8bce-4ace-b9e5-3898deecb440",
   "metadata": {},
   "source": [
    "# Single Encoder for Both Query and Document"
   ]
  },
  {
   "cell_type": "code",
   "execution_count": 3,
   "id": "323b3751-eb2c-4fd3-966b-ca48b73e7128",
   "metadata": {},
   "outputs": [],
   "source": [
    "model_id = \"naver/splade-cocondenser-ensembledistil\"\n",
    "\n",
    "tokenizer = AutoTokenizer.from_pretrained(model_id)\n",
    "model = AutoModelForMaskedLM.from_pretrained(model_id)"
   ]
  },
  {
   "cell_type": "code",
   "execution_count": 4,
   "id": "17cef7e2-73fa-42e2-b7c9-69c04de9dfaf",
   "metadata": {},
   "outputs": [],
   "source": [
    "def compute_vector(text, tokenizer, model):\n",
    "    \"\"\"\n",
    "    Computes a vector from logits and attention mask using ReLU, log, and max operations.\n",
    "    \"\"\"\n",
    "    tokens = tokenizer(text, return_tensors=\"pt\")\n",
    "    output = model(**tokens)\n",
    "    logits, attention_mask = output.logits, tokens.attention_mask\n",
    "    relu_log = torch.log(1 + torch.relu(logits))\n",
    "    weighted_log = relu_log * attention_mask.unsqueeze(-1)\n",
    "    max_val, _ = torch.max(weighted_log, dim=1)\n",
    "    vec = max_val.squeeze()\n",
    "\n",
    "    return vec, tokens\n",
    "\n",
    "vec, tokens = compute_vector(\"Hello World!\", tokenizer=tokenizer, model=model)"
   ]
  },
  {
   "cell_type": "code",
   "execution_count": 5,
   "id": "723aeac3-acbe-4c27-9cea-d0e99dea08ef",
   "metadata": {},
   "outputs": [
    {
     "data": {
      "text/plain": [
       "(tensor([0., 0., 0.,  ..., 0., 0., 0.], grad_fn=<SqueezeBackward0>),\n",
       " {'input_ids': tensor([[ 101, 7592, 2088,  999,  102]]), 'token_type_ids': tensor([[0, 0, 0, 0, 0]]), 'attention_mask': tensor([[1, 1, 1, 1, 1]])})"
      ]
     },
     "execution_count": 5,
     "metadata": {},
     "output_type": "execute_result"
    }
   ],
   "source": [
    "vec, tokens"
   ]
  },
  {
   "cell_type": "code",
   "execution_count": 6,
   "id": "796b4044-d492-45b2-b55b-f79e71157370",
   "metadata": {},
   "outputs": [
    {
     "data": {
      "text/plain": [
       "{'hello': 3.02,\n",
       " 'world': 2.53,\n",
       " 'hi': 1.64,\n",
       " '##world': 1.45,\n",
       " '!': 1.28,\n",
       " 'worlds': 0.78,\n",
       " 'happiness': 0.71,\n",
       " 'hawkins': 0.59,\n",
       " 'birthday': 0.53,\n",
       " 'message': 0.51,\n",
       " 'greeting': 0.42,\n",
       " 'song': 0.41,\n",
       " 'party': 0.37,\n",
       " 'language': 0.33,\n",
       " 'jay': 0.33,\n",
       " 'marty': 0.33,\n",
       " 'peace': 0.32,\n",
       " 'welcome': 0.31,\n",
       " 'jerry': 0.29,\n",
       " 'gabriel': 0.27,\n",
       " 'dave': 0.26,\n",
       " 'winston': 0.24,\n",
       " 'global': 0.23,\n",
       " 'music': 0.21,\n",
       " 'thomas': 0.21,\n",
       " 'surprise': 0.21,\n",
       " 'new': 0.2,\n",
       " 'hey': 0.2,\n",
       " 'spencer': 0.2,\n",
       " '?': 0.19,\n",
       " 'daniel': 0.19,\n",
       " 'stanley': 0.19,\n",
       " 'sound': 0.18,\n",
       " 'universal': 0.17,\n",
       " 'roger': 0.16,\n",
       " 'nelson': 0.16,\n",
       " 'simon': 0.15,\n",
       " 'event': 0.14,\n",
       " 'alien': 0.13,\n",
       " 'arnold': 0.13,\n",
       " 'harry': 0.12,\n",
       " 'justin': 0.12,\n",
       " 'fuzzy': 0.12,\n",
       " 'alex': 0.11,\n",
       " 'baby': 0.1,\n",
       " 'god': 0.08,\n",
       " 'graham': 0.08,\n",
       " 'chorus': 0.08,\n",
       " 'wave': 0.07,\n",
       " 'doll': 0.07,\n",
       " 'ariel': 0.06,\n",
       " 'carter': 0.05,\n",
       " 'noah': 0.05,\n",
       " 'international': 0.04,\n",
       " 'mia': 0.03,\n",
       " 'robot': 0.02}"
      ]
     },
     "execution_count": 6,
     "metadata": {},
     "output_type": "execute_result"
    }
   ],
   "source": [
    "def extract_and_map_sparse_vector(vector, tokenizer):\n",
    "    \"\"\"\n",
    "    Extracts non-zero elements from a given vector and maps these elements to their human-readable tokens using a tokenizer. The function creates and returns a sorted dictionary where keys are the tokens corresponding to non-zero elements in the vector, and values are the weights of these elements, sorted in descending order of weights.\n",
    "    This function is useful in NLP tasks where you need to understand the significance of different tokens based on a model's output vector. It first identifies non-zero values in the vector, maps them to tokens, and sorts them by weight for better interpretability.\n",
    "    Args:\n",
    "    vector (torch.Tensor): A PyTorch tensor from which to extract non-zero elements.\n",
    "    tokenizer: The tokenizer used for tokenization in the model, providing the mapping from tokens to indices.\n",
    "    Returns:\n",
    "    dict: A sorted dictionary mapping human-readable tokens to their corresponding non-zero weights.\n",
    "    \"\"\"\n",
    "\n",
    "    # Extract indices and values of non-zero elements in the vector\n",
    "    cols = vector.nonzero().squeeze().cpu().tolist()\n",
    "    weights = vector[cols].cpu().tolist()\n",
    "\n",
    "    # Map indices to tokens and create a dictionary\n",
    "    idx2token = {idx: token for token, idx in tokenizer.get_vocab().items()}\n",
    "    token_weight_dict = {\n",
    "        idx2token[idx]: round(weight, 2) for idx, weight in zip(cols, weights)\n",
    "    }\n",
    "\n",
    "    # Sort the dictionary by weights in descending order\n",
    "    sorted_token_weight_dict = {\n",
    "        k: v\n",
    "        for k, v in sorted(\n",
    "            token_weight_dict.items(), key=lambda item: item[1], reverse=True\n",
    "        )\n",
    "    }\n",
    "\n",
    "    return sorted_token_weight_dict\n",
    "\n",
    "extract_and_map_sparse_vector(vector=vec, tokenizer=tokenizer)"
   ]
  },
  {
   "cell_type": "code",
   "execution_count": null,
   "id": "ec012936-ad85-4f8b-9416-9e2d28cd00d8",
   "metadata": {},
   "outputs": [
    {
     "data": {
      "application/vnd.jupyter.widget-view+json": {
       "model_id": "e3d3288852e54ed584f8c3df4f01333f",
       "version_major": 2,
       "version_minor": 0
      },
      "text/plain": [
       "Map:   0%|          | 0/1000000 [00:00<?, ? examples/s]"
      ]
     },
     "metadata": {},
     "output_type": "display_data"
    }
   ],
   "source": [
    "new_dataset = dataset.map(lambda example: {\"sparse\": compute_vector(example['title'] + example['text'], tokenizer, model)[0]})"
   ]
  }
 ],
 "metadata": {
  "kernelspec": {
   "display_name": "Python 3 (ipykernel)",
   "language": "python",
   "name": "python3"
  },
  "language_info": {
   "codemirror_mode": {
    "name": "ipython",
    "version": 3
   },
   "file_extension": ".py",
   "mimetype": "text/x-python",
   "name": "python",
   "nbconvert_exporter": "python",
   "pygments_lexer": "ipython3",
   "version": "3.9.17"
  }
 },
 "nbformat": 4,
 "nbformat_minor": 5
}

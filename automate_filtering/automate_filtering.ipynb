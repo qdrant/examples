{
 "cells": [
  {
   "cell_type": "markdown",
   "id": "135bf2ff-31a6-4fa1-8642-455303305617",
   "metadata": {},
   "source": [
    "# Automate filtering with LLMs\n",
    "\n",
    "This notebook is an end-to-end implementation of the workflow presented in the [Automate filtering with LLMs tutorial](https://qdrant.tech/documentation/database-tutorials/automate-filtering-with-llms/). It presents how Large Language Models may be used to automate the filters extraction from text queries, considering only the filters that make sense in the context of a specific Qdrant collection.\n",
    "\n",
    "The tutorial uses [Anthropic](https://www.anthropic.com/) Claude 3.5 Sonnet combined with [Instructor](https://python.useinstructor.com/) for structured output. "
   ]
  },
  {
   "cell_type": "code",
   "execution_count": 1,
   "id": "initial_id",
   "metadata": {},
   "outputs": [
    {
     "name": "stdout",
     "output_type": "stream",
     "text": [
      "Requirement already satisfied: qdrant-client>=1.12.0 in /home/kacper/.cache/pypoetry/virtualenvs/examples-06hrtikJ-py3.10/lib/python3.10/site-packages (1.12.1)\n",
      "Requirement already satisfied: instructor[anthropic] in /home/kacper/.cache/pypoetry/virtualenvs/examples-06hrtikJ-py3.10/lib/python3.10/site-packages (1.7.0)\n",
      "Requirement already satisfied: aiohttp<4.0.0,>=3.9.1 in /home/kacper/.cache/pypoetry/virtualenvs/examples-06hrtikJ-py3.10/lib/python3.10/site-packages (from instructor[anthropic]) (3.11.9)\n",
      "Requirement already satisfied: docstring-parser<0.17,>=0.16 in /home/kacper/.cache/pypoetry/virtualenvs/examples-06hrtikJ-py3.10/lib/python3.10/site-packages (from instructor[anthropic]) (0.16)\n",
      "Requirement already satisfied: jinja2<4.0.0,>=3.1.4 in /home/kacper/.cache/pypoetry/virtualenvs/examples-06hrtikJ-py3.10/lib/python3.10/site-packages (from instructor[anthropic]) (3.1.4)\n",
      "Requirement already satisfied: jiter<0.7,>=0.6.1 in /home/kacper/.cache/pypoetry/virtualenvs/examples-06hrtikJ-py3.10/lib/python3.10/site-packages (from instructor[anthropic]) (0.6.1)\n",
      "Requirement already satisfied: openai<2.0.0,>=1.52.0 in /home/kacper/.cache/pypoetry/virtualenvs/examples-06hrtikJ-py3.10/lib/python3.10/site-packages (from instructor[anthropic]) (1.56.0)\n",
      "Requirement already satisfied: pydantic<3.0.0,>=2.8.0 in /home/kacper/.cache/pypoetry/virtualenvs/examples-06hrtikJ-py3.10/lib/python3.10/site-packages (from instructor[anthropic]) (2.10.2)\n",
      "Requirement already satisfied: pydantic-core<3.0.0,>=2.18.0 in /home/kacper/.cache/pypoetry/virtualenvs/examples-06hrtikJ-py3.10/lib/python3.10/site-packages (from instructor[anthropic]) (2.27.1)\n",
      "Requirement already satisfied: requests<3.0.0,>=2.32.3 in /home/kacper/.cache/pypoetry/virtualenvs/examples-06hrtikJ-py3.10/lib/python3.10/site-packages (from instructor[anthropic]) (2.32.3)\n",
      "Requirement already satisfied: rich<14.0.0,>=13.7.0 in /home/kacper/.cache/pypoetry/virtualenvs/examples-06hrtikJ-py3.10/lib/python3.10/site-packages (from instructor[anthropic]) (13.9.4)\n",
      "Requirement already satisfied: tenacity<10.0.0,>=9.0.0 in /home/kacper/.cache/pypoetry/virtualenvs/examples-06hrtikJ-py3.10/lib/python3.10/site-packages (from instructor[anthropic]) (9.0.0)\n",
      "Requirement already satisfied: typer<1.0.0,>=0.9.0 in /home/kacper/.cache/pypoetry/virtualenvs/examples-06hrtikJ-py3.10/lib/python3.10/site-packages (from instructor[anthropic]) (0.14.0)\n",
      "Requirement already satisfied: anthropic<0.38.0,>=0.36.2 in /home/kacper/.cache/pypoetry/virtualenvs/examples-06hrtikJ-py3.10/lib/python3.10/site-packages (from instructor[anthropic]) (0.37.1)\n",
      "Requirement already satisfied: xmltodict<0.15,>=0.13 in /home/kacper/.cache/pypoetry/virtualenvs/examples-06hrtikJ-py3.10/lib/python3.10/site-packages (from instructor[anthropic]) (0.14.2)\n",
      "Requirement already satisfied: grpcio>=1.41.0 in /home/kacper/.cache/pypoetry/virtualenvs/examples-06hrtikJ-py3.10/lib/python3.10/site-packages (from qdrant-client>=1.12.0) (1.62.1)\n",
      "Requirement already satisfied: grpcio-tools>=1.41.0 in /home/kacper/.cache/pypoetry/virtualenvs/examples-06hrtikJ-py3.10/lib/python3.10/site-packages (from qdrant-client>=1.12.0) (1.62.1)\n",
      "Requirement already satisfied: httpx>=0.20.0 in /home/kacper/.cache/pypoetry/virtualenvs/examples-06hrtikJ-py3.10/lib/python3.10/site-packages (from httpx[http2]>=0.20.0->qdrant-client>=1.12.0) (0.27.0)\n",
      "Requirement already satisfied: numpy>=1.21 in /home/kacper/.cache/pypoetry/virtualenvs/examples-06hrtikJ-py3.10/lib/python3.10/site-packages (from qdrant-client>=1.12.0) (1.26.4)\n",
      "Requirement already satisfied: portalocker<3.0.0,>=2.7.0 in /home/kacper/.cache/pypoetry/virtualenvs/examples-06hrtikJ-py3.10/lib/python3.10/site-packages (from qdrant-client>=1.12.0) (2.8.2)\n",
      "Requirement already satisfied: urllib3<3,>=1.26.14 in /home/kacper/.cache/pypoetry/virtualenvs/examples-06hrtikJ-py3.10/lib/python3.10/site-packages (from qdrant-client>=1.12.0) (2.2.1)\n",
      "Requirement already satisfied: aiohappyeyeballs>=2.3.0 in /home/kacper/.cache/pypoetry/virtualenvs/examples-06hrtikJ-py3.10/lib/python3.10/site-packages (from aiohttp<4.0.0,>=3.9.1->instructor[anthropic]) (2.4.4)\n",
      "Requirement already satisfied: aiosignal>=1.1.2 in /home/kacper/.cache/pypoetry/virtualenvs/examples-06hrtikJ-py3.10/lib/python3.10/site-packages (from aiohttp<4.0.0,>=3.9.1->instructor[anthropic]) (1.3.1)\n",
      "Requirement already satisfied: async-timeout<6.0,>=4.0 in /home/kacper/.cache/pypoetry/virtualenvs/examples-06hrtikJ-py3.10/lib/python3.10/site-packages (from aiohttp<4.0.0,>=3.9.1->instructor[anthropic]) (5.0.1)\n",
      "Requirement already satisfied: attrs>=17.3.0 in /home/kacper/.cache/pypoetry/virtualenvs/examples-06hrtikJ-py3.10/lib/python3.10/site-packages (from aiohttp<4.0.0,>=3.9.1->instructor[anthropic]) (23.2.0)\n",
      "Requirement already satisfied: frozenlist>=1.1.1 in /home/kacper/.cache/pypoetry/virtualenvs/examples-06hrtikJ-py3.10/lib/python3.10/site-packages (from aiohttp<4.0.0,>=3.9.1->instructor[anthropic]) (1.5.0)\n",
      "Requirement already satisfied: multidict<7.0,>=4.5 in /home/kacper/.cache/pypoetry/virtualenvs/examples-06hrtikJ-py3.10/lib/python3.10/site-packages (from aiohttp<4.0.0,>=3.9.1->instructor[anthropic]) (6.1.0)\n",
      "Requirement already satisfied: propcache>=0.2.0 in /home/kacper/.cache/pypoetry/virtualenvs/examples-06hrtikJ-py3.10/lib/python3.10/site-packages (from aiohttp<4.0.0,>=3.9.1->instructor[anthropic]) (0.2.1)\n",
      "Requirement already satisfied: yarl<2.0,>=1.17.0 in /home/kacper/.cache/pypoetry/virtualenvs/examples-06hrtikJ-py3.10/lib/python3.10/site-packages (from aiohttp<4.0.0,>=3.9.1->instructor[anthropic]) (1.18.3)\n",
      "Requirement already satisfied: anyio<5,>=3.5.0 in /home/kacper/.cache/pypoetry/virtualenvs/examples-06hrtikJ-py3.10/lib/python3.10/site-packages (from anthropic<0.38.0,>=0.36.2->instructor[anthropic]) (4.3.0)\n",
      "Requirement already satisfied: distro<2,>=1.7.0 in /home/kacper/.cache/pypoetry/virtualenvs/examples-06hrtikJ-py3.10/lib/python3.10/site-packages (from anthropic<0.38.0,>=0.36.2->instructor[anthropic]) (1.9.0)\n",
      "Requirement already satisfied: sniffio in /home/kacper/.cache/pypoetry/virtualenvs/examples-06hrtikJ-py3.10/lib/python3.10/site-packages (from anthropic<0.38.0,>=0.36.2->instructor[anthropic]) (1.3.1)\n",
      "Requirement already satisfied: tokenizers>=0.13.0 in /home/kacper/.cache/pypoetry/virtualenvs/examples-06hrtikJ-py3.10/lib/python3.10/site-packages (from anthropic<0.38.0,>=0.36.2->instructor[anthropic]) (0.15.2)\n",
      "Requirement already satisfied: typing-extensions<5,>=4.7 in /home/kacper/.cache/pypoetry/virtualenvs/examples-06hrtikJ-py3.10/lib/python3.10/site-packages (from anthropic<0.38.0,>=0.36.2->instructor[anthropic]) (4.12.2)\n",
      "Requirement already satisfied: protobuf<5.0dev,>=4.21.6 in /home/kacper/.cache/pypoetry/virtualenvs/examples-06hrtikJ-py3.10/lib/python3.10/site-packages (from grpcio-tools>=1.41.0->qdrant-client>=1.12.0) (4.25.3)\n",
      "Requirement already satisfied: setuptools in /home/kacper/.cache/pypoetry/virtualenvs/examples-06hrtikJ-py3.10/lib/python3.10/site-packages (from grpcio-tools>=1.41.0->qdrant-client>=1.12.0) (69.0.2)\n",
      "Requirement already satisfied: certifi in /home/kacper/.cache/pypoetry/virtualenvs/examples-06hrtikJ-py3.10/lib/python3.10/site-packages (from httpx>=0.20.0->httpx[http2]>=0.20.0->qdrant-client>=1.12.0) (2024.2.2)\n",
      "Requirement already satisfied: httpcore==1.* in /home/kacper/.cache/pypoetry/virtualenvs/examples-06hrtikJ-py3.10/lib/python3.10/site-packages (from httpx>=0.20.0->httpx[http2]>=0.20.0->qdrant-client>=1.12.0) (1.0.4)\n",
      "Requirement already satisfied: idna in /home/kacper/.cache/pypoetry/virtualenvs/examples-06hrtikJ-py3.10/lib/python3.10/site-packages (from httpx>=0.20.0->httpx[http2]>=0.20.0->qdrant-client>=1.12.0) (3.6)\n",
      "Requirement already satisfied: h11<0.15,>=0.13 in /home/kacper/.cache/pypoetry/virtualenvs/examples-06hrtikJ-py3.10/lib/python3.10/site-packages (from httpcore==1.*->httpx>=0.20.0->httpx[http2]>=0.20.0->qdrant-client>=1.12.0) (0.14.0)\n",
      "Requirement already satisfied: h2<5,>=3 in /home/kacper/.cache/pypoetry/virtualenvs/examples-06hrtikJ-py3.10/lib/python3.10/site-packages (from httpx[http2]>=0.20.0->qdrant-client>=1.12.0) (4.1.0)\n",
      "Requirement already satisfied: MarkupSafe>=2.0 in /home/kacper/.cache/pypoetry/virtualenvs/examples-06hrtikJ-py3.10/lib/python3.10/site-packages (from jinja2<4.0.0,>=3.1.4->instructor[anthropic]) (2.1.5)\n",
      "Requirement already satisfied: tqdm>4 in /home/kacper/.cache/pypoetry/virtualenvs/examples-06hrtikJ-py3.10/lib/python3.10/site-packages (from openai<2.0.0,>=1.52.0->instructor[anthropic]) (4.66.2)\n",
      "Requirement already satisfied: annotated-types>=0.6.0 in /home/kacper/.cache/pypoetry/virtualenvs/examples-06hrtikJ-py3.10/lib/python3.10/site-packages (from pydantic<3.0.0,>=2.8.0->instructor[anthropic]) (0.6.0)\n",
      "Requirement already satisfied: charset-normalizer<4,>=2 in /home/kacper/.cache/pypoetry/virtualenvs/examples-06hrtikJ-py3.10/lib/python3.10/site-packages (from requests<3.0.0,>=2.32.3->instructor[anthropic]) (3.3.2)\n",
      "Requirement already satisfied: markdown-it-py>=2.2.0 in /home/kacper/.cache/pypoetry/virtualenvs/examples-06hrtikJ-py3.10/lib/python3.10/site-packages (from rich<14.0.0,>=13.7.0->instructor[anthropic]) (3.0.0)\n",
      "Requirement already satisfied: pygments<3.0.0,>=2.13.0 in /home/kacper/.cache/pypoetry/virtualenvs/examples-06hrtikJ-py3.10/lib/python3.10/site-packages (from rich<14.0.0,>=13.7.0->instructor[anthropic]) (2.17.2)\n",
      "Requirement already satisfied: click>=8.0.0 in /home/kacper/.cache/pypoetry/virtualenvs/examples-06hrtikJ-py3.10/lib/python3.10/site-packages (from typer<1.0.0,>=0.9.0->instructor[anthropic]) (8.1.7)\n",
      "Requirement already satisfied: shellingham>=1.3.0 in /home/kacper/.cache/pypoetry/virtualenvs/examples-06hrtikJ-py3.10/lib/python3.10/site-packages (from typer<1.0.0,>=0.9.0->instructor[anthropic]) (1.5.4)\n",
      "Requirement already satisfied: exceptiongroup>=1.0.2 in /home/kacper/.cache/pypoetry/virtualenvs/examples-06hrtikJ-py3.10/lib/python3.10/site-packages (from anyio<5,>=3.5.0->anthropic<0.38.0,>=0.36.2->instructor[anthropic]) (1.2.0)\n",
      "Requirement already satisfied: hyperframe<7,>=6.0 in /home/kacper/.cache/pypoetry/virtualenvs/examples-06hrtikJ-py3.10/lib/python3.10/site-packages (from h2<5,>=3->httpx[http2]>=0.20.0->qdrant-client>=1.12.0) (6.0.1)\n",
      "Requirement already satisfied: hpack<5,>=4.0 in /home/kacper/.cache/pypoetry/virtualenvs/examples-06hrtikJ-py3.10/lib/python3.10/site-packages (from h2<5,>=3->httpx[http2]>=0.20.0->qdrant-client>=1.12.0) (4.0.0)\n",
      "Requirement already satisfied: mdurl~=0.1 in /home/kacper/.cache/pypoetry/virtualenvs/examples-06hrtikJ-py3.10/lib/python3.10/site-packages (from markdown-it-py>=2.2.0->rich<14.0.0,>=13.7.0->instructor[anthropic]) (0.1.2)\n",
      "Requirement already satisfied: huggingface_hub<1.0,>=0.16.4 in /home/kacper/.cache/pypoetry/virtualenvs/examples-06hrtikJ-py3.10/lib/python3.10/site-packages (from tokenizers>=0.13.0->anthropic<0.38.0,>=0.36.2->instructor[anthropic]) (0.20.3)\n",
      "Requirement already satisfied: filelock in /home/kacper/.cache/pypoetry/virtualenvs/examples-06hrtikJ-py3.10/lib/python3.10/site-packages (from huggingface_hub<1.0,>=0.16.4->tokenizers>=0.13.0->anthropic<0.38.0,>=0.36.2->instructor[anthropic]) (3.13.1)\n",
      "Requirement already satisfied: fsspec>=2023.5.0 in /home/kacper/.cache/pypoetry/virtualenvs/examples-06hrtikJ-py3.10/lib/python3.10/site-packages (from huggingface_hub<1.0,>=0.16.4->tokenizers>=0.13.0->anthropic<0.38.0,>=0.36.2->instructor[anthropic]) (2024.3.1)\n",
      "Requirement already satisfied: pyyaml>=5.1 in /home/kacper/.cache/pypoetry/virtualenvs/examples-06hrtikJ-py3.10/lib/python3.10/site-packages (from huggingface_hub<1.0,>=0.16.4->tokenizers>=0.13.0->anthropic<0.38.0,>=0.36.2->instructor[anthropic]) (6.0.1)\n",
      "Requirement already satisfied: packaging>=20.9 in /home/kacper/.cache/pypoetry/virtualenvs/examples-06hrtikJ-py3.10/lib/python3.10/site-packages (from huggingface_hub<1.0,>=0.16.4->tokenizers>=0.13.0->anthropic<0.38.0,>=0.36.2->instructor[anthropic]) (24.0)\n",
      "\n",
      "\u001b[1m[\u001b[0m\u001b[34;49mnotice\u001b[0m\u001b[1;39;49m]\u001b[0m\u001b[39;49m A new release of pip is available: \u001b[0m\u001b[31;49m23.3.1\u001b[0m\u001b[39;49m -> \u001b[0m\u001b[32;49m24.3.1\u001b[0m\n",
      "\u001b[1m[\u001b[0m\u001b[34;49mnotice\u001b[0m\u001b[1;39;49m]\u001b[0m\u001b[39;49m To update, run: \u001b[0m\u001b[32;49mpip install --upgrade pip\u001b[0m\n"
     ]
    }
   ],
   "source": [
    "!pip install \"instructor[anthropic]\" \"qdrant-client>=1.12.0\""
   ]
  },
  {
   "cell_type": "code",
   "execution_count": 2,
   "id": "91dfd1c9-a1f8-4d66-a948-c341a2f32512",
   "metadata": {},
   "outputs": [],
   "source": [
    "import instructor\n",
    "from anthropic import Anthropic\n",
    "\n",
    "anthropic_client = instructor.from_anthropic(\n",
    "    client=Anthropic(\n",
    "        api_key=\"YOUR_API_KEY\"\n",
    "    )\n",
    ")"
   ]
  },
  {
   "cell_type": "code",
   "execution_count": 3,
   "id": "b9a843f5-959f-42f5-a9ce-a34a7d8ef9ee",
   "metadata": {},
   "outputs": [
    {
     "data": {
      "text/plain": [
       "Filter(should=FieldCondition(key='product_type', match=MatchValue(value='t-shirt'), range=None, geo_bounding_box=None, geo_radius=None, geo_polygon=None, values_count=None), min_should=None, must=FieldCondition(key='color', match=MatchValue(value='red'), range=None, geo_bounding_box=None, geo_radius=None, geo_polygon=None, values_count=None), must_not=None)"
      ]
     },
     "execution_count": 3,
     "metadata": {},
     "output_type": "execute_result"
    }
   ],
   "source": [
    "from qdrant_client import models\n",
    "\n",
    "qdrant_filter = anthropic_client.messages.create(\n",
    "    model=\"claude-3-5-sonnet-latest\",\n",
    "    response_model=models.Filter,\n",
    "    max_tokens=1024,\n",
    "    messages=[\n",
    "        {\n",
    "            \"role\": \"user\",\n",
    "            \"content\": \"red T-shirt\"\n",
    "        }\n",
    "    ],\n",
    ")\n",
    "qdrant_filter"
   ]
  },
  {
   "cell_type": "code",
   "execution_count": 4,
   "id": "4412a5d7-86e5-4262-b22e-428b67809ff9",
   "metadata": {},
   "outputs": [],
   "source": [
    "from qdrant_client import QdrantClient\n",
    "\n",
    "client = QdrantClient(\"http://localhost:6333\")"
   ]
  },
  {
   "cell_type": "code",
   "execution_count": 5,
   "id": "9c0ed540-714f-4e7d-bb06-50f7c48aa26d",
   "metadata": {},
   "outputs": [],
   "source": [
    "# This tutorial assumes there is a \"test_filter\" collection already.\n",
    "# You can simply create one by uncommenting the following snippet.\n",
    "# Since we don't really filter the collection here, but just create\n",
    "# filters, there is no need to add any data to it.\n",
    "\n",
    "# client.create_collection(\n",
    "#     \"test_filter\", \n",
    "#     vectors_config=models.VectorParams(\n",
    "#         size=2, \n",
    "#         distance=models.Distance.COSINE,\n",
    "#     )\n",
    "# )\n",
    "# client.create_payload_index(\"test_filter\", \"color\", models.PayloadSchemaType.KEYWORD)\n",
    "# client.create_payload_index(\"test_filter\", \"fabric\", models.PayloadSchemaType.KEYWORD)\n",
    "# client.create_payload_index(\"test_filter\", \"price\", models.PayloadSchemaType.FLOAT)\n",
    "# client.create_payload_index(\"test_filter\", \"city.name\", models.PayloadSchemaType.KEYWORD)\n",
    "# client.create_payload_index(\"test_filter\", \"city.location\", models.PayloadSchemaType.GEO)"
   ]
  },
  {
   "cell_type": "code",
   "execution_count": 6,
   "id": "6766bdc4-c4a3-474f-92f1-4263da91a132",
   "metadata": {},
   "outputs": [
    {
     "data": {
      "text/plain": [
       "{'fabric': PayloadIndexInfo(data_type=<PayloadSchemaType.KEYWORD: 'keyword'>, params=None, points=0),\n",
       " 'city.location': PayloadIndexInfo(data_type=<PayloadSchemaType.GEO: 'geo'>, params=None, points=0),\n",
       " 'price': PayloadIndexInfo(data_type=<PayloadSchemaType.FLOAT: 'float'>, params=None, points=0),\n",
       " 'color': PayloadIndexInfo(data_type=<PayloadSchemaType.KEYWORD: 'keyword'>, params=None, points=0),\n",
       " 'city.name': PayloadIndexInfo(data_type=<PayloadSchemaType.KEYWORD: 'keyword'>, params=None, points=0)}"
      ]
     },
     "execution_count": 6,
     "metadata": {},
     "output_type": "execute_result"
    }
   ],
   "source": [
    "collection_info = client.get_collection(collection_name=\"test_filter\")\n",
    "indexes = collection_info.payload_schema\n",
    "indexes"
   ]
  },
  {
   "cell_type": "code",
   "execution_count": 7,
   "id": "e7761d4e-5676-4722-b94b-e40d7470583d",
   "metadata": {},
   "outputs": [
    {
     "name": "stdout",
     "output_type": "stream",
     "text": [
      "- fabric - KEYWORD\n",
      "- city.location - GEO\n",
      "- price - FLOAT\n",
      "- color - KEYWORD\n",
      "- city.name - KEYWORD\n"
     ]
    }
   ],
   "source": [
    "formatted_indexes = \"\\n\".join([\n",
    "    f\"- {index_name} - {index.data_type.name}\"\n",
    "    for index_name, index in indexes.items()\n",
    "])\n",
    "print(formatted_indexes)"
   ]
  },
  {
   "cell_type": "code",
   "execution_count": 8,
   "id": "b8452a5a-b32c-4ea8-835e-4233403c0191",
   "metadata": {},
   "outputs": [
    {
     "data": {
      "text/plain": [
       "Filter(should=None, min_should=None, must=FieldCondition(key='color', match=MatchValue(value='red'), range=None, geo_bounding_box=None, geo_radius=None, geo_polygon=None, values_count=None), must_not=None)"
      ]
     },
     "execution_count": 8,
     "metadata": {},
     "output_type": "execute_result"
    }
   ],
   "source": [
    "qdrant_filter = anthropic_client.messages.create(\n",
    "    model=\"claude-3-5-sonnet-latest\",\n",
    "    response_model=models.Filter,\n",
    "    max_tokens=1024,\n",
    "    messages=[\n",
    "        {\n",
    "            \"role\": \"user\",\n",
    "            \"content\": (\n",
    "                \"<query>color is red</query>\"\n",
    "                f\"<indexes>\\n{formatted_indexes}\\n</indexes>\"\n",
    "            )\n",
    "        }\n",
    "    ],\n",
    ")\n",
    "qdrant_filter"
   ]
  },
  {
   "cell_type": "code",
   "execution_count": 9,
   "id": "a6ade00c-90f7-4379-9d5a-a578bc76e378",
   "metadata": {},
   "outputs": [
    {
     "data": {
      "text/plain": [
       "Filter(should=None, min_should=None, must=FieldCondition(key='price', match=None, range=Range(lt=None, gt=None, gte=None, lte=100.0), geo_bounding_box=None, geo_radius=None, geo_polygon=None, values_count=None), must_not=None)"
      ]
     },
     "execution_count": 9,
     "metadata": {},
     "output_type": "execute_result"
    }
   ],
   "source": [
    "qdrant_filter = anthropic_client.messages.create(\n",
    "    model=\"claude-3-5-sonnet-latest\",\n",
    "    response_model=models.Filter,\n",
    "    max_tokens=1024,\n",
    "    messages=[\n",
    "        {\n",
    "            \"role\": \"user\",\n",
    "            \"content\": (\n",
    "                \"<query>fruit salad with no more than 100 calories</query>\"\n",
    "                f\"<indexes>\\n{formatted_indexes}\\n</indexes>\"\n",
    "            )\n",
    "        }\n",
    "    ],\n",
    ")\n",
    "qdrant_filter"
   ]
  },
  {
   "cell_type": "code",
   "execution_count": 10,
   "id": "fff71d5e-c649-40dc-ae80-694b50958781",
   "metadata": {},
   "outputs": [],
   "source": [
    "SYSTEM_PROMPT = \"\"\"\n",
    "You are extracting filters from a text query. Please follow the following rules:\n",
    "1. Query is provided in the form of a text enclosed in <query> tags.\n",
    "2. Available indexes are put at the end of the text in the form of a list enclosed in <indexes> tags.\n",
    "3. You cannot use any field that is not available in the indexes.\n",
    "4. Generate a filter only if you are certain that user's intent matches the field name.\n",
    "5. Prices are always in USD.\n",
    "6. It's better not to generate a filter than to generate an incorrect one.\n",
    "\"\"\""
   ]
  },
  {
   "cell_type": "code",
   "execution_count": 11,
   "id": "c39bdf6f-4059-4d87-8eee-d2d44406cabb",
   "metadata": {},
   "outputs": [
    {
     "data": {
      "text/plain": [
       "Filter(should=None, min_should=None, must=FieldCondition(key='calories', match=None, range=Range(lt=None, gt=None, gte=None, lte=100.0), geo_bounding_box=None, geo_radius=None, geo_polygon=None, values_count=None), must_not=None)"
      ]
     },
     "execution_count": 11,
     "metadata": {},
     "output_type": "execute_result"
    }
   ],
   "source": [
    "qdrant_filter = anthropic_client.messages.create(\n",
    "    model=\"claude-3-5-sonnet-latest\",\n",
    "    response_model=models.Filter,\n",
    "    max_tokens=1024,\n",
    "    messages=[\n",
    "        {\n",
    "            \"role\": \"user\",\n",
    "            \"content\": SYSTEM_PROMPT.strip(),\n",
    "        },\n",
    "        {\n",
    "            \"role\": \"assistant\",\n",
    "            \"content\": \"Okay, I will follow all the rules.\"\n",
    "        },\n",
    "        {\n",
    "            \"role\": \"user\",\n",
    "            \"content\": (\n",
    "                \"<query>fruit salad with no more than 100 calories</query>\"\n",
    "                f\"<indexes>\\n{formatted_indexes}\\n</indexes>\"\n",
    "            )\n",
    "        }\n",
    "    ],\n",
    ")\n",
    "\n",
    "qdrant_filter"
   ]
  },
  {
   "cell_type": "code",
   "execution_count": 12,
   "id": "be42827f-0fc9-4a7e-8319-432b69362c21",
   "metadata": {},
   "outputs": [
    {
     "data": {
      "text/plain": [
       "Filter(should=None, min_should=None, must=[FieldCondition(key='color', match=MatchValue(value='white'), range=None, geo_bounding_box=None, geo_radius=None, geo_polygon=None, values_count=None), FieldCondition(key='price', match=None, range=Range(lt=15.7, gt=None, gte=None, lte=None), geo_bounding_box=None, geo_radius=None, geo_polygon=None, values_count=None), FieldCondition(key='city.location', match=None, range=None, geo_bounding_box=None, geo_radius=GeoRadius(center=GeoPoint(lon=-0.1278, lat=51.5074), radius=48280.0), geo_polygon=None, values_count=None), FieldCondition(key='fabric', match=MatchExcept(except_=['polyester']), range=None, geo_bounding_box=None, geo_radius=None, geo_polygon=None, values_count=None)], must_not=[FieldCondition(key='city.name', match=MatchValue(value='London'), range=None, geo_bounding_box=None, geo_radius=None, geo_polygon=None, values_count=None)])"
      ]
     },
     "execution_count": 12,
     "metadata": {},
     "output_type": "execute_result"
    }
   ],
   "source": [
    "qdrant_filter = anthropic_client.messages.create(\n",
    "    model=\"claude-3-5-sonnet-latest\",\n",
    "    response_model=models.Filter,\n",
    "    max_tokens=1024,\n",
    "    messages=[\n",
    "        {\n",
    "            \"role\": \"user\",\n",
    "            \"content\": SYSTEM_PROMPT.strip(),\n",
    "        },\n",
    "        {\n",
    "            \"role\": \"assistant\",\n",
    "            \"content\": \"Okay, I will follow all the rules.\"\n",
    "        },\n",
    "        {\n",
    "            \"role\": \"user\",\n",
    "            \"content\": (\n",
    "                \"<query>\"\n",
    "                \"white T-shirt available no more than 30 miles from London, \"\n",
    "                \"but not in the city itself, below $15.70, not made from polyester\"\n",
    "                \"</query>\\n\"\n",
    "                \"<indexes>\\n\"\n",
    "                f\"{formatted_indexes}\\n\"\n",
    "                \"</indexes>\"\n",
    "            )\n",
    "        },\n",
    "    ],\n",
    ")\n",
    "qdrant_filter"
   ]
  }
 ],
 "metadata": {
  "kernelspec": {
   "display_name": "Python 3 (ipykernel)",
   "language": "python",
   "name": "python3"
  },
  "language_info": {
   "codemirror_mode": {
    "name": "ipython",
    "version": 3
   },
   "file_extension": ".py",
   "mimetype": "text/x-python",
   "name": "python",
   "nbconvert_exporter": "python",
   "pygments_lexer": "ipython3",
   "version": "3.10.12"
  }
 },
 "nbformat": 4,
 "nbformat_minor": 5
}

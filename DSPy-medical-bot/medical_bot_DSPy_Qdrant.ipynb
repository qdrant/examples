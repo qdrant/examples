{
  "nbformat": 4,
  "nbformat_minor": 0,
  "metadata": {
    "colab": {
      "provenance": []
    },
    "kernelspec": {
      "name": "python3",
      "display_name": "Python 3"
    },
    "language_info": {
      "name": "python"
    }
  },
  "cells": [
    {
      "cell_type": "markdown",
      "source": [
        "# Qdrant DSPy Medical Chatbot\n",
        "\n",
        "[![Open In Colab](https://colab.research.google.com/assets/colab-badge.svg)](https://colab.research.google.com/github/qdrant/examples/blob/master/DSPy-medical-bot/medical_bot_DSPy_Qdrant.ipynb)\n",
        "\n",
        "This notebook demonstrates how to build a chatbot grounded on medical data with simple guardrails to prevent the bot from responding to non-medical questions.\n",
        "\n",
        "### Requirements\n",
        "- Qdrant\n",
        "- DSPy\n",
        "- A free [Qdrant Cloud account](https://qdrant.tech/cloud/)"
      ],
      "metadata": {
        "id": "WHRFmKAMY_Ap"
      }
    },
    {
      "cell_type": "markdown",
      "source": [
        "The first step is to install all the required packages:"
      ],
      "metadata": {
        "id": "agsIfxuTZt1c"
      }
    },
    {
      "cell_type": "code",
      "source": [
        "pip install   qdrant-client[fastembed] dspy-ai dspy-qdrant"
      ],
      "metadata": {
        "id": "LoezVqLsNrzD"
      },
      "execution_count": null,
      "outputs": []
    },
    {
      "cell_type": "code",
      "source": [
        "pip install -U datasets"
      ],
      "metadata": {
        "id": "bOrkeclKRaSN"
      },
      "execution_count": null,
      "outputs": []
    },
    {
      "cell_type": "markdown",
      "source": [
        "Import all the modules needed for this project."
      ],
      "metadata": {
        "id": "UG-AFODUZyoM"
      }
    },
    {
      "cell_type": "code",
      "execution_count": 1,
      "metadata": {
        "id": "35OXFPOUNULU"
      },
      "outputs": [],
      "source": [
        "from datasets import load_dataset\n",
        "from qdrant_client import QdrantClient, models\n",
        "from google.colab import userdata\n",
        "import dspy\n",
        "from dspy_qdrant import QdrantRM\n",
        "from qdrant_client import QdrantClient, models\n",
        "from qdrant_client.models import Filter, FieldCondition, MatchValue"
      ]
    },
    {
      "cell_type": "markdown",
      "source": [
        "# Connect to Qdrant Cloud"
      ],
      "metadata": {
        "id": "6D03oK0SOIW1"
      }
    },
    {
      "cell_type": "markdown",
      "source": [
        "Obtain your Qdrant API key and URL from the Qdrant Cloud dashboard and save them as secrets on Colab. If running locally, create a `.env` file and save them there, then modify the part below accordingly."
      ],
      "metadata": {
        "id": "DSmUC0goZ5FO"
      }
    },
    {
      "cell_type": "code",
      "source": [
        "client = QdrantClient(\n",
        "    url=userdata.get(\"QDRANT_CLOUD_URL\"),\n",
        "    api_key=userdata.get(\"QDRANT_API_KEY\"),\n",
        "    timeout=60.0,\n",
        "    prefer_grpc=True\n",
        ")"
      ],
      "metadata": {
        "id": "sdSDdeiWNXWA"
      },
      "execution_count": 2,
      "outputs": []
    },
    {
      "cell_type": "markdown",
      "source": [
        "# Load MIRIAD dataset (sample for demo)"
      ],
      "metadata": {
        "id": "G-OgirC-PP80"
      }
    },
    {
      "cell_type": "markdown",
      "source": [
        "Below, we load a sample of the Miriad medical dataset. You can also modify this to use the [entire dataset](https://huggingface.co/datasets/miriad/miriad-5.8M), but uploading the vectors will take longer. Colab also doesn't provide enough resources to store the entire downloaded dataset."
      ],
      "metadata": {
        "id": "4q4tod0iaPar"
      }
    },
    {
      "cell_type": "code",
      "source": [
        "ds = load_dataset(\"mwitiderrick/miriad-1k\", split=\"train\")"
      ],
      "metadata": {
        "colab": {
          "base_uri": "https://localhost:8080/"
        },
        "id": "3g1PSWoaOXYu",
        "outputId": "fed75db2-48a3-4ad2-9f1a-4140072ddcf0"
      },
      "execution_count": 3,
      "outputs": [
        {
          "output_type": "stream",
          "name": "stderr",
          "text": [
            "/usr/local/lib/python3.11/dist-packages/huggingface_hub/utils/_auth.py:94: UserWarning: \n",
            "The secret `HF_TOKEN` does not exist in your Colab secrets.\n",
            "To authenticate with the Hugging Face Hub, create a token in your settings tab (https://huggingface.co/settings/tokens), set it as secret in your Google Colab and restart your session.\n",
            "You will be able to reuse this secret in all of your notebooks.\n",
            "Please note that authentication is recommended but still optional to access public models or datasets.\n",
            "  warnings.warn(\n"
          ]
        }
      ]
    },
    {
      "cell_type": "markdown",
      "source": [
        "## Generate embeddings\n",
        "\n",
        "Next, encode the medical data:"
      ],
      "metadata": {
        "id": "eG_i-BQyPVzk"
      }
    },
    {
      "cell_type": "code",
      "source": [
        "dense_documents = [\n",
        "    models.Document(text=doc, model=\"BAAI/bge-small-en\")\n",
        "    for doc in ds['passage_text']\n",
        "]\n",
        "\n",
        "colbert_documents = [\n",
        "    models.Document(text=doc, model=\"colbert-ir/colbertv2.0\")\n",
        "    for doc in ds['passage_text']\n",
        "]"
      ],
      "metadata": {
        "id": "oRmGpeZGPQbY"
      },
      "execution_count": 4,
      "outputs": []
    },
    {
      "cell_type": "markdown",
      "source": [
        "# Create collection"
      ],
      "metadata": {
        "id": "iE1XwwR2PhYL"
      }
    },
    {
      "cell_type": "markdown",
      "source": [
        "Then create a Qdrant collection with the dense and colbert vectors. Note that we leave indexing on for the dense vector but turn it off for the colbert vector that will be used for reranking. Checkout the [How to Effectively Use Multivector Representations](https://qdrant.tech/documentation/advanced-tutorials/using-multivector-representations/) in Qdrant for Reranking tutorial to learn more about this.\n"
      ],
      "metadata": {
        "id": "YNgOpCK-bPNJ"
      }
    },
    {
      "cell_type": "code",
      "source": [
        "collection_name = \"medical_chat_bot\"\n",
        "\n",
        "if not client.collection_exists(collection_name):\n",
        "    client.create_collection(\n",
        "        collection_name=collection_name,\n",
        "        vectors_config={\n",
        "            \"dense\": models.VectorParams(size=384, distance=models.Distance.COSINE),\n",
        "            \"colbert\": models.VectorParams(\n",
        "                size=128,\n",
        "                distance=models.Distance.COSINE,\n",
        "                multivector_config=models.MultiVectorConfig(\n",
        "                    comparator=models.MultiVectorComparator.MAX_SIM\n",
        "                ),\n",
        "                hnsw_config=models.HnswConfigDiff(m=0)  # reranker: no indexing\n",
        "            )\n",
        "        }\n",
        "    )\n",
        "\n",
        "    # Create payload indexes\n",
        "    client.create_payload_index(\n",
        "        collection_name=collection_name,\n",
        "        field_name=\"specialty\",\n",
        "        field_schema=\"keyword\",\n",
        "    )\n",
        "\n",
        "    client.create_payload_index(\n",
        "        collection_name=collection_name,\n",
        "        field_name=\"year\",\n",
        "        field_schema=\"integer\",\n",
        "    )"
      ],
      "metadata": {
        "id": "mm8cPC2NPflZ"
      },
      "execution_count": 5,
      "outputs": []
    },
    {
      "cell_type": "markdown",
      "source": [
        "We create indexes from the `specialty` and `year` columns since we will be filtering the responses from the vector database using them. Adding the payload indexes speeds up filtering. Checkout our [Indexing guide](https://qdrant.tech/documentation/concepts/indexing/) to learn more."
      ],
      "metadata": {
        "id": "_mp-0vSfe-46"
      }
    },
    {
      "cell_type": "markdown",
      "source": [
        "# Batch upload in chunks"
      ],
      "metadata": {
        "id": "tuy_yBsAPobO"
      }
    },
    {
      "cell_type": "markdown",
      "source": [
        "ColBERT produces ~1k vectors per point, so we will batch upload the vectors to avoid hitting API limits."
      ],
      "metadata": {
        "id": "CTeqxT50bZv8"
      }
    },
    {
      "cell_type": "code",
      "source": [
        "BATCH_SIZE = 3\n",
        "points_batch = []\n",
        "\n",
        "for i in range(len(ds['passage_text'])):\n",
        "    point = models.PointStruct(\n",
        "        id=i,\n",
        "        vector={\n",
        "            \"dense\": dense_documents[i],\n",
        "            \"colbert\": colbert_documents[i]\n",
        "        },\n",
        "        payload={\n",
        "        \"passage_text\": ds['passage_text'][i],\n",
        "         \"year\": ds['year'][i],\n",
        "         \"specialty\": ds['specialty'][i],\n",
        "         }\n",
        "    )\n",
        "    points_batch.append(point)\n",
        "\n",
        "    if len(points_batch) == BATCH_SIZE:\n",
        "        client.upsert(collection_name=collection_name, points=points_batch)\n",
        "        print(f\"Uploaded batch ending at index {i}\")\n",
        "        points_batch = []\n",
        "\n",
        "# Final flush\n",
        "if points_batch:\n",
        "    client.upsert(collection_name=collection_name, points=points_batch)\n",
        "    print(\"Uploaded final batch.\")"
      ],
      "metadata": {
        "id": "4VpJVAu3PkZz"
      },
      "execution_count": 6,
      "outputs": []
    },
    {
      "cell_type": "markdown",
      "source": [
        "# DSPy setup"
      ],
      "metadata": {
        "id": "0zWqy9hDP-zO"
      }
    },
    {
      "cell_type": "markdown",
      "source": [
        "Next, setup [DSPy and Qdrant](https://qdrant.tech/documentation/frameworks/dspy/) to work together."
      ],
      "metadata": {
        "id": "-4o09M8rcQOS"
      }
    },
    {
      "cell_type": "code",
      "source": [
        "lm = dspy.LM(\"gpt-4\", max_tokens=512,api_key=userdata.get(\"OPENAI_API_KEY\"))\n",
        "client = QdrantClient(url=userdata.get(\"QDRANT_CLOUD_URL\"), api_key=userdata.get(\"QDRANT_API_KEY\"))"
      ],
      "metadata": {
        "id": "5ue65kMiP6KX"
      },
      "execution_count": 8,
      "outputs": []
    },
    {
      "cell_type": "markdown",
      "source": [
        "## Setup QdrantRM"
      ],
      "metadata": {
        "id": "wqPEH7WFQFjU"
      }
    },
    {
      "cell_type": "markdown",
      "source": [
        "QdrantRM is a retrieval module that uses Qdrant to return the top passages for a given query. DSPy can then use these passages to provide the best response.\n",
        "\n"
      ],
      "metadata": {
        "id": "_ZvGvgDich_e"
      }
    },
    {
      "cell_type": "code",
      "source": [
        "rm = QdrantRM(\n",
        "    qdrant_collection_name=collection_name,\n",
        "    qdrant_client=client,\n",
        "    vector_name=\"dense\",                 # <-- MATCHES your vector field in upsert\n",
        "    document_field=\"passage_text\",        # <-- MATCHES your payload field in upsert\n",
        "    k=20)\n",
        "\n",
        "dspy.settings.configure(lm=lm, rm=rm)"
      ],
      "metadata": {
        "id": "2Y_WvEJKP_83"
      },
      "execution_count": 9,
      "outputs": []
    },
    {
      "cell_type": "markdown",
      "source": [
        "# Manual reranker using Qdrant’s native prefetch + ColBERT query"
      ],
      "metadata": {
        "id": "TqJTT83bQOKI"
      }
    },
    {
      "cell_type": "markdown",
      "source": [
        "Next, we define a function using Qdrant's multi-vector search capabilities with both dense and late-interaction (ColBERT-style) embeddings for retrieval and reranking.\n",
        "\n",
        "We also include filtering by year and speciality. This way one can filter results for a specific speciality and within a certain year range. This is important for getting the most recent information. Checkout our [Filtering guide](https://qdrant.tech/documentation/concepts/filtering/) to learn more about filtering data from Qdrant."
      ],
      "metadata": {
        "id": "llXNL3EVc2dp"
      }
    },
    {
      "cell_type": "code",
      "source": [
        "def rerank_with_colbert(query_text, min_year, max_year, specialty):\n",
        "    from fastembed import TextEmbedding, LateInteractionTextEmbedding\n",
        "\n",
        "    # Encode query once with both models\n",
        "    dense_model = TextEmbedding(\"BAAI/bge-small-en\")\n",
        "    colbert_model = LateInteractionTextEmbedding(\"colbert-ir/colbertv2.0\")\n",
        "\n",
        "    dense_query = list(dense_model.embed(query_text))[0]\n",
        "    colbert_query = list(colbert_model.embed(query_text))[0]\n",
        "\n",
        "    # Combined query: retrieve with dense, rerank with ColBERT\n",
        "    results = client.query_points(\n",
        "        collection_name=collection_name,\n",
        "        prefetch=models.Prefetch(\n",
        "            query=dense_query,\n",
        "            using=\"dense\"\n",
        "        ),\n",
        "        query=colbert_query,\n",
        "        using=\"colbert\",\n",
        "        limit=5,\n",
        "        with_payload=True,\n",
        "        query_filter=Filter(\n",
        "            must=[\n",
        "                FieldCondition(key=\"specialty\", match=MatchValue(value=specialty)),\n",
        "                FieldCondition(key=\"year\",range=models.Range(gt=None,gte=min_year,lt=None,lte=max_year))\n",
        "            ]\n",
        "\n",
        "        )\n",
        "    )\n",
        "\n",
        "    points = results.points\n",
        "    docs = []\n",
        "\n",
        "    for point in points:\n",
        "        docs.append(point.payload['passage_text'])\n",
        "\n",
        "    return docs\n"
      ],
      "metadata": {
        "id": "OPad4jxgQHV7"
      },
      "execution_count": 10,
      "outputs": []
    },
    {
      "cell_type": "markdown",
      "source": [
        "# DSPy Signature and Module"
      ],
      "metadata": {
        "id": "3NrURTn-QWOy"
      }
    },
    {
      "cell_type": "markdown",
      "source": [
        "Define a DSPy signature:"
      ],
      "metadata": {
        "id": "MqirB3gOdtWM"
      }
    },
    {
      "cell_type": "code",
      "source": [
        "class MedicalAnswer(dspy.Signature):\n",
        "    question = dspy.InputField(desc=\"The medical question to answer\")\n",
        "    is_medical = dspy.OutputField(desc=\"Answer 'Yes' if the question is medical, otherwise 'No'\")\n",
        "    min_year = dspy.InputField(desc=\"The minimum year of the medical paper\")\n",
        "    max_year = dspy.InputField(desc=\"The maximum year of the medical paper\")\n",
        "    specialty = dspy.InputField(desc=\"The specialty of the medical paper\")\n",
        "    context = dspy.OutputField(desc=\"The answer to the medical question\")\n",
        "    final_answer = dspy.OutputField(desc=\"The answer to the medical question\")\n"
      ],
      "metadata": {
        "id": "7OFI4KIbQQpi"
      },
      "execution_count": 11,
      "outputs": []
    },
    {
      "cell_type": "markdown",
      "source": [
        "## Setup Guardrail"
      ],
      "metadata": {
        "id": "2mgX1pmTQa4K"
      }
    },
    {
      "cell_type": "markdown",
      "source": [
        "Setup a simple guardrail to ensure the system doesn't respond to non-medical questions."
      ],
      "metadata": {
        "id": "p2tTwXRsdwiW"
      }
    },
    {
      "cell_type": "code",
      "source": [
        "class MedicalGuardrail(dspy.Module):\n",
        "    def forward(self, question):\n",
        "        prompt = (\n",
        "            \"Is the following question a medical question? Answer with 'Yes' or 'No'.\\n\"\n",
        "            f\"Question: {question}\\n\"\n",
        "            \"Answer:\"\n",
        "        )\n",
        "        response = dspy.settings.lm(prompt)\n",
        "        answer = response[0].strip().lower()\n",
        "        return answer.startswith(\"yes\")"
      ],
      "metadata": {
        "id": "TDmWEpg9QXfT"
      },
      "execution_count": 12,
      "outputs": []
    },
    {
      "cell_type": "markdown",
      "source": [
        "# Configure MedicalRAG"
      ],
      "metadata": {
        "id": "0f9dNaE5QhAn"
      }
    },
    {
      "cell_type": "markdown",
      "source": [
        "Setup the medical RAG with chain of thought reasoning:"
      ],
      "metadata": {
        "id": "IL3GzPJkd4wq"
      }
    },
    {
      "cell_type": "code",
      "source": [
        "class MedicalRAG(dspy.Module):\n",
        "    def __init__(self):\n",
        "        super().__init__()\n",
        "        self.guardrail = MedicalGuardrail()\n",
        "\n",
        "    def forward(self, question, min_year, max_year, specialty):\n",
        "        if not self.guardrail.forward(question):\n",
        "            class DummyResult:\n",
        "                final_answer = \"Sorry, I can only answer medical questions. Please ask a question related to medicine or healthcare.\"\n",
        "            return DummyResult()\n",
        "        reranked_docs = rerank_with_colbert(question, min_year, max_year, specialty)\n",
        "        context_str = \"\\n\".join(reranked_docs)\n",
        "        return dspy.ChainOfThought(MedicalAnswer)(\n",
        "            question=question,\n",
        "            min_year=min_year,\n",
        "            max_year=max_year,\n",
        "            specialty=specialty,\n",
        "            context=context_str\n",
        "        )\n"
      ],
      "metadata": {
        "id": "5g72tR0rQc38"
      },
      "execution_count": 13,
      "outputs": []
    },
    {
      "cell_type": "markdown",
      "source": [
        "## Define Sample Question"
      ],
      "metadata": {
        "id": "MilYURA5Qp97"
      }
    },
    {
      "cell_type": "markdown",
      "source": [
        "Define some sample questions:"
      ],
      "metadata": {
        "id": "iM1XcOQxd_mL"
      }
    },
    {
      "cell_type": "code",
      "source": [
        "sample_questions = [\n",
        "    \"What are the most common symptoms of lupus?\",\n",
        "    \"How is type 2 diabetes usually managed in adults?\",\n",
        "    \"What are the first-line medications for treating hypertension?\",\n",
        "]"
      ],
      "metadata": {
        "id": "-BmOlJ4mQgAI"
      },
      "execution_count": 14,
      "outputs": []
    },
    {
      "cell_type": "markdown",
      "source": [
        "List all the specialities in the dataset for reference:"
      ],
      "metadata": {
        "id": "XQ0M9igheC8g"
      }
    },
    {
      "cell_type": "code",
      "source": [
        "specialty_options = [\n",
        "                \"Rheumatology\", \"Psychiatry\", \"Pulmonology & Respiratory Medicine\", \"Nephrology\", \"Public Health & Epidemiology\",\n",
        "                \"Medical Research & Methodology\", \"Pharmacy & Pharmacology\", \"Hematology\", \"Oncology\", \"Medical Ethics & Law\",\n",
        "                \"Medical Technology & Informatics\", \"Infectious Disease\", \"Basic Medical Sciences\", \"Allergology\", \"Geriatrics\",\n",
        "                \"Cardiology\", \"Gastroenterology & Hepatology\", \"General Surgery\", \"General Pediatrics\", \"Endocrinology & Metabolism\",\n",
        "                \"Vascular Surgery\", \"Radiology & Imaging\", \"Obstetrics & Gynecology\", \"Orthopedic Surgery\", \"Neurology\",\n",
        "                \"Family Medicine & Primary Care\", \"Psychology & Behavioral Health\", \"Otorhinolaryngology (ENT)\", \"General Internal Medicine\",\n",
        "                \"Anesthesiology\", \"Physical & Rehabilitation Medicine\", \"Medical Education\", \"Healthcare Administration & Management\",\n",
        "                \"Non-Medical Sciences & Disciplines\", \"Dermatology\", \"Critical Care & Intensive Care\", \"Urology\", \"Complementary & Alternative Medicine\",\n",
        "                \"Cardiothoracic Surgery\", \"Neurosurgery\", \"Pediatric Subspecialties\", \"Occupational & Environmental Health\", \"Ophthalmology\",\n",
        "                \"Emergency Medicine\", \"Dental & Oral Medicine\", \"Biomedical Engineering\", \"Pathology & Laboratory Medicine\", \"Transplant Surgery\",\n",
        "                \"Preventive Medicine\", \"Genetics\", \"Nursing\", \"Allied Health Professions\", \"Plastic & Reconstructive Surgery\", \"Others\",\n",
        "                \"Toxicology\", \"General Medicine\"\n",
        "            ]"
      ],
      "metadata": {
        "id": "MM_9ItaOQ8a0"
      },
      "execution_count": 15,
      "outputs": []
    },
    {
      "cell_type": "markdown",
      "source": [
        "Run the medical RAG with a sample question:"
      ],
      "metadata": {
        "id": "QuSaSZ3leHjT"
      }
    },
    {
      "cell_type": "code",
      "source": [
        "rag_chain = MedicalRAG()\n",
        "min_year = 1990\n",
        "max_year = 2021\n",
        "specialty = specialty_options[0]\n",
        "result = rag_chain.forward(sample_questions[0], min_year, max_year, specialty)"
      ],
      "metadata": {
        "id": "dxbSdQfJQroG"
      },
      "execution_count": 17,
      "outputs": []
    },
    {
      "cell_type": "code",
      "source": [
        "print(result.reasoning)"
      ],
      "metadata": {
        "colab": {
          "base_uri": "https://localhost:8080/"
        },
        "id": "gk93KQDbWfY1",
        "outputId": "c8e4fc95-f310-4697-ff59-3ce0868ebfc3"
      },
      "execution_count": 18,
      "outputs": [
        {
          "output_type": "stream",
          "name": "stdout",
          "text": [
            "The question is asking for the most common symptoms of a specific medical condition, lupus, which falls under the specialty of Rheumatology. Therefore, the question is medical in nature and requires a response based on medical knowledge and research.\n"
          ]
        }
      ]
    },
    {
      "cell_type": "code",
      "source": [
        "print(result.is_medical)"
      ],
      "metadata": {
        "colab": {
          "base_uri": "https://localhost:8080/"
        },
        "id": "M8nngUOgWfWR",
        "outputId": "c5cc5e08-d1c7-4b90-f44f-e19c9dc42819"
      },
      "execution_count": 19,
      "outputs": [
        {
          "output_type": "stream",
          "name": "stdout",
          "text": [
            "Yes\n"
          ]
        }
      ]
    },
    {
      "cell_type": "code",
      "source": [
        "print(result.final_answer)"
      ],
      "metadata": {
        "colab": {
          "base_uri": "https://localhost:8080/"
        },
        "id": "oLfDY4RgWjr0",
        "outputId": "d4019e21-f589-4b14-ac43-30543a9c8217"
      },
      "execution_count": 20,
      "outputs": [
        {
          "output_type": "stream",
          "name": "stdout",
          "text": [
            "The most common symptoms of lupus are fatigue, joint pain and swelling, skin rashes (particularly a butterfly-shaped rash across the cheeks and nose), fever, chest pain, hair loss, mouth sores, sensitivity to sunlight, and swollen lymph nodes.\n"
          ]
        }
      ]
    },
    {
      "cell_type": "markdown",
      "source": [
        "Test the medical RAG application with a non-medical question:"
      ],
      "metadata": {
        "id": "K6j8CehEeN5B"
      }
    },
    {
      "cell_type": "code",
      "source": [
        "result = rag_chain.forward(\"How is the weather today?\", min_year, max_year, specialty)"
      ],
      "metadata": {
        "id": "NRWfZQreWmUc"
      },
      "execution_count": 21,
      "outputs": []
    },
    {
      "cell_type": "code",
      "source": [
        "print(result.final_answer)"
      ],
      "metadata": {
        "colab": {
          "base_uri": "https://localhost:8080/"
        },
        "id": "hpLyndoyWvKx",
        "outputId": "ec1e7048-cee9-43c3-c457-a17f6151c364"
      },
      "execution_count": 25,
      "outputs": [
        {
          "output_type": "stream",
          "name": "stdout",
          "text": [
            "Sorry, I can only answer medical questions. Please ask a question related to medicine or healthcare.\n"
          ]
        }
      ]
    },
    {
      "cell_type": "markdown",
      "source": [
        "# Conclusion\n",
        "\n",
        "Multivector search is one of the most powerful features for building a medical RAG application. With this functionality in Qdrant, you can:\n",
        "\n",
        "- Store token-level embeddings natively. Disable indexing to reduce overhead.\n",
        "\n",
        "- Run fast retrieval and accurate reranking in one API call.\n",
        "\n",
        "- Efficiently scale late interaction. Combining FastEmbed and Qdrant leads to a production-ready pipeline for ColBERT-style reranking without wasting resources.\n",
        "\n",
        " You can do this locally or use Qdrant Cloud. Qdrant offers an easy-to-use API to get started with your search engine, so if you’re ready to dive in, sign up for free at [Qdrant Cloud](https://qdrant.tech/documentation/cloud-intro/) and start building."
      ],
      "metadata": {
        "id": "PvpA1_tIeYKo"
      }
    }
  ]
}
{
  "nbformat": 4,
  "nbformat_minor": 0,
  "metadata": {
    "colab": {
      "provenance": []
    },
    "kernelspec": {
      "name": "python3",
      "display_name": "Python 3"
    },
    "language_info": {
      "name": "python"
    }
  },
  "cells": [
    {
      "cell_type": "markdown",
      "source": [
        "# Qdrant Essentials: Day 3 - Building Hybrid Search in Qdrant\n",
        "\n",
        "Let's see how hybrid search might be implemented with Qdrant's Universal Query API."
      ],
      "metadata": {
        "id": "3bpMm2QQoKfP"
      }
    },
    {
      "cell_type": "markdown",
      "source": [
        "## Step 1: Install the dependencies"
      ],
      "metadata": {
        "id": "LCa5Yf1Sp__F"
      }
    },
    {
      "cell_type": "code",
      "execution_count": null,
      "metadata": {
        "id": "RHRDnFSrn-PP"
      },
      "outputs": [],
      "source": [
        "!pip install -q qdrant-client[fastembed]"
      ]
    },
    {
      "cell_type": "markdown",
      "source": [
        "## Step 2: Connect to Qdrant\n",
        "\n",
        "Let's connect to a running [Qdrant Cloud](https://cloud.qdrant.io/) cluster and create a collection containing both sparse and dense named vectors."
      ],
      "metadata": {
        "id": "g6f72xSlrAif"
      }
    },
    {
      "cell_type": "code",
      "source": [
        "from qdrant_client import QdrantClient\n",
        "from google.colab import userdata\n",
        "\n",
        "client = QdrantClient(\n",
        "    location=\"https://your-cluster-url.cloud.qdrant.io:6333\",\n",
        "    api_key=userdata.get(\"api-key\")\n",
        ")"
      ],
      "metadata": {
        "id": "-0VDUr-qwQ6N"
      },
      "execution_count": null,
      "outputs": []
    },
    {
      "cell_type": "code",
      "source": [
        "from qdrant_client import models\n",
        "\n",
        "# Define the collection name\n",
        "collection_name = \"hybrid_search_demo\"\n",
        "\n",
        "# Create our collection with both sparse (bm25) and dense vectors\n",
        "client.create_collection(\n",
        "    collection_name=collection_name,\n",
        "    vectors_config={\n",
        "        \"dense\": models.VectorParams(\n",
        "            distance=models.Distance.COSINE,\n",
        "            size=384,\n",
        "        ),\n",
        "    },\n",
        "    sparse_vectors_config={\n",
        "        \"sparse\": models.SparseVectorParams(\n",
        "            modifier=models.Modifier.IDF\n",
        "        )\n",
        "    }\n",
        ")"
      ],
      "metadata": {
        "id": "AMkAuT2kxNuS",
        "colab": {
          "base_uri": "https://localhost:8080/"
        },
        "outputId": "6560fc8e-a263-4235-f279-09b7e0bac015"
      },
      "execution_count": null,
      "outputs": [
        {
          "output_type": "execute_result",
          "data": {
            "text/plain": [
              "True"
            ]
          },
          "metadata": {},
          "execution_count": 3
        }
      ]
    },
    {
      "cell_type": "markdown",
      "source": [
        "## Step 3: Upload the data into the collection\n",
        "\n",
        "Now, we have a collection that allows us to store two vectors per point, and we can finally fill it with data."
      ],
      "metadata": {
        "id": "pR0W2hvMxJhw"
      }
    },
    {
      "cell_type": "code",
      "source": [
        "documents = [\n",
        "    \"Aged Gouda develops a crystalline texture and nutty flavor profile after 18 months of maturation.\",\n",
        "    \"Mature Gouda cheese becomes grainy and develops a rich, buttery taste with extended aging.\",\n",
        "    \"Brie cheese features a soft, creamy interior surrounded by an edible white rind.\",\n",
        "    \"This French cheese has a flowing, buttery center encased in a bloomy white crust.\",\n",
        "    \"Fresh mozzarella pairs beautifully with ripe tomatoes and basil leaves.\",\n",
        "    \"Classic Margherita pizza topped with tomato sauce, mozzarella, and fresh basil.\",\n",
        "    \"Parmesan requires at least 12 months of cave aging to develop its signature sharp taste.\",\n",
        "    \"Parmigiano-Reggiano's distinctive piquant flavor comes from extended maturation in controlled environments.\",\n",
        "    \"Grilled cheese sandwiches are the ultimate American comfort food for cold winter days.\",\n",
        "    \"Croque Monsieur combines ham and Gruyère in France's answer to the toasted cheese sandwich.\",\n",
        "]"
      ],
      "metadata": {
        "id": "lvVU-YPZ1Umj"
      },
      "execution_count": null,
      "outputs": []
    },
    {
      "cell_type": "code",
      "source": [
        "import uuid\n",
        "\n",
        "client.upsert(\n",
        "    collection_name=collection_name,\n",
        "    points=[\n",
        "        models.PointStruct(\n",
        "            id=uuid.uuid4().hex,\n",
        "            vector={\n",
        "                \"dense\": models.Document(\n",
        "                    text=doc,\n",
        "                    model=\"sentence-transformers/all-MiniLM-L6-v2\",\n",
        "                ),\n",
        "                \"sparse\": models.Document(\n",
        "                    text=doc,\n",
        "                    model=\"Qdrant/bm25\",\n",
        "                ),\n",
        "            },\n",
        "            payload={\"text\": doc},\n",
        "        )\n",
        "        for i, doc in enumerate(documents)\n",
        "    ]\n",
        ")"
      ],
      "metadata": {
        "id": "68O9c0IH3C7y",
        "colab": {
          "base_uri": "https://localhost:8080/"
        },
        "outputId": "67a92421-527f-4469-8b0c-a6ad358c7219"
      },
      "execution_count": null,
      "outputs": [
        {
          "output_type": "execute_result",
          "data": {
            "text/plain": [
              "UpdateResult(operation_id=0, status=<UpdateStatus.COMPLETED: 'completed'>)"
            ]
          },
          "metadata": {},
          "execution_count": 5
        }
      ]
    },
    {
      "cell_type": "markdown",
      "source": [
        "## Step 4: Validating the outputs of sparse and dense search\n",
        "\n",
        "Both of our models may return completely different sets of results for the same query. Let's check if that's the case."
      ],
      "metadata": {
        "id": "YXnHStBL5RW1"
      }
    },
    {
      "cell_type": "code",
      "source": [
        "def dense_search(query: str) -> list[models.ScoredPoint]:\n",
        "    response = client.query_points(\n",
        "        collection_name=collection_name,\n",
        "        query=models.Document(\n",
        "            text=query,\n",
        "            model=\"sentence-transformers/all-MiniLM-L6-v2\",\n",
        "        ),\n",
        "        using=\"dense\",\n",
        "        limit=3,\n",
        "    )\n",
        "    return response.points"
      ],
      "metadata": {
        "id": "Vhxc0j1K5ryD"
      },
      "execution_count": null,
      "outputs": []
    },
    {
      "cell_type": "code",
      "source": [
        "def sparse_search(query: str) -> list[models.ScoredPoint]:\n",
        "    response = client.query_points(\n",
        "        collection_name=collection_name,\n",
        "        query=models.Document(\n",
        "            text=query,\n",
        "            model=\"Qdrant/bm25\",\n",
        "        ),\n",
        "        using=\"sparse\",\n",
        "        limit=3,\n",
        "    )\n",
        "    return response.points"
      ],
      "metadata": {
        "id": "4HPb5Id86RjD"
      },
      "execution_count": null,
      "outputs": []
    },
    {
      "cell_type": "markdown",
      "source": [
        "Let's run both methods on some of the possible queries, to see if the outputs really differ."
      ],
      "metadata": {
        "id": "NT29Xs387mIU"
      }
    },
    {
      "cell_type": "code",
      "source": [
        "queries = [\n",
        "    \"nutty aged cheese\",\n",
        "    \"soft French cheese\",\n",
        "    \"pizza ingredients\",\n",
        "    \"a good lunch\",\n",
        "]"
      ],
      "metadata": {
        "id": "JQNNASSx8r53"
      },
      "execution_count": null,
      "outputs": []
    },
    {
      "cell_type": "code",
      "source": [
        "for query in queries:\n",
        "    print(\"Query:\", query)\n",
        "\n",
        "    dense_results = dense_search(query)\n",
        "    print(\"Dense Results:\")\n",
        "    for result in dense_results:\n",
        "        print(\"\\t-\", result.payload[\"text\"], result.score)\n",
        "\n",
        "    sparse_results = sparse_search(query)\n",
        "    print(\"Sparse Results:\")\n",
        "    for result in sparse_results:\n",
        "        print(\"\\t-\", result.payload[\"text\"], result.score)\n",
        "    print()"
      ],
      "metadata": {
        "id": "XwDlzVcq6IWn",
        "colab": {
          "base_uri": "https://localhost:8080/"
        },
        "outputId": "d6b5e8cf-f0bb-44a2-c4af-eafb8f06942c"
      },
      "execution_count": null,
      "outputs": [
        {
          "output_type": "stream",
          "name": "stdout",
          "text": [
            "Query: nutty aged cheese\n",
            "Dense Results:\n",
            "\t- Mature Gouda cheese becomes grainy and develops a rich, buttery taste with extended aging. 0.5829767\n",
            "\t- Brie cheese features a soft, creamy interior surrounded by an edible white rind. 0.47647107\n",
            "\t- This French cheese has a flowing, buttery center encased in a bloomy white crust. 0.45055333\n",
            "Sparse Results:\n",
            "\t- Aged Gouda develops a crystalline texture and nutty flavor profile after 18 months of maturation. 5.1563325\n",
            "\t- Mature Gouda cheese becomes grainy and develops a rich, buttery taste with extended aging. 3.0210652\n",
            "\t- Parmesan requires at least 12 months of cave aging to develop its signature sharp taste. 1.8819332\n",
            "\n",
            "Query: soft French cheese\n",
            "Dense Results:\n",
            "\t- This French cheese has a flowing, buttery center encased in a bloomy white crust. 0.6242111\n",
            "\t- Brie cheese features a soft, creamy interior surrounded by an edible white rind. 0.60305476\n",
            "\t- Croque Monsieur combines ham and Gruyère in France's answer to the toasted cheese sandwich. 0.46846655\n",
            "Sparse Results:\n",
            "\t- This French cheese has a flowing, buttery center encased in a bloomy white crust. 4.4368353\n",
            "\t- Brie cheese features a soft, creamy interior surrounded by an edible white rind. 4.425153\n",
            "\t- Croque Monsieur combines ham and Gruyère in France's answer to the toasted cheese sandwich. 1.1421313\n",
            "\n",
            "Query: pizza ingredients\n",
            "Dense Results:\n",
            "\t- Classic Margherita pizza topped with tomato sauce, mozzarella, and fresh basil. 0.5787226\n",
            "\t- Fresh mozzarella pairs beautifully with ripe tomatoes and basil leaves. 0.37257057\n",
            "\t- Croque Monsieur combines ham and Gruyère in France's answer to the toasted cheese sandwich. 0.33504552\n",
            "Sparse Results:\n",
            "\t- Classic Margherita pizza topped with tomato sauce, mozzarella, and fresh basil. 3.2916887\n",
            "\n",
            "Query: a good lunch\n",
            "Dense Results:\n",
            "\t- Croque Monsieur combines ham and Gruyère in France's answer to the toasted cheese sandwich. 0.3385176\n",
            "\t- Grilled cheese sandwiches are the ultimate American comfort food for cold winter days. 0.32261187\n",
            "\t- Classic Margherita pizza topped with tomato sauce, mozzarella, and fresh basil. 0.21690288\n",
            "Sparse Results:\n",
            "\n"
          ]
        }
      ]
    },
    {
      "cell_type": "markdown",
      "source": [
        "## Step 5: Hybrid Search with Reciprocal Rank Fusion\n",
        "\n",
        "Scores coming from both methods are incompatible, but RRF will not use them directly. It will only consider the order / ranking of the elements, so let's implement such a hybrid search pipeline."
      ],
      "metadata": {
        "id": "cPCpa0uS9fcs"
      }
    },
    {
      "cell_type": "code",
      "source": [
        "def rrf_search(query: str) -> list[models.ScoredPoint]:\n",
        "    response = client.query_points(\n",
        "        collection_name=collection_name,\n",
        "        prefetch=[\n",
        "            models.Prefetch(\n",
        "                query=models.Document(\n",
        "                    text=query,\n",
        "                    model=\"Qdrant/bm25\",\n",
        "                ),\n",
        "                using=\"sparse\",\n",
        "                limit=3,\n",
        "            ),\n",
        "            models.Prefetch(\n",
        "                query=models.Document(\n",
        "                    text=query,\n",
        "                    model=\"sentence-transformers/all-MiniLM-L6-v2\",\n",
        "                ),\n",
        "                using=\"dense\",\n",
        "                limit=3,\n",
        "            )\n",
        "        ],\n",
        "        query=models.FusionQuery(fusion=models.Fusion.RRF),\n",
        "        limit=3,\n",
        "    )\n",
        "    return response.points"
      ],
      "metadata": {
        "id": "Ol88--Rn7tMD"
      },
      "execution_count": null,
      "outputs": []
    },
    {
      "cell_type": "code",
      "source": [
        "for query in queries:\n",
        "    print(\"Query:\", query)\n",
        "\n",
        "    rrf_results = rrf_search(query)\n",
        "    print(\"RRF Results:\")\n",
        "    for result in rrf_results:\n",
        "        print(\"\\t-\", result.payload[\"text\"], result.score)\n",
        "    print()"
      ],
      "metadata": {
        "id": "zlmWcJ-g_O1x",
        "colab": {
          "base_uri": "https://localhost:8080/"
        },
        "outputId": "c8484571-468e-41d5-ef8f-e5479cd2b84f"
      },
      "execution_count": null,
      "outputs": [
        {
          "output_type": "stream",
          "name": "stdout",
          "text": [
            "Query: nutty aged cheese\n",
            "RRF Results:\n",
            "\t- Mature Gouda cheese becomes grainy and develops a rich, buttery taste with extended aging. 0.8333334\n",
            "\t- Aged Gouda develops a crystalline texture and nutty flavor profile after 18 months of maturation. 0.5\n",
            "\t- Brie cheese features a soft, creamy interior surrounded by an edible white rind. 0.33333334\n",
            "\n",
            "Query: soft French cheese\n",
            "RRF Results:\n",
            "\t- This French cheese has a flowing, buttery center encased in a bloomy white crust. 1.0\n",
            "\t- Brie cheese features a soft, creamy interior surrounded by an edible white rind. 0.6666667\n",
            "\t- Croque Monsieur combines ham and Gruyère in France's answer to the toasted cheese sandwich. 0.5\n",
            "\n",
            "Query: pizza ingredients\n",
            "RRF Results:\n",
            "\t- Classic Margherita pizza topped with tomato sauce, mozzarella, and fresh basil. 1.0\n",
            "\t- Fresh mozzarella pairs beautifully with ripe tomatoes and basil leaves. 0.33333334\n",
            "\t- Croque Monsieur combines ham and Gruyère in France's answer to the toasted cheese sandwich. 0.25\n",
            "\n",
            "Query: a good lunch\n",
            "RRF Results:\n",
            "\t- Croque Monsieur combines ham and Gruyère in France's answer to the toasted cheese sandwich. 0.5\n",
            "\t- Grilled cheese sandwiches are the ultimate American comfort food for cold winter days. 0.33333334\n",
            "\t- Classic Margherita pizza topped with tomato sauce, mozzarella, and fresh basil. 0.25\n",
            "\n"
          ]
        }
      ]
    },
    {
      "cell_type": "markdown",
      "source": [
        "## Step 6: Distribution-Based Score Fusion\n",
        "\n",
        "RRF is not the only supported fusion method. DBSF is another option that normalizes the scores of the points in each query, and sums the scores of the same point across different queries. Choosing a different algorithm can definitely impact the final outputs, so let's see how they are going to look like."
      ],
      "metadata": {
        "id": "nsKiAVZXADR2"
      }
    },
    {
      "cell_type": "code",
      "source": [
        "def dbsf_search(query: str) -> list[models.ScoredPoint]:\n",
        "    response = client.query_points(\n",
        "        collection_name=collection_name,\n",
        "        prefetch=[\n",
        "            models.Prefetch(\n",
        "                query=models.Document(\n",
        "                    text=query,\n",
        "                    model=\"Qdrant/bm25\",\n",
        "                ),\n",
        "                using=\"sparse\",\n",
        "                limit=3,\n",
        "            ),\n",
        "            models.Prefetch(\n",
        "                query=models.Document(\n",
        "                    text=query,\n",
        "                    model=\"sentence-transformers/all-MiniLM-L6-v2\",\n",
        "                ),\n",
        "                using=\"dense\",\n",
        "                limit=3,\n",
        "            )\n",
        "        ],\n",
        "        query=models.FusionQuery(fusion=models.Fusion.DBSF),\n",
        "        limit=3,\n",
        "    )\n",
        "    return response.points"
      ],
      "metadata": {
        "id": "W80xHAoYDFkZ"
      },
      "execution_count": null,
      "outputs": []
    },
    {
      "cell_type": "code",
      "source": [
        "for query in queries:\n",
        "    print(\"Query:\", query)\n",
        "\n",
        "    dbsf_results = dbsf_search(query)\n",
        "    print(\"DBSF Results:\")\n",
        "    for result in dbsf_results:\n",
        "        print(\"\\t-\", result.payload[\"text\"], result.score)\n",
        "    print()"
      ],
      "metadata": {
        "id": "QTDdSh7PDQWZ",
        "colab": {
          "base_uri": "https://localhost:8080/"
        },
        "outputId": "6b63cfeb-a665-4aa3-cc1f-b1bb5085a515"
      },
      "execution_count": null,
      "outputs": [
        {
          "output_type": "stream",
          "name": "stdout",
          "text": [
            "Query: nutty aged cheese\n",
            "DBSF Results:\n",
            "\t- Mature Gouda cheese becomes grainy and develops a rich, buttery taste with extended aging. 1.1558483\n",
            "\t- Aged Gouda develops a crystalline texture and nutty flavor profile after 18 months of maturation. 0.6808001\n",
            "\t- Brie cheese features a soft, creamy interior surrounded by an edible white rind. 0.43620512\n",
            "\n",
            "Query: soft French cheese\n",
            "DBSF Results:\n",
            "\t- This French cheese has a flowing, buttery center encased in a bloomy white crust. 1.2130749\n",
            "\t- Brie cheese features a soft, creamy interior surrounded by an edible white rind. 1.1703095\n",
            "\t- Croque Monsieur combines ham and Gruyère in France's answer to the toasted cheese sandwich. 0.6166155\n",
            "\n",
            "Query: pizza ingredients\n",
            "DBSF Results:\n",
            "\t- Classic Margherita pizza topped with tomato sauce, mozzarella, and fresh basil. 1.1904721\n",
            "\t- Fresh mozzarella pairs beautifully with ripe tomatoes and basil leaves. 0.4285979\n",
            "\t- Croque Monsieur combines ham and Gruyère in France's answer to the toasted cheese sandwich. 0.38092995\n",
            "\n",
            "Query: a good lunch\n",
            "DBSF Results:\n",
            "\t- Croque Monsieur combines ham and Gruyère in France's answer to the toasted cheese sandwich. 0.6155778\n",
            "\t- Grilled cheese sandwiches are the ultimate American comfort food for cold winter days. 0.5754743\n",
            "\t- Classic Margherita pizza topped with tomato sauce, mozzarella, and fresh basil. 0.30894777\n",
            "\n"
          ]
        }
      ]
    }
  ]
}
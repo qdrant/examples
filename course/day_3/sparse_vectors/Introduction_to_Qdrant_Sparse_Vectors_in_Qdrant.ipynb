{
  "nbformat": 4,
  "nbformat_minor": 0,
  "metadata": {
    "colab": {
      "provenance": []
    },
    "kernelspec": {
      "name": "python3",
      "display_name": "Python 3"
    },
    "language_info": {
      "name": "python"
    }
  },
  "cells": [
    {
      "cell_type": "markdown",
      "source": [
        "## Qdrant Essentials: Day 3 - Using Sparse Vectors in Qdrant\n",
        "\n",
        "To interact with Qdrant we'll install the Qdrant Python client. This client enables us to communicate with the Qdrant service, manage collections, and perform vector searches."
      ],
      "metadata": {
        "id": "ZJ9ByLkYLQR8"
      }
    },
    {
      "cell_type": "markdown",
      "source": [
        "### Step 1: Install the Qdrant Client\n"
      ],
      "metadata": {
        "id": "NmsT3hcrLtSe"
      }
    },
    {
      "cell_type": "code",
      "source": [
        "!pip -q install qdrant-client"
      ],
      "metadata": {
        "id": "eLXYIgWpLf1G"
      },
      "execution_count": null,
      "outputs": []
    },
    {
      "cell_type": "markdown",
      "source": [
        "## Step 2: Import Required Libraries\n",
        "\n",
        "Now let's import the necessary modules from the `qdrant-client` package. The `QdrantClient` class allows us to establish a connection to the Qdrant service, while the [models module](https://python-client.qdrant.tech/qdrant_client.http.models.models) provides definitions for various configurations and parameters we'll use. It includes definitions for data structures such as `SparseVector`, `SparseVectorParams`, and `SparseIndexParams`, which we will need to use today."
      ],
      "metadata": {
        "id": "WmxXAghCLytY"
      }
    },
    {
      "cell_type": "code",
      "source": [
        "from qdrant_client import QdrantClient, models"
      ],
      "metadata": {
        "id": "ZQJml7V3Lxhe"
      },
      "execution_count": null,
      "outputs": []
    },
    {
      "cell_type": "markdown",
      "source": [
        "## Step 3: Connect to Qdrant Cloud\n",
        "\n",
        "To connect to [Qdrant Cloud](https://cloud.qdrant.io/login), you need:\n",
        "\n",
        "*   Cluster URL: Found in your Qdrant Cloud dashboard.\n",
        "*   API Key: Generated in the Qdrant Cloud API Keys section."
      ],
      "metadata": {
        "id": "xeaDjOXdML6W"
      }
    },
    {
      "cell_type": "code",
      "source": [
        "from google.colab import userdata\n",
        "\n",
        "client = QdrantClient(\n",
        "    url=\"your_url\",\n",
        "    api_key=userdata.get('api-key')\n",
        ")"
      ],
      "metadata": {
        "id": "CpLyGqDd8VWV"
      },
      "execution_count": null,
      "outputs": []
    },
    {
      "cell_type": "markdown",
      "source": [
        "## Step 4: Create a Collection with Sparse Vectors\n",
        "\n",
        "Sparse vectors in Qdrant collections are configured using `sparse_vectors_config`.\n",
        "\n",
        "Unlike in dense vector configuration `vectors_config`, we don’t need to define **size** or **distance metric** for sparse vectors:\n",
        "- **Size** varies based on the number of non-zero elements in the sparse vector.  \n",
        ">  The maximum number of non-zero elements (i.e., the sparse vector’s size) is limited by the `uint32` type, meaning 4,294,967,296 non-zero elements.\n",
        "- **Distance metric** for comparing sparse vectors is always the `Dot product`.\n",
        "\n",
        "Sparse vectors are not the default in Qdrant (unlike dense vectors). That's why, to configure collection with sparse vectors, we need to **give them a name**.  \n",
        "\n",
        "> **Named vectors** additionally allow us to use multiple vectors for the same point, for example, one dense and one sparse.  We’ll cover more about this in the upcoming videos on `Hybrid Search`.\n"
      ],
      "metadata": {
        "id": "5N722-8eMspN"
      }
    },
    {
      "cell_type": "code",
      "source": [
        "# Define the collection name\n",
        "collection_name = \"sparse_vectors_collection\"\n",
        "\n",
        "# Create the collection with sparse vectors\n",
        "client.create_collection(\n",
        "    collection_name=collection_name,\n",
        "    sparse_vectors_config={ #vector named \"sparse_vector\"\n",
        "        \"sparse_vector\": models.SparseVectorParams(),\n",
        "    },\n",
        ")"
      ],
      "metadata": {
        "colab": {
          "base_uri": "https://localhost:8080/"
        },
        "id": "7Nj1wxHo9eZy",
        "outputId": "22083c5d-a42a-4d19-bbfd-95507bc2e408"
      },
      "execution_count": null,
      "outputs": [
        {
          "output_type": "execute_result",
          "data": {
            "text/plain": [
              "True"
            ]
          },
          "metadata": {},
          "execution_count": 25
        }
      ]
    },
    {
      "cell_type": "markdown",
      "source": [
        "You can **optionally** configure the parameters of the `inverted index`, for example:\n",
        "\n",
        "- `full_scan_threshold` (integer) – up to this number of vectors (not including this number), the inverted index won’t be used to compare sparse vectors (though **it will still be built**). Instead, vectors will be compared directly.\n",
        "- `on_disk` – whether the index is stored on disk or kept in RAM. The default is `False`, meaning it’s stored in RAM.\n",
        "- `datatype` – precision of the values (non-zero weights) stored in the index. Options are `uint8`, `float16`, or `float32`. Default is `float32`.\n",
        "> No matter which `datatype` you choose, the original values **will still be stored on disk**.\n",
        "\n",
        "> Only configure these parameters if you’re confident about their impact, the default values are chosen to work well for most use cases.\n"
      ],
      "metadata": {
        "id": "sQaRQLFRis6C"
      }
    },
    {
      "cell_type": "code",
      "source": [
        "collection_name = \"sparse_vectors_collection_custom_index\"\n",
        "\n",
        "client.create_collection(\n",
        "    collection_name=collection_name,\n",
        "    sparse_vectors_config={\n",
        "        \"sparse_vector\": models.SparseVectorParams(\n",
        "            index=models.SparseIndexParams( #inverted index parameters\n",
        "                full_scan_threshold=0, #full scan search, not using inverted index\n",
        "                on_disk=False, #where inverted index is stored\n",
        "                datatype=models.VectorStorageDatatype(\"float32\") #precision of values stored in inverted index\n",
        "\n",
        "            )\n",
        "        ),\n",
        "    },\n",
        ")"
      ],
      "metadata": {
        "colab": {
          "base_uri": "https://localhost:8080/"
        },
        "id": "R7nTTs1P0P8g",
        "outputId": "67793702-a08c-4889-e0d6-38c2304998bc"
      },
      "execution_count": null,
      "outputs": [
        {
          "output_type": "execute_result",
          "data": {
            "text/plain": [
              "True"
            ]
          },
          "metadata": {},
          "execution_count": 27
        }
      ]
    },
    {
      "cell_type": "markdown",
      "source": [
        "> The `inverted index` is **always built** for sparse vectors, no matter how many vectors are in the collection.\n"
      ],
      "metadata": {
        "id": "qC2BsfYv0lrx"
      }
    },
    {
      "cell_type": "markdown",
      "source": [
        "## Step 5: Insert Sparse Vectors into the Collection\n",
        "\n",
        "Let’s insert points with sparse vectors into our `\"sparse_vectors_collection\"`.\n",
        "\n",
        "Sparse vectors in Qdrant are represented by:\n",
        "- `indices` – the indices of non-zero dimensions (stored as `uint32`, so they can range from 0 to 4,294,967,295).\n",
        "- `values` – the values of these non-zero dimensions (stored as a float).\n",
        "\n",
        "There are two important rules when creating a sparse vector in Qdrant:\n",
        "- The `indices` in a sparse vector must be **unique**.\n",
        "- The `indices` array must be the **same length** as the `values` array.\n",
        "\n",
        "> Don’t confuse `indices` with the sparse vector’s `inverted index`. `indices` represent the non-zero dimensions of a sparse vector, while the `inverted index` is a data structure that helps compare sparse vectors efficiently."
      ],
      "metadata": {
        "id": "X0QevFv-SKso"
      }
    },
    {
      "cell_type": "code",
      "source": [
        "collection_name = \"sparse_vectors_collection\"\n",
        "\n",
        "# Insert vectors into the collection\n",
        "client.upsert(\n",
        "    collection_name=collection_name,\n",
        "    points=[\n",
        "        models.PointStruct(\n",
        "            id=1,\n",
        "            payload={},\n",
        "            vector={ #vector named \"sparse_vector\"\n",
        "                \"sparse_vector\": models.SparseVector(\n",
        "                    indices=[1, 2, 3], #uint32, from 0 to 4_294_967_295\n",
        "                    values=[0.2, -0.2, 0.2] #stored as floats\n",
        "                )\n",
        "            },\n",
        "        ),\n",
        "        models.PointStruct(\n",
        "            id=2,\n",
        "            payload={},\n",
        "            vector={ #vector named \"sparse_vector\"\n",
        "                \"sparse_vector\": models.SparseVector(\n",
        "                    indices=[1, 5], #uint32, from 0 to 4_294_967_295\n",
        "                    values=[0.1, 0.1] #stored as floats\n",
        "                )\n",
        "            },\n",
        "        ),\n",
        "    ],\n",
        ")"
      ],
      "metadata": {
        "colab": {
          "base_uri": "https://localhost:8080/"
        },
        "id": "vGWewER5MnBd",
        "outputId": "55e488d9-1157-4baf-913d-1a32fc77061e"
      },
      "execution_count": null,
      "outputs": [
        {
          "output_type": "execute_result",
          "data": {
            "text/plain": [
              "UpdateResult(operation_id=0, status=<UpdateStatus.COMPLETED: 'completed'>)"
            ]
          },
          "metadata": {},
          "execution_count": 28
        }
      ]
    },
    {
      "cell_type": "markdown",
      "source": [
        "## Step 6: Running Similarity Search on Sparse Vectors\n",
        "\n",
        "Now, let’s find the most similar sparse vector in `\"sparse_vectors_collection\"` to a query sparse vector.\n"
      ],
      "metadata": {
        "id": "mA-6WPr8WRb3"
      }
    },
    {
      "cell_type": "code",
      "source": [
        "collection_name = \"sparse_vectors_collection\"\n",
        "\n",
        "client.query_points(\n",
        "    collection_name=collection_name,\n",
        "    using=\"sparse_vector\",  # we need to specify the name of our sparse vectors to search against them\n",
        "    limit=1,                # return the top 1 most similar result\n",
        "    query=models.SparseVector(\n",
        "        indices=[1, 3],\n",
        "        values=[1, 1]\n",
        "    ),\n",
        "    with_vectors=True # to see the top 1 most similar vector\n",
        ")\n"
      ],
      "metadata": {
        "colab": {
          "base_uri": "https://localhost:8080/"
        },
        "id": "JhFW1jS6V_bC",
        "outputId": "6d31d7cf-ad63-472a-9ed4-89a4c66d8648"
      },
      "execution_count": null,
      "outputs": [
        {
          "output_type": "execute_result",
          "data": {
            "text/plain": [
              "QueryResponse(points=[ScoredPoint(id=1, version=0, score=0.4, payload={}, vector={'sparse_vector': SparseVector(indices=[1, 2, 3], values=[0.2, -0.2, 0.2])}, shard_key=None, order_value=None)])"
            ]
          },
          "metadata": {},
          "execution_count": 29
        }
      ]
    },
    {
      "cell_type": "markdown",
      "source": [
        "Let’s understand why we got `Point 1` as the answer.\n",
        "\n",
        "In the collection, we have two points:\n",
        "\n",
        "- `Point 1` has three non-zero values: `values = [0.2, -0.2, 0.2]` with `indices = [1, 2, 3]`\n",
        "- `Point 2` has two non-zero values: `values = [0.1, 0.1]` with `indices = [1, 5]`\n",
        "\n",
        "Our query has `indices = [1, 3]` with corresponding `values = [1, 1]`.\n",
        "\n",
        "**The similarity score for sparse vectors** is calculated by comparing only the matching indices shared between the query and the points: `[1, 3]` for `Point 1`, and `[1]` for `Point 2`.\n",
        "\n",
        "We multiply the corresponding values and sum them up:\n",
        "\n",
        "- `score(query, Point 1)` = 1 * 0.2 + 1 * 0.2 = **0.4**\n",
        "- `score(query, Point 2)` = 1 * 0.1 = 0.1\n",
        "\n",
        "Since `0.4` is higher than `0.1`, `Point 1` is more similar to our query.\n",
        "\n",
        "> Search on sparse vectors is always **exact**\n"
      ],
      "metadata": {
        "id": "TnuLFEuZdJnn"
      }
    },
    {
      "cell_type": "markdown",
      "source": [
        "Congratulations! 🎉 You can now work with sparse vectors in Qdrant!\n",
        "\n",
        "Just like dense vectors, they can be combined with payload filters.  \n",
        "And even more, they can be combined together with dense vectors!  \n",
        "Why and how? You’ll see in our upcoming videos on **Hybrid Search**."
      ],
      "metadata": {
        "id": "70jNHBKRgs_7"
      }
    }
  ]
}